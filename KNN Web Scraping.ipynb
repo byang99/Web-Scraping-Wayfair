{
 "cells": [
  {
   "cell_type": "code",
   "execution_count": null,
   "metadata": {},
   "outputs": [],
   "source": [
    "pip install requests"
   ]
  },
  {
   "cell_type": "code",
   "execution_count": null,
   "metadata": {},
   "outputs": [],
   "source": [
    "pip install progress_bar"
   ]
  },
  {
   "cell_type": "code",
   "execution_count": null,
   "metadata": {},
   "outputs": [],
   "source": [
    "pip install selenium"
   ]
  },
  {
   "cell_type": "code",
   "execution_count": null,
   "metadata": {},
   "outputs": [],
   "source": [
    "pip install beautifulsoup4"
   ]
  },
  {
   "cell_type": "code",
   "execution_count": 1,
   "metadata": {},
   "outputs": [],
   "source": [
    "# import necessary modules\n",
    "import time\n",
    "import datetime\n",
    "import random\n",
    "import numpy as np\n",
    "import base64\n",
    "\n",
    "import re\n",
    "import os\n",
    "\n",
    "import pandas as pd\n",
    "pd.options.mode.chained_assignment = None  # default='warn'\n",
    "\n",
    "from tqdm import tqdm\n",
    "import urllib.request \n",
    "from urllib.request import urlopen\n",
    "import requests\n",
    "from bs4 import BeautifulSoup\n",
    "\n",
    "from selenium import webdriver\n",
    "from selenium.webdriver.common.by import By\n",
    "from selenium.webdriver.common.keys import Keys\n",
    "from selenium.webdriver.support.ui import WebDriverWait\n",
    "from selenium.common.exceptions import TimeoutException\n",
    "from selenium.webdriver.support.expected_conditions import presence_of_element_located\n",
    "# browser.quit() # close the whole browser\n",
    "# browser.close() # close the tab"
   ]
  },
  {
   "cell_type": "code",
   "execution_count": 2,
   "metadata": {},
   "outputs": [
    {
     "data": {
      "text/plain": [
       "'\\ndef get_info_from_productlink(product_link):  #get the first image\\n    info = dict()\\n    page = requests.get(product_link)\\n    driver = webdriver.Chrome(\\'C:/Users/Brian/Downloads/chromedriver_win32/chromedriver.exe\\')\\n    driver.get(product_link)\\n    soup = BeautifulSoup(driver.page_source, \\'html.parser\\')\\n    time.sleep(random.randint(3,3))\\n\\n    #price_block = soup.find(\\'div\\', {\"class\" : \"BasePriceBlock BasePriceBlock--highlight\"})\\n    #price_block = soup.find(\\'div\\', {\"class\" : \"BasePriceBlock\"})\\n    price_block = soup.find(\\'span\\', {\"class\" : \"notranslate\"})\\n    price = price_block.text\\n    info[\\'price\\'] = price\\n    #print(price)   \\n    \\n    image = soup.find(\\'div\\', {\\'class\\' : \"ImageComponent ImageComponent--overlay\"})\\n    image_link = image.find(\\'img\\')[\\'src\\']\\n    info[\\'img_url\\'] = image_link\\n    \\n    #print(f\"Image link: {image_link}\\n\")\\n    #print(f\"Link to product: {product_link}\\n\")\\n\\n    driver.close()\\n    #browser.switch_to.window(browser.window_handles[0])\\n    return info\\n'"
      ]
     },
     "execution_count": 2,
     "metadata": {},
     "output_type": "execute_result"
    }
   ],
   "source": [
    "def get_product_info_from_mainpage(URL):\n",
    "    product_links = []\n",
    "    image_links = []\n",
    "    prices = []\n",
    "    \n",
    "    driver = webdriver.Chrome('C:/Users/Brian/Downloads/chromedriver_win32/chromedriver.exe')\n",
    "    driver.implicitly_wait(100)\n",
    "    \n",
    "    try:\n",
    "        driver.get(URL)\n",
    "        soup = BeautifulSoup(driver.page_source, 'html.parser')\n",
    "        time.sleep(10)\n",
    "        \n",
    "        product_cards = soup.find_all('div', {\"class\" : \"ProductCard-container ProductCard-container--contained\"})\n",
    "\n",
    "        print(\"Number of products scraped from the page: \", len(product_cards))\n",
    "        \n",
    "        i = 0\n",
    "        for product_card in product_cards:\n",
    "            try:\n",
    "                #get image link\n",
    "                driver.implicitly_wait(3)\n",
    "                image = product_card.find('div', {\"class\" : \"BrowseProductCard-imageWrap\"})\n",
    "                #image_link = image.find_element_by_tag_name('img').get_attribute('src')\n",
    "                #image_link = image.find('img')[\"src\"]\n",
    "                #image_link = image.select('img').get('src')\n",
    "                image_link = image.find('img')[\"srcset\"].split(',')[-1].split(\" \")[0]\n",
    "                image_links.append(image_link)\n",
    "\n",
    "                \n",
    "                #get product link\n",
    "                product_link = product_card.find('a')['href']\n",
    "                product_links.append(product_link)                \n",
    "\n",
    "\n",
    "                #get price\n",
    "                price_block = product_card.find('div', {\"class\" : \"ProductCard-pricing\"})\n",
    "                price = price_block.find('span').text\n",
    "\n",
    "                '''\n",
    "                try:\n",
    "                    price = price_block.find('span', {\"class\" : \"ProductCard-price\"}).text\n",
    "                except:\n",
    "                    price = price_block.find('span', {\"class\" : \"ProductCard-price ProductCard-price--sale\"}).text\n",
    "                '''\n",
    "                \n",
    "                prices.append(price)\n",
    "                i += 1\n",
    "                \n",
    "                #Print summary information\n",
    "                print(f\"Item: {i}\\n\")\n",
    "                print(f\"Product link: {product_link}\\n\")\n",
    "                print(f\"Image link: {image_link}\\n\")\n",
    "                print(f\"Price: {price}\\n\")\n",
    "                print(\"==============================================\")\n",
    "            \n",
    "            except:\n",
    "                print(\"Error\")\n",
    "                pass\n",
    "        driver.close()\n",
    "        print(\"Lengths of lists: \", len(product_links), len(image_links), len(prices))\n",
    "        return (product_links, image_links, prices)\n",
    "    \n",
    "    except TimeoutException as e:\n",
    "        print(\"Page load Timeout Occured. Quitting !!!\")\n",
    "        driver.close()\n",
    "\n",
    "'''\n",
    "def get_info_from_productlink(product_link):  #get the first image\n",
    "    info = dict()\n",
    "    page = requests.get(product_link)\n",
    "    driver = webdriver.Chrome('C:/Users/Brian/Downloads/chromedriver_win32/chromedriver.exe')\n",
    "    driver.get(product_link)\n",
    "    soup = BeautifulSoup(driver.page_source, 'html.parser')\n",
    "    time.sleep(random.randint(3,3))\n",
    "\n",
    "    #price_block = soup.find('div', {\"class\" : \"BasePriceBlock BasePriceBlock--highlight\"})\n",
    "    #price_block = soup.find('div', {\"class\" : \"BasePriceBlock\"})\n",
    "    price_block = soup.find('span', {\"class\" : \"notranslate\"})\n",
    "    price = price_block.text\n",
    "    info['price'] = price\n",
    "    #print(price)   \n",
    "    \n",
    "    image = soup.find('div', {'class' : \"ImageComponent ImageComponent--overlay\"})\n",
    "    image_link = image.find('img')['src']\n",
    "    info['img_url'] = image_link\n",
    "    \n",
    "    #print(f\"Image link: {image_link}\\n\")\n",
    "    #print(f\"Link to product: {product_link}\\n\")\n",
    "\n",
    "    driver.close()\n",
    "    #browser.switch_to.window(browser.window_handles[0])\n",
    "    return info\n",
    "'''"
   ]
  },
  {
   "cell_type": "code",
   "execution_count": null,
   "metadata": {},
   "outputs": [],
   "source": [
    "#TEST\n",
    "get_product_info_from_mainpage('https://www.wayfair.com/filters/furniture/sb1/sofas-c413892-p2479~1000~*.html?itemsperpage=96&curpage=2')"
   ]
  },
  {
   "cell_type": "code",
   "execution_count": 20,
   "metadata": {},
   "outputs": [],
   "source": [
    "def save_data(product_info_list, i):\n",
    "    result = [[product[0], product[1]['price'], product[1]['img_url']] for product in product_info_list]\n",
    "    df = pd.DataFrame(result)\n",
    "    now = str(datetime.datetime.now()).replace(\" \",\"\").replace(\":\",\"\").replace(\"-\",\"\").split(\".\")[0][4:][:-2]\n",
    "    df.to_csv(f'sofa_info_{str(i)}.csv', index=False, header=['item_no', 'price', 'img_url'])\n",
    "    \n",
    "def save_image_from_url(product, category):    \n",
    "    bar_wrap = [None]\n",
    "\n",
    "    item_no = product.name + 5780\n",
    "    print(\"Product Row: \", product.name)\n",
    "    base_name = \"C:/Users/Brian/Desktop/ThePriceIsRight/\" + category + \"/\"\n",
    "    filename = f\"./{category}/{item_no}.jpeg\"\n",
    "    filepath = base_name + str(item_no) + \".jpg\"\n",
    "    url = str(product['img_url'])\n",
    "    \n",
    "    try:\n",
    "        print(url)\n",
    "        urllib.request.urlretrieve(url, filepath)\n",
    "        return filename\n",
    "    except:\n",
    "        print(f\"Failed to download image:{url}\\n\")\n",
    "        return f\"Failed to download image: {url}\\n\"\n",
    "    \n",
    "def save_images_from_csv(df):\n",
    "    tqdm.pandas()\n",
    "    df['filename'] = df.progress_apply(lambda x: save_image_from_url(x, category = 'sofa'), axis=1)\n",
    "    return df"
   ]
  },
  {
   "cell_type": "code",
   "execution_count": 4,
   "metadata": {
    "scrolled": true
   },
   "outputs": [
    {
     "name": "stderr",
     "output_type": "stream",
     "text": [
      "\r",
      "  0%|                                                                                            | 0/4 [00:00<?, ?it/s]"
     ]
    },
    {
     "name": "stdout",
     "output_type": "stream",
     "text": [
      "Number of products scraped from the page:  96\n",
      "Item: 1\n",
      "\n",
      "Product link: https://www.wayfair.com/furniture/pdp/house-of-hampton-chesterfield-845-rolled-arm-sofa-w001297038.html?piid=1634155177\n",
      "\n",
      "Image link: https://secure.img1-fg.wfcdn.com/im/12726311/resize-h310-w310%5Ecompr-r85/6493/64936323/Chesterfield+84.5%2522+Rolled+Arm+Sofa.jpg\n",
      "\n",
      "Price: $1,019.99\n",
      "\n",
      "==============================================\n",
      "Item: 2\n",
      "\n",
      "Product link: https://www.wayfair.com/furniture/pdp/everly-quinn-luanna-chesterfield-80-recessed-arm-sofa-eyqn6074.html?piid=25359506%2C50099778&categoryid=413892&placement=1&slot=0&sponsoredid=b86f0c0a33e69d53e6c4100df1d3185ec016ee0c3460ca6b3b81d5cdfb52ed7b&_txid=I%2BF9Ol8WkeQqaA%2F5srh8Ag%3D%3D&isB2b=0&auctionId=3fabb403-8ca5-4e98-af22-fd99230aa2a3\n",
      "\n",
      "Image link: https://secure.img1-fg.wfcdn.com/im/56432728/resize-h310-w310%5Ecompr-r85/1178/117801067/Luanna+Chesterfield+80%2522+Recessed+Arm+Sofa.jpg\n",
      "\n",
      "Price: $1,019.99\n",
      "\n",
      "==============================================\n",
      "Item: 3\n",
      "\n",
      "Product link: https://www.wayfair.com/furniture/pdp/trent-austin-design-bombay-genuine-leather-84-square-arms-sofa-trnt2952.html?piid=28079635\n",
      "\n",
      "Image link: https://secure.img1-fg.wfcdn.com/im/38238360/resize-h310-w310%5Ecompr-r85/6045/60454011/Bombay+Genuine+Leather+84%2522+Square+Arms+Sofa.jpg\n",
      "\n",
      "Price: $1,079.99\n",
      "\n",
      "==============================================\n",
      "Item: 4\n",
      "\n",
      "Product link: https://www.wayfair.com/furniture/pdp/red-barrel-studio-hardin-right-hand-facing-sectional-with-ottoman-rdbl4449.html?piid=21270496\n",
      "\n",
      "Image link: https://secure.img1-fg.wfcdn.com/im/70316309/resize-h310-w310%5Ecompr-r85/4687/46877341/Hardin+Right+Hand+Facing+Sectional+with+Ottoman.jpg\n",
      "\n",
      "Price: $1,169.99\n",
      "\n",
      "==============================================\n",
      "Item: 5\n",
      "\n",
      "Product link: https://www.wayfair.com/furniture/pdp/rosdorf-park-westberg-velvet-chesterfield-76-rolled-arms-loveseat-w002714235.html?piid=902607299%2C902607298\n",
      "\n",
      "Image link: https://secure.img1-fg.wfcdn.com/im/16981263/resize-h310-w310%5Ecompr-r85/1047/104796711/Westberg+Velvet+Chesterfield+76%2522+Rolled+Arms+Loveseat.jpg\n",
      "\n",
      "Price: $1,119.99\n",
      "\n",
      "==============================================\n",
      "Item: 6\n",
      "\n",
      "Product link: https://www.wayfair.com/furniture/pdp/carly-93recessed-arm-sofa-bed-cstm2152.html?piid=\n",
      "\n",
      "Image link: https://secure.img1-fg.wfcdn.com/im/06317258/resize-h310-w310%5Ecompr-r85/1150/115069627/Carly+93%2522Recessed+Arm+Sofa+Bed.jpg\n",
      "\n",
      "Price: $1,349.00\n",
      "\n",
      "==============================================\n",
      "Item: 7\n",
      "\n",
      "Product link: https://www.wayfair.com/furniture/pdp/three-posts-brinson-genuine-leather-chesterfield-95-rolled-arm-sofa-w001243560.html?piid=1221870775\n",
      "\n",
      "Image link: https://secure.img1-fg.wfcdn.com/im/46614650/resize-h310-w310%5Ecompr-r85/7888/78886170/Brinson+Genuine+Leather+Chesterfield+95%2522+Rolled+Arm+Sofa.jpg\n",
      "\n",
      "Price: $1,759.99\n",
      "\n",
      "==============================================\n",
      "Item: 8\n",
      "\n",
      "Product link: https://www.wayfair.com/furniture/pdp/magnolia-home-foundation-59-round-arm-loveseat-mgnl1159.html?piid=42729699&categoryid=413892&placement=1&slot=1&sponsoredid=2c96c1516b68468243b0393764719a494e795fcc71b4a7ae43f144608d90bf19&_txid=I%2BF9Ol8WkeQqaA%2F5srh8Ag%3D%3D&isB2b=0&auctionId=3fabb403-8ca5-4e98-af22-fd99230aa2a3\n",
      "\n",
      "Image link: https://secure.img1-fg.wfcdn.com/im/21646652/resize-h310-w310%5Ecompr-r85/9063/90637842/Foundation+59%2522+Round+Arm+Loveseat.jpg\n",
      "\n",
      "Price: $1,449.00\n",
      "\n",
      "==============================================\n",
      "Error\n",
      "Error\n",
      "Error\n",
      "Error\n",
      "Item: 9\n",
      "\n",
      "Product link: https://www.wayfair.com/furniture/pdp/breakwater-bay-oliver-90-reversible-modular-sectional-with-ottoman-brwt5322.html?piid=34253948\n",
      "\n",
      "Image link: https://secure.img1-fg.wfcdn.com/im/65518329/resize-h310-w310%5Ecompr-r85/6319/63195877/Oliver+90%2522+Reversible+Modular+Sectional+with+Ottoman.jpg\n",
      "\n",
      "Price: $1,329.99\n",
      "\n",
      "==============================================\n",
      "Item: 10\n",
      "\n",
      "Product link: https://www.wayfair.com/furniture/pdp/foundstone-arne-815-square-arm-sofa-w003246336.html?piid=1357821821&categoryid=413892&placement=1&slot=2&sponsoredid=84b409e4e038f6cc661ac964ed687e99b6a8ce0690e859c917d78d310a94213f&_txid=I%2BF9Ol8WkeQqaA%2F5srh8Ag%3D%3D&isB2b=0&auctionId=3fabb403-8ca5-4e98-af22-fd99230aa2a3\n",
      "\n",
      "Image link: https://secure.img1-fg.wfcdn.com/im/89011067/resize-h310-w310%5Ecompr-r85/7880/78809400/Arne+81.5%2522+Square+Arm+Sofa.jpg\n",
      "\n",
      "Price: $1,229.99\n",
      "\n",
      "==============================================\n",
      "Item: 11\n",
      "\n",
      "Product link: https://www.wayfair.com/furniture/pdp/alcott-hill-joseph-reversible-sectional-alth3636.html?piid=24185428%2C39366346\n",
      "\n",
      "Image link: https://secure.img1-fg.wfcdn.com/im/01022223/resize-h310-w310%5Ecompr-r85/4335/43357578/Joseph+Reversible+Sectional.jpg\n",
      "\n",
      "Price: $1,059.99\n",
      "\n",
      "==============================================\n",
      "Item: 12\n",
      "\n",
      "Product link: https://www.wayfair.com/furniture/pdp/south-shore-live-it-cozy-878-reversible-sleeper-sectional-th4829.html?piid=25345979\n",
      "\n",
      "Image link: https://secure.img1-fg.wfcdn.com/im/14532527/resize-h310-w310%5Ecompr-r85/4593/45938748/Live-it+Cozy+87.8%2522+Reversible+Sleeper+Sectional.jpg\n",
      "\n",
      "Price: $1,099.99\n",
      "\n",
      "==============================================\n",
      "Item: 13\n",
      "\n",
      "Product link: https://www.wayfair.com/furniture/pdp/foundstone-idris-80-square-arm-sofa-w002004276.html?piid=\n",
      "\n",
      "Image link: https://secure.img1-fg.wfcdn.com/im/74145615/resize-h310-w310%5Ecompr-r85/6413/64136059/Idris+80%2522+Square+Arm+Sofa.jpg\n",
      "\n",
      "Price: $1,369.99\n",
      "\n",
      "==============================================\n",
      "Item: 14\n",
      "\n",
      "Product link: https://www.wayfair.com/furniture/pdp/greyleigh-quitaque-left-hand-facing-sectional-gryl4435.html?piid=33391451\n",
      "\n",
      "Image link: https://secure.img1-fg.wfcdn.com/im/97279698/resize-h310-w310%5Ecompr-r85/4466/44665655/Quitaque+Left+Hand+Facing+Sectional.jpg\n",
      "\n",
      "Price: $1,569.99\n",
      "\n",
      "==============================================\n",
      "Item: 15\n",
      "\n",
      "Product link: https://www.wayfair.com/furniture/pdp/winston-porter-salsbury-63-flared-arm-sofa-bed-w001666261.html?piid=1443380290\n",
      "\n",
      "Image link: https://secure.img1-fg.wfcdn.com/im/20900112/resize-h310-w310%5Ecompr-r85/1152/115203964/Salsbury+63%2522+Flared+Arm+Sofa+Bed.jpg\n",
      "\n",
      "Price: $1,049.99\n",
      "\n",
      "==============================================\n",
      "Item: 16\n",
      "\n",
      "Product link: https://www.wayfair.com/furniture/pdp/corrigan-studio-simonsen-725-round-arms-sofa-w002887461.html?piid=&categoryid=413892&placement=1&slot=3&sponsoredid=c471ce62e4ce83dc0033faab2fccfdd63f9cc69d377bde6f7895ea9de2640ac9&_txid=I%2BF9Ol8WkeQqaA%2F5srh8Ag%3D%3D&isB2b=0&auctionId=3fabb403-8ca5-4e98-af22-fd99230aa2a3\n",
      "\n",
      "Image link: https://secure.img1-fg.wfcdn.com/im/59535156/resize-h310-w310%5Ecompr-r85/1083/108308717/Simonsen+72.5%2522+Round+Arms+Sofa.jpg\n",
      "\n",
      "Price: $1,999.99\n",
      "\n",
      "==============================================\n",
      "Item: 17\n",
      "\n",
      "Product link: https://www.wayfair.com/furniture/pdp/latitude-run-regin-111-reversible-sectional-w002429342.html?piid=1752033471\n",
      "\n",
      "Image link: https://secure.img1-fg.wfcdn.com/im/57337903/resize-h310-w310%5Ecompr-r85/6301/63013047/Regin+111%2522+Reversible+Sectional.jpg\n",
      "\n",
      "Price: $1,069.99\n",
      "\n",
      "==============================================\n",
      "Item: 18\n",
      "\n",
      "Product link: https://www.wayfair.com/furniture/pdp/astoria-grand-welton-velvet-69-rolled-arm-loveseat-w000752109.html?piid=135267160\n",
      "\n",
      "Image link: https://secure.img1-fg.wfcdn.com/im/65929144/resize-h310-w310%5Ecompr-r85/5834/58343105/Welton+Velvet+69%2522+Rolled+Arm+Loveseat.jpg\n",
      "\n",
      "Price: $1,749.99\n",
      "\n",
      "==============================================\n",
      "Item: 19\n",
      "\n",
      "Product link: https://www.wayfair.com/furniture/pdp/doug-reclining-91-rolled-arm-sofa-cstm2282.html?piid=\n",
      "\n",
      "Image link: https://secure.img1-fg.wfcdn.com/im/91276715/resize-h310-w310%5Ecompr-r85/9908/99088378/Doug+Reclining+91%2522+Rolled+Arm+Sofa.jpg\n",
      "\n",
      "Price: $1,199.00\n",
      "\n",
      "==============================================\n",
      "Item: 20\n",
      "\n",
      "Product link: https://www.wayfair.com/furniture/pdp/red-barrel-studio-padang-sidempuan-90-pillow-top-arm-sofa-bed-w000416707.html?piid=280332832\n",
      "\n",
      "Image link: https://secure.img1-fg.wfcdn.com/im/28207542/resize-h310-w310%5Ecompr-r85/3449/34491770/Padang+Sidempuan+90%2522+Pillow+top+Arm+Sofa+Bed.jpg\n",
      "\n",
      "Price: $1,099.99\n",
      "\n",
      "==============================================\n",
      "Item: 21\n",
      "\n",
      "Product link: https://www.wayfair.com/furniture/pdp/mercer41-schaeffer-right-hand-facing-sectional-w000041574.html?piid=787420047\n",
      "\n",
      "Image link: https://secure.img1-fg.wfcdn.com/im/48126602/resize-h310-w310%5Ecompr-r85/6115/61158949/Schaeffer+Right+Hand+Facing+Sectional.jpg\n"
     ]
    },
    {
     "name": "stdout",
     "output_type": "stream",
     "text": [
      "\n",
      "Price: $1,069.99\n",
      "\n",
      "==============================================\n",
      "Item: 22\n",
      "\n",
      "Product link: https://www.wayfair.com/furniture/pdp/orren-ellis-alisia-323-armless-sofa-w000409763.html?piid=279767931&categoryid=413892&placement=1&slot=4&sponsoredid=548d2b5da8485561a3faee9826dbbfc8b6fdb8fc8e6f26e8b6a00fce15ec1808&_txid=I%2BF9Ol8WkeQqaA%2F5srh8Ag%3D%3D&isB2b=0&auctionId=3fabb403-8ca5-4e98-af22-fd99230aa2a3\n",
      "\n",
      "Image link: https://secure.img1-fg.wfcdn.com/im/72375181/resize-h310-w310%5Ecompr-r85/1054/105463016/Alisia+32.3%2522+Armless+Sofa.jpg\n",
      "\n",
      "Price: $2,059.99\n",
      "\n",
      "==============================================\n",
      "Item: 23\n",
      "\n",
      "Product link: https://www.wayfair.com/furniture/pdp/astoria-grand-welles-loveseat-w000012189.html?piid=745158252\n",
      "\n",
      "Image link: https://secure.img1-fg.wfcdn.com/im/25649198/resize-h310-w310%5Ecompr-r85/5877/58774200/Welles+Loveseat.jpg\n",
      "\n",
      "Price: $2,699.99\n",
      "\n",
      "==============================================\n",
      "Item: 24\n",
      "\n",
      "Product link: https://www.wayfair.com/furniture/pdp/darby-home-co-kavya-chesterfield-109-tuxedo-arm-sofa-drbh4573.html?piid=25729255\n",
      "\n",
      "Image link: https://secure.img1-fg.wfcdn.com/im/10577193/resize-h310-w310%5Ecompr-r85/4747/47473674/Kavya+Chesterfield+109%2522+Tuxedo+Arm+Sofa.jpg\n",
      "\n",
      "Price: $1,259.99\n",
      "\n",
      "==============================================\n",
      "Item: 25\n",
      "\n",
      "Product link: https://www.wayfair.com/furniture/pdp/astoria-grand-ullrich-93-rolled-arm-sofa-w000545307.html?piid=1041650918%2C1041650919\n",
      "\n",
      "Image link: https://secure.img1-fg.wfcdn.com/im/21208384/resize-h310-w310%5Ecompr-r85/1051/105141609/Ullrich+93%2522+Rolled+Arm+Sofa.jpg\n",
      "\n",
      "Price: $2,369.99\n",
      "\n",
      "==============================================\n",
      "Item: 26\n",
      "\n",
      "Product link: https://www.wayfair.com/furniture/pdp/astoria-grand-tressaa-94-rolled-arm-sofa-w000502679.html?piid=\n",
      "\n",
      "Image link: https://secure.img1-fg.wfcdn.com/im/01475381/resize-h310-w310%5Ecompr-r85/3425/34259834/Tressa%25C2%25A0+94%2522+Rolled+Arm+Sofa.jpg\n",
      "\n",
      "Price: $2,299.99\n",
      "\n",
      "==============================================\n",
      "Item: 27\n",
      "\n",
      "Product link: https://www.wayfair.com/furniture/pdp/casey-88-rolled-arm-sofa-cstm2246.html?piid=\n",
      "\n",
      "Image link: https://secure.img1-fg.wfcdn.com/im/01795901/resize-h310-w310%5Ecompr-r85/9261/92613160/Casey+88%2522+Rolled+Arm+Sofa.jpg\n",
      "\n",
      "Price: $1,049.00\n",
      "\n",
      "==============================================\n",
      "Item: 28\n",
      "\n",
      "Product link: https://www.wayfair.com/furniture/pdp/orren-ellis-alisia-armless-loveseat-w002659400.html?piid=2050338089&categoryid=413892&placement=1&slot=5&sponsoredid=87eb56174eb113fa4f21dba69bb23c4e0a30a3ecd65ac0f8c5d8d8a8ee28a77f&_txid=I%2BF9Ol8WkeQqaA%2F5srh8Ag%3D%3D&isB2b=0&auctionId=3fabb403-8ca5-4e98-af22-fd99230aa2a3\n",
      "\n",
      "Image link: https://secure.img1-fg.wfcdn.com/im/88532180/resize-h310-w310%5Ecompr-r85/1054/105462951/Alisia+Armless+Loveseat.jpg\n",
      "\n",
      "Price: $1,799.99\n",
      "\n",
      "==============================================\n",
      "Item: 29\n",
      "\n",
      "Product link: https://www.wayfair.com/furniture/pdp/astoria-grand-welles-sofa-w000732102.html?piid=344716026\n",
      "\n",
      "Image link: https://secure.img1-fg.wfcdn.com/im/61323491/resize-h310-w310%5Ecompr-r85/1118/111834431/Welles+Sofa.jpg\n",
      "\n",
      "Price: $2,299.99\n",
      "\n",
      "==============================================\n",
      "Item: 30\n",
      "\n",
      "Product link: https://www.wayfair.com/furniture/pdp/mercer41-cloutier-right-hand-facing-sectional-w000587036.html?piid=1335107903\n",
      "\n",
      "Image link: https://secure.img1-fg.wfcdn.com/im/76181803/resize-h310-w310%5Ecompr-r85/6092/60926805/Cloutier+Right+Hand+Facing+Sectional.jpg\n",
      "\n",
      "Price: $1,629.99\n",
      "\n",
      "==============================================\n",
      "Item: 31\n",
      "\n",
      "Product link: https://www.wayfair.com/furniture/pdp/zipcode-design-giovanny-reversible-sectional-zpcd6650.html?piid=30725992\n",
      "\n",
      "Image link: https://secure.img1-fg.wfcdn.com/im/95479499/resize-h310-w310%5Ecompr-r85/8745/87457276/Giovanny+Reversible+Sectional.jpg\n",
      "\n",
      "Price: $1,079.99\n",
      "\n",
      "==============================================\n",
      "Item: 32\n",
      "\n",
      "Product link: https://www.wayfair.com/furniture/pdp/astoria-grand-welton-standard-loveseat-w001262017.html?piid=\n",
      "\n",
      "Image link: https://secure.img1-fg.wfcdn.com/im/80920564/resize-h310-w310%5Ecompr-r85/6514/65144104/Welton+Standard+Loveseat.jpg\n",
      "\n",
      "Price: $2,599.99\n",
      "\n",
      "==============================================\n",
      "Item: 33\n",
      "\n",
      "Product link: https://www.wayfair.com/furniture/pdp/doug-reclining-67-rolled-arm-loveseat-cstm2281.html?piid=\n",
      "\n",
      "Image link: https://secure.img1-fg.wfcdn.com/im/35985509/resize-h310-w310%5Ecompr-r85/1184/118490786/Doug+Reclining+67%2522+Rolled+Arm+Loveseat.jpg\n",
      "\n",
      "Price: $1,179.00\n",
      "\n",
      "==============================================\n",
      "Item: 34\n",
      "\n",
      "Product link: https://www.wayfair.com/furniture/pdp/wade-logan-orlando-faux-leather-standard-86-square-arm-sofa-wadl4250.html?piid=16397293\n",
      "\n",
      "Image link: https://secure.img1-fg.wfcdn.com/im/09529430/resize-h310-w310%5Ecompr-r85/2730/27305206/Orlando+Faux+Leather+Standard+86%2522+Square+Arm+Sofa.jpg\n",
      "\n",
      "Price: $1,339.99\n",
      "\n",
      "==============================================\n",
      "Item: 35\n",
      "\n",
      "Product link: https://www.wayfair.com/furniture/pdp/mistana-brooklyn-chesterfield-87-rolled-arm-sofa-mitn1396.html?piid=32668020\n",
      "\n",
      "Image link: https://secure.img1-fg.wfcdn.com/im/14317913/resize-h310-w310%5Ecompr-r85/9974/99748496/Brooklyn+Chesterfield+87%2522+Rolled+Arm+Sofa.jpg\n",
      "\n",
      "Price: $1,089.99\n",
      "\n",
      "==============================================\n",
      "Item: 36\n",
      "\n",
      "Product link: https://www.wayfair.com/furniture/pdp/august-grove-eulah-79-rolled-arms-sofa-bed-agtg3829.html?piid=24294857%2C24534908\n",
      "\n",
      "Image link: https://secure.img1-fg.wfcdn.com/im/13515115/resize-h310-w310%5Ecompr-r85/1055/105569026/Eulah+79%2522+Rolled+Arms+Sofa+Bed.jpg\n",
      "\n",
      "Price: $1,189.99\n",
      "\n",
      "==============================================\n",
      "Item: 37\n",
      "\n",
      "Product link: https://www.wayfair.com/furniture/pdp/logan-reclining-83-recessed-arm-sofa-cstm2319.html?piid=27703198%2C36592351\n",
      "\n",
      "Image link: https://secure.img1-fg.wfcdn.com/im/41314345/resize-h310-w310%5Ecompr-r85/9841/98413098/Logan+Reclining+83%2522+Recessed+Arm+Sofa.jpg\n",
      "\n",
      "Price: $1,229.19\n",
      "\n",
      "==============================================\n",
      "Item: 38\n",
      "\n",
      "Product link: https://www.wayfair.com/furniture/pdp/charlton-home-waldschmidt-microfiber-microsuede-67-pillow-top-arm-loveseat-w001678621.html?piid=1916209910\n",
      "\n",
      "Image link: https://secure.img1-fg.wfcdn.com/im/07215305/resize-h310-w310%5Ecompr-r85/4571/45710209/Waldschmidt+Microfiber+/+Microsuede+67%2522+Pillow+Top+Arm+Loveseat.jpg\n",
      "\n",
      "Price: $1,139.99\n",
      "\n",
      "==============================================\n",
      "Item: 39\n",
      "\n",
      "Product link: https://www.wayfair.com/furniture/pdp/astoria-grand-welling-traditional-loveseat-argd2818.html?piid=\n",
      "\n",
      "Image link: https://secure.img1-fg.wfcdn.com/im/44660872/resize-h310-w310%5Ecompr-r85/4318/43184962/Welling+Traditional+Loveseat.jpg\n",
      "\n",
      "Price: $1,769.99\n",
      "\n",
      "==============================================\n",
      "Item: 40\n",
      "\n",
      "Product link: https://www.wayfair.com/furniture/pdp/greyleigh-quitaque-left-hand-facing-sectional-gryl4434.html?piid=33391447\n",
      "\n",
      "Image link: https://secure.img1-fg.wfcdn.com/im/47999703/resize-h310-w310%5Ecompr-r85/5852/58526152/Quitaque+Left+Hand+Facing+Sectional.jpg\n",
      "\n",
      "Price: $1,079.99\n",
      "\n",
      "==============================================\n",
      "Item: 41\n",
      "\n",
      "Product link: https://www.wayfair.com/furniture/pdp/millwood-pines-charlie-cotton-90-round-arm-sofa-w001556156.html?piid=\n",
      "\n",
      "Image link: https://secure.img1-fg.wfcdn.com/im/77518674/resize-h310-w310%5Ecompr-r85/5251/5251002/Charlie+Cotton+90%2522+Round+Arm+Sofa.jpg\n",
      "\n",
      "Price: $1,039.99\n",
      "\n",
      "==============================================\n",
      "Item: 42\n",
      "\n",
      "Product link: https://www.wayfair.com/furniture/pdp/avery-86-recessed-arm-sofa-bed-cstm2191.html?piid=\n",
      "\n",
      "Image link: https://secure.img1-fg.wfcdn.com/im/97675251/resize-h310-w310%5Ecompr-r85/5044/50444335/Avery+86%2522+Recessed+Arm+Sofa+Bed.jpg\n",
      "\n",
      "Price: $1,049.00\n",
      "\n",
      "==============================================\n",
      "Item: 43\n",
      "\n",
      "Product link: https://www.wayfair.com/furniture/pdp/kaylyn-89-recessed-arm-sofa-w001666921.html?piid=1139575370\n",
      "\n",
      "Image link: https://secure.img1-fg.wfcdn.com/im/88806572/resize-h310-w310%5Ecompr-r85/1159/115977359/Kaylyn+89%2522+Recessed+Arm+Sofa.jpg\n",
      "\n",
      "Price: $1,099.99\n",
      "\n",
      "==============================================\n",
      "Item: 44\n",
      "\n",
      "Product link: https://www.wayfair.com/furniture/pdp/la-z-boy-trouper-reclining-85-inches-pillow-top-arms-sofa-lz2727.html?piid=28077720\n",
      "\n",
      "Image link: https://secure.img1-fg.wfcdn.com/im/84567186/resize-h310-w310%5Ecompr-r85/5178/51786336/Trouper+Reclining+85+inches+Pillow+Top+Arms+Sofa.jpg\n"
     ]
    },
    {
     "name": "stdout",
     "output_type": "stream",
     "text": [
      "\n",
      "Price: $1,669.99\n",
      "\n",
      "==============================================\n",
      "Item: 45\n",
      "\n",
      "Product link: https://www.wayfair.com/furniture/pdp/orren-ellis-ketan-right-hand-facing-sectional-orne3077.html?piid=23545000\n",
      "\n",
      "Image link: https://secure.img1-fg.wfcdn.com/im/59931372/resize-h310-w310%5Ecompr-r85/3872/38721378/Ketan+Right+Hand+Facing+Sectional.jpg\n",
      "\n",
      "Price: $1,339.99\n",
      "\n",
      "==============================================\n",
      "Item: 46\n",
      "\n",
      "Product link: https://www.wayfair.com/furniture/pdp/magnolia-home-3775-square-arm-loveseat-mgnl1331.html?piid=&categoryid=413892&placement=1&slot=6&sponsoredid=4127590bfe962cec3fc02cd4a2120750fb6528905d58f9c9c528d6f788ff0ec1&_txid=I%2BF9Ol8WkeQqaA%2F5srh8Ag%3D%3D&isB2b=0&auctionId=3fabb403-8ca5-4e98-af22-fd99230aa2a3\n",
      "\n",
      "Image link: https://secure.img1-fg.wfcdn.com/im/96840003/resize-h310-w310%5Ecompr-r85/1181/118101839/37.75%2527%2527+Square+Arm+Loveseat.jpg\n",
      "\n",
      "Price: $1,189.99\n",
      "\n",
      "==============================================\n",
      "Item: 47\n",
      "\n",
      "Product link: https://www.wayfair.com/furniture/pdp/millwood-pines-charlie-sierra-sofa-w000558557.html?piid=\n",
      "\n",
      "Image link: https://secure.img1-fg.wfcdn.com/im/83441234/resize-h310-w310%5Ecompr-r85/1011/10110493/Charlie+Sierra+Sofa.jpg\n",
      "\n",
      "Price: $1,069.99\n",
      "\n",
      "==============================================\n",
      "Item: 48\n",
      "\n",
      "Product link: https://www.wayfair.com/furniture/pdp/willa-arlo-interiors-vegard-chesterfield-9134-round-arm-sofa-w001690332.html?piid=2066769690\n",
      "\n",
      "Image link: https://secure.img1-fg.wfcdn.com/im/86859592/resize-h310-w310%5Ecompr-r85/1223/122330185/Vegard+Chesterfield+91.34%2522+Round+Arm+Sofa.jpg\n",
      "\n",
      "Price: $1,129.99\n",
      "\n",
      "==============================================\n",
      "Item: 49\n",
      "\n",
      "Product link: https://www.wayfair.com/furniture/pdp/winston-porter-brylee-118-reversible-sectional-w000683222.html?piid=1465545872\n",
      "\n",
      "Image link: https://secure.img1-fg.wfcdn.com/im/68651493/resize-h310-w310%5Ecompr-r85/7604/76040711/Brylee+118%2522+Reversible+Sectional.jpg\n",
      "\n",
      "Price: $1,049.99\n",
      "\n",
      "==============================================\n",
      "Item: 50\n",
      "\n",
      "Product link: https://www.wayfair.com/furniture/pdp/98-square-arm-sofa-w000771690.html?piid=948508013\n",
      "\n",
      "Image link: https://secure.img1-fg.wfcdn.com/im/25786051/resize-h310-w310%5Ecompr-r85/1159/115988691/98%2522+Square+Arm+Sofa.jpg\n",
      "\n",
      "Price: $1,059.99\n",
      "\n",
      "==============================================\n",
      "Item: 51\n",
      "\n",
      "Product link: https://www.wayfair.com/furniture/pdp/lesley-87-square-arm-sofa-bed-w001666527.html?piid=348108909\n",
      "\n",
      "Image link: https://secure.img1-fg.wfcdn.com/im/89016754/resize-h310-w310%5Ecompr-r85/1182/118260052/Lesley+87%2522+Square+Arm+Sofa+Bed.jpg\n",
      "\n",
      "Price: $1,139.99\n",
      "\n",
      "==============================================\n",
      "Item: 52\n",
      "\n",
      "Product link: https://www.wayfair.com/furniture/pdp/kelly-clarkson-home-anderson-chesterfield-69-rolled-arm-loveseat-w003039036.html?piid=1215822082&categoryid=413892&placement=1&slot=7&sponsoredid=2a3fb7508f596168c7bbd2766b7f1cbb2f27f9b97083b796fa27aa26b3ec0d62&_txid=I%2BF9Ol8WkeQqaA%2F5srh8Ag%3D%3D&isB2b=0&auctionId=3fabb403-8ca5-4e98-af22-fd99230aa2a3\n",
      "\n",
      "Image link: https://secure.img1-fg.wfcdn.com/im/13262955/resize-h310-w310%5Ecompr-r85/1135/113580381/Anderson+Chesterfield+69%2522+Rolled+Arm+Loveseat.jpg\n",
      "\n",
      "Price: $1,019.99\n",
      "\n",
      "==============================================\n",
      "Item: 53\n",
      "\n",
      "Product link: https://www.wayfair.com/furniture/pdp/astoria-grand-reimann-sofa-atgd7472.html?piid=\n",
      "\n",
      "Image link: https://secure.img1-fg.wfcdn.com/im/46872983/resize-h310-w310%5Ecompr-r85/4172/41724224/Reimann++Sofa.jpg\n",
      "\n",
      "Price: $2,899.99\n",
      "\n",
      "==============================================\n",
      "Item: 54\n",
      "\n",
      "Product link: https://www.wayfair.com/furniture/pdp/house-of-hampton-mercer-velvet-chesterfield-85-rolled-arm-sofa-w000024425.html?piid=1266688230\n",
      "\n",
      "Image link: https://secure.img1-fg.wfcdn.com/im/66779431/resize-h310-w310%5Ecompr-r85/9037/90375000/Mercer+Velvet+Chesterfield+85%2522+Rolled+Arm+Sofa.jpg\n",
      "\n",
      "Price: $1,159.99\n",
      "\n",
      "==============================================\n",
      "Item: 55\n",
      "\n",
      "Product link: https://www.wayfair.com/furniture/pdp/trent-austin-design-alsager-chesterfield-sofa-tadn7896.html?piid=\n",
      "\n",
      "Image link: https://secure.img1-fg.wfcdn.com/im/47093343/resize-h310-w310%5Ecompr-r85/8628/86280604/Alsager+Chesterfield+Sofa.jpg\n",
      "\n",
      "Price: $1,139.99\n",
      "\n",
      "==============================================\n",
      "Item: 56\n",
      "\n",
      "Product link: https://www.wayfair.com/furniture/pdp/ebern-designs-cordia-genuine-leather-87-recessed-arm-sofa-bed-w002584261.html?piid=220995931\n",
      "\n",
      "Image link: https://secure.img1-fg.wfcdn.com/im/96054254/resize-h310-w310%5Ecompr-r85/1188/118844456/Cordia+Genuine+Leather+87%2522+Recessed+Arm+Sofa+Bed.jpg\n",
      "\n",
      "Price: $1,999.99\n",
      "\n",
      "==============================================\n",
      "Item: 57\n",
      "\n",
      "Product link: https://www.wayfair.com/furniture/pdp/red-barrel-studio-bima-reclining-85-pillow-top-arms-sofa-w000970775.html?piid=\n",
      "\n",
      "Image link: https://secure.img1-fg.wfcdn.com/im/09270226/resize-h310-w310%5Ecompr-r85/6554/65549338/Bima+Reclining+85%2522+Pillow+top+Arms+Sofa.jpg\n",
      "\n",
      "Price: $1,469.99\n",
      "\n",
      "==============================================\n",
      "Item: 58\n",
      "\n",
      "Product link: https://www.wayfair.com/furniture/pdp/rosdorf-park-huston-88-rolled-arms-sofa-rosp2530.html?piid=22032330&categoryid=413892&placement=1&slot=8&sponsoredid=7c012c4e12b7abab482541939a2b5408bb23348e41b2cb1463b8d1a9cea6039e&_txid=I%2BF9Ol8WkeQqaA%2F5srh8Ag%3D%3D&isB2b=0&auctionId=3fabb403-8ca5-4e98-af22-fd99230aa2a3\n",
      "\n",
      "Image link: https://secure.img1-fg.wfcdn.com/im/02315677/resize-h310-w310%5Ecompr-r85/1086/108606481/Huston+88%2522+Rolled+Arms+Sofa.jpg\n",
      "\n",
      "Price: $1,039.99\n",
      "\n",
      "==============================================\n",
      "Item: 59\n",
      "\n",
      "Product link: https://www.wayfair.com/furniture/pdp/orren-ellis-krysten-101-symmetrical-sectional-orel2336.html?piid=21874723\n",
      "\n",
      "Image link: https://secure.img1-fg.wfcdn.com/im/13634394/resize-h310-w310%5Ecompr-r85/7286/72861908/Krysten+101%2522+Symmetrical+Sectional.jpg\n",
      "\n",
      "Price: $1,079.99\n",
      "\n",
      "==============================================\n",
      "Item: 60\n",
      "\n",
      "Product link: https://www.wayfair.com/furniture/pdp/mercer41-gardea-reversible-sectional-w003179668.html?piid=884750235\n",
      "\n",
      "Image link: https://secure.img1-fg.wfcdn.com/im/32455575/resize-h310-w310%5Ecompr-r85/9071/90710612/Gardea+Reversible+Sectional.jpg\n",
      "\n",
      "Price: $1,099.99\n",
      "\n",
      "==============================================\n",
      "Item: 61\n",
      "\n",
      "Product link: https://www.wayfair.com/furniture/pdp/red-barrel-studio-samaira-112-right-hand-facing-sleeper-sectional-w000453175.html?piid=1426849994\n",
      "\n",
      "Image link: https://secure.img1-fg.wfcdn.com/im/62721746/resize-h310-w310%5Ecompr-r85/6517/65173193/Samaira+112%2522+Right+Hand+Facing+Sleeper+Sectional.jpg\n",
      "\n",
      "Price: $1,199.99\n",
      "\n",
      "==============================================\n",
      "Item: 62\n",
      "\n",
      "Product link: https://www.wayfair.com/furniture/pdp/astoria-grand-jazmin-velvet-curved-109-rolled-arm-sofa-ahst6026.html?piid=32053114\n",
      "\n",
      "Image link: https://secure.img1-fg.wfcdn.com/im/45004032/resize-h310-w310%5Ecompr-r85/5824/58240868/Jazmin+Velvet+Curved+109%2522+Rolled+Arm+Sofa.jpg\n",
      "\n",
      "Price: $3,999.99\n",
      "\n",
      "==============================================\n",
      "Item: 63\n",
      "\n",
      "Product link: https://www.wayfair.com/furniture/pdp/kelly-clarkson-home-negley-91-round-arm-sofa-bed-w002845088.html?piid=912265433\n",
      "\n",
      "Image link: https://secure.img1-fg.wfcdn.com/im/40946799/resize-h310-w310%5Ecompr-r85/1188/118856557/Negley+91%2522+Round+Arm+Sofa+Bed.jpg\n",
      "\n",
      "Price: $1,169.99\n",
      "\n",
      "==============================================\n",
      "Item: 64\n",
      "\n",
      "Product link: https://www.wayfair.com/furniture/pdp/loon-peak-liesl-reclining-loveseat-w000955710.html?piid=&categoryid=413892&placement=1&slot=9&sponsoredid=75722a9067850377aaf52ff958c74190441597d86d889730d2a0612f7230433f&_txid=I%2BF9Ol8WkeQqaA%2F5srh8Ag%3D%3D&isB2b=0&auctionId=3fabb403-8ca5-4e98-af22-fd99230aa2a3\n",
      "\n",
      "Image link: https://secure.img1-fg.wfcdn.com/im/30701715/resize-h310-w310%5Ecompr-r85/8458/84582335/Liesl+Reclining+Loveseat.jpg\n",
      "\n",
      "Price: $1,399.99\n",
      "\n",
      "==============================================\n",
      "Item: 65\n",
      "\n",
      "Product link: https://www.wayfair.com/furniture/pdp/darby-home-co-barnsdale-reclining-round-arms-sofa-dbyh1649.html?piid=\n",
      "\n",
      "Image link: https://secure.img1-fg.wfcdn.com/im/86273653/resize-h310-w310%5Ecompr-r85/1076/107600604/Barnsdale+Reclining+Round+Arms+Sofa.jpg\n",
      "\n",
      "Price: $1,239.99\n",
      "\n",
      "==============================================\n",
      "Item: 66\n",
      "\n",
      "Product link: https://www.wayfair.com/furniture/pdp/canora-grey-lambdin-genuine-leather-88-round-arm-sofa-cagy1145.html?piid=\n"
     ]
    },
    {
     "name": "stdout",
     "output_type": "stream",
     "text": [
      "\n",
      "Image link: https://secure.img1-fg.wfcdn.com/im/43342383/resize-h310-w310%5Ecompr-r85/4128/41288863/Lambdin+Genuine+Leather+88%2522+Round+Arm+Sofa.jpg\n",
      "\n",
      "Price: $1,389.99\n",
      "\n",
      "==============================================\n",
      "Item: 67\n",
      "\n",
      "Product link: https://www.wayfair.com/furniture/pdp/three-posts-whipton-84-inches-rolled-arms-sofa-w001671155.html?piid=\n",
      "\n",
      "Image link: https://secure.img1-fg.wfcdn.com/im/97702415/resize-h310-w310%5Ecompr-r85/8947/89477375/Whipton+84+inches+Rolled+Arms+Sofa.jpg\n",
      "\n",
      "Price: $1,199.99\n",
      "\n",
      "==============================================\n",
      "Item: 68\n",
      "\n",
      "Product link: https://www.wayfair.com/furniture/pdp/world-menagerie-destanee-94-rolled-arm-sofa-wldm7988.html?piid=\n",
      "\n",
      "Image link: https://secure.img1-fg.wfcdn.com/im/21917770/resize-h310-w310%5Ecompr-r85/7592/75924787/Destanee+94%2522+Rolled+Arm+Sofa.jpg\n",
      "\n",
      "Price: $1,229.99\n",
      "\n",
      "==============================================\n",
      "Item: 69\n",
      "\n",
      "Product link: https://www.wayfair.com/furniture/pdp/world-menagerie-hotchkiss-genuine-leather-84-rolled-arm-sofa-w002509746.html?piid=\n",
      "\n",
      "Image link: https://secure.img1-fg.wfcdn.com/im/50321908/resize-h310-w310%5Ecompr-r85/7892/78928988/Hotchkiss+Genuine+Leather+84%2522+Rolled+Arm+Sofa.jpg\n",
      "\n",
      "Price: $1,389.99\n",
      "\n",
      "==============================================\n",
      "Item: 70\n",
      "\n",
      "Product link: https://www.wayfair.com/furniture/pdp/loon-peak-carolina-reclining-87-round-arm-sofa-w001203687.html?piid=&categoryid=413892&placement=1&slot=10&sponsoredid=d31f554fa9943bfdf345f19f278305b31751933cf4af24a4448f1a15043ba43a&_txid=I%2BF9Ol8WkeQqaA%2F5srh8Ag%3D%3D&isB2b=0&auctionId=3fabb403-8ca5-4e98-af22-fd99230aa2a3\n",
      "\n",
      "Image link: https://secure.img1-fg.wfcdn.com/im/77794258/resize-h310-w310%5Ecompr-r85/8458/84582312/Carolina+Reclining+87%2522+Round+Arm+Sofa.jpg\n",
      "\n",
      "Price: $1,469.99\n",
      "\n",
      "==============================================\n",
      "Item: 71\n",
      "\n",
      "Product link: https://www.wayfair.com/furniture/pdp/jonathan-adler-malibu-91-sectional-xja1790.html?piid=14241465%2C14766321\n",
      "\n",
      "Image link: https://secure.img1-fg.wfcdn.com/im/76546584/resize-h310-w310%5Ecompr-r85/1584/15846481/Malibu+91%2522+Sectional.jpg\n",
      "\n",
      "Price: $5,400.00\n",
      "\n",
      "==============================================\n",
      "Item: 72\n",
      "\n",
      "Product link: https://www.wayfair.com/furniture/pdp/17-stories-stephanie-leather-chesterfield-sofa-w000309316.html?piid=1368997280\n",
      "\n",
      "Image link: https://secure.img1-fg.wfcdn.com/im/30911668/resize-h310-w310%5Ecompr-r85/5998/59980473/Stephanie+Leather+Chesterfield+Sofa.jpg\n",
      "\n",
      "Price: $3,059.99\n",
      "\n",
      "==============================================\n",
      "Item: 73\n",
      "\n",
      "Product link: https://www.wayfair.com/furniture/pdp/orren-ellis-baver-leather-sectional-ornl3887.html?piid=25953181\n",
      "\n",
      "Image link: https://secure.img1-fg.wfcdn.com/im/62847374/resize-h310-w310%5Ecompr-r85/4714/47147163/Baver+Leather+Sectional.jpg\n",
      "\n",
      "Price: $2,799.99\n",
      "\n",
      "==============================================\n",
      "Item: 74\n",
      "\n",
      "Product link: https://www.wayfair.com/furniture/pdp/latitude-run-sauer-96-rolled-arm-sofa-w001985188.html?piid=\n",
      "\n",
      "Image link: https://secure.img1-fg.wfcdn.com/im/16088037/resize-h310-w310%5Ecompr-r85/6082/60825500/Sauer+96%2522+Rolled+Arm+Sofa.jpg\n",
      "\n",
      "Price: $1,029.99\n",
      "\n",
      "==============================================\n",
      "Item: 75\n",
      "\n",
      "Product link: https://www.wayfair.com/furniture/pdp/birch-lane-heritage-carmo-83-rolled-arm-sofa-w003204255.html?piid=1146249020\n",
      "\n",
      "Image link: https://secure.img1-fg.wfcdn.com/im/86359733/resize-h310-w310%5Ecompr-r85/1226/122673267/Carmo+83%2522+Rolled+Arm+Sofa.jpg\n",
      "\n",
      "Price: $1,089.99\n",
      "\n",
      "==============================================\n",
      "Item: 76\n",
      "\n",
      "Product link: https://www.wayfair.com/furniture/pdp/magnolia-home-genuine-leather-37-rolled-arm-loveseat-mgnl1349.html?piid=&categoryid=413892&placement=1&slot=11&sponsoredid=5110a282ade37d154bc386db29e2b052a68a4536ead8fda603da0ccc1245cd6f&_txid=I%2BF9Ol8WkeQqaA%2F5srh8Ag%3D%3D&isB2b=0&auctionId=3fabb403-8ca5-4e98-af22-fd99230aa2a3\n",
      "\n",
      "Image link: https://secure.img1-fg.wfcdn.com/im/32890095/resize-h310-w310%5Ecompr-r85/1181/118102023/Genuine+Leather+37%2527%2527+Rolled+Arm+Loveseat.jpg\n",
      "\n",
      "Price: $2,359.99\n",
      "\n",
      "==============================================\n",
      "Item: 77\n",
      "\n",
      "Product link: https://www.wayfair.com/furniture/pdp/charlton-home-oak-bluffs-sofa-w000038963.html?piid=364023299\n",
      "\n",
      "Image link: https://secure.img1-fg.wfcdn.com/im/94002551/resize-h310-w310%5Ecompr-r85/1593/15933492/Oak+Bluffs+Sofa.jpg\n",
      "\n",
      "Price: $1,029.99\n",
      "\n",
      "==============================================\n",
      "Item: 78\n",
      "\n",
      "Product link: https://www.wayfair.com/furniture/pdp/brayden-studio-bickford-genuine-leather-89-square-arm-sofa-w000000425.html?piid=1003602289\n",
      "\n",
      "Image link: https://secure.img1-fg.wfcdn.com/im/62166871/resize-h310-w310%5Ecompr-r85/1070/107047207/Bickford+Genuine+Leather+89%2522+Square+Arm+Sofa.jpg\n",
      "\n",
      "Price: $1,379.99\n",
      "\n",
      "==============================================\n",
      "Item: 79\n",
      "\n",
      "Product link: https://www.wayfair.com/furniture/pdp/loon-peak-alviso-reclining-sofa-w000000065.html?piid=1140010032%2C1140010027\n",
      "\n",
      "Image link: https://secure.img1-fg.wfcdn.com/im/66279279/resize-h310-w310%5Ecompr-r85/5837/58373051/Alviso+Reclining+Sofa.jpg\n",
      "\n",
      "Price: $1,099.99\n",
      "\n",
      "==============================================\n",
      "Item: 80\n",
      "\n",
      "Product link: https://www.wayfair.com/furniture/pdp/foundstone-clara-119-reversible-modular-sectional-w001832421.html?piid=491809177\n",
      "\n",
      "Image link: https://secure.img1-fg.wfcdn.com/im/89112632/resize-h310-w310%5Ecompr-r85/1148/114865893/Clara+119%2522+Reversible+Modular+Sectional.jpg\n",
      "\n",
      "Price: $1,139.99\n",
      "\n",
      "==============================================\n",
      "Item: 81\n",
      "\n",
      "Product link: https://www.wayfair.com/furniture/pdp/red-barrel-studio-thibaud-sleeper-sofa-rdba5642.html?piid=\n",
      "\n",
      "Image link: https://secure.img1-fg.wfcdn.com/im/95682767/resize-h310-w310%5Ecompr-r85/4733/47338652/Thibaud+Sleeper+Sofa.jpg\n",
      "\n",
      "Price: $2,129.99\n",
      "\n",
      "==============================================\n",
      "Item: 82\n",
      "\n",
      "Product link: https://www.wayfair.com/furniture/pdp/world-menagerie-destanee-traditional-loveseat-wldm7920.html?piid=\n",
      "\n",
      "Image link: https://secure.img1-fg.wfcdn.com/im/19371044/resize-h310-w310%5Ecompr-r85/3708/37087424/Destanee+Traditional+Loveseat.jpg\n",
      "\n",
      "Price: $1,169.99\n",
      "\n",
      "==============================================\n",
      "Item: 83\n",
      "\n",
      "Product link: https://www.wayfair.com/furniture/pdp/winston-porter-chimel-72-square-arm-sofa-bed-w001991101.html?piid=1691504403\n",
      "\n",
      "Image link: https://secure.img1-fg.wfcdn.com/im/93768353/resize-h310-w310%5Ecompr-r85/1118/111824331/Chimel+72%2522+Square+Arm+Sofa+Bed.jpg\n",
      "\n",
      "Price: $1,059.99\n",
      "\n",
      "==============================================\n",
      "Item: 84\n",
      "\n",
      "Product link: https://www.wayfair.com/furniture/pdp/kelly-clarkson-home-negley-91-round-arm-sleeper-w002845178.html?piid=1107419542\n",
      "\n",
      "Image link: https://secure.img1-fg.wfcdn.com/im/15121803/resize-h310-w310%5Ecompr-r85/1193/119347681/Negley+91%2522+Round+Arm+Sleeper.jpg\n",
      "\n",
      "Price: $1,189.99\n",
      "\n",
      "==============================================\n",
      "Item: 85\n",
      "\n",
      "Product link: https://www.wayfair.com/furniture/pdp/astoria-grand-wentz-leather-loveseat-asga2242.html?piid=\n",
      "\n",
      "Image link: https://secure.img1-fg.wfcdn.com/im/88785111/resize-h310-w310%5Ecompr-r85/5933/59338868/Wentz+Leather+Loveseat.jpg\n",
      "\n",
      "Price: $1,899.99\n",
      "\n",
      "==============================================\n",
      "Item: 86\n",
      "\n",
      "Product link: https://www.wayfair.com/furniture/pdp/rachel-genuine-leather-91-rolled-arm-sofa-bed-cstm2396.html?piid=\n",
      "\n",
      "Image link: https://secure.img1-fg.wfcdn.com/im/64007218/resize-h310-w310%5Ecompr-r85/1167/116711666/Rachel+Genuine+Leather+91%2522+Rolled+Arm+Sofa+Bed.jpg\n",
      "\n",
      "Price: $1,499.00\n",
      "\n",
      "==============================================\n",
      "Item: 87\n",
      "\n",
      "Product link: https://www.wayfair.com/furniture/pdp/eichholtz-messina-curved-71-flared-arm-sofa-eitz2267.html?piid=38223559\n",
      "\n",
      "Image link: https://secure.img1-fg.wfcdn.com/im/98401820/resize-h310-w310%5Ecompr-r85/7186/71866980/Messina+Curved+71%2522+Flared+Arm+Sofa.jpg\n",
      "\n",
      "Price: $4,199.99\n",
      "\n",
      "==============================================\n",
      "Item: 88\n",
      "\n",
      "Product link: https://www.wayfair.com/furniture/pdp/fleur-de-lis-living-tobin-sofa-ahst6030.html?piid=\n",
      "\n",
      "Image link: https://secure.img1-fg.wfcdn.com/im/12723956/resize-h310-w310%5Ecompr-r85/5824/58248592/Tobin+Sofa.jpg\n",
      "\n",
      "Price: $2,539.99\n",
      "\n",
      "==============================================\n",
      "Item: 89\n",
      "\n",
      "Product link: https://www.wayfair.com/furniture/pdp/kelly-clarkson-home-negley-80-square-arm-sofa-bed-w002844354.html?piid=1475912181\n",
      "\n",
      "Image link: https://secure.img1-fg.wfcdn.com/im/62700546/resize-h310-w310%5Ecompr-r85/1188/118859272/Negley+80%2522+Square+Arm+Sofa+Bed.jpg\n"
     ]
    },
    {
     "name": "stdout",
     "output_type": "stream",
     "text": [
      "\n",
      "Price: $1,039.99\n",
      "\n",
      "==============================================\n",
      "Item: 90\n",
      "\n",
      "Product link: https://www.wayfair.com/furniture/pdp/union-rustic-simonne-81-pillow-top-arm-sofa-bed-unrs3005.html?piid=49700284\n",
      "\n",
      "Image link: https://secure.img1-fg.wfcdn.com/im/44090540/resize-h310-w310%5Ecompr-r85/1185/118576120/Simonne+81%2522+Pillow+Top+Arm+Sofa+Bed.jpg\n",
      "\n",
      "Price: $1,079.99\n",
      "\n",
      "==============================================\n",
      "Item: 91\n",
      "\n",
      "Product link: https://www.wayfair.com/furniture/pdp/birch-lane-heritage-lea-72-recessed-arm-sofa-bed-w000714669.html?piid=927384657\n",
      "\n",
      "Image link: https://secure.img1-fg.wfcdn.com/im/04411855/resize-h310-w310%5Ecompr-r85/6969/69693072/L%25E9a+72%2522+Recessed+Arm+Sofa+Bed.jpg\n",
      "\n",
      "Price: $1,049.99\n",
      "\n",
      "==============================================\n",
      "Item: 92\n",
      "\n",
      "Product link: https://www.wayfair.com/furniture/pdp/birch-lane-heritage-haring-96-sectional-w000673755.html?piid=1568830295%2C1568828594\n",
      "\n",
      "Image link: https://secure.img1-fg.wfcdn.com/im/65369825/resize-h310-w310%5Ecompr-r85/6765/67650905/Haring+96%2527%2527+Sectional.jpg\n",
      "\n",
      "Price: $1,259.99\n",
      "\n",
      "==============================================\n",
      "Lengths of lists:  92 92 92\n",
      "Number of products on Page 1: 92\n",
      "\n"
     ]
    },
    {
     "name": "stderr",
     "output_type": "stream",
     "text": [
      "\n",
      "92it [00:00, ?it/s]\n",
      " 25%|█████████████████████                                                               | 1/4 [00:19<00:58, 19.33s/it]"
     ]
    },
    {
     "name": "stdout",
     "output_type": "stream",
     "text": [
      "Number of products scraped from the page:  96\n",
      "Item: 1\n",
      "\n",
      "Product link: https://www.wayfair.com/furniture/pdp/orren-ellis-eduarte-882-square-arm-sofa-w003337003.html?piid=666455313\n",
      "\n",
      "Image link: https://secure.img1-fg.wfcdn.com/im/26611699/resize-h310-w310%5Ecompr-r85/1222/122262700/Eduarte+88.2%2527%2527+Square+Arm+Sofa.jpg\n",
      "\n",
      "Price: $1,899.99\n",
      "\n",
      "==============================================\n",
      "Item: 2\n",
      "\n",
      "Product link: https://www.wayfair.com/furniture/pdp/magnolia-home-genuine-leather-37-rolled-arm-loveseat-mgnl1349.html?piid=&categoryid=413892&placement=3&slot=0&sponsoredid=71ee9844b6ab63d422098b6f5d51dfd0b83d6f75d8c68c36a392dc4e5e8dd87a&_txid=I%2BF9Ol8WkfddSRANopcLAg%3D%3D&isB2b=0&auctionId=71db227d-674e-4fa3-a96f-0f8832ca899a\n",
      "\n",
      "Image link: https://secure.img1-fg.wfcdn.com/im/32890095/resize-h310-w310%5Ecompr-r85/1181/118102023/Genuine+Leather+37%2527%2527+Rolled+Arm+Loveseat.jpg\n",
      "\n",
      "Price: $2,359.99\n",
      "\n",
      "==============================================\n",
      "Item: 3\n",
      "\n",
      "Product link: https://www.wayfair.com/furniture/pdp/rosdorf-park-caiden-velvet-sofa-w8-pillows-w001377985.html?piid=\n",
      "\n",
      "Image link: https://secure.img1-fg.wfcdn.com/im/06995085/resize-h310-w310%5Ecompr-r85/1194/119478363/Caiden+Velvet+Sofa+w/8+Pillows.jpg\n",
      "\n",
      "Price: $6,299.99\n",
      "\n",
      "==============================================\n",
      "Item: 4\n",
      "\n",
      "Product link: https://www.wayfair.com/furniture/pdp/blu-dot-sunday-82-sofa-abfr1054.html?piid=31790025\n",
      "\n",
      "Image link: https://secure.img1-fg.wfcdn.com/im/01309034/resize-h310-w310%5Ecompr-r85/1130/113019886/Sunday+82%2522+Sofa.jpg\n",
      "\n",
      "Price: $2,899.00\n",
      "\n",
      "==============================================\n",
      "Item: 5\n",
      "\n",
      "Product link: https://www.wayfair.com/furniture/pdp/loon-peak-gabrielle-86-rolled-arm-sofa-w001612250.html?piid=\n",
      "\n",
      "Image link: https://secure.img1-fg.wfcdn.com/im/71797491/resize-h310-w310%5Ecompr-r85/7351/73516819/Gabrielle+86%2522+Rolled+Arm+Sofa.jpg\n",
      "\n",
      "Price: $2,899.99\n",
      "\n",
      "==============================================\n",
      "Item: 6\n",
      "\n",
      "Product link: https://www.wayfair.com/furniture/pdp/millwood-pines-stroup-genuine-leather-65-square-arm-loveseat-w003141674.html?piid=2019535731\n",
      "\n",
      "Image link: https://secure.img1-fg.wfcdn.com/im/11601429/resize-h310-w310%5Ecompr-r85/1159/115963058/Stroup+Genuine+Leather+65%2522+Square+Arm+Loveseat.jpg\n",
      "\n",
      "Price: $1,069.99\n",
      "\n",
      "==============================================\n",
      "Item: 7\n",
      "\n",
      "Product link: https://www.wayfair.com/furniture/pdp/latitude-run-adelin-genuine-leather-reclining-595-rolled-arm-loveseat-w001843175.html?piid=802990049\n",
      "\n",
      "Image link: https://secure.img1-fg.wfcdn.com/im/37228524/resize-h310-w310%5Ecompr-r85/1161/116109579/Adelin+Genuine+Leather+Reclining+59.5%2527%2527+Rolled+Arm+Loveseat.jpg\n",
      "\n",
      "Price: $1,469.99\n",
      "\n",
      "==============================================\n",
      "Item: 8\n",
      "\n",
      "Product link: https://www.wayfair.com/furniture/pdp/corrigan-studio-renae-genuine-leather-89-tuxedo-arm-sofa-w000360190.html?piid=2064628216&categoryid=413892&placement=3&slot=1&sponsoredid=4bf2b0985e0b8f16e05fd5f7beb35496ab6b9283c91585395b2a8b721508f113&_txid=I%2BF9Ol8WkfddSRANopcLAg%3D%3D&isB2b=0&auctionId=71db227d-674e-4fa3-a96f-0f8832ca899a\n",
      "\n",
      "Image link: https://secure.img1-fg.wfcdn.com/im/24927884/resize-h310-w310%5Ecompr-r85/6687/66875867/Renae+Genuine+Leather+89%2522+Tuxedo+Arm+Sofa.jpg\n",
      "\n",
      "Price: $2,539.99\n",
      "\n",
      "==============================================\n",
      "Error\n",
      "Error\n",
      "Error\n",
      "Error\n",
      "Item: 9\n",
      "\n",
      "Product link: https://www.wayfair.com/furniture/pdp/rosdorf-park-keomi-leather-71-rolled-arms-loveseat-rosp2234.html?piid=\n",
      "\n",
      "Image link: https://secure.img1-fg.wfcdn.com/im/34572897/resize-h310-w310%5Ecompr-r85/7856/78563919/Keomi+Leather+71%2522+Rolled+Arms+Loveseat.jpg\n",
      "\n",
      "Price: $1,879.99\n",
      "\n",
      "==============================================\n",
      "Item: 10\n",
      "\n",
      "Product link: https://www.wayfair.com/furniture/pdp/charlton-home-kreitzer-91-rolled-arm-sofa-w002150080.html?piid=941600812&categoryid=413892&placement=3&slot=2&sponsoredid=02fdad6685f19beeecb73adea9db50887c2c57337c2e41b0a566893df6686d5d&_txid=I%2BF9Ol8WkfddSRANopcLAg%3D%3D&isB2b=0&auctionId=71db227d-674e-4fa3-a96f-0f8832ca899a\n",
      "\n",
      "Image link: https://secure.img1-fg.wfcdn.com/im/95741305/resize-h310-w310%5Ecompr-r85/9523/95236032/Kreitzer+91%2522+Rolled+Arm+Sofa.jpg\n",
      "\n",
      "Price: $1,199.99\n",
      "\n",
      "==============================================\n",
      "Item: 11\n",
      "\n",
      "Product link: https://www.wayfair.com/furniture/pdp/latitude-run-adelie-genuine-leather-reclining-805-rolled-arm-sofa-w001430741.html?piid=4080522\n",
      "\n",
      "Image link: https://secure.img1-fg.wfcdn.com/im/14526698/resize-h310-w310%5Ecompr-r85/1161/116109577/Adelie+Genuine+Leather+Reclining+80.5%2522+Rolled+Arm+Sofa.jpg\n",
      "\n",
      "Price: $1,699.99\n",
      "\n",
      "==============================================\n",
      "Item: 12\n",
      "\n",
      "Product link: https://www.wayfair.com/furniture/pdp/corrigan-studio-stivers-91-flared-arm-sofa-w002928434.html?piid=\n",
      "\n",
      "Image link: https://secure.img1-fg.wfcdn.com/im/62318310/resize-h310-w310%5Ecompr-r85/7265/72652580/Stivers+91%2527%2527+Flared+Arm+Sofa.jpg\n",
      "\n",
      "Price: $1,489.99\n",
      "\n",
      "==============================================\n",
      "Item: 13\n",
      "\n",
      "Product link: https://www.wayfair.com/furniture/pdp/canora-grey-broderick-sofa-w000435643.html?piid=\n",
      "\n",
      "Image link: https://secure.img1-fg.wfcdn.com/im/28117768/resize-h310-w310%5Ecompr-r85/7992/79922619/Broderick+Sofa.jpg\n",
      "\n",
      "Price: $1,479.99\n",
      "\n",
      "==============================================\n",
      "Item: 14\n",
      "\n",
      "Product link: https://www.wayfair.com/furniture/pdp/red-barrel-studio-pearlotta-velvet-66-recessed-arm-loveseat-w003046052.html?piid=\n",
      "\n",
      "Image link: https://secure.img1-fg.wfcdn.com/im/34065302/resize-h310-w310%5Ecompr-r85/1128/112875588/Pearlotta+Velvet+66%2522+Recessed+Arm+Loveseat.jpg\n",
      "\n",
      "Price: $1,229.99\n",
      "\n",
      "==============================================\n",
      "Item: 15\n",
      "\n",
      "Product link: https://www.wayfair.com/furniture/pdp/everly-quinn-landwehr-loveseat-eyqn7132.html?piid=\n",
      "\n",
      "Image link: https://secure.img1-fg.wfcdn.com/im/85945841/resize-h310-w310%5Ecompr-r85/1053/105317713/Landwehr+Loveseat.jpg\n",
      "\n",
      "Price: $1,379.99\n",
      "\n",
      "==============================================\n",
      "Item: 16\n",
      "\n",
      "Product link: https://www.wayfair.com/furniture/pdp/gracie-oaks-goldstein-81-tuxedo-arm-sofa-w000087861.html?piid=1253785125&categoryid=413892&placement=3&slot=3&sponsoredid=091662a105b4cf4c83796aa1457db1160cff18a57af5eed7064a2380913d1d60&_txid=I%2BF9Ol8WkfddSRANopcLAg%3D%3D&isB2b=0&auctionId=71db227d-674e-4fa3-a96f-0f8832ca899a\n",
      "\n",
      "Image link: https://secure.img1-fg.wfcdn.com/im/62787701/resize-h310-w310%5Ecompr-r85/9523/95235738/Goldstein+81%2522+Tuxedo+Arm+Sofa.jpg\n",
      "\n",
      "Price: $1,549.99\n",
      "\n",
      "==============================================\n",
      "Item: 17\n",
      "\n",
      "Product link: https://www.wayfair.com/furniture/pdp/langley-street-montecito-845-square-arm-sofa-lgly4861.html?piid=20549496\n",
      "\n",
      "Image link: https://secure.img1-fg.wfcdn.com/im/58765796/resize-h310-w310%5Ecompr-r85/6849/68495559/Montecito+84.5%2522+Square+Arm+Sofa.jpg\n",
      "\n",
      "Price: $1,039.99\n",
      "\n",
      "==============================================\n",
      "Item: 18\n",
      "\n",
      "Product link: https://www.wayfair.com/furniture/pdp/everly-quinn-kolby-velvet-channel-quilted-turned-leg-sofa-eyqn1908.html?piid=21941816\n",
      "\n",
      "Image link: https://secure.img1-fg.wfcdn.com/im/55336777/resize-h310-w310%5Ecompr-r85/9114/91146421/Kolby+Velvet+Channel+Quilted+Turned+Leg+Sofa.jpg\n",
      "\n",
      "Price: $1,029.99\n",
      "\n",
      "==============================================\n",
      "Item: 19\n",
      "\n",
      "Product link: https://www.wayfair.com/furniture/pdp/one-allium-way-bodil-loveseat-w002971939.html?piid=\n",
      "\n",
      "Image link: https://secure.img1-fg.wfcdn.com/im/74320346/resize-h310-w310%5Ecompr-r85/2503/25039716/Bodil+Loveseat.jpg\n",
      "\n",
      "Price: $1,639.99\n",
      "\n",
      "==============================================\n",
      "Item: 20\n",
      "\n",
      "Product link: https://www.wayfair.com/furniture/pdp/union-rustic-taliaferro-loveseat-w002439106.html?piid=820134837\n",
      "\n",
      "Image link: https://secure.img1-fg.wfcdn.com/im/03264647/resize-h310-w310%5Ecompr-r85/9630/96305155/Taliaferro+Loveseat.jpg\n",
      "\n",
      "Price: $1,069.99\n",
      "\n",
      "==============================================\n",
      "Item: 21\n",
      "\n",
      "Product link: https://www.wayfair.com/furniture/pdp/loon-peak-agnew-sofa-w000021068.html?piid=1878925148\n",
      "\n",
      "Image link: https://secure.img1-fg.wfcdn.com/im/30525743/resize-h310-w310%5Ecompr-r85/1195/119530452/Agnew+Sofa.jpg\n",
      "\n",
      "Price: $1,059.99\n",
      "\n",
      "==============================================\n",
      "Item: 22\n",
      "\n",
      "Product link: https://www.wayfair.com/furniture/pdp/latitude-run-negley-6775-flared-arm-sofa-w003185592.html?piid=377453244%2C377453245%2C377453213&categoryid=413892&placement=3&slot=4&sponsoredid=579ea1b9ff285b4ba4a5fc8bfa97af81d2be91fbb9350272578f178c247efbea&_txid=I%2BF9Ol8WkfddSRANopcLAg%3D%3D&isB2b=0&auctionId=71db227d-674e-4fa3-a96f-0f8832ca899a\n"
     ]
    },
    {
     "name": "stdout",
     "output_type": "stream",
     "text": [
      "\n",
      "Image link: https://secure.img1-fg.wfcdn.com/im/26265649/resize-h310-w310%5Ecompr-r85/1161/116127589/Negley+67.75%2522+Flared+Arm+Sofa.jpg\n",
      "\n",
      "Price: $1,089.99\n",
      "\n",
      "==============================================\n",
      "Item: 23\n",
      "\n",
      "Product link: https://www.wayfair.com/furniture/pdp/three-posts-stowmarket-tufted-chesterfield-sofa-w001667950.html?piid=2084268745\n",
      "\n",
      "Image link: https://secure.img1-fg.wfcdn.com/im/11007588/resize-h310-w310%5Ecompr-r85/2969/29693059/Stowmarket+Tufted+Chesterfield+Sofa.jpg\n",
      "\n",
      "Price: $1,039.99\n",
      "\n",
      "==============================================\n",
      "Item: 24\n",
      "\n",
      "Product link: https://www.wayfair.com/furniture/pdp/eichholtz-taylor-sofa-eitz3452.html?piid=\n",
      "\n",
      "Image link: https://secure.img1-fg.wfcdn.com/im/53003126/resize-h310-w310%5Ecompr-r85/1019/101965755/Taylor+Sofa.jpg\n",
      "\n",
      "Price: $8,399.99\n",
      "\n",
      "==============================================\n",
      "Item: 25\n",
      "\n",
      "Product link: https://www.wayfair.com/furniture/pdp/world-menagerie-mcdonald-genuine-leather-96-square-arm-sofa-wrmg3061.html?piid=\n",
      "\n",
      "Image link: https://secure.img1-fg.wfcdn.com/im/82379610/resize-h310-w310%5Ecompr-r85/4020/40206375/Mcdonald+Genuine+Leather+96%2522+Square+Arm+Sofa.jpg\n",
      "\n",
      "Price: $2,299.99\n",
      "\n",
      "==============================================\n",
      "Item: 26\n",
      "\n",
      "Product link: https://www.wayfair.com/furniture/pdp/brayden-studio-rensel-leather-78-flared-arm-sofa-w002663265.html?piid=\n",
      "\n",
      "Image link: https://secure.img1-fg.wfcdn.com/im/97124911/resize-h310-w310%5Ecompr-r85/9606/96068102/Rensel+Leather+78%2522+Flared+Arm+Sofa.jpg\n",
      "\n",
      "Price: $1,199.99\n",
      "\n",
      "==============================================\n",
      "Item: 27\n",
      "\n",
      "Product link: https://www.wayfair.com/furniture/pdp/darby-home-co-barnabas-leather-chesterfield-90-rolled-arms-sofa-w000382617.html?piid=\n",
      "\n",
      "Image link: https://secure.img1-fg.wfcdn.com/im/95794096/resize-h310-w310%5Ecompr-r85/7434/74340342/Barnabas+Leather+Chesterfield+90%2522+Rolled+Arms+Sofa.jpg\n",
      "\n",
      "Price: $1,579.99\n",
      "\n",
      "==============================================\n",
      "Item: 28\n",
      "\n",
      "Product link: https://www.wayfair.com/furniture/pdp/corrigan-studio-shackelford-velvet-88-square-arms-sofa-w002842118.html?piid=749816186&categoryid=413892&placement=3&slot=5&sponsoredid=b0369321295df07236704e5a24540ce7793096ed005c75575be443b5033cb5aa&_txid=I%2BF9Ol8WkfddSRANopcLAg%3D%3D&isB2b=0&auctionId=71db227d-674e-4fa3-a96f-0f8832ca899a\n",
      "\n",
      "Image link: https://secure.img1-fg.wfcdn.com/im/83265453/resize-h310-w310%5Ecompr-r85/1079/107986850/Shackelford+Velvet+88%2522+Square+Arms+Sofa.jpg\n",
      "\n",
      "Price: $1,599.99\n",
      "\n",
      "==============================================\n",
      "Item: 29\n",
      "\n",
      "Product link: https://www.wayfair.com/furniture/pdp/blu-dot-sunday-u-shaped-167-symmetrical-sectional-sofa-abfr1055.html?piid=31790029\n",
      "\n",
      "Image link: https://secure.img1-fg.wfcdn.com/im/03360606/resize-h310-w310%5Ecompr-r85/5780/57808087/Sunday+U-Shaped+167%2522+Symmetrical+Sectional+Sofa.jpg\n",
      "\n",
      "Price: $8,297.00\n",
      "\n",
      "==============================================\n",
      "Item: 30\n",
      "\n",
      "Product link: https://www.wayfair.com/furniture/pdp/winston-porter-meghrig-95-rolled-arm-sofa-w002928533.html?piid=\n",
      "\n",
      "Image link: https://secure.img1-fg.wfcdn.com/im/97470323/resize-h310-w310%5Ecompr-r85/1096/109614256/Meghrig+95%2527%2527+Rolled+Arm+Sofa.jpg\n",
      "\n",
      "Price: $1,119.99\n",
      "\n",
      "==============================================\n",
      "Item: 31\n",
      "\n",
      "Product link: https://www.wayfair.com/furniture/pdp/rosdorf-park-marlon-chesterfield-sofa-rosp4118.html?piid=22948421\n",
      "\n",
      "Image link: https://secure.img1-fg.wfcdn.com/im/53711823/resize-h310-w310%5Ecompr-r85/4161/41610778/Marlon+Chesterfield+Sofa.jpg\n",
      "\n",
      "Price: $1,139.99\n",
      "\n",
      "==============================================\n",
      "Item: 32\n",
      "\n",
      "Product link: https://www.wayfair.com/furniture/pdp/red-barrel-studio-villebois-80-flared-arm-sofa-w003217136.html?piid=\n",
      "\n",
      "Image link: https://secure.img1-fg.wfcdn.com/im/16470418/resize-h310-w310%5Ecompr-r85/1192/119289597/Villebois+80%2527%2527+Flared+Arm+Sofa.jpg\n",
      "\n",
      "Price: $1,369.99\n",
      "\n",
      "==============================================\n",
      "Item: 33\n",
      "\n",
      "Product link: https://www.wayfair.com/furniture/pdp/house-of-hampton-tabitha-chesterfield-sofa-hohn5608.html?piid=16954007\n",
      "\n",
      "Image link: https://secure.img1-fg.wfcdn.com/im/23101590/resize-h310-w310%5Ecompr-r85/3272/32723387/Tabitha+Chesterfield+Sofa.jpg\n",
      "\n",
      "Price: $1,149.99\n",
      "\n",
      "==============================================\n",
      "Item: 34\n",
      "\n",
      "Product link: https://www.wayfair.com/furniture/pdp/brayden-studio-uriel-7425-square-arm-sofa-w000650264.html?piid=130292098\n",
      "\n",
      "Image link: https://secure.img1-fg.wfcdn.com/im/32946746/resize-h310-w310%5Ecompr-r85/8750/87508432/Uriel+74.25%2522+Square+Arm+Sofa.jpg\n",
      "\n",
      "Price: $1,499.99\n",
      "\n",
      "==============================================\n",
      "Item: 35\n",
      "\n",
      "Product link: https://www.wayfair.com/furniture/pdp/corrigan-studio-annmarie-recessed-arm-83-sofa-w001190774.html?piid=1196925287\n",
      "\n",
      "Image link: https://secure.img1-fg.wfcdn.com/im/34449572/resize-h310-w310%5Ecompr-r85/1208/120873091/Annmarie+Recessed+Arm+83%2522+Sofa.jpg\n",
      "\n",
      "Price: $1,029.99\n",
      "\n",
      "==============================================\n",
      "Item: 36\n",
      "\n",
      "Product link: https://www.wayfair.com/commercial-business-furniture/pdp/brayden-studio-herr-sofa-w002065348.html?piid=1641321541\n",
      "\n",
      "Image link: https://secure.img1-fg.wfcdn.com/im/81937222/resize-h310-w310%5Ecompr-r85/1205/120598365/Herr+Sofa.jpg\n",
      "\n",
      "Price: $1,019.99\n",
      "\n",
      "==============================================\n",
      "Item: 37\n",
      "\n",
      "Product link: https://www.wayfair.com/furniture/pdp/glory-furniture-davina-curved-loveseat-jldq2606.html?piid=40254882\n",
      "\n",
      "Image link: https://secure.img1-fg.wfcdn.com/im/33392489/resize-h310-w310%5Ecompr-r85/8287/82875048/Davina+Curved+Loveseat.jpg\n",
      "\n",
      "Price: $1,089.99\n",
      "\n",
      "==============================================\n",
      "Item: 38\n",
      "\n",
      "Product link: https://www.wayfair.com/furniture/pdp/south-cone-home-calais-velvet-108-square-arm-sofa-sout1115.html?piid=14260784\n",
      "\n",
      "Image link: https://secure.img1-fg.wfcdn.com/im/73004298/resize-h310-w310%5Ecompr-r85/2810/28104169/Calais+Velvet+108%2522+Square+Arm+Sofa.jpg\n",
      "\n",
      "Price: $2,079.99\n",
      "\n",
      "==============================================\n",
      "Item: 39\n",
      "\n",
      "Product link: https://www.wayfair.com/furniture/pdp/orren-ellis-lando-velvet-84-tuxedo-arm-sofa-orne3704.html?piid=23593030\n",
      "\n",
      "Image link: https://secure.img1-fg.wfcdn.com/im/75781716/resize-h310-w310%5Ecompr-r85/4551/45516323/Lando+Velvet+84%2522+Tuxedo+Arm+Sofa.jpg\n",
      "\n",
      "Price: $1,119.99\n",
      "\n",
      "==============================================\n",
      "Item: 40\n",
      "\n",
      "Product link: https://www.wayfair.com/furniture/pdp/corrigan-studio-arsenault-83-recessed-arm-sofa-w001449718.html?piid=\n",
      "\n",
      "Image link: https://secure.img1-fg.wfcdn.com/im/56986261/resize-h310-w310%5Ecompr-r85/3832/38327711/Arsenault+83%2522+Recessed+Arm+Sofa.jpg\n",
      "\n",
      "Price: $1,979.99\n",
      "\n",
      "==============================================\n",
      "Item: 41\n",
      "\n",
      "Product link: https://www.wayfair.com/furniture/pdp/red-barrel-studio-dann-leather-sofa-w002051012.html?piid=99705264\n",
      "\n",
      "Image link: https://secure.img1-fg.wfcdn.com/im/82958016/resize-h310-w310%5Ecompr-r85/3192/31925195/Dann+Leather+Sofa.jpg\n",
      "\n",
      "Price: $1,499.99\n",
      "\n",
      "==============================================\n",
      "Item: 42\n",
      "\n",
      "Product link: https://www.wayfair.com/furniture/pdp/red-barrel-studio-chiang-sofa-w001347395.html?piid=1837526535\n",
      "\n",
      "Image link: https://secure.img1-fg.wfcdn.com/im/50796064/resize-h310-w310%5Ecompr-r85/4849/48492701/Chiang+Sofa.jpg\n",
      "\n",
      "Price: $1,399.99\n",
      "\n",
      "==============================================\n",
      "Item: 43\n",
      "\n",
      "Product link: https://www.wayfair.com/furniture/pdp/brayden-studio-parmer-genuine-leather-96-square-arm-sofa-w000097614.html?piid=\n",
      "\n",
      "Image link: https://secure.img1-fg.wfcdn.com/im/31658835/resize-h310-w310%5Ecompr-r85/1130/113045068/Parmer+Genuine+Leather+96%2522+Square+Arm+Sofa.jpg\n",
      "\n",
      "Price: $3,399.99\n",
      "\n",
      "==============================================\n",
      "Item: 44\n",
      "\n",
      "Product link: https://www.wayfair.com/furniture/pdp/wrought-studio-jaggers-velvet-84-square-arm-sofa-w001824597.html?piid=1505570549\n",
      "\n",
      "Image link: https://secure.img1-fg.wfcdn.com/im/39013125/resize-h310-w310%5Ecompr-r85/4020/40204064/Jaggers+Velvet+84%2522+Square+Arm+Sofa.jpg\n",
      "\n",
      "Price: $1,319.99\n",
      "\n",
      "==============================================\n",
      "Item: 45\n",
      "\n",
      "Product link: https://www.wayfair.com/furniture/pdp/dcor-design-fairfax-96-rolled-arm-sofa-dcrn2976.html?piid=\n",
      "\n",
      "Image link: https://secure.img1-fg.wfcdn.com/im/89693653/resize-h310-w310%5Ecompr-r85/2501/25013014/Fairfax+96%2522+Rolled+Arm+Sofa.jpg\n",
      "\n",
      "Price: $1,019.99\n",
      "\n"
     ]
    },
    {
     "name": "stdout",
     "output_type": "stream",
     "text": [
      "==============================================\n",
      "Item: 46\n",
      "\n",
      "Product link: https://www.wayfair.com/furniture/pdp/foundry-select-kate-velvet-885-square-arm-sofa-w000789410.html?piid=1636236195&categoryid=413892&placement=3&slot=6&sponsoredid=426785bb2ff6ffc0527c3df32523e0deb3e7cb1a9141b5ac8edddbd78361d3df&_txid=I%2BF9Ol8WkfddSRANopcLAg%3D%3D&isB2b=0&auctionId=71db227d-674e-4fa3-a96f-0f8832ca899a\n",
      "\n",
      "Image link: https://secure.img1-fg.wfcdn.com/im/87792626/resize-h310-w310%5Ecompr-r85/9064/90641966/Kate+Velvet+88.5%2522+Square+Arm+Sofa.jpg\n",
      "\n",
      "Price: $1,699.99\n",
      "\n",
      "==============================================\n",
      "Item: 47\n",
      "\n",
      "Product link: https://www.wayfair.com/furniture/pdp/corrigan-studio-brickey-93-recessed-arm-sofa-w000087527.html?piid=1832294367\n",
      "\n",
      "Image link: https://secure.img1-fg.wfcdn.com/im/56111083/resize-h310-w310%5Ecompr-r85/1193/119361661/Brickey+93%2522+Recessed+Arm+Sofa.jpg\n",
      "\n",
      "Price: $1,029.99\n",
      "\n",
      "==============================================\n",
      "Item: 48\n",
      "\n",
      "Product link: https://www.wayfair.com/furniture/pdp/orren-ellis-galatia-86-pillow-top-arm-sofa-w003266834.html?piid=1560620878\n",
      "\n",
      "Image link: https://secure.img1-fg.wfcdn.com/im/70989546/resize-h310-w310%5Ecompr-r85/1210/121069334/Galatia+86%2522+Pillow+Top+Arm+Sofa.jpg\n",
      "\n",
      "Price: $1,949.99\n",
      "\n",
      "==============================================\n",
      "Item: 49\n",
      "\n",
      "Product link: https://www.wayfair.com/furniture/pdp/wrought-studio-ballina-85-recessed-arms-sofa-w001007365.html?piid=402375689\n",
      "\n",
      "Image link: https://secure.img1-fg.wfcdn.com/im/45636785/resize-h310-w310%5Ecompr-r85/6854/68547301/Ballina+85%2522+Recessed+Arms+Sofa.jpg\n",
      "\n",
      "Price: $1,049.99\n",
      "\n",
      "==============================================\n",
      "Item: 50\n",
      "\n",
      "Product link: https://www.wayfair.com/furniture/pdp/rosdorf-park-leaman-91-flared-arm-sofa-rspk1026.html?piid=\n",
      "\n",
      "Image link: https://secure.img1-fg.wfcdn.com/im/00200013/resize-h310-w310%5Ecompr-r85/5269/52693362/Leaman+91%2522+Flared+Arm+Sofa.jpg\n",
      "\n",
      "Price: $1,779.99\n",
      "\n",
      "==============================================\n",
      "Item: 51\n",
      "\n",
      "Product link: https://www.wayfair.com/furniture/pdp/winston-porter-ozell-leather-reclining-87-inches-pillow-top-arms-sofa-w002501026.html?piid=\n",
      "\n",
      "Image link: https://secure.img1-fg.wfcdn.com/im/20054357/resize-h310-w310%5Ecompr-r85/9926/99261166/Ozell+Leather+Reclining+87+inches+Pillow+Top+Arms+Sofa.jpg\n",
      "\n",
      "Price: $1,359.99\n",
      "\n",
      "==============================================\n",
      "Item: 52\n",
      "\n",
      "Product link: https://www.wayfair.com/furniture/pdp/latitude-run-negley-775-flared-arm-sofa-w003185504.html?piid=607253657%2C607253656%2C607253637&categoryid=413892&placement=3&slot=7&sponsoredid=35a7d8e65aafef182cef507c22673eb06cdcb28ffe247990052cbb36d0c886d8&_txid=I%2BF9Ol8WkfddSRANopcLAg%3D%3D&isB2b=0&auctionId=71db227d-674e-4fa3-a96f-0f8832ca899a\n",
      "\n",
      "Image link: https://secure.img1-fg.wfcdn.com/im/77849314/resize-h310-w310%5Ecompr-r85/1161/116129292/Negley+77.5%2522+Flared+Arm+Sofa.jpg\n",
      "\n",
      "Price: $1,199.99\n",
      "\n",
      "==============================================\n",
      "Item: 53\n",
      "\n",
      "Product link: https://www.wayfair.com/furniture/pdp/alyson-genuine-leather-92-flared-arm-sofa-w001666550.html?piid=1763733614\n",
      "\n",
      "Image link: https://secure.img1-fg.wfcdn.com/im/28723191/resize-h310-w310%5Ecompr-r85/1182/118266019/Alyson+Genuine+Leather+92%2522+Flared+Arm+Sofa.jpg\n",
      "\n",
      "Price: $1,239.99\n",
      "\n",
      "==============================================\n",
      "Item: 54\n",
      "\n",
      "Product link: https://www.wayfair.com/furniture/pdp/catnapper-tosh-reclining-85-pillow-top-arms-sofa-pv10043.html?piid=48124825\n",
      "\n",
      "Image link: https://secure.img1-fg.wfcdn.com/im/49271320/resize-h310-w310%5Ecompr-r85/1064/106467607/Tosh+Reclining+85%2527%2527+Pillow+Top+Arms+Sofa.jpg\n",
      "\n",
      "Price: $1,099.99\n",
      "\n",
      "==============================================\n",
      "Item: 55\n",
      "\n",
      "Product link: https://www.wayfair.com/furniture/pdp/brayden-studio-menezes-85-tuxedo-arm-sofa-w002934745.html?piid=\n",
      "\n",
      "Image link: https://secure.img1-fg.wfcdn.com/im/11231547/resize-h310-w310%5Ecompr-r85/1093/109394853/Menezes+85%2527%2527+Tuxedo+Arm+Sofa.jpg\n",
      "\n",
      "Price: $1,079.99\n",
      "\n",
      "==============================================\n",
      "Item: 56\n",
      "\n",
      "Product link: https://www.wayfair.com/furniture/pdp/mercer41-demott-sofa-w001612602.html?piid=136895119\n",
      "\n",
      "Image link: https://secure.img1-fg.wfcdn.com/im/77036251/resize-h310-w310%5Ecompr-r85/7441/74417672/Demott+Sofa.jpg\n",
      "\n",
      "Price: $1,079.99\n",
      "\n",
      "==============================================\n",
      "Item: 57\n",
      "\n",
      "Product link: https://www.wayfair.com/furniture/pdp/brayden-studio-waskom-sofa-w000414120.html?piid=464953667\n",
      "\n",
      "Image link: https://secure.img1-fg.wfcdn.com/im/80124946/resize-h310-w310%5Ecompr-r85/6511/65112015/Waskom+Sofa.jpg\n",
      "\n",
      "Price: $1,569.99\n",
      "\n",
      "==============================================\n",
      "Item: 58\n",
      "\n",
      "Product link: https://www.wayfair.com/furniture/pdp/foundry-select-omro-genuine-leather-standard-85-square-arm-sofa-w001354295.html?piid=20194132&categoryid=413892&placement=3&slot=8&sponsoredid=aefc3115d4d7e344f75f836d20a2cbede9cd37e3fdee9c64a2c1f5933dfdbd3c&_txid=I%2BF9Ol8WkfddSRANopcLAg%3D%3D&isB2b=0&auctionId=71db227d-674e-4fa3-a96f-0f8832ca899a\n",
      "\n",
      "Image link: https://secure.img1-fg.wfcdn.com/im/02356918/resize-h310-w310%5Ecompr-r85/8492/84925669/Omro+Genuine+Leather+Standard+85%2522+Square+Arm+Sofa.jpg\n",
      "\n",
      "Price: $2,699.99\n",
      "\n",
      "==============================================\n",
      "Item: 59\n",
      "\n",
      "Product link: https://www.wayfair.com/furniture/pdp/brayden-studio-wendy-sofa-bydt1508.html?piid=\n",
      "\n",
      "Image link: https://secure.img1-fg.wfcdn.com/im/72234520/resize-h310-w310%5Ecompr-r85/3676/36764449/Wendy+Sofa.jpg\n",
      "\n",
      "Price: $1,149.99\n",
      "\n",
      "==============================================\n",
      "Item: 60\n",
      "\n",
      "Product link: https://www.wayfair.com/furniture/pdp/bellini-modern-living-roxanne-leather-122-sectional-bim1671.html?piid=20692109%2C24753536\n",
      "\n",
      "Image link: https://secure.img1-fg.wfcdn.com/im/15587816/resize-h310-w310%5Ecompr-r85/3854/38540223/Roxanne+Leather+122%2522+Sectional.jpg\n",
      "\n",
      "Price: $6,752.66\n",
      "\n",
      "==============================================\n",
      "Item: 61\n",
      "\n",
      "Product link: https://www.wayfair.com/furniture/pdp/brayden-studio-brunet-leather-sofa-w001654112.html?piid=1304410\n",
      "\n",
      "Image link: https://secure.img1-fg.wfcdn.com/im/19168871/resize-h310-w310%5Ecompr-r85/7444/74448221/Brunet+Leather+Sofa.jpg\n",
      "\n",
      "Price: $2,399.99\n",
      "\n",
      "==============================================\n",
      "Item: 62\n",
      "\n",
      "Product link: https://www.wayfair.com/furniture/pdp/darby-home-co-dipietro-61-recessed-arm-loveseat-drbh6674.html?piid=\n",
      "\n",
      "Image link: https://secure.img1-fg.wfcdn.com/im/73675210/resize-h310-w310%5Ecompr-r85/9729/97299162/Dipietro+61%2522+Recessed+Arm+Loveseat.jpg\n",
      "\n",
      "Price: $1,299.99\n",
      "\n",
      "==============================================\n",
      "Item: 63\n",
      "\n",
      "Product link: https://www.wayfair.com/furniture/pdp/heller-827-armless-sofa-hel1018.html?piid=\n",
      "\n",
      "Image link: https://secure.img1-fg.wfcdn.com/im/91567189/resize-h310-w310%5Ecompr-r85/2270/22704445/82.7%2522+Armless+Sofa.jpg\n",
      "\n",
      "Price: $1,100.00\n",
      "\n",
      "==============================================\n",
      "Item: 64\n",
      "\n",
      "Product link: https://www.wayfair.com/furniture/pdp/darby-home-co-steinke-genuine-leather-chesterfield-91-rolled-arm-sofa-w003093268.html?piid=1567518902&categoryid=413892&placement=3&slot=9&sponsoredid=7557adc0027d1182d9925db09ed7d0bcfa798ecb1557a06f8fe179bdde2a5b40&_txid=I%2BF9Ol8WkfddSRANopcLAg%3D%3D&isB2b=0&auctionId=71db227d-674e-4fa3-a96f-0f8832ca899a\n",
      "\n",
      "Image link: https://secure.img1-fg.wfcdn.com/im/82569265/resize-h310-w310%5Ecompr-r85/1145/114520555/Steinke+Genuine+Leather+Chesterfield+91%2522+Rolled+Arm++Sofa.jpg\n",
      "\n",
      "Price: $1,349.99\n",
      "\n",
      "==============================================\n",
      "Item: 65\n",
      "\n",
      "Product link: https://www.wayfair.com/furniture/pdp/loon-peak-ezra-microfiber-88-rolled-arm-sofa-w001556244.html?piid=\n",
      "\n",
      "Image link: https://secure.img1-fg.wfcdn.com/im/77435819/resize-h310-w310%5Ecompr-r85/7186/71869517/Ezra+Microfiber+88%2522+Rolled+Arm+Sofa.jpg\n",
      "\n",
      "Price: $1,179.99\n",
      "\n",
      "==============================================\n",
      "Item: 66\n",
      "\n",
      "Product link: https://www.wayfair.com/furniture/pdp/brayden-studio-domaingue-56-tuxedo-arm-loveseat-w003009856.html?piid=\n",
      "\n",
      "Image link: https://secure.img1-fg.wfcdn.com/im/98069451/resize-h310-w310%5Ecompr-r85/1112/111287310/Domaingue+56%2522+Tuxedo+Arm+Loveseat.jpg\n",
      "\n",
      "Price: $1,099.99\n",
      "\n",
      "==============================================\n",
      "Item: 67\n",
      "\n",
      "Product link: https://www.wayfair.com/furniture/pdp/red-barrel-studio-armelle-reclining-92-pillow-top-arm-sofa-w002499371.html?piid=1385004375%2C1385004374%2C1385004376\n"
     ]
    },
    {
     "name": "stdout",
     "output_type": "stream",
     "text": [
      "\n",
      "Image link: https://secure.img1-fg.wfcdn.com/im/61606155/resize-h310-w310%5Ecompr-r85/1060/106086069/Armelle+Reclining+92%2522+Pillow+Top+Arm+Sofa.jpg\n",
      "\n",
      "Price: $1,199.99\n",
      "\n",
      "==============================================\n",
      "Item: 68\n",
      "\n",
      "Product link: https://www.wayfair.com/furniture/pdp/mercer41-carruth-76-flared-arm-sofa-w001512888.html?piid=539682571\n",
      "\n",
      "Image link: https://secure.img1-fg.wfcdn.com/im/69376969/resize-h310-w310%5Ecompr-r85/7056/70563672/Carruth+76%2522+Flared+Arm+Sofa.jpg\n",
      "\n",
      "Price: $1,129.99\n",
      "\n",
      "==============================================\n",
      "Item: 69\n",
      "\n",
      "Product link: https://www.wayfair.com/furniture/pdp/absolute-style-zofa-w002771677.html?piid=\n",
      "\n",
      "Image link: https://secure.img1-fg.wfcdn.com/im/45139677/resize-h310-w310%5Ecompr-r85/1039/103976174/Zofa.jpg\n",
      "\n",
      "Price: $1,899.99\n",
      "\n",
      "==============================================\n",
      "Item: 70\n",
      "\n",
      "Product link: https://www.wayfair.com/furniture/pdp/red-barrel-studio-garysburg-675-rolled-arm-loveseat-w003175490.html?piid=1693590726%2C1693590727%2C1693590564&categoryid=413892&placement=3&slot=10&sponsoredid=37009ebc6e5c25e87a46017e7f5c55a2311c088d7162b5b2a4fb9e737515bc46&_txid=I%2BF9Ol8WkfddSRANopcLAg%3D%3D&isB2b=0&auctionId=71db227d-674e-4fa3-a96f-0f8832ca899a\n",
      "\n",
      "Image link: https://secure.img1-fg.wfcdn.com/im/02587571/resize-h310-w310%5Ecompr-r85/1161/116128511/Garysburg+67.5%2522+Rolled+Arm+Loveseat.jpg\n",
      "\n",
      "Price: $1,149.99\n",
      "\n",
      "==============================================\n",
      "Item: 71\n",
      "\n",
      "Product link: https://www.wayfair.com/furniture/pdp/tommy-bahama-home-los-altos-875-round-arm-sofa-tbl2746.html?piid=\n",
      "\n",
      "Image link: https://secure.img1-fg.wfcdn.com/im/95214779/resize-h310-w310%5Ecompr-r85/5940/59406071/Los+Altos+87.5%2522+Round+Arm+Sofa.jpg\n",
      "\n",
      "Price: $3,719.00\n",
      "\n",
      "==============================================\n",
      "Item: 72\n",
      "\n",
      "Product link: https://www.wayfair.com/furniture/pdp/ivy-bronx-krawczyk-98-recessed-arm-sofa-w000683602.html?piid=1213031381%2C1213038523\n",
      "\n",
      "Image link: https://secure.img1-fg.wfcdn.com/im/51074770/resize-h310-w310%5Ecompr-r85/9349/93493870/Krawczyk+98%2522+Recessed+Arm+Sofa.jpg\n",
      "\n",
      "Price: $1,199.99\n",
      "\n",
      "==============================================\n",
      "Item: 73\n",
      "\n",
      "Product link: https://www.wayfair.com/furniture/pdp/rosdorf-park-nilda-chenille-89-rolled-arm-sofa-w003244956.html?piid=\n",
      "\n",
      "Image link: https://secure.img1-fg.wfcdn.com/im/93698457/resize-h310-w310%5Ecompr-r85/7911/79113757/Nilda+Chenille+89%2527%2527+Rolled+Arm+Sofa.jpg\n",
      "\n",
      "Price: $1,599.99\n",
      "\n",
      "==============================================\n",
      "Item: 74\n",
      "\n",
      "Product link: https://www.wayfair.com/furniture/pdp/acacia-home-and-garden-vintage-maria-cotton-79-round-arm-sofa-eyt1318.html?piid=\n",
      "\n",
      "Image link: https://secure.img1-fg.wfcdn.com/im/97117878/resize-h310-w310%5Ecompr-r85/8758/8758289/Vintage+Maria+Cotton+79%2522+Round+Arm+Sofa.jpg\n",
      "\n",
      "Price: $1,079.99\n",
      "\n",
      "==============================================\n",
      "Item: 75\n",
      "\n",
      "Product link: https://www.wayfair.com/furniture/pdp/red-barrel-studio-burney-reclining-101-pillow-top-arm-sofa-w000756970.html?piid=673128300\n",
      "\n",
      "Image link: https://secure.img1-fg.wfcdn.com/im/88680505/resize-h310-w310%5Ecompr-r85/6916/69164840/Burney+Reclining+101%2522+Pillow+Top+Arm+Sofa.jpg\n",
      "\n",
      "Price: $1,189.99\n",
      "\n",
      "==============================================\n",
      "Item: 76\n",
      "\n",
      "Product link: https://www.wayfair.com/furniture/pdp/latitude-run-fourche-65-square-arm-loveseat-w003175349.html?piid=562673094%2C562673093%2C562672898&categoryid=413892&placement=3&slot=11&sponsoredid=a587e4ad57736feb6d275613b47ebde47e988e6d8e1429f25b595e47271817aa&_txid=I%2BF9Ol8WkfddSRANopcLAg%3D%3D&isB2b=0&auctionId=71db227d-674e-4fa3-a96f-0f8832ca899a\n",
      "\n",
      "Image link: https://secure.img1-fg.wfcdn.com/im/55524489/resize-h310-w310%5Ecompr-r85/1161/116125419/Fourche+65%2522+Square+Arm+Loveseat.jpg\n",
      "\n",
      "Price: $1,139.99\n",
      "\n",
      "==============================================\n",
      "Item: 77\n",
      "\n",
      "Product link: https://www.wayfair.com/furniture/pdp/17-stories-maloney-leather-sofa-w001731255.html?piid=\n",
      "\n",
      "Image link: https://secure.img1-fg.wfcdn.com/im/09390486/resize-h310-w310%5Ecompr-r85/7436/74362821/Maloney+Leather+Sofa.jpg\n",
      "\n",
      "Price: $3,899.99\n",
      "\n",
      "==============================================\n",
      "Item: 78\n",
      "\n",
      "Product link: https://www.wayfair.com/furniture/pdp/orren-ellis-marceau-velvet-84-square-arm-sofa-orls2328.html?piid=29620768\n",
      "\n",
      "Image link: https://secure.img1-fg.wfcdn.com/im/36342299/resize-h310-w310%5Ecompr-r85/5356/53561716/Marceau+Velvet+84%2522+Square+Arm+Sofa.jpg\n",
      "\n",
      "Price: $1,539.99\n",
      "\n",
      "==============================================\n",
      "Item: 79\n",
      "\n",
      "Product link: https://www.wayfair.com/furniture/pdp/everly-quinn-kingsley-tufted-sofa-eyqn6051.html?piid=\n",
      "\n",
      "Image link: https://secure.img1-fg.wfcdn.com/im/03379095/resize-h310-w310%5Ecompr-r85/1021/102121162/Kingsley+Tufted+Sofa.jpg\n",
      "\n",
      "Price: $1,999.99\n",
      "\n",
      "==============================================\n",
      "Item: 80\n",
      "\n",
      "Product link: https://www.wayfair.com/furniture/pdp/canora-grey-tighe-cotton-95-sofa-w002721185.html?piid=\n",
      "\n",
      "Image link: https://secure.img1-fg.wfcdn.com/im/24838124/resize-h310-w310%5Ecompr-r85/1052/105206544/Tighe+Cotton+95%2522+Sofa.jpg\n",
      "\n",
      "Price: $2,899.99\n",
      "\n",
      "==============================================\n",
      "Item: 81\n",
      "\n",
      "Product link: https://www.wayfair.com/furniture/pdp/canora-grey-womack-chesterfield-sofa-w001748846.html?piid=214408404\n",
      "\n",
      "Image link: https://secure.img1-fg.wfcdn.com/im/46480757/resize-h310-w310%5Ecompr-r85/9288/92880528/Womack+Chesterfield+Sofa.jpg\n",
      "\n",
      "Price: $1,199.99\n",
      "\n",
      "==============================================\n",
      "Item: 82\n",
      "\n",
      "Product link: https://www.wayfair.com/furniture/pdp/mercer41-pirtle-sofa-w001162974.html?piid=\n",
      "\n",
      "Image link: https://secure.img1-fg.wfcdn.com/im/95606023/resize-h310-w310%5Ecompr-r85/9082/90827284/Pirtle+Sofa.jpg\n",
      "\n",
      "Price: $1,399.99\n",
      "\n",
      "==============================================\n",
      "Item: 83\n",
      "\n",
      "Product link: https://www.wayfair.com/furniture/pdp/wrought-studio-cheadle-84-w-recessed-arm-sofa-w001567521.html?piid=1257994698\n",
      "\n",
      "Image link: https://secure.img1-fg.wfcdn.com/im/03605024/resize-h310-w310%5Ecompr-r85/7065/70658120/Cheadle+84%2522+W+Recessed+Arm+Sofa.jpg\n",
      "\n",
      "Price: $1,249.99\n",
      "\n",
      "==============================================\n",
      "Item: 84\n",
      "\n",
      "Product link: https://www.wayfair.com/furniture/pdp/astoria-grand-doucet-sofa-w000674562.html?piid=\n",
      "\n",
      "Image link: https://secure.img1-fg.wfcdn.com/im/72997977/resize-h310-w310%5Ecompr-r85/6023/60238575/Doucet+Sofa.jpg\n",
      "\n",
      "Price: $1,999.99\n",
      "\n",
      "==============================================\n",
      "Item: 85\n",
      "\n",
      "Product link: https://www.wayfair.com/furniture/pdp/everly-quinn-adelbert-velvet-69-flared-arm-sofa-w003153635.html?piid=1595456346\n",
      "\n",
      "Image link: https://secure.img1-fg.wfcdn.com/im/23616880/resize-h310-w310%5Ecompr-r85/1162/116283460/Adelbert+Velvet+69%2522+Flared+Arm+Sofa.jpg\n",
      "\n",
      "Price: $1,229.99\n",
      "\n",
      "==============================================\n",
      "Item: 86\n",
      "\n",
      "Product link: https://www.wayfair.com/furniture/pdp/corrigan-studio-avent-834-tuxedo-arm-sofa-w003104947.html?piid=1236643722\n",
      "\n",
      "Image link: https://secure.img1-fg.wfcdn.com/im/68518888/resize-h310-w310%5Ecompr-r85/1140/114088704/Avent+83.4%2522+Tuxedo+Arm+Sofa.jpg\n",
      "\n",
      "Price: $1,079.99\n",
      "\n",
      "==============================================\n",
      "Item: 87\n",
      "\n",
      "Product link: https://www.wayfair.com/furniture/pdp/astoria-grand-denis-chesterfield-sofa-ttis1075.html?piid=\n",
      "\n",
      "Image link: https://secure.img1-fg.wfcdn.com/im/43532854/resize-h310-w310%5Ecompr-r85/5298/52984540/Denis+Chesterfield+Sofa.jpg\n",
      "\n",
      "Price: $3,099.99\n",
      "\n",
      "==============================================\n",
      "Item: 88\n",
      "\n",
      "Product link: https://www.wayfair.com/furniture/pdp/everly-quinn-gervais-sofa-w001806245.html?piid=\n",
      "\n",
      "Image link: https://secure.img1-fg.wfcdn.com/im/92528115/resize-h310-w310%5Ecompr-r85/1378/13789299/Gervais+Sofa.jpg\n",
      "\n",
      "Price: $1,519.99\n",
      "\n",
      "==============================================\n",
      "Item: 89\n",
      "\n",
      "Product link: https://www.wayfair.com/furniture/pdp/litzy-91-rolled-arm-sofa-w001666552.html?piid=1634429975\n",
      "\n",
      "Image link: https://secure.img1-fg.wfcdn.com/im/34051218/resize-h310-w310%5Ecompr-r85/1182/118259975/Litzy+91%2522+Rolled+Arm+Sofa.jpg\n",
      "\n",
      "Price: $1,089.99\n",
      "\n",
      "==============================================\n",
      "Item: 90\n",
      "\n",
      "Product link: https://www.wayfair.com/furniture/pdp/modshop-zuma-pumice-sofa-mods1007.html?piid=\n",
      "\n",
      "Image link: https://secure.img1-fg.wfcdn.com/im/84666907/resize-h310-w310%5Ecompr-r85/1428/14285765/Zuma+Pumice+Sofa.jpg\n",
      "\n",
      "Price: $2,739.99\n",
      "\n"
     ]
    },
    {
     "name": "stdout",
     "output_type": "stream",
     "text": [
      "==============================================\n",
      "Item: 91\n",
      "\n",
      "Product link: https://www.wayfair.com/furniture/pdp/birch-lane-heritage-lise-91-recessed-arm-sofa-w000630734.html?piid=788971703\n",
      "\n",
      "Image link: https://secure.img1-fg.wfcdn.com/im/07473583/resize-h310-w310%5Ecompr-r85/1200/120022438/Lise+91%2522+Recessed+Arm+Sofa.jpg\n",
      "\n",
      "Price: $1,279.99\n",
      "\n",
      "==============================================\n",
      "Item: 92\n",
      "\n",
      "Product link: https://www.wayfair.com/furniture/pdp/charlton-home-waldschmidt-microfiber-microsuede-67-pillow-top-arm-loveseat-w001678621.html?piid=1916209910\n",
      "\n",
      "Image link: https://secure.img1-fg.wfcdn.com/im/07215305/resize-h310-w310%5Ecompr-r85/4571/45710209/Waldschmidt+Microfiber+/+Microsuede+67%2522+Pillow+Top+Arm+Loveseat.jpg\n",
      "\n",
      "Price: $1,139.99\n",
      "\n",
      "==============================================\n",
      "Lengths of lists:  92 92 92\n",
      "Number of products on Page 2: 92\n",
      "\n"
     ]
    },
    {
     "name": "stderr",
     "output_type": "stream",
     "text": [
      "\n",
      "92it [00:00, ?it/s]\n",
      " 50%|██████████████████████████████████████████                                          | 2/4 [00:38<00:38, 19.20s/it]"
     ]
    },
    {
     "name": "stdout",
     "output_type": "stream",
     "text": [
      "Number of products scraped from the page:  96\n",
      "Item: 1\n",
      "\n",
      "Product link: https://www.wayfair.com/furniture/pdp/astoria-grand-renda-loveseat-w001143377.html?piid=1066643762\n",
      "\n",
      "Image link: https://secure.img1-fg.wfcdn.com/im/26949193/resize-h310-w310%5Ecompr-r85/7470/74708868/Renda+Loveseat.jpg\n",
      "\n",
      "Price: $1,769.99\n",
      "\n",
      "==============================================\n",
      "Item: 2\n",
      "\n",
      "Product link: https://www.wayfair.com/furniture/pdp/darby-home-co-stegall-genuine-leather-89-rolled-arm-sofa-w003092376.html?piid=4121661&categoryid=413892&placement=7&slot=0&sponsoredid=d9bcf281b124be1be3490b35902be08059719ac9548d280c0d6d85e6c9361dc3&_txid=I%2BF9Ol8Wkgp1nRAQiJxLAg%3D%3D&isB2b=0&auctionId=1f19e876-98cd-4977-887c-23c6db8f2c34\n",
      "\n",
      "Image link: https://secure.img1-fg.wfcdn.com/im/62542069/resize-h310-w310%5Ecompr-r85/1145/114520605/Stegall+Genuine+Leather+89%2522+Rolled+Arm+Sofa.jpg\n",
      "\n",
      "Price: $1,299.99\n",
      "\n",
      "==============================================\n",
      "Item: 3\n",
      "\n",
      "Product link: https://www.wayfair.com/furniture/pdp/three-posts-cabott-85-pillow-top-arms-sofa-w001671307.html?piid=\n",
      "\n",
      "Image link: https://secure.img1-fg.wfcdn.com/im/32262472/resize-h310-w310%5Ecompr-r85/8785/87858443/Cabott+85%2522+Pillow+top+Arms+Sofa.jpg\n",
      "\n",
      "Price: $1,539.99\n",
      "\n",
      "==============================================\n",
      "Item: 4\n",
      "\n",
      "Product link: https://www.wayfair.com/furniture/pdp/canora-grey-lambdin-genuine-leather-88-round-arm-sofa-cagy1145.html?piid=\n",
      "\n",
      "Image link: https://secure.img1-fg.wfcdn.com/im/43342383/resize-h310-w310%5Ecompr-r85/4128/41288863/Lambdin+Genuine+Leather+88%2522+Round+Arm+Sofa.jpg\n",
      "\n",
      "Price: $1,389.99\n",
      "\n",
      "==============================================\n",
      "Item: 5\n",
      "\n",
      "Product link: https://www.wayfair.com/furniture/pdp/dakota-fields-cotton-116-armless-sofa-chaise-w003190499.html?piid=\n",
      "\n",
      "Image link: https://secure.img1-fg.wfcdn.com/im/61390753/resize-h310-w310%5Ecompr-r85/1173/117371606/Cotton+116%2527%2527+Armless+Sofa+Chaise.jpg\n",
      "\n",
      "Price: $1,539.99\n",
      "\n",
      "==============================================\n",
      "Item: 6\n",
      "\n",
      "Product link: https://www.wayfair.com/furniture/pdp/madison-left-hand-facing-sectional-hscl1042.html?piid=32238433\n",
      "\n",
      "Image link: https://secure.img1-fg.wfcdn.com/im/86473874/resize-h310-w310%5Ecompr-r85/7306/73069228/Madison+Left+Hand+Facing+Sectional.jpg\n",
      "\n",
      "Price: $1,429.99\n",
      "\n",
      "==============================================\n",
      "Item: 7\n",
      "\n",
      "Product link: https://www.wayfair.com/furniture/pdp/orren-ellis-hawkesbury-common-genuine-leather-71-pillow-top-arm-loveseat-oris1502.html?piid=36156135\n",
      "\n",
      "Image link: https://secure.img1-fg.wfcdn.com/im/21499180/resize-h310-w310%5Ecompr-r85/6699/66998715/Hawkesbury+Common+Genuine+Leather+71%2522+Pillow+top+Arm+Loveseat.jpg\n",
      "\n",
      "Price: $1,529.99\n",
      "\n",
      "==============================================\n",
      "Item: 8\n",
      "\n",
      "Product link: https://www.wayfair.com/furniture/pdp/red-barrel-studio-volkman-leather-reclining-64-pillow-top-arms-sofa-w002372627.html?piid=\n",
      "\n",
      "Image link: https://secure.img1-fg.wfcdn.com/im/64090950/resize-h310-w310%5Ecompr-r85/8339/83391977/Volkman+Leather+Reclining+64%2527%2527+Pillow+Top+Arms+Sofa.jpg\n",
      "\n",
      "Price: $1,599.99\n",
      "\n",
      "==============================================\n",
      "Error\n",
      "Error\n",
      "Error\n",
      "Error\n",
      "Item: 9\n",
      "\n",
      "Product link: https://www.wayfair.com/furniture/pdp/orren-ellis-lata-96-flared-arm-sofa-w002775701.html?piid=\n",
      "\n",
      "Image link: https://secure.img1-fg.wfcdn.com/im/73188402/resize-h310-w310%5Ecompr-r85/3747/37473180/Lata+96%2522+Flared+Arm+Sofa.jpg\n",
      "\n",
      "Price: $1,619.99\n",
      "\n",
      "==============================================\n",
      "Item: 10\n",
      "\n",
      "Product link: https://www.wayfair.com/furniture/pdp/red-barrel-studio-bima-reclining-85-pillow-top-arms-sofa-w000970775.html?piid=\n",
      "\n",
      "Image link: https://secure.img1-fg.wfcdn.com/im/09270226/resize-h310-w310%5Ecompr-r85/6554/65549338/Bima+Reclining+85%2522+Pillow+top+Arms+Sofa.jpg\n",
      "\n",
      "Price: $1,469.99\n",
      "\n",
      "==============================================\n",
      "Item: 11\n",
      "\n",
      "Product link: https://www.wayfair.com/furniture/pdp/alcott-hill-mellor-leather-87-round-arms-sofa-alth6778.html?piid=\n",
      "\n",
      "Image link: https://secure.img1-fg.wfcdn.com/im/72079573/resize-h310-w310%5Ecompr-r85/6761/6761536/Mellor+Leather+87%2522+Round+Arms+Sofa.jpg\n",
      "\n",
      "Price: $1,389.99\n",
      "\n",
      "==============================================\n",
      "Item: 12\n",
      "\n",
      "Product link: https://www.wayfair.com/furniture/pdp/trent-austin-design-grand-isle-sofa-trnt3317.html?piid=\n",
      "\n",
      "Image link: https://secure.img1-fg.wfcdn.com/im/38491474/resize-h310-w310%5Ecompr-r85/6548/65488772/Grand+Isle+Sofa.jpg\n",
      "\n",
      "Price: $1,699.99\n",
      "\n",
      "==============================================\n",
      "Item: 13\n",
      "\n",
      "Product link: https://www.wayfair.com/furniture/pdp/craftmaster-copola-genuine-leather-86-rolled-arm-sofa-cae10336.html?piid=\n",
      "\n",
      "Image link: https://secure.img1-fg.wfcdn.com/im/77248280/resize-h310-w310%5Ecompr-r85/8816/88166976/Copola+Genuine+Leather+86%2522+Rolled+Arm+Sofa.jpg\n",
      "\n",
      "Price: $1,899.99\n",
      "\n",
      "==============================================\n",
      "Item: 14\n",
      "\n",
      "Product link: https://www.wayfair.com/furniture/pdp/wade-logan-twining-leather-sofa-wdln4134.html?piid=31646077\n",
      "\n",
      "Image link: https://secure.img1-fg.wfcdn.com/im/76849308/resize-h310-w310%5Ecompr-r85/1211/121107663/Twining+Leather+Sofa.jpg\n",
      "\n",
      "Price: $1,639.99\n",
      "\n",
      "==============================================\n",
      "Item: 15\n",
      "\n",
      "Product link: https://www.wayfair.com/furniture/pdp/mercer41-dement-standard-sofa-w001613116.html?piid=847457915\n",
      "\n",
      "Image link: https://secure.img1-fg.wfcdn.com/im/14834192/resize-h310-w310%5Ecompr-r85/7352/73524879/Dement+Standard+Sofa.jpg\n",
      "\n",
      "Price: $1,299.99\n",
      "\n",
      "==============================================\n",
      "Item: 16\n",
      "\n",
      "Product link: https://www.wayfair.com/furniture/pdp/rachel-genuine-leather-91-rolled-arm-sofa-bed-cstm2396.html?piid=\n",
      "\n",
      "Image link: https://secure.img1-fg.wfcdn.com/im/64007218/resize-h310-w310%5Ecompr-r85/1167/116711666/Rachel+Genuine+Leather+91%2522+Rolled+Arm+Sofa+Bed.jpg\n",
      "\n",
      "Price: $1,499.00\n",
      "\n",
      "==============================================\n",
      "Item: 17\n",
      "\n",
      "Product link: https://www.wayfair.com/furniture/pdp/winston-porter-osgood-revolution-performance-fabrics-73-square-arm-sofa-bed-w001746943.html?piid=50396981%2C47524774%2C60610649\n",
      "\n",
      "Image link: https://secure.img1-fg.wfcdn.com/im/17745656/resize-h310-w310%5Ecompr-r85/1020/102066947/Osgood+Revolution+Performance+Fabrics%25AE+73%2522+Square+Arm+Sofa+Bed.jpg\n",
      "\n",
      "Price: $1,028.32\n",
      "\n",
      "==============================================\n",
      "Item: 18\n",
      "\n",
      "Product link: https://www.wayfair.com/furniture/pdp/birch-lane-heritage-dorotea-89-rolled-arm-sofa-bed-w001182918.html?piid=\n",
      "\n",
      "Image link: https://secure.img1-fg.wfcdn.com/im/20086983/resize-h310-w310%5Ecompr-r85/1161/116186449/Dorotea+89%2522+Rolled+Arm+Sofa+Bed.jpg\n",
      "\n",
      "Price: $1,499.99\n",
      "\n",
      "==============================================\n",
      "Item: 19\n",
      "\n",
      "Product link: https://www.wayfair.com/furniture/pdp/breakwater-bay-william-leather-sofa-brwt7185.html?piid=\n",
      "\n",
      "Image link: https://secure.img1-fg.wfcdn.com/im/13561364/resize-h310-w310%5Ecompr-r85/9584/95843707/William+Leather+Sofa.jpg\n",
      "\n",
      "Price: $1,319.99\n",
      "\n",
      "==============================================\n",
      "Item: 20\n",
      "\n",
      "Product link: https://www.wayfair.com/furniture/pdp/august-grove-eulah-79-rolled-arms-sofa-bed-agtg3829.html?piid=24294857%2C24534908\n",
      "\n",
      "Image link: https://secure.img1-fg.wfcdn.com/im/13515115/resize-h310-w310%5Ecompr-r85/1055/105569026/Eulah+79%2522+Rolled+Arms+Sofa+Bed.jpg\n",
      "\n",
      "Price: $1,189.99\n",
      "\n",
      "==============================================\n",
      "Item: 21\n",
      "\n",
      "Product link: https://www.wayfair.com/furniture/pdp/winston-porter-stalybridge-sofa-w001643323.html?piid=\n",
      "\n",
      "Image link: https://secure.img1-fg.wfcdn.com/im/18927179/resize-h310-w310%5Ecompr-r85/9330/93304546/Stalybridge+Sofa.jpg\n",
      "\n",
      "Price: $1,299.99\n",
      "\n",
      "==============================================\n",
      "Item: 22\n",
      "\n",
      "Product link: https://www.wayfair.com/furniture/pdp/wade-logan-orlando-faux-leather-standard-86-square-arm-sofa-wadl4250.html?piid=16397293\n",
      "\n",
      "Image link: https://secure.img1-fg.wfcdn.com/im/09529430/resize-h310-w310%5Ecompr-r85/2730/27305206/Orlando+Faux+Leather+Standard+86%2522+Square+Arm+Sofa.jpg\n",
      "\n",
      "Price: $1,339.99\n",
      "\n",
      "==============================================\n",
      "Item: 23\n",
      "\n",
      "Product link: https://www.wayfair.com/furniture/pdp/charlton-home-chenille-chesterfield-38-rolled-arm-sofa-w001397992.html?piid=217426669\n",
      "\n",
      "Image link: https://secure.img1-fg.wfcdn.com/im/33488686/resize-h310-w310%5Ecompr-r85/1159/115942715/Chenille+Chesterfield+38%2522+Rolled+Arm+Sofa.jpg\n",
      "\n",
      "Price: $1,339.99\n",
      "\n"
     ]
    },
    {
     "name": "stdout",
     "output_type": "stream",
     "text": [
      "==============================================\n",
      "Item: 24\n",
      "\n",
      "Product link: https://www.wayfair.com/furniture/pdp/red-barrel-studio-mellor-reclining-87-pillow-top-arms-sofa-byv10071.html?piid=\n",
      "\n",
      "Image link: https://secure.img1-fg.wfcdn.com/im/02481959/resize-h310-w310%5Ecompr-r85/6025/60259343/Mellor+Reclining+87%2522+Pillow+Top+Arms+Sofa.jpg\n",
      "\n",
      "Price: $1,299.99\n",
      "\n",
      "==============================================\n",
      "Item: 25\n",
      "\n",
      "Product link: https://www.wayfair.com/furniture/pdp/latitude-run-fionn-reclining-loveseat-w000486881.html?piid=\n",
      "\n",
      "Image link: https://secure.img1-fg.wfcdn.com/im/33876437/resize-h310-w310%5Ecompr-r85/1212/121297310/Fionn+Reclining+Loveseat.jpg\n",
      "\n",
      "Price: $1,519.99\n",
      "\n",
      "==============================================\n",
      "Item: 26\n",
      "\n",
      "Product link: https://www.wayfair.com/furniture/pdp/trent-austin-design-alsager-chesterfield-sofa-tadn7896.html?piid=\n",
      "\n",
      "Image link: https://secure.img1-fg.wfcdn.com/im/47093343/resize-h310-w310%5Ecompr-r85/8628/86280604/Alsager+Chesterfield+Sofa.jpg\n",
      "\n",
      "Price: $1,139.99\n",
      "\n",
      "==============================================\n",
      "Item: 27\n",
      "\n",
      "Product link: https://www.wayfair.com/furniture/pdp/darby-home-co-barnsdale-reclining-round-arms-sofa-dbyh1649.html?piid=\n",
      "\n",
      "Image link: https://secure.img1-fg.wfcdn.com/im/86273653/resize-h310-w310%5Ecompr-r85/1076/107600604/Barnsdale+Reclining+Round+Arms+Sofa.jpg\n",
      "\n",
      "Price: $1,239.99\n",
      "\n",
      "==============================================\n",
      "Item: 28\n",
      "\n",
      "Product link: https://www.wayfair.com/furniture/pdp/three-posts-duffield-microfiber-638-flared-arm-settee-w001684170.html?piid=\n",
      "\n",
      "Image link: https://secure.img1-fg.wfcdn.com/im/07556696/resize-h310-w310%5Ecompr-r85/1097/109764824/Duffield+Microfiber+63.8%2522+Flared+Arm+Settee.jpg\n",
      "\n",
      "Price: $1,069.99\n",
      "\n",
      "==============================================\n",
      "Item: 29\n",
      "\n",
      "Product link: https://www.wayfair.com/furniture/pdp/darby-home-co-kavya-chesterfield-95-rolled-arm-sofa-drbh4574.html?piid=25729300\n",
      "\n",
      "Image link: https://secure.img1-fg.wfcdn.com/im/72914155/resize-h310-w310%5Ecompr-r85/7912/79121057/Kavya+Chesterfield+95%2522+Rolled+Arm+Sofa.jpg\n",
      "\n",
      "Price: $1,229.99\n",
      "\n",
      "==============================================\n",
      "Item: 30\n",
      "\n",
      "Product link: https://www.wayfair.com/furniture/pdp/union-rustic-simonne-81-pillow-top-arm-sofa-bed-unrs3005.html?piid=49700284\n",
      "\n",
      "Image link: https://secure.img1-fg.wfcdn.com/im/44090540/resize-h310-w310%5Ecompr-r85/1185/118576120/Simonne+81%2522+Pillow+Top+Arm+Sofa+Bed.jpg\n",
      "\n",
      "Price: $1,079.99\n",
      "\n",
      "==============================================\n",
      "Item: 31\n",
      "\n",
      "Product link: https://www.wayfair.com/furniture/pdp/three-posts-bella-vista-leather-round-arms-loveseat-w001671259.html?piid=\n",
      "\n",
      "Image link: https://secure.img1-fg.wfcdn.com/im/06212305/resize-h310-w310%5Ecompr-r85/1098/109874135/Bella+Vista+Leather+Round+Arms+Loveseat.jpg\n",
      "\n",
      "Price: $1,079.99\n",
      "\n",
      "==============================================\n",
      "Item: 32\n",
      "\n",
      "Product link: https://www.wayfair.com/furniture/pdp/darby-home-co-linglestown-leather-sofa-dbhm4420.html?piid=\n",
      "\n",
      "Image link: https://secure.img1-fg.wfcdn.com/im/53335668/resize-h310-w310%5Ecompr-r85/1180/118092271/Linglestown+Leather+Sofa.jpg\n",
      "\n",
      "Price: $1,759.99\n",
      "\n",
      "==============================================\n",
      "Item: 33\n",
      "\n",
      "Product link: https://www.wayfair.com/furniture/pdp/foundstone-aretha-995-left-hand-facing-sectional-w001659912.html?piid=1172116230%2C1172116231%2C1172116229\n",
      "\n",
      "Image link: https://secure.img1-fg.wfcdn.com/im/66438063/resize-h310-w310%5Ecompr-r85/1047/104788725/Aretha+99.5%2522+Left+Hand+Facing+Sectional.jpg\n",
      "\n",
      "Price: $1,474.99\n",
      "\n",
      "==============================================\n",
      "Item: 34\n",
      "\n",
      "Product link: https://www.wayfair.com/furniture/pdp/red-barrel-studio-chiang-sofa-w001347395.html?piid=1837526535\n",
      "\n",
      "Image link: https://secure.img1-fg.wfcdn.com/im/50796064/resize-h310-w310%5Ecompr-r85/4849/48492701/Chiang+Sofa.jpg\n",
      "\n",
      "Price: $1,399.99\n",
      "\n",
      "==============================================\n",
      "Item: 35\n",
      "\n",
      "Product link: https://www.wayfair.com/furniture/pdp/red-barrel-studio-palma-reclining-905-pillow-top-arm-sofa-w001417428.html?piid=1805470306\n",
      "\n",
      "Image link: https://secure.img1-fg.wfcdn.com/im/69444853/resize-h310-w310%5Ecompr-r85/6794/67946806/Palma+Reclining+90.5%2522+Pillow+Top+Arm+Sofa.jpg\n",
      "\n",
      "Price: $1,219.99\n",
      "\n",
      "==============================================\n",
      "Item: 36\n",
      "\n",
      "Product link: https://www.wayfair.com/furniture/pdp/loon-peak-edward-genuine-leather-square-arm-sofa-qwlk1224.html?piid=30054960\n",
      "\n",
      "Image link: https://secure.img1-fg.wfcdn.com/im/96700637/resize-h310-w310%5Ecompr-r85/5508/55081588/Edward+Genuine+Leather+Square+Arm+Sofa.jpg\n",
      "\n",
      "Price: $1,939.99\n",
      "\n",
      "==============================================\n",
      "Item: 37\n",
      "\n",
      "Product link: https://www.wayfair.com/furniture/pdp/willa-arlo-interiors-harcourt-velvet-71-tuxedo-arm-loveseat-wlao3540.html?piid=24262923\n",
      "\n",
      "Image link: https://secure.img1-fg.wfcdn.com/im/36508684/resize-h310-w310%5Ecompr-r85/7499/74992712/Harcourt+Velvet+71%2522+Tuxedo+Arm+Loveseat.jpg\n",
      "\n",
      "Price: $1,019.99\n",
      "\n",
      "==============================================\n",
      "Item: 38\n",
      "\n",
      "Product link: https://www.wayfair.com/furniture/pdp/la-z-boy-collins-87-round-arms-sofa-lz10050.html?piid=\n",
      "\n",
      "Image link: https://secure.img1-fg.wfcdn.com/im/23987125/resize-h310-w310%5Ecompr-r85/6048/60488323/Collins+87%2522+Round+Arms+Sofa.jpg\n",
      "\n",
      "Price: $1,179.99\n",
      "\n",
      "==============================================\n",
      "Item: 39\n",
      "\n",
      "Product link: https://www.wayfair.com/furniture/pdp/canora-grey-lambdin-leather-loveseat-cagy1146.html?piid=\n",
      "\n",
      "Image link: https://secure.img1-fg.wfcdn.com/im/82408954/resize-h310-w310%5Ecompr-r85/3598/35982813/Lambdin+Leather+Loveseat.jpg\n",
      "\n",
      "Price: $1,199.99\n",
      "\n",
      "==============================================\n",
      "Item: 40\n",
      "\n",
      "Product link: https://www.wayfair.com/furniture/pdp/red-barrel-studio-priddy-leather-round-arms-sofa-w001434409.html?piid=\n",
      "\n",
      "Image link: https://secure.img1-fg.wfcdn.com/im/18589855/resize-h310-w310%5Ecompr-r85/2729/27298307/Priddy+Leather+Round+Arms+Sofa.jpg\n",
      "\n",
      "Price: $1,539.99\n",
      "\n",
      "==============================================\n",
      "Item: 41\n",
      "\n",
      "Product link: https://www.wayfair.com/furniture/pdp/paula-deen-home-kendall-90-charles-of-london-sofa-pdh2746.html?piid=\n",
      "\n",
      "Image link: https://secure.img1-fg.wfcdn.com/im/91290871/resize-h310-w310%5Ecompr-r85/9893/98932144/Kendall+90%2522+Charles+of+London+Sofa.jpg\n",
      "\n",
      "Price: $1,905.20\n",
      "\n",
      "==============================================\n",
      "Item: 42\n",
      "\n",
      "Product link: https://www.wayfair.com/furniture/pdp/willa-arlo-interiors-vegard-chesterfield-9134-round-arm-sofa-w001690332.html?piid=2066769690\n",
      "\n",
      "Image link: https://secure.img1-fg.wfcdn.com/im/86859592/resize-h310-w310%5Ecompr-r85/1223/122330185/Vegard+Chesterfield+91.34%2522+Round+Arm+Sofa.jpg\n",
      "\n",
      "Price: $1,129.99\n",
      "\n",
      "==============================================\n",
      "Item: 43\n",
      "\n",
      "Product link: https://www.wayfair.com/furniture/pdp/loon-peak-thierry-deer-lodge-rolled-arms-sofa-w001317214.html?piid=\n",
      "\n",
      "Image link: https://secure.img1-fg.wfcdn.com/im/76887598/resize-h310-w310%5Ecompr-r85/3792/37929823/Thierry+Deer+Lodge+Rolled+Arms+Sofa.jpg\n",
      "\n",
      "Price: $1,179.99\n",
      "\n",
      "==============================================\n",
      "Item: 44\n",
      "\n",
      "Product link: https://www.wayfair.com/furniture/pdp/winston-porter-hudepohl-reclining-sofa-w002214386.html?piid=1541670648\n",
      "\n",
      "Image link: https://secure.img1-fg.wfcdn.com/im/87964915/resize-h310-w310%5Ecompr-r85/8776/87760587/Hudepohl+Reclining+Sofa.jpg\n",
      "\n",
      "Price: $1,319.99\n",
      "\n",
      "==============================================\n",
      "Item: 45\n",
      "\n",
      "Product link: https://www.wayfair.com/furniture/pdp/edgecombe-furniture-avery-queen-sleeper-sofa-w001826874.html?piid=589369658%2C589369657\n",
      "\n",
      "Image link: https://secure.img1-fg.wfcdn.com/im/88583144/resize-h310-w310%5Ecompr-r85/5390/53908736/Avery+Queen+Sleeper+Sofa.jpg\n",
      "\n",
      "Price: $1,119.99\n",
      "\n",
      "==============================================\n",
      "Item: 46\n",
      "\n",
      "Product link: https://www.wayfair.com/furniture/pdp/cordele-sofa-lfmf1206.html?piid=21995719\n",
      "\n",
      "Image link: https://secure.img1-fg.wfcdn.com/im/79359163/resize-h310-w310%5Ecompr-r85/3881/38819461/Cordele+Sofa.jpg\n",
      "\n",
      "Price: $1,069.99\n",
      "\n",
      "==============================================\n",
      "Item: 47\n",
      "\n",
      "Product link: https://www.wayfair.com/furniture/pdp/chelsea-home-calexico-sofa-sleeper-chfc3354.html?piid=18773617%2C36799527\n",
      "\n",
      "Image link: https://secure.img1-fg.wfcdn.com/im/31687873/resize-h310-w310%5Ecompr-r85/3229/32294749/Calexico+Sofa+Sleeper.jpg\n",
      "\n",
      "Price: $1,227.49\n",
      "\n"
     ]
    },
    {
     "name": "stdout",
     "output_type": "stream",
     "text": [
      "==============================================\n",
      "Item: 48\n",
      "\n",
      "Product link: https://www.wayfair.com/furniture/pdp/darby-home-co-lindstrom-chesterfield-90-rolled-arms-sofa-dbyh8201.html?piid=21259317\n",
      "\n",
      "Image link: https://secure.img1-fg.wfcdn.com/im/06008500/resize-h310-w310%5Ecompr-r85/1097/109748983/Lindstrom+Chesterfield+90%2522+Rolled+Arms+Sofa.jpg\n",
      "\n",
      "Price: $1,059.99\n",
      "\n",
      "==============================================\n",
      "Item: 49\n",
      "\n",
      "Product link: https://www.wayfair.com/furniture/pdp/kelly-clarkson-home-brielle-9225-flared-arm-sofa-w003317894.html?piid=890166546\n",
      "\n",
      "Image link: https://secure.img1-fg.wfcdn.com/im/07483758/resize-h310-w310%5Ecompr-r85/1217/121750337/Brielle+92.25%2527%2527+Flared+Arm+Sofa.jpg\n",
      "\n",
      "Price: $1,059.99\n",
      "\n",
      "==============================================\n",
      "Item: 50\n",
      "\n",
      "Product link: https://www.wayfair.com/furniture/pdp/mercury-row-north-burnetgateway-100-square-arm-sofa-w000102110.html?piid=426250497\n",
      "\n",
      "Image link: https://secure.img1-fg.wfcdn.com/im/84200869/resize-h310-w310%5Ecompr-r85/7299/72996175/North+Burnet%25u2013Gateway+100%2522+Square+Arm+Sofa.jpg\n",
      "\n",
      "Price: $1,099.99\n",
      "\n",
      "==============================================\n",
      "Item: 51\n",
      "\n",
      "Product link: https://www.wayfair.com/furniture/pdp/alcott-hill-delma-79-square-arm-sofa-w001990492.html?piid=568047047\n",
      "\n",
      "Image link: https://secure.img1-fg.wfcdn.com/im/47848370/resize-h310-w310%5Ecompr-r85/1159/115971465/Delma+79%2522+Square+Arm+Sofa.jpg\n",
      "\n",
      "Price: $1,129.99\n",
      "\n",
      "==============================================\n",
      "Item: 52\n",
      "\n",
      "Product link: https://www.wayfair.com/furniture/pdp/red-barrel-studio-kucharski-reclining-101-pillow-top-arm-sofa-w001859794.html?piid=833326119\n",
      "\n",
      "Image link: https://secure.img1-fg.wfcdn.com/im/11527080/resize-h310-w310%5Ecompr-r85/9557/95574470/Kucharski+Reclining+101%2522+Pillow+top+Arm+Sofa.jpg\n",
      "\n",
      "Price: $1,039.99\n",
      "\n",
      "==============================================\n",
      "Item: 53\n",
      "\n",
      "Product link: https://www.wayfair.com/furniture/pdp/birch-lane-heritage-lucie-rolled-arm-92-sofa-w001294594.html?piid=724086089\n",
      "\n",
      "Image link: https://secure.img1-fg.wfcdn.com/im/91555675/resize-h310-w310%5Ecompr-r85/1193/119374878/Lucie+Rolled+Arm+92%2522+Sofa.jpg\n",
      "\n",
      "Price: $1,099.99\n",
      "\n",
      "==============================================\n",
      "Item: 54\n",
      "\n",
      "Product link: https://www.wayfair.com/furniture/pdp/rosdorf-park-binstead-sofa-rosp4873.html?piid=23666775\n",
      "\n",
      "Image link: https://secure.img1-fg.wfcdn.com/im/67371413/resize-h310-w310%5Ecompr-r85/4279/42794240/Binstead+Sofa.jpg\n",
      "\n",
      "Price: $1,529.99\n",
      "\n",
      "==============================================\n",
      "Item: 55\n",
      "\n",
      "Product link: https://www.wayfair.com/furniture/pdp/casey-88-rolled-arm-sofa-cstm2246.html?piid=\n",
      "\n",
      "Image link: https://secure.img1-fg.wfcdn.com/im/01795901/resize-h310-w310%5Ecompr-r85/9261/92613160/Casey+88%2522+Rolled+Arm+Sofa.jpg\n",
      "\n",
      "Price: $1,049.00\n",
      "\n",
      "==============================================\n",
      "Item: 56\n",
      "\n",
      "Product link: https://www.wayfair.com/furniture/pdp/millwood-pines-tatman-84-pillow-top-arm-sofa-mlwp1147.html?piid=\n",
      "\n",
      "Image link: https://secure.img1-fg.wfcdn.com/im/38068479/resize-h310-w310%5Ecompr-r85/6536/65360969/Tatman+84%2522+Pillow+top+Arm+Sofa.jpg\n",
      "\n",
      "Price: $1,299.99\n",
      "\n",
      "==============================================\n",
      "Item: 57\n",
      "\n",
      "Product link: https://www.wayfair.com/furniture/pdp/orren-ellis-truchanovicius-sofa-orne9359.html?piid=28680386\n",
      "\n",
      "Image link: https://secure.img1-fg.wfcdn.com/im/64837769/resize-h310-w310%5Ecompr-r85/5109/51095952/Truchanovicius+Sofa.jpg\n",
      "\n",
      "Price: $1,199.99\n",
      "\n",
      "==============================================\n",
      "Item: 58\n",
      "\n",
      "Product link: https://www.wayfair.com/furniture/pdp/alcott-hill-kaylin-8275-rolled-arm-sofa-w001202484.html?piid=682812264%2C686006909%2C682812258\n",
      "\n",
      "Image link: https://secure.img1-fg.wfcdn.com/im/04277527/resize-h310-w310%5Ecompr-r85/1189/118917755/Kaylin+82.75%2522+Rolled+Arm+Sofa.jpg\n",
      "\n",
      "Price: $1,029.99\n",
      "\n",
      "==============================================\n",
      "Item: 59\n",
      "\n",
      "Product link: https://www.wayfair.com/furniture/pdp/latitude-run-judkins-75-armless-sleeper-w000881714.html?piid=373011269\n",
      "\n",
      "Image link: https://secure.img1-fg.wfcdn.com/im/58647432/resize-h310-w310%5Ecompr-r85/8581/85817855/Judkins+75%2522+Armless+Sleeper.jpg\n",
      "\n",
      "Price: $1,649.99\n",
      "\n",
      "==============================================\n",
      "Item: 60\n",
      "\n",
      "Product link: https://www.wayfair.com/furniture/pdp/palliser-furniture-shields-reclining-90-pillow-top-arm-sofa-paf8387.html?piid=\n",
      "\n",
      "Image link: https://secure.img1-fg.wfcdn.com/im/74748908/resize-h310-w310%5Ecompr-r85/1198/119850203/Shields+Reclining+90%2522+Pillow+Top+Arm+Sofa.jpg\n",
      "\n",
      "Price: $1,539.99\n",
      "\n",
      "==============================================\n",
      "Item: 61\n",
      "\n",
      "Product link: https://www.wayfair.com/furniture/pdp/latitude-run-candace-9875-reversible-sleeper-sectional-latt3394.html?piid=21377426\n",
      "\n",
      "Image link: https://secure.img1-fg.wfcdn.com/im/61024836/resize-h310-w310%5Ecompr-r85/2271/22718573/Candace+98.75%2522+Reversible+Sleeper+Sectional.jpg\n",
      "\n",
      "Price: $1,299.99\n",
      "\n",
      "==============================================\n",
      "Item: 62\n",
      "\n",
      "Product link: https://www.wayfair.com/furniture/pdp/rosdorf-park-cordova-chesterfield-sofa-w000505711.html?piid=1506535907\n",
      "\n",
      "Image link: https://secure.img1-fg.wfcdn.com/im/56392406/resize-h310-w310%5Ecompr-r85/6113/61136101/Cordova+Chesterfield+Sofa.jpg\n",
      "\n",
      "Price: $1,379.99\n",
      "\n",
      "==============================================\n",
      "Item: 63\n",
      "\n",
      "Product link: https://www.wayfair.com/furniture/pdp/canora-grey-chester-modern-chesterfield-sofa-w001144938.html?piid=651060717\n",
      "\n",
      "Image link: https://secure.img1-fg.wfcdn.com/im/32474987/resize-h310-w310%5Ecompr-r85/9661/96618868/Chester+Modern%252C+Chesterfield+Sofa.jpg\n",
      "\n",
      "Price: $1,439.99\n",
      "\n",
      "==============================================\n",
      "Item: 64\n",
      "\n",
      "Product link: https://www.wayfair.com/furniture/pdp/latitude-run-leeds-95-reversible-sleeper-sectional-with-ottoman-w001237233.html?piid=1170416825\n",
      "\n",
      "Image link: https://secure.img1-fg.wfcdn.com/im/57759634/resize-h310-w310%5Ecompr-r85/6922/69226521/Leeds+95%2522+Reversible+Sleeper+Sectional+with+Ottoman.jpg\n",
      "\n",
      "Price: $1,289.99\n",
      "\n",
      "==============================================\n",
      "Item: 65\n",
      "\n",
      "Product link: https://www.wayfair.com/furniture/pdp/mercer41-monett-leather-chesterfield-sofa-w000245197.html?piid=1308286254\n",
      "\n",
      "Image link: https://secure.img1-fg.wfcdn.com/im/64956278/resize-h310-w310%5Ecompr-r85/9235/92350659/Monett+Leather+Chesterfield+Sofa.jpg\n",
      "\n",
      "Price: $1,569.99\n",
      "\n",
      "==============================================\n",
      "Item: 66\n",
      "\n",
      "Product link: https://www.wayfair.com/furniture/pdp/kelly-clarkson-home-bellevue-90-rolled-arm-sofa-w002845637.html?piid=1514091861\n",
      "\n",
      "Image link: https://secure.img1-fg.wfcdn.com/im/85847376/resize-h310-w310%5Ecompr-r85/1098/109818408/Bellevue+90%2522+Rolled+Arm+Sofa.jpg\n",
      "\n",
      "Price: $1,139.99\n",
      "\n",
      "==============================================\n",
      "Item: 67\n",
      "\n",
      "Product link: https://www.wayfair.com/furniture/pdp/darby-home-co-nigel-reclining-615-pillow-top-arms-loveseat-drbc1462.html?piid=\n",
      "\n",
      "Image link: https://secure.img1-fg.wfcdn.com/im/95049166/resize-h310-w310%5Ecompr-r85/8339/83392273/Nigel+Reclining+61.5%2522+Pillow+Top+Arms+Loveseat.jpg\n",
      "\n",
      "Price: $1,149.99\n",
      "\n",
      "==============================================\n",
      "Item: 68\n",
      "\n",
      "Product link: https://www.wayfair.com/furniture/pdp/wade-logan-colwyn-italian-leather-modular-loveseat-wdln2272.html?piid=23568567\n",
      "\n",
      "Image link: https://secure.img1-fg.wfcdn.com/im/04459633/resize-h310-w310%5Ecompr-r85/5197/51976604/Colwyn+Italian+Leather+Modular+Loveseat.jpg\n",
      "\n",
      "Price: $1,579.99\n",
      "\n",
      "==============================================\n",
      "Item: 69\n",
      "\n",
      "Product link: https://www.wayfair.com/furniture/pdp/red-barrel-studio-borchert-sectional-with-ottoman-w000552442.html?piid=757121046%2C757121047\n",
      "\n",
      "Image link: https://secure.img1-fg.wfcdn.com/im/86541583/resize-h310-w310%5Ecompr-r85/3865/38656860/Borchert+Sectional+with+Ottoman.jpg\n",
      "\n",
      "Price: $1,039.99\n",
      "\n",
      "==============================================\n",
      "Item: 70\n",
      "\n",
      "Product link: https://www.wayfair.com/furniture/pdp/three-posts-bella-vista-66-round-arms-sofa-w001671441.html?piid=\n",
      "\n",
      "Image link: https://secure.img1-fg.wfcdn.com/im/92744817/resize-h310-w310%5Ecompr-r85/8885/88859727/Bella+Vista+66%2522+Round+Arms+Sofa.jpg\n",
      "\n",
      "Price: $1,089.99\n",
      "\n",
      "==============================================\n",
      "Item: 71\n",
      "\n",
      "Product link: https://www.wayfair.com/furniture/pdp/everly-quinn-nazareth-curved-sofa-w001612629.html?piid=950398118\n",
      "\n",
      "Image link: https://secure.img1-fg.wfcdn.com/im/03215753/resize-h310-w310%5Ecompr-r85/7441/74417588/Nazareth+Curved+Sofa.jpg\n"
     ]
    },
    {
     "name": "stdout",
     "output_type": "stream",
     "text": [
      "\n",
      "Price: $1,239.99\n",
      "\n",
      "==============================================\n",
      "Item: 72\n",
      "\n",
      "Product link: https://www.wayfair.com/furniture/pdp/three-posts-derbyshire-genuine-leather-76-square-arm-sofa-w001671410.html?piid=1404939789\n",
      "\n",
      "Image link: https://secure.img1-fg.wfcdn.com/im/78608270/resize-h310-w310%5Ecompr-r85/9276/92762568/Derbyshire+Genuine+Leather+76%2522+Square+Arm+Sofa.jpg\n",
      "\n",
      "Price: $1,299.99\n",
      "\n",
      "==============================================\n",
      "Item: 73\n",
      "\n",
      "Product link: https://www.wayfair.com/furniture/pdp/latitude-run-rippy-reclining-sofa-lttn2907.html?piid=25536115\n",
      "\n",
      "Image link: https://secure.img1-fg.wfcdn.com/im/80648825/resize-h310-w310%5Ecompr-r85/4527/45270750/Rippy+Reclining+Sofa.jpg\n",
      "\n",
      "Price: $1,069.99\n",
      "\n",
      "==============================================\n",
      "Item: 74\n",
      "\n",
      "Product link: https://www.wayfair.com/furniture/pdp/orren-ellis-crick-modular-156-tuxedo-arm-sofa-ornl3574.html?piid=25936416\n",
      "\n",
      "Image link: https://secure.img1-fg.wfcdn.com/im/83070933/resize-h310-w310%5Ecompr-r85/4664/46642293/Crick+Modular+156%2522+Tuxedo+Arm+Sofa.jpg\n",
      "\n",
      "Price: $1,499.99\n",
      "\n",
      "==============================================\n",
      "Item: 75\n",
      "\n",
      "Product link: https://www.wayfair.com/furniture/pdp/orren-ellis-siris-42-armless-sofa-bed-w000580256.html?piid=\n",
      "\n",
      "Image link: https://secure.img1-fg.wfcdn.com/im/22356587/resize-h310-w310%5Ecompr-r85/9183/91839291/Siris+42%2522+Armless+Sofa+Bed.jpg\n",
      "\n",
      "Price: $1,089.99\n",
      "\n",
      "==============================================\n",
      "Item: 76\n",
      "\n",
      "Product link: https://www.wayfair.com/furniture/pdp/alcott-hill-kaylin-83-rolled-arm-sofa-w001202342.html?piid=1871212089%2C1875225127\n",
      "\n",
      "Image link: https://secure.img1-fg.wfcdn.com/im/28347624/resize-h310-w310%5Ecompr-r85/1189/118918007/Kaylin+83%2522+Rolled+Arm+Sofa.jpg\n",
      "\n",
      "Price: $1,079.99\n",
      "\n",
      "==============================================\n",
      "Item: 77\n",
      "\n",
      "Product link: https://www.wayfair.com/furniture/pdp/red-barrel-studio-condron-reclining-59-pillow-top-arm-loveseat-rdbs6647.html?piid=19099983\n",
      "\n",
      "Image link: https://secure.img1-fg.wfcdn.com/im/93714443/resize-h310-w310%5Ecompr-r85/9861/98611957/Condron+Reclining+59%2522+Pillow+top+Arm+Loveseat.jpg\n",
      "\n",
      "Price: $1,199.99\n",
      "\n",
      "==============================================\n",
      "Item: 78\n",
      "\n",
      "Product link: https://www.wayfair.com/furniture/pdp/dcor-design-fairfax-96-rolled-arm-sofa-dcrn2976.html?piid=\n",
      "\n",
      "Image link: https://secure.img1-fg.wfcdn.com/im/89693653/resize-h310-w310%5Ecompr-r85/2501/25013014/Fairfax+96%2522+Rolled+Arm+Sofa.jpg\n",
      "\n",
      "Price: $1,019.99\n",
      "\n",
      "==============================================\n",
      "Item: 79\n",
      "\n",
      "Product link: https://www.wayfair.com/furniture/pdp/darby-home-co-veazey-reclining-88-inches-pillow-top-arms-sofa-dbyh1656.html?piid=\n",
      "\n",
      "Image link: https://secure.img1-fg.wfcdn.com/im/72972039/resize-h310-w310%5Ecompr-r85/6027/60271967/Veazey+Reclining+88+inches+Pillow+Top+Arms+Sofa.jpg\n",
      "\n",
      "Price: $1,329.99\n",
      "\n",
      "==============================================\n",
      "Item: 80\n",
      "\n",
      "Product link: https://www.wayfair.com/furniture/pdp/orren-ellis-blasingame-curved-sofa-orel8985.html?piid=23189006\n",
      "\n",
      "Image link: https://secure.img1-fg.wfcdn.com/im/57660561/resize-h310-w310%5Ecompr-r85/4465/44653851/Blasingame+Curved+Sofa.jpg\n",
      "\n",
      "Price: $1,599.99\n",
      "\n",
      "==============================================\n",
      "Item: 81\n",
      "\n",
      "Product link: https://www.wayfair.com/furniture/pdp/charlton-home-allenhurst-right-hand-facing-sectional-w000668863.html?piid=117727371\n",
      "\n",
      "Image link: https://secure.img1-fg.wfcdn.com/im/06417319/resize-h310-w310%5Ecompr-r85/7617/76178070/Allenhurst+Right+Hand+Facing+Sectional.jpg\n",
      "\n",
      "Price: $1,079.99\n",
      "\n",
      "==============================================\n",
      "Item: 82\n",
      "\n",
      "Product link: https://www.wayfair.com/furniture/pdp/orren-ellis-marceau-velvet-84-square-arm-sofa-orls2328.html?piid=29620768\n",
      "\n",
      "Image link: https://secure.img1-fg.wfcdn.com/im/36342299/resize-h310-w310%5Ecompr-r85/5356/53561716/Marceau+Velvet+84%2522+Square+Arm+Sofa.jpg\n",
      "\n",
      "Price: $1,539.99\n",
      "\n",
      "==============================================\n",
      "Item: 83\n",
      "\n",
      "Product link: https://www.wayfair.com/furniture/pdp/house-of-hampton-tabitha-chesterfield-sofa-hohn5608.html?piid=16954007\n",
      "\n",
      "Image link: https://secure.img1-fg.wfcdn.com/im/23101590/resize-h310-w310%5Ecompr-r85/3272/32723387/Tabitha+Chesterfield+Sofa.jpg\n",
      "\n",
      "Price: $1,149.99\n",
      "\n",
      "==============================================\n",
      "Item: 84\n",
      "\n",
      "Product link: https://www.wayfair.com/furniture/pdp/winston-porter-brylee-118-reversible-sectional-w000683222.html?piid=1465545872\n",
      "\n",
      "Image link: https://secure.img1-fg.wfcdn.com/im/68651493/resize-h310-w310%5Ecompr-r85/7604/76040711/Brylee+118%2522+Reversible+Sectional.jpg\n",
      "\n",
      "Price: $1,049.99\n",
      "\n",
      "==============================================\n",
      "Item: 85\n",
      "\n",
      "Product link: https://www.wayfair.com/furniture/pdp/chelsea-home-fairfax-sleeper-sofa-wcf3293.html?piid=36799530%2C36799533\n",
      "\n",
      "Image link: https://secure.img1-fg.wfcdn.com/im/28088688/resize-h310-w310%5Ecompr-r85/3789/37896110/Fairfax+Sleeper+Sofa.jpg\n",
      "\n",
      "Price: $1,199.99\n",
      "\n",
      "==============================================\n",
      "Item: 86\n",
      "\n",
      "Product link: https://www.wayfair.com/furniture/pdp/lesley-87-square-arm-sofa-bed-w001666527.html?piid=348108909\n",
      "\n",
      "Image link: https://secure.img1-fg.wfcdn.com/im/89016754/resize-h310-w310%5Ecompr-r85/1182/118260052/Lesley+87%2522+Square+Arm+Sofa+Bed.jpg\n",
      "\n",
      "Price: $1,139.99\n",
      "\n",
      "==============================================\n",
      "Item: 87\n",
      "\n",
      "Product link: https://www.wayfair.com/furniture/pdp/millwood-pines-charlie-alpine-loveseat-w000770350.html?piid=\n",
      "\n",
      "Image link: https://secure.img1-fg.wfcdn.com/im/14095625/resize-h310-w310%5Ecompr-r85/1011/10110513/Charlie+Alpine+Loveseat.jpg\n",
      "\n",
      "Price: $1,019.99\n",
      "\n",
      "==============================================\n",
      "Item: 88\n",
      "\n",
      "Product link: https://www.wayfair.com/furniture/pdp/everly-quinn-kwong-velvet-965-tuxedo-arms-sofa-w002839855.html?piid=882246799\n",
      "\n",
      "Image link: https://secure.img1-fg.wfcdn.com/im/83935756/resize-h310-w310%5Ecompr-r85/1068/106834607/Kwong+Velvet+96.5%2522+Tuxedo+Arms+Sofa.jpg\n",
      "\n",
      "Price: $1,199.99\n",
      "\n",
      "==============================================\n",
      "Item: 89\n",
      "\n",
      "Product link: https://www.wayfair.com/furniture/pdp/palliser-furniture-alloway-84-pillow-top-arm-sofa-obsw1181.html?piid=41228373\n",
      "\n",
      "Image link: https://secure.img1-fg.wfcdn.com/im/03270708/resize-h310-w310%5Ecompr-r85/1217/121721416/Alloway+84%2522+Pillow+Top+Arm+Sofa.jpg\n",
      "\n",
      "Price: $1,049.99\n",
      "\n",
      "==============================================\n",
      "Item: 90\n",
      "\n",
      "Product link: https://www.wayfair.com/furniture/pdp/palliser-furniture-clifford-84-round-arm-sofa-obsw1185.html?piid=41228675\n",
      "\n",
      "Image link: https://secure.img1-fg.wfcdn.com/im/11355027/resize-h310-w310%5Ecompr-r85/1198/119841682/Clifford+84%2522+Round+Arm+Sofa.jpg\n",
      "\n",
      "Price: $1,229.99\n",
      "\n",
      "==============================================\n",
      "Item: 91\n",
      "\n",
      "Product link: https://www.wayfair.com/furniture/pdp/ayita-reversible-sectional-with-ottoman-ifin1823.html?piid=28167655\n",
      "\n",
      "Image link: https://secure.img1-fg.wfcdn.com/im/59563623/resize-h310-w310%5Ecompr-r85/5136/51360768/Ayita+Reversible+Sectional+with+Ottoman.jpg\n",
      "\n",
      "Price: $1,119.99\n",
      "\n",
      "==============================================\n",
      "Item: 92\n",
      "\n",
      "Product link: https://www.wayfair.com/furniture/pdp/millwood-pines-charlie-cotton-90-round-arm-sofa-w001556156.html?piid=\n",
      "\n",
      "Image link: https://secure.img1-fg.wfcdn.com/im/77518674/resize-h310-w310%5Ecompr-r85/5251/5251002/Charlie+Cotton+90%2522+Round+Arm+Sofa.jpg\n",
      "\n",
      "Price: $1,039.99\n",
      "\n",
      "==============================================\n",
      "Lengths of lists:  92 92 92\n",
      "Number of products on Page 3: 92\n",
      "\n"
     ]
    },
    {
     "name": "stderr",
     "output_type": "stream",
     "text": [
      "\n",
      "92it [00:00, 91744.17it/s]\n",
      " 75%|███████████████████████████████████████████████████████████████                     | 3/4 [00:58<00:19, 19.43s/it]"
     ]
    },
    {
     "name": "stdout",
     "output_type": "stream",
     "text": [
      "Number of products scraped from the page:  96\n",
      "Item: 1\n",
      "\n",
      "Product link: https://www.wayfair.com/furniture/pdp/house-of-hampton-koffler-velvet-chesterfield-94-rolled-arm-sofa-w003012356.html?piid=1180209226\n",
      "\n",
      "Image link: https://secure.img1-fg.wfcdn.com/im/10401226/resize-h310-w310%5Ecompr-r85/4845/48455940/Koffler+Velvet+Chesterfield+94%2522+Rolled+Arm+Sofa.jpg\n",
      "\n",
      "Price: $1,119.99\n",
      "\n",
      "==============================================\n",
      "Item: 2\n",
      "\n",
      "Product link: https://www.wayfair.com/furniture/pdp/canora-grey-barkell-leather-91-rolled-arms-sofa-cagy1721.html?piid=\n",
      "\n",
      "Image link: https://secure.img1-fg.wfcdn.com/im/22515703/resize-h310-w310%5Ecompr-r85/8636/86368296/Barkell+Leather+91%2522+Rolled+Arms+Sofa.jpg\n",
      "\n",
      "Price: $2,799.99\n",
      "\n",
      "==============================================\n",
      "Item: 3\n",
      "\n",
      "Product link: https://www.wayfair.com/furniture/pdp/orren-ellis-eisley-loveseat-w001516846.html?piid=\n",
      "\n",
      "Image link: https://secure.img1-fg.wfcdn.com/im/94701072/resize-h310-w310%5Ecompr-r85/1041/104143420/Eisley+Loveseat.jpg\n",
      "\n",
      "Price: $1,639.99\n",
      "\n",
      "==============================================\n",
      "Item: 4\n",
      "\n",
      "Product link: https://www.wayfair.com/furniture/pdp/orren-ellis-neabsco-reclining-63-pillow-top-arm-loveseat-w003138530.html?piid=22493389\n",
      "\n",
      "Image link: https://secure.img1-fg.wfcdn.com/im/03544844/resize-h310-w310%5Ecompr-r85/1160/116059474/Neabsco+Reclining+63%2527%2527+Pillow+Top+Arm+Loveseat.jpg\n",
      "\n",
      "Price: $1,819.00\n",
      "\n",
      "==============================================\n",
      "Item: 5\n",
      "\n",
      "Product link: https://www.wayfair.com/furniture/pdp/trent-austin-design-lapidge-90-square-arms-sofa-tadn4788.html?piid=\n",
      "\n",
      "Image link: https://secure.img1-fg.wfcdn.com/im/75892464/resize-h310-w310%5Ecompr-r85/6433/64333455/Lapidge+90%2522+Square+Arms+Sofa.jpg\n",
      "\n",
      "Price: $1,169.99\n",
      "\n",
      "==============================================\n",
      "Item: 6\n",
      "\n",
      "Product link: https://www.wayfair.com/furniture/pdp/everly-quinn-christianson-velvet-62-tuxedo-arm-loveseat-w002720879.html?piid=\n",
      "\n",
      "Image link: https://secure.img1-fg.wfcdn.com/im/75438932/resize-h310-w310%5Ecompr-r85/1194/119478821/Christianson+Velvet+62%2522+Tuxedo+Arm+Loveseat.jpg\n",
      "\n",
      "Price: $1,099.99\n",
      "\n",
      "==============================================\n",
      "Item: 7\n",
      "\n",
      "Product link: https://www.wayfair.com/furniture/pdp/brayden-studio-merlemont-91-tuxedo-arms-sofa-w002838059.html?piid=917991909\n",
      "\n",
      "Image link: https://secure.img1-fg.wfcdn.com/im/39792694/resize-h310-w310%5Ecompr-r85/1078/107830406/Merlemont+91%2522+Tuxedo+Arms+Sofa.jpg\n",
      "\n",
      "Price: $1,049.99\n",
      "\n",
      "==============================================\n",
      "Item: 8\n",
      "\n",
      "Product link: https://www.wayfair.com/furniture/pdp/canora-grey-dowless-sofa-vzn2635.html?piid=27768024\n",
      "\n",
      "Image link: https://secure.img1-fg.wfcdn.com/im/95319270/resize-h310-w310%5Ecompr-r85/1548/15480232/Dowless+Sofa.jpg\n",
      "\n",
      "Price: $3,199.99\n",
      "\n",
      "==============================================\n",
      "Error\n",
      "Error\n",
      "Error\n",
      "Error\n",
      "Item: 9\n",
      "\n",
      "Product link: https://www.wayfair.com/furniture/pdp/rosdorf-park-dule-sofa-rosp2316.html?piid=\n",
      "\n",
      "Image link: https://secure.img1-fg.wfcdn.com/im/30692337/resize-h310-w310%5Ecompr-r85/5400/54001264/Dule+Sofa.jpg\n",
      "\n",
      "Price: $1,399.99\n",
      "\n",
      "==============================================\n",
      "Item: 10\n",
      "\n",
      "Product link: https://www.wayfair.com/commercial-business-furniture/pdp/everly-quinn-aranda-sofa-w002729537.html?piid=\n",
      "\n",
      "Image link: https://secure.img1-fg.wfcdn.com/im/34231001/resize-h310-w310%5Ecompr-r85/3646/36465547/Aranda+Sofa.jpg\n",
      "\n",
      "Price: $2,849.99\n",
      "\n",
      "==============================================\n",
      "Item: 11\n",
      "\n",
      "Product link: https://www.wayfair.com/furniture/pdp/union-rustic-filkins-genuine-leather-89-recessed-arm-sofa-w002584503.html?piid=1962566358\n",
      "\n",
      "Image link: https://secure.img1-fg.wfcdn.com/im/02619441/resize-h310-w310%5Ecompr-r85/1056/105643148/Filkins+Genuine+Leather+89%2522+Recessed+Arm+Sofa.jpg\n",
      "\n",
      "Price: $1,599.99\n",
      "\n",
      "==============================================\n",
      "Item: 12\n",
      "\n",
      "Product link: https://www.wayfair.com/furniture/pdp/orren-ellis-alfortville-62-pillow-top-arm-loveseat-w003266269.html?piid=1315185168\n",
      "\n",
      "Image link: https://secure.img1-fg.wfcdn.com/im/83504168/resize-h310-w310%5Ecompr-r85/1210/121069992/Alfortville+62%2522+Pillow+Top+Arm+Loveseat.jpg\n",
      "\n",
      "Price: $1,899.99\n",
      "\n",
      "==============================================\n",
      "Item: 13\n",
      "\n",
      "Product link: https://www.wayfair.com/furniture/pdp/orren-ellis-schiavone-satin-weave-loveseat-neko7089.html?piid=27310211%2C27310208\n",
      "\n",
      "Image link: https://secure.img1-fg.wfcdn.com/im/61424431/resize-h310-w310%5Ecompr-r85/5031/50310249/Schiavone+Satin+Weave+Loveseat.jpg\n",
      "\n",
      "Price: $1,179.99\n",
      "\n",
      "==============================================\n",
      "Item: 14\n",
      "\n",
      "Product link: https://www.wayfair.com/furniture/pdp/corrigan-studio-steinar-85-pillow-top-arm-sofa-w003266430.html?piid=17411523\n",
      "\n",
      "Image link: https://secure.img1-fg.wfcdn.com/im/04637545/resize-h310-w310%5Ecompr-r85/1210/121071668/Steinar+85%2522+Pillow+Top+Arm+Sofa.jpg\n",
      "\n",
      "Price: $3,499.99\n",
      "\n",
      "==============================================\n",
      "Item: 15\n",
      "\n",
      "Product link: https://www.wayfair.com/furniture/pdp/darby-home-co-cao-65-recessed-arms-loveseat-w001063868.html?piid=1783185823\n",
      "\n",
      "Image link: https://secure.img1-fg.wfcdn.com/im/52470890/resize-h310-w310%5Ecompr-r85/7314/73140390/Cao+65%2522+Recessed+Arms+Loveseat.jpg\n",
      "\n",
      "Price: $1,749.99\n",
      "\n",
      "==============================================\n",
      "Item: 16\n",
      "\n",
      "Product link: https://www.wayfair.com/furniture/pdp/nicole-miller-bahara-sofa-nkm10047.html?piid=37789728\n",
      "\n",
      "Image link: https://secure.img1-fg.wfcdn.com/im/79193996/resize-h310-w310%5Ecompr-r85/7243/72432968/Bahara+Sofa.jpg\n",
      "\n",
      "Price: $1,359.99\n",
      "\n",
      "==============================================\n",
      "Item: 17\n",
      "\n",
      "Product link: https://www.wayfair.com/furniture/pdp/mercury-row-cammarata-cotton-10826-square-arm-sofa-mrow8444.html?piid=\n",
      "\n",
      "Image link: https://secure.img1-fg.wfcdn.com/im/59815076/resize-h310-w310%5Ecompr-r85/7242/72425098/Cammarata+Cotton+108.26%2522+Square+Arm+Sofa.jpg\n",
      "\n",
      "Price: $1,569.99\n",
      "\n",
      "==============================================\n",
      "Item: 18\n",
      "\n",
      "Product link: https://www.wayfair.com/furniture/pdp/orren-ellis-macide-88-round-arm-sleeper-w002994062.html?piid=1272390837\n",
      "\n",
      "Image link: https://secure.img1-fg.wfcdn.com/im/20592726/resize-h310-w310%5Ecompr-r85/1114/111453046/Macide+88%2522+Round+Arm+Sleeper.jpg\n",
      "\n",
      "Price: $1,069.99\n",
      "\n",
      "==============================================\n",
      "Item: 19\n",
      "\n",
      "Product link: https://www.wayfair.com/furniture/pdp/williston-forge-maribel-genuine-leather-98-tuxedo-arm-sofa-w002066306.html?piid=\n",
      "\n",
      "Image link: https://secure.img1-fg.wfcdn.com/im/10789798/resize-h310-w310%5Ecompr-r85/9184/91849219/Maribel+Genuine+Leather+98%2522+Tuxedo+Arm+Sofa.jpg\n",
      "\n",
      "Price: $6,099.99\n",
      "\n",
      "==============================================\n",
      "Item: 20\n",
      "\n",
      "Product link: https://www.wayfair.com/furniture/pdp/everly-quinn-deandra-sofa-w001134080.html?piid=\n",
      "\n",
      "Image link: https://secure.img1-fg.wfcdn.com/im/95153799/resize-h310-w310%5Ecompr-r85/6164/61647059/Deandra+Sofa.jpg\n",
      "\n",
      "Price: $1,339.99\n",
      "\n",
      "==============================================\n",
      "Item: 21\n",
      "\n",
      "Product link: https://www.wayfair.com/furniture/pdp/rosdorf-park-hawes-sofa-w000518898.html?piid=835618556\n",
      "\n",
      "Image link: https://secure.img1-fg.wfcdn.com/im/73875636/resize-h310-w310%5Ecompr-r85/6510/65101457/Hawes+Sofa.jpg\n",
      "\n",
      "Price: $1,429.99\n",
      "\n",
      "==============================================\n",
      "Item: 22\n",
      "\n",
      "Product link: https://www.wayfair.com/furniture/pdp/southern-motion-grid-iron-93-reclining-pillow-top-arms-sofa-tcsq3232.html?piid=\n",
      "\n",
      "Image link: https://secure.img1-fg.wfcdn.com/im/11771528/resize-h310-w310%5Ecompr-r85/1130/113091246/Grid+Iron+93%2522+Reclining+Pillow+Top+Arms+Sofa.jpg\n",
      "\n",
      "Price: $1,849.99\n",
      "\n",
      "==============================================\n",
      "Item: 23\n",
      "\n",
      "Product link: https://www.wayfair.com/furniture/pdp/everly-quinn-sharpsburg-sofa-w000945937.html?piid=\n",
      "\n",
      "Image link: https://secure.img1-fg.wfcdn.com/im/05394119/resize-h310-w310%5Ecompr-r85/7076/70762440/Sharpsburg+Sofa.jpg\n",
      "\n",
      "Price: $1,869.99\n",
      "\n",
      "==============================================\n",
      "Item: 24\n",
      "\n",
      "Product link: https://www.wayfair.com/furniture/pdp/blu-dot-cleon-74-sofa-abfr1128.html?piid=35525406\n",
      "\n",
      "Image link: https://secure.img1-fg.wfcdn.com/im/08422381/resize-h310-w310%5Ecompr-r85/6532/65321148/Cleon+74%2522+Sofa.jpg\n",
      "\n",
      "Price: $1,899.00\n",
      "\n",
      "==============================================\n",
      "Item: 25\n",
      "\n",
      "Product link: https://www.wayfair.com/furniture/pdp/dreamseat-boston-red-sox-sofa-dst10005.html?piid=\n",
      "\n",
      "Image link: https://secure.img1-fg.wfcdn.com/im/91106389/resize-h310-w310%5Ecompr-r85/6570/65707416/Boston+Red+Sox+Sofa.jpg\n"
     ]
    },
    {
     "name": "stdout",
     "output_type": "stream",
     "text": [
      "\n",
      "Price: $1,429.99\n",
      "\n",
      "==============================================\n",
      "Item: 26\n",
      "\n",
      "Product link: https://www.wayfair.com/furniture/pdp/red-barrel-studio-wilpert-reclining-86-pillow-top-arm-sofa-w003208518.html?piid=954173167\n",
      "\n",
      "Image link: https://secure.img1-fg.wfcdn.com/im/42981816/resize-h310-w310%5Ecompr-r85/1189/118959884/Wilpert+Reclining+86%2527%2527+Pillow+Top+Arm+Sofa.jpg\n",
      "\n",
      "Price: $3,099.99\n",
      "\n",
      "==============================================\n",
      "Item: 27\n",
      "\n",
      "Product link: https://www.wayfair.com/furniture/pdp/canora-grey-barkell-leather-70-rolled-arms-loveseat-cagy1722.html?piid=\n",
      "\n",
      "Image link: https://secure.img1-fg.wfcdn.com/im/55223511/resize-h310-w310%5Ecompr-r85/4149/41498152/Barkell+Leather+70%2522+Rolled+Arms+Loveseat.jpg\n",
      "\n",
      "Price: $2,179.99\n",
      "\n",
      "==============================================\n",
      "Item: 28\n",
      "\n",
      "Product link: https://www.wayfair.com/furniture/pdp/corrigan-studio-calvo-sofa-w000976085.html?piid=528145181\n",
      "\n",
      "Image link: https://secure.img1-fg.wfcdn.com/im/57611497/resize-h310-w310%5Ecompr-r85/1035/103594293/Calvo+Sofa.jpg\n",
      "\n",
      "Price: $1,219.99\n",
      "\n",
      "==============================================\n",
      "Item: 29\n",
      "\n",
      "Product link: https://www.wayfair.com/furniture/pdp/dreamseat-tottenham-hotspur-primary-logo-sofa-dst10391.html?piid=\n",
      "\n",
      "Image link: https://secure.img1-fg.wfcdn.com/im/23488312/resize-h310-w310%5Ecompr-r85/7149/71499919/Tottenham+Hotspur+Primary+Logo+Sofa.jpg\n",
      "\n",
      "Price: $1,479.99\n",
      "\n",
      "==============================================\n",
      "Item: 30\n",
      "\n",
      "Product link: https://www.wayfair.com/furniture/pdp/orren-ellis-selden-sofa-nekq0386.html?piid=27329353%2C27329349\n",
      "\n",
      "Image link: https://secure.img1-fg.wfcdn.com/im/94687251/resize-h310-w310%5Ecompr-r85/5056/50563559/Selden+Sofa.jpg\n",
      "\n",
      "Price: $1,799.99\n",
      "\n",
      "==============================================\n",
      "Item: 31\n",
      "\n",
      "Product link: https://www.wayfair.com/furniture/pdp/orren-ellis-kaleem-89-pillow-top-arm-sofa-w002756116.html?piid=\n",
      "\n",
      "Image link: https://secure.img1-fg.wfcdn.com/im/72325707/resize-h310-w310%5Ecompr-r85/1056/105660941/Kaleem+89%2522+Pillow+Top+Arm+Sofa.jpg\n",
      "\n",
      "Price: $2,659.99\n",
      "\n",
      "==============================================\n",
      "Item: 32\n",
      "\n",
      "Product link: https://www.wayfair.com/furniture/pdp/red-barrel-studio-canajoharie-reclining-88-rolled-arm-sofa-w003231693.html?piid=2076089567\n",
      "\n",
      "Image link: https://secure.img1-fg.wfcdn.com/im/20529612/resize-h310-w310%5Ecompr-r85/1195/119582661/Canajoharie+Reclining+88%2522+Rolled+Arm+Sofa.jpg\n",
      "\n",
      "Price: $1,079.99\n",
      "\n",
      "==============================================\n",
      "Item: 33\n",
      "\n",
      "Product link: https://www.wayfair.com/furniture/pdp/astoria-grand-st-james-70-rolled-arm-loveseat-w002720800.html?piid=\n",
      "\n",
      "Image link: https://secure.img1-fg.wfcdn.com/im/70037521/resize-h310-w310%5Ecompr-r85/1194/119479379/St+James+70%2522+Rolled+Arm+Loveseat.jpg\n",
      "\n",
      "Price: $4,059.99\n",
      "\n",
      "==============================================\n",
      "Item: 34\n",
      "\n",
      "Product link: https://www.wayfair.com/furniture/pdp/orren-ellis-schiffer-satin-weave-sofa-neko6753.html?piid=27312078%2C27312077\n",
      "\n",
      "Image link: https://secure.img1-fg.wfcdn.com/im/17436008/resize-h310-w310%5Ecompr-r85/5037/50379342/Schiffer+Satin+Weave+Sofa.jpg\n",
      "\n",
      "Price: $1,599.99\n",
      "\n",
      "==============================================\n",
      "Item: 35\n",
      "\n",
      "Product link: https://www.wayfair.com/furniture/pdp/brayden-studio-ariock-genuine-leather-84-tuxedo-arm-sofa-w002663184.html?piid=462298618\n",
      "\n",
      "Image link: https://secure.img1-fg.wfcdn.com/im/53631952/resize-h310-w310%5Ecompr-r85/9610/96109518/Ariock+Genuine+Leather+84%2522+Tuxedo+Arm+Sofa.jpg\n",
      "\n",
      "Price: $1,369.99\n",
      "\n",
      "==============================================\n",
      "Item: 36\n",
      "\n",
      "Product link: https://www.wayfair.com/furniture/pdp/canora-grey-ruggeri-loveseat-ahst4231.html?piid=\n",
      "\n",
      "Image link: https://secure.img1-fg.wfcdn.com/im/54332852/resize-h310-w310%5Ecompr-r85/5578/55787966/Ruggeri+Loveseat.jpg\n",
      "\n",
      "Price: $1,299.99\n",
      "\n",
      "==============================================\n",
      "Item: 37\n",
      "\n",
      "Product link: https://www.wayfair.com/furniture/pdp/red-barrel-studio-alleya-genuine-leather-66-square-arm-loveseat-w003193407.html?piid=\n",
      "\n",
      "Image link: https://secure.img1-fg.wfcdn.com/im/42218030/resize-h310-w310%5Ecompr-r85/1181/118119604/Alleya+Genuine+Leather+66%2527%2527+Square+Arm+Loveseat.jpg\n",
      "\n",
      "Price: $2,099.99\n",
      "\n",
      "==============================================\n",
      "Item: 38\n",
      "\n",
      "Product link: https://www.wayfair.com/furniture/pdp/orren-ellis-schiffman-vegan-sofa-neko6500.html?piid=27310940%2C27310936\n",
      "\n",
      "Image link: https://secure.img1-fg.wfcdn.com/im/10329932/resize-h310-w310%5Ecompr-r85/5032/50322344/Schiffman+Vegan+Sofa.jpg\n",
      "\n",
      "Price: $1,739.99\n",
      "\n",
      "==============================================\n",
      "Item: 39\n",
      "\n",
      "Product link: https://www.wayfair.com/furniture/pdp/mistana-pineview-velvet-84-tuxedo-arm-sofa-mtna3961.html?piid=49414226\n",
      "\n",
      "Image link: https://secure.img1-fg.wfcdn.com/im/39618143/resize-h310-w310%5Ecompr-r85/1182/118233819/Pineview+Velvet+84%2522+Tuxedo+Arm+Sofa.jpg\n",
      "\n",
      "Price: $1,029.99\n",
      "\n",
      "==============================================\n",
      "Item: 40\n",
      "\n",
      "Product link: https://www.wayfair.com/furniture/pdp/corrigan-studio-amaro-revolution-performance-fabrics-84-square-arm-sofa-w003085624.html?piid=992974215%2C992974212\n",
      "\n",
      "Image link: https://secure.img1-fg.wfcdn.com/im/03332942/resize-h310-w310%5Ecompr-r85/1141/114141285/Amaro+Revolution+Performance+Fabrics+84%2522+Square+Arm+Sofa.jpg\n",
      "\n",
      "Price: $2,499.99\n",
      "\n",
      "==============================================\n",
      "Item: 41\n",
      "\n",
      "Product link: https://www.wayfair.com/furniture/pdp/wildon-home-gretna-glider-reclining-sofa-cst39198.html?piid=16566629\n",
      "\n",
      "Image link: https://secure.img1-fg.wfcdn.com/im/45175744/resize-h310-w310%5Ecompr-r85/3639/36394736/Gretna+Glider+Reclining+Sofa.jpg\n",
      "\n",
      "Price: $1,399.99\n",
      "\n",
      "==============================================\n",
      "Item: 42\n",
      "\n",
      "Product link: https://www.wayfair.com/furniture/pdp/red-barrel-studio-wilpert-reclining-65-pillow-top-arm-loveseat-w003208588.html?piid=2082901583\n",
      "\n",
      "Image link: https://secure.img1-fg.wfcdn.com/im/29283654/resize-h310-w310%5Ecompr-r85/1189/118959882/Wilpert+Reclining+65%2527%2527+Pillow+Top+Arm+Loveseat.jpg\n",
      "\n",
      "Price: $2,899.99\n",
      "\n",
      "==============================================\n",
      "Item: 43\n",
      "\n",
      "Product link: https://www.wayfair.com/furniture/pdp/orren-ellis-scheid-vegan-loveseat-neko7555.html?piid=27310285%2C27310281\n",
      "\n",
      "Image link: https://secure.img1-fg.wfcdn.com/im/89781335/resize-h310-w310%5Ecompr-r85/5038/50381854/Scheid+Vegan+Loveseat.jpg\n",
      "\n",
      "Price: $1,329.99\n",
      "\n",
      "==============================================\n",
      "Item: 44\n",
      "\n",
      "Product link: https://www.wayfair.com/furniture/pdp/corrigan-studio-sebeka-73-square-arm-sofa-w002826241.html?piid=\n",
      "\n",
      "Image link: https://secure.img1-fg.wfcdn.com/im/09036913/resize-h310-w310%5Ecompr-r85/1075/107520377/Sebeka+73%2522+Square+Arm+Sofa.jpg\n",
      "\n",
      "Price: $2,069.99\n",
      "\n",
      "==============================================\n",
      "Item: 45\n",
      "\n",
      "Product link: https://www.wayfair.com/furniture/pdp/red-barrel-studio-tull-reclining-898-pillow-top-arm-sofa-w003129460.html?piid=49811603\n",
      "\n",
      "Image link: https://secure.img1-fg.wfcdn.com/im/43357167/resize-h310-w310%5Ecompr-r85/1154/115400249/Tull+Reclining+89.8%2527%2527+Pillow+Top+Arm+Sofa.jpg\n",
      "\n",
      "Price: $1,829.99\n",
      "\n",
      "==============================================\n",
      "Item: 46\n",
      "\n",
      "Product link: https://www.wayfair.com/furniture/pdp/mercer41-aquilla-sofa-w002165040.html?piid=863348487\n",
      "\n",
      "Image link: https://secure.img1-fg.wfcdn.com/im/31216291/resize-h310-w310%5Ecompr-r85/9140/91402781/Aquilla+Sofa.jpg\n",
      "\n",
      "Price: $1,029.99\n",
      "\n",
      "==============================================\n",
      "Item: 47\n",
      "\n",
      "Product link: https://www.wayfair.com/furniture/pdp/astoria-grand-st-james-89-rolled-arms-sofa-w001470063.html?piid=\n",
      "\n",
      "Image link: https://secure.img1-fg.wfcdn.com/im/44323591/resize-h310-w310%5Ecompr-r85/1194/119491366/St+James+89%2522+Rolled+Arms+Sofa.jpg\n",
      "\n",
      "Price: $4,299.99\n",
      "\n",
      "==============================================\n",
      "Item: 48\n",
      "\n",
      "Product link: https://www.wayfair.com/furniture/pdp/red-barrel-studio-nobleton-reclining-90-rolled-arm-loveseat-w000372065.html?piid=221001656\n",
      "\n",
      "Image link: https://secure.img1-fg.wfcdn.com/im/94492360/resize-h310-w310%5Ecompr-r85/1157/115718118/Nobleton+Reclining+90%2527%2527+Rolled+Arm+Loveseat.jpg\n",
      "\n",
      "Price: $1,169.99\n",
      "\n",
      "==============================================\n",
      "Item: 49\n",
      "\n",
      "Product link: https://www.wayfair.com/furniture/pdp/chelsea-home-swampscott-loveseat-wcf3074.html?piid=17659054\n",
      "\n",
      "Image link: https://secure.img1-fg.wfcdn.com/im/44256013/resize-h310-w310%5Ecompr-r85/2971/29711183/Swampscott+Loveseat.jpg\n"
     ]
    },
    {
     "name": "stdout",
     "output_type": "stream",
     "text": [
      "\n",
      "Price: $1,799.99\n",
      "\n",
      "==============================================\n",
      "Item: 50\n",
      "\n",
      "Product link: https://www.wayfair.com/furniture/pdp/17-stories-chien-sofa-stss8851.html?piid=\n",
      "\n",
      "Image link: https://secure.img1-fg.wfcdn.com/im/35955891/resize-h310-w310%5Ecompr-r85/1179/117950133/Chien+Sofa.jpg\n",
      "\n",
      "Price: $2,659.99\n",
      "\n",
      "==============================================\n",
      "Item: 51\n",
      "\n",
      "Product link: https://www.wayfair.com/furniture/pdp/rosdorf-park-luther-chesterfield-66-rolled-arm-loveseat-w001566911.html?piid=444293603\n",
      "\n",
      "Image link: https://secure.img1-fg.wfcdn.com/im/10010104/resize-h310-w310%5Ecompr-r85/7065/70659107/Luther+Chesterfield+66%2522+Rolled+Arm+Loveseat.jpg\n",
      "\n",
      "Price: $1,229.99\n",
      "\n",
      "==============================================\n",
      "Item: 52\n",
      "\n",
      "Product link: https://www.wayfair.com/furniture/pdp/corrigan-studio-amaro-84-square-arm-sofa-w003085314.html?piid=910623968\n",
      "\n",
      "Image link: https://secure.img1-fg.wfcdn.com/im/38280247/resize-h310-w310%5Ecompr-r85/1141/114140788/Amaro+84%2522+Square+Arm+Sofa.jpg\n",
      "\n",
      "Price: $2,499.99\n",
      "\n",
      "==============================================\n",
      "Item: 53\n",
      "\n",
      "Product link: https://www.wayfair.com/furniture/pdp/ebern-designs-stanley-chesterfield-sofa-w001977623.html?piid=14094450\n",
      "\n",
      "Image link: https://secure.img1-fg.wfcdn.com/im/38404176/resize-h310-w310%5Ecompr-r85/1542/15429347/Stanley+Chesterfield+Sofa.jpg\n",
      "\n",
      "Price: $1,049.99\n",
      "\n",
      "==============================================\n",
      "Item: 54\n",
      "\n",
      "Product link: https://www.wayfair.com/furniture/pdp/uniquely-furnished-reynolds-59-square-arm-loveseat-uqfd1086.html?piid=\n",
      "\n",
      "Image link: https://secure.img1-fg.wfcdn.com/im/96786571/resize-h310-w310%5Ecompr-r85/1152/115210020/Reynolds+59%2522+Square+Arm+Loveseat.jpg\n",
      "\n",
      "Price: $1,649.99\n",
      "\n",
      "==============================================\n",
      "Item: 55\n",
      "\n",
      "Product link: https://www.wayfair.com/furniture/pdp/red-barrel-studio-leona-reclining-sofa-w000611666.html?piid=1418662547\n",
      "\n",
      "Image link: https://secure.img1-fg.wfcdn.com/im/69953881/resize-h310-w310%5Ecompr-r85/9142/91426468/Leona+Reclining+Sofa.jpg\n",
      "\n",
      "Price: $1,799.99\n",
      "\n",
      "==============================================\n",
      "Item: 56\n",
      "\n",
      "Product link: https://www.wayfair.com/furniture/pdp/dreamseat-tottenham-hotspur-wordmark-logo-sofa-dst10392.html?piid=\n",
      "\n",
      "Image link: https://secure.img1-fg.wfcdn.com/im/12293841/resize-h310-w310%5Ecompr-r85/7149/71499923/Tottenham+Hotspur+Wordmark+Logo+Sofa.jpg\n",
      "\n",
      "Price: $1,479.99\n",
      "\n",
      "==============================================\n",
      "Item: 57\n",
      "\n",
      "Product link: https://www.wayfair.com/furniture/pdp/latitude-run-bexton-leather-83-flared-arm-sofa-w000089954.html?piid=1065065218\n",
      "\n",
      "Image link: https://secure.img1-fg.wfcdn.com/im/82946153/resize-h310-w310%5Ecompr-r85/1061/106172740/Bexton+Leather+83%2522+Flared+Arm+Sofa.jpg\n",
      "\n",
      "Price: $1,799.99\n",
      "\n",
      "==============================================\n",
      "Item: 58\n",
      "\n",
      "Product link: https://www.wayfair.com/commercial-business-furniture/pdp/van-gogh-designs-ryder-sofa-vn2484.html?piid=11933863\n",
      "\n",
      "Image link: https://secure.img1-fg.wfcdn.com/im/68051150/resize-h310-w310%5Ecompr-r85/9579/9579887/Ryder+Sofa.jpg\n",
      "\n",
      "Price: $1,979.99\n",
      "\n",
      "==============================================\n",
      "Item: 59\n",
      "\n",
      "Product link: https://www.wayfair.com/furniture/pdp/bay-isle-home-strachan-standard-sofa-byil4857.html?piid=29985749%2C29985757\n",
      "\n",
      "Image link: https://secure.img1-fg.wfcdn.com/im/17896021/resize-h310-w310%5Ecompr-r85/5030/50306415/Strachan+Standard+Sofa.jpg\n",
      "\n",
      "Price: $1,039.99\n",
      "\n",
      "==============================================\n",
      "Item: 60\n",
      "\n",
      "Product link: https://www.wayfair.com/furniture/pdp/darby-home-co-bairdford-loveseat-drbc8619.html?piid=\n",
      "\n",
      "Image link: https://secure.img1-fg.wfcdn.com/im/48665967/resize-h310-w310%5Ecompr-r85/3468/34689972/Bairdford+Loveseat.jpg\n",
      "\n",
      "Price: $1,279.99\n",
      "\n",
      "==============================================\n",
      "Item: 61\n",
      "\n",
      "Product link: https://www.wayfair.com/furniture/pdp/lexington-bristol-78-square-arm-sofa-ltn10107.html?piid=33947716\n",
      "\n",
      "Image link: https://secure.img1-fg.wfcdn.com/im/58641420/resize-h310-w310%5Ecompr-r85/6223/62234442/Bristol+78%2522+Square+Arm+Sofa.jpg\n",
      "\n",
      "Price: $2,899.00\n",
      "\n",
      "==============================================\n",
      "Item: 62\n",
      "\n",
      "Product link: https://www.wayfair.com/furniture/pdp/rosdorf-park-somona-loveseat-rosp7872.html?piid=\n",
      "\n",
      "Image link: https://secure.img1-fg.wfcdn.com/im/81618826/resize-h310-w310%5Ecompr-r85/9923/99230521/Somona+Loveseat.jpg\n",
      "\n",
      "Price: $1,329.99\n",
      "\n",
      "==============================================\n",
      "Item: 63\n",
      "\n",
      "Product link: https://www.wayfair.com/furniture/pdp/southern-motion-full-ride-reclining-sofa-tcsq2480.html?piid=\n",
      "\n",
      "Image link: https://secure.img1-fg.wfcdn.com/im/52116979/resize-h310-w310%5Ecompr-r85/6998/69984664/Full+Ride+Reclining+Sofa.jpg\n",
      "\n",
      "Price: $1,749.99\n",
      "\n",
      "==============================================\n",
      "Item: 64\n",
      "\n",
      "Product link: https://www.wayfair.com/furniture/pdp/bellini-italian-home-adrian-genuine-leather-76-pillow-top-arm-sofa-aajx1177.html?piid=\n",
      "\n",
      "Image link: https://secure.img1-fg.wfcdn.com/im/69102642/resize-h310-w310%5Ecompr-r85/1091/109102695/Adrian+Genuine+Leather+76%2527%2527+Pillow+Top+Arm+Sofa.jpg\n",
      "\n",
      "Price: $3,499.99\n",
      "\n",
      "==============================================\n",
      "Item: 65\n",
      "\n",
      "Product link: https://www.wayfair.com/furniture/pdp/latitude-run-mutlu-leather-87-square-arm-sofa-w002825394.html?piid=\n",
      "\n",
      "Image link: https://secure.img1-fg.wfcdn.com/im/52140296/resize-h310-w310%5Ecompr-r85/1072/107299933/Mutlu+Leather+87%2522+Square+Arm+Sofa.jpg\n",
      "\n",
      "Price: $2,799.99\n",
      "\n",
      "==============================================\n",
      "Item: 66\n",
      "\n",
      "Product link: https://www.wayfair.com/furniture/pdp/darby-home-co-hartwick-86-rolled-arm-sofa-dbyh5502.html?piid=\n",
      "\n",
      "Image link: https://secure.img1-fg.wfcdn.com/im/15360066/resize-h310-w310%5Ecompr-r85/3747/37472606/Hartwick+86%2522+Rolled+Arm+Sofa.jpg\n",
      "\n",
      "Price: $1,049.99\n",
      "\n",
      "==============================================\n",
      "Item: 67\n",
      "\n",
      "Product link: https://www.wayfair.com/furniture/pdp/millwood-pines-sherly-reclining-61-pillow-top-sofa-w001383598.html?piid=\n",
      "\n",
      "Image link: https://secure.img1-fg.wfcdn.com/im/33775638/resize-h310-w310%5Ecompr-r85/1093/109363234/Sherly+Reclining+61%2522+Pillow+Top+Sofa.jpg\n",
      "\n",
      "Price: $1,199.99\n",
      "\n",
      "==============================================\n",
      "Item: 68\n",
      "\n",
      "Product link: https://www.wayfair.com/furniture/pdp/lexington-take-five-genuine-leather-885-square-arm-sofa-ltn10066.html?piid=\n",
      "\n",
      "Image link: https://secure.img1-fg.wfcdn.com/im/01175504/resize-h310-w310%5Ecompr-r85/6223/62234820/Take+Five+Genuine+Leather+88.5%2522+Square+Arm+Sofa.jpg\n",
      "\n",
      "Price: $5,629.00\n",
      "\n",
      "==============================================\n",
      "Item: 69\n",
      "\n",
      "Product link: https://www.wayfair.com/furniture/pdp/latitude-run-anasha-89-round-arm-sleeper-w003080011.html?piid=\n",
      "\n",
      "Image link: https://secure.img1-fg.wfcdn.com/im/17981114/resize-h310-w310%5Ecompr-r85/1193/119372567/Anasha+89%2522+Round+Arm+Sleeper.jpg\n",
      "\n",
      "Price: $1,739.99\n",
      "\n",
      "==============================================\n",
      "Item: 70\n",
      "\n",
      "Product link: https://www.wayfair.com/furniture/pdp/red-barrel-studio-kropf-reclining-127-pillow-top-arm-sofa-w001859381.html?piid=805690870\n",
      "\n",
      "Image link: https://secure.img1-fg.wfcdn.com/im/77436179/resize-h310-w310%5Ecompr-r85/9557/95575025/Kropf+Reclining+127%2522+Pillow+Top+Arm+Sofa.jpg\n",
      "\n",
      "Price: $1,459.99\n",
      "\n",
      "==============================================\n",
      "Item: 71\n",
      "\n",
      "Product link: https://www.wayfair.com/furniture/pdp/zentique-velvet-sofa-xwk1796.html?piid=\n",
      "\n",
      "Image link: https://secure.img1-fg.wfcdn.com/im/02700603/resize-h310-w310%5Ecompr-r85/4599/45990427/Velvet+Sofa.jpg\n",
      "\n",
      "Price: $5,278.50\n",
      "\n",
      "==============================================\n",
      "Item: 72\n",
      "\n",
      "Product link: https://www.wayfair.com/furniture/pdp/three-posts-derbyshire-genuine-leather-76-square-arm-sofa-w001671410.html?piid=1404939789\n",
      "\n",
      "Image link: https://secure.img1-fg.wfcdn.com/im/78608270/resize-h310-w310%5Ecompr-r85/9276/92762568/Derbyshire+Genuine+Leather+76%2522+Square+Arm+Sofa.jpg\n",
      "\n",
      "Price: $1,299.99\n",
      "\n",
      "==============================================\n",
      "Item: 73\n",
      "\n",
      "Product link: https://www.wayfair.com/furniture/pdp/red-barrel-studio-griess-reclining-795-recessed-arm-sofa-w003212777.html?piid=\n",
      "\n",
      "Image link: https://secure.img1-fg.wfcdn.com/im/72769492/resize-h310-w310%5Ecompr-r85/1191/119155094/Griess+Reclining+79.5%2527%2527+Recessed+Arm+Sofa.jpg\n",
      "\n",
      "Price: $1,959.99\n",
      "\n",
      "==============================================\n",
      "Item: 74\n",
      "\n",
      "Product link: https://www.wayfair.com/furniture/pdp/three-posts-theodora-genuine-leather-89-square-arm-sofa-w001672544.html?piid=1542826234\n"
     ]
    },
    {
     "name": "stdout",
     "output_type": "stream",
     "text": [
      "\n",
      "Image link: https://secure.img1-fg.wfcdn.com/im/67386363/resize-h310-w310%5Ecompr-r85/4568/45680799/Theodora+Genuine+Leather+89%2522+Square+Arm+Sofa.jpg\n",
      "\n",
      "Price: $1,439.99\n",
      "\n",
      "==============================================\n",
      "Item: 75\n",
      "\n",
      "Product link: https://www.wayfair.com/furniture/pdp/orren-ellis-francis-brown-leather-sofa-orel2898.html?piid=\n",
      "\n",
      "Image link: https://secure.img1-fg.wfcdn.com/im/92707293/resize-h310-w310%5Ecompr-r85/2678/26783769/Francis+Brown+Leather+Sofa.jpg\n",
      "\n",
      "Price: $3,599.99\n",
      "\n",
      "==============================================\n",
      "Item: 76\n",
      "\n",
      "Product link: https://www.wayfair.com/furniture/pdp/lexington-avondale-60-flared-arm-settee-ltn10450.html?piid=\n",
      "\n",
      "Image link: https://secure.img1-fg.wfcdn.com/im/68095848/resize-h310-w310%5Ecompr-r85/1184/118451678/Avondale+60%2522+Flared+Arm+Settee.jpg\n",
      "\n",
      "Price: $2,129.00\n",
      "\n",
      "==============================================\n",
      "Item: 77\n",
      "\n",
      "Product link: https://www.wayfair.com/furniture/pdp/orren-ellis-cowhill-leather-loveseat-ornl3545.html?piid=25936360\n",
      "\n",
      "Image link: https://secure.img1-fg.wfcdn.com/im/15335895/resize-h310-w310%5Ecompr-r85/4774/47748286/Cowhill+Leather+Loveseat.jpg\n",
      "\n",
      "Price: $2,599.99\n",
      "\n",
      "==============================================\n",
      "Item: 78\n",
      "\n",
      "Product link: https://www.wayfair.com/furniture/pdp/maxine-genuine-leather-89-square-arm-sofa-w001429169.html?piid=1988089845%2C1988089824\n",
      "\n",
      "Image link: https://secure.img1-fg.wfcdn.com/im/96933207/resize-h310-w310%5Ecompr-r85/7875/78751877/Maxine+Genuine+Leather+89%2522+Square+Arm+Sofa.jpg\n",
      "\n",
      "Price: $2,835.00\n",
      "\n",
      "==============================================\n",
      "Item: 79\n",
      "\n",
      "Product link: https://www.wayfair.com/furniture/pdp/corrigan-studio-elane-78-pillow-top-arm-sofa-w003266963.html?piid=970804595\n",
      "\n",
      "Image link: https://secure.img1-fg.wfcdn.com/im/44368432/resize-h310-w310%5Ecompr-r85/1210/121069637/Elane+78%2522+Pillow+Top+Arm+Sofa.jpg\n",
      "\n",
      "Price: $2,439.99\n",
      "\n",
      "==============================================\n",
      "Item: 80\n",
      "\n",
      "Product link: https://www.wayfair.com/furniture/pdp/17-stories-aviva-96-round-arm-sofa-w000950429.html?piid=\n",
      "\n",
      "Image link: https://secure.img1-fg.wfcdn.com/im/97019531/resize-h310-w310%5Ecompr-r85/6212/62126476/Aviva+96%2522+Round+Arm+Sofa.jpg\n",
      "\n",
      "Price: $3,339.99\n",
      "\n",
      "==============================================\n",
      "Item: 81\n",
      "\n",
      "Product link: https://www.wayfair.com/furniture/pdp/orren-ellis-dionne-leather-reclining-sofa-orel4832.html?piid=25296436\n",
      "\n",
      "Image link: https://secure.img1-fg.wfcdn.com/im/87945430/resize-h310-w310%5Ecompr-r85/4317/43179724/Dionne+Leather+Reclining+Sofa.jpg\n",
      "\n",
      "Price: $4,119.00\n",
      "\n",
      "==============================================\n",
      "Item: 82\n",
      "\n",
      "Product link: https://www.wayfair.com/furniture/pdp/charlton-home-armstrong-99-square-arm-sofa-w001888296.html?piid=\n",
      "\n",
      "Image link: https://secure.img1-fg.wfcdn.com/im/67272742/resize-h310-w310%5Ecompr-r85/8706/87063953/Armstrong+99%2522+Square+Arm+Sofa.jpg\n",
      "\n",
      "Price: $1,079.99\n",
      "\n",
      "==============================================\n",
      "Item: 83\n",
      "\n",
      "Product link: https://www.wayfair.com/furniture/pdp/canora-grey-montross-chesterfield-sofa-w002589156.html?piid=\n",
      "\n",
      "Image link: https://secure.img1-fg.wfcdn.com/im/06133494/resize-h310-w310%5Ecompr-r85/1019/101907050/Montross+Chesterfield+Sofa.jpg\n",
      "\n",
      "Price: $1,579.99\n",
      "\n",
      "==============================================\n",
      "Item: 84\n",
      "\n",
      "Product link: https://www.wayfair.com/furniture/pdp/wrought-studio-zareen-sofa-w001804679.html?piid=1455242377\n",
      "\n",
      "Image link: https://secure.img1-fg.wfcdn.com/im/85012013/resize-h310-w310%5Ecompr-r85/8381/83812934/Zareen+Sofa.jpg\n",
      "\n",
      "Price: $1,049.99\n",
      "\n",
      "==============================================\n",
      "Item: 85\n",
      "\n",
      "Product link: https://www.wayfair.com/furniture/pdp/orren-ellis-lorrain-genuine-leather-7875-flared-arm-sofa-w001732179.html?piid=1905134657\n",
      "\n",
      "Image link: https://secure.img1-fg.wfcdn.com/im/29522709/resize-h310-w310%5Ecompr-r85/3183/31830858/Lorrain+Genuine+Leather+78.75%2522+Flared+Arm+Sofa.jpg\n",
      "\n",
      "Price: $1,389.99\n",
      "\n",
      "==============================================\n",
      "Item: 86\n",
      "\n",
      "Product link: https://www.wayfair.com/furniture/pdp/highland-dunes-jimi-90-square-arm-sofa-hidn4718.html?piid=28137395\n",
      "\n",
      "Image link: https://secure.img1-fg.wfcdn.com/im/69141487/resize-h310-w310%5Ecompr-r85/5100/51000266/Jimi+90%2522+Square+Arm+Sofa.jpg\n",
      "\n",
      "Price: $1,279.99\n",
      "\n",
      "==============================================\n",
      "Item: 87\n",
      "\n",
      "Product link: https://www.wayfair.com/furniture/pdp/red-barrel-studio-mellor-reclining-87-pillow-top-arms-sofa-byv10071.html?piid=\n",
      "\n",
      "Image link: https://secure.img1-fg.wfcdn.com/im/81132234/resize-h310-w310%5Ecompr-r85/6287/62876345/Mellor+Reclining+87%2522+Pillow+Top+Arms+Sofa.jpg\n",
      "\n",
      "Price: $1,299.99\n",
      "\n",
      "==============================================\n",
      "Item: 88\n",
      "\n",
      "Product link: https://www.wayfair.com/furniture/pdp/chic-teak-water-hyacinth-rome-loveseat-cctk1054.html?piid=\n",
      "\n",
      "Image link: https://secure.img1-fg.wfcdn.com/im/52130521/resize-h310-w310%5Ecompr-r85/6586/65866395/Water+Hyacinth+Rome+Loveseat.jpg\n",
      "\n",
      "Price: $1,239.99\n",
      "\n",
      "==============================================\n",
      "Item: 89\n",
      "\n",
      "Product link: https://www.wayfair.com/furniture/pdp/canora-grey-jerimiah-39-rolled-arm-loveseat-w003212526.html?piid=\n",
      "\n",
      "Image link: https://secure.img1-fg.wfcdn.com/im/08804911/resize-h310-w310%5Ecompr-r85/1143/114314404/Jerimiah+39%2527%2527+Rolled+Arm+Loveseat.jpg\n",
      "\n",
      "Price: $1,159.99\n",
      "\n",
      "==============================================\n",
      "Item: 90\n",
      "\n",
      "Product link: https://www.wayfair.com/furniture/pdp/17-stories-nekizia-sofa-stss6710.html?piid=\n",
      "\n",
      "Image link: https://secure.img1-fg.wfcdn.com/im/83273983/resize-h310-w310%5Ecompr-r85/4384/43848063/Nekizia+Sofa.jpg\n",
      "\n",
      "Price: $3,559.99\n",
      "\n",
      "==============================================\n",
      "Item: 91\n",
      "\n",
      "Product link: https://www.wayfair.com/furniture/pdp/latitude-run-passerine-cotton-58-recessed-arms-loveseat-w002721771.html?piid=\n",
      "\n",
      "Image link: https://secure.img1-fg.wfcdn.com/im/98654611/resize-h310-w310%5Ecompr-r85/1166/116624039/Passerine+Cotton+58%2522+Recessed+Arms+Loveseat.jpg\n",
      "\n",
      "Price: $1,049.99\n",
      "\n",
      "==============================================\n",
      "Item: 92\n",
      "\n",
      "Product link: https://www.wayfair.com/furniture/pdp/orren-ellis-bloomsburg-leather-loveseat-w000002628.html?piid=263547360\n",
      "\n",
      "Image link: https://secure.img1-fg.wfcdn.com/im/90060031/resize-h310-w310%5Ecompr-r85/6859/68597719/Bloomsburg+Leather+Loveseat.jpg\n",
      "\n",
      "Price: $1,999.99\n",
      "\n",
      "==============================================\n",
      "Lengths of lists:  92 92 92\n",
      "Number of products on Page 4: 92\n",
      "\n"
     ]
    },
    {
     "name": "stderr",
     "output_type": "stream",
     "text": [
      "\n",
      "92it [00:00, 92248.62it/s]\n",
      "100%|████████████████████████████████████████████████████████████████████████████████████| 4/4 [01:22<00:00, 20.61s/it]\n"
     ]
    }
   ],
   "source": [
    "product_info = []\n",
    "base_url = 'https://www.wayfair.com/filters/furniture/sb1/sofas-c413892-p2479~1000~*.html?itemsperpage=96&curpage='\n",
    "#base_url = 'https://www.wayfair.com/furniture/sb0/sofas-c413892.html?curpage='\n",
    "\n",
    "#data from pages 1 - 4\n",
    "for page in tqdm(range(1,5)):\n",
    "    url = base_url + str(page)\n",
    "    (product_links, image_links, prices) = get_product_info_from_mainpage(url)\n",
    "    print(f\"Number of products on Page {page}: {len(product_links)}\\n\")\n",
    "    i = 5779\n",
    "    for (product_url, img_url, price) in tqdm(zip(product_links, image_links, prices)):\n",
    "        i += 1\n",
    "        #item_no = f\"{page}_{i}\"\n",
    "        item_no = f\"{i}\"\n",
    "        try:\n",
    "            info = {'price' : price, 'img_url' : img_url}\n",
    "            product_info.append((item_no,info))     \n",
    "        except:\n",
    "            print(f\"Failed. Product link: {product_url}\")\n",
    "            pass"
   ]
  },
  {
   "cell_type": "code",
   "execution_count": 21,
   "metadata": {},
   "outputs": [
    {
     "data": {
      "text/plain": [
       "[('5780',\n",
       "  {'price': '$1,019.99',\n",
       "   'img_url': 'https://secure.img1-fg.wfcdn.com/im/12726311/resize-h310-w310%5Ecompr-r85/6493/64936323/Chesterfield+84.5%2522+Rolled+Arm+Sofa.jpg'}),\n",
       " ('5781',\n",
       "  {'price': '$1,019.99',\n",
       "   'img_url': 'https://secure.img1-fg.wfcdn.com/im/56432728/resize-h310-w310%5Ecompr-r85/1178/117801067/Luanna+Chesterfield+80%2522+Recessed+Arm+Sofa.jpg'}),\n",
       " ('5782',\n",
       "  {'price': '$1,079.99',\n",
       "   'img_url': 'https://secure.img1-fg.wfcdn.com/im/38238360/resize-h310-w310%5Ecompr-r85/6045/60454011/Bombay+Genuine+Leather+84%2522+Square+Arms+Sofa.jpg'}),\n",
       " ('5783',\n",
       "  {'price': '$1,169.99',\n",
       "   'img_url': 'https://secure.img1-fg.wfcdn.com/im/70316309/resize-h310-w310%5Ecompr-r85/4687/46877341/Hardin+Right+Hand+Facing+Sectional+with+Ottoman.jpg'}),\n",
       " ('5784',\n",
       "  {'price': '$1,119.99',\n",
       "   'img_url': 'https://secure.img1-fg.wfcdn.com/im/16981263/resize-h310-w310%5Ecompr-r85/1047/104796711/Westberg+Velvet+Chesterfield+76%2522+Rolled+Arms+Loveseat.jpg'}),\n",
       " ('5785',\n",
       "  {'price': '$1,349.00',\n",
       "   'img_url': 'https://secure.img1-fg.wfcdn.com/im/06317258/resize-h310-w310%5Ecompr-r85/1150/115069627/Carly+93%2522Recessed+Arm+Sofa+Bed.jpg'}),\n",
       " ('5786',\n",
       "  {'price': '$1,759.99',\n",
       "   'img_url': 'https://secure.img1-fg.wfcdn.com/im/46614650/resize-h310-w310%5Ecompr-r85/7888/78886170/Brinson+Genuine+Leather+Chesterfield+95%2522+Rolled+Arm+Sofa.jpg'}),\n",
       " ('5787',\n",
       "  {'price': '$1,449.00',\n",
       "   'img_url': 'https://secure.img1-fg.wfcdn.com/im/21646652/resize-h310-w310%5Ecompr-r85/9063/90637842/Foundation+59%2522+Round+Arm+Loveseat.jpg'}),\n",
       " ('5788',\n",
       "  {'price': '$1,329.99',\n",
       "   'img_url': 'https://secure.img1-fg.wfcdn.com/im/65518329/resize-h310-w310%5Ecompr-r85/6319/63195877/Oliver+90%2522+Reversible+Modular+Sectional+with+Ottoman.jpg'}),\n",
       " ('5789',\n",
       "  {'price': '$1,229.99',\n",
       "   'img_url': 'https://secure.img1-fg.wfcdn.com/im/89011067/resize-h310-w310%5Ecompr-r85/7880/78809400/Arne+81.5%2522+Square+Arm+Sofa.jpg'}),\n",
       " ('5790',\n",
       "  {'price': '$1,059.99',\n",
       "   'img_url': 'https://secure.img1-fg.wfcdn.com/im/01022223/resize-h310-w310%5Ecompr-r85/4335/43357578/Joseph+Reversible+Sectional.jpg'}),\n",
       " ('5791',\n",
       "  {'price': '$1,099.99',\n",
       "   'img_url': 'https://secure.img1-fg.wfcdn.com/im/14532527/resize-h310-w310%5Ecompr-r85/4593/45938748/Live-it+Cozy+87.8%2522+Reversible+Sleeper+Sectional.jpg'}),\n",
       " ('5792',\n",
       "  {'price': '$1,369.99',\n",
       "   'img_url': 'https://secure.img1-fg.wfcdn.com/im/74145615/resize-h310-w310%5Ecompr-r85/6413/64136059/Idris+80%2522+Square+Arm+Sofa.jpg'}),\n",
       " ('5793',\n",
       "  {'price': '$1,569.99',\n",
       "   'img_url': 'https://secure.img1-fg.wfcdn.com/im/97279698/resize-h310-w310%5Ecompr-r85/4466/44665655/Quitaque+Left+Hand+Facing+Sectional.jpg'}),\n",
       " ('5794',\n",
       "  {'price': '$1,049.99',\n",
       "   'img_url': 'https://secure.img1-fg.wfcdn.com/im/20900112/resize-h310-w310%5Ecompr-r85/1152/115203964/Salsbury+63%2522+Flared+Arm+Sofa+Bed.jpg'}),\n",
       " ('5795',\n",
       "  {'price': '$1,999.99',\n",
       "   'img_url': 'https://secure.img1-fg.wfcdn.com/im/59535156/resize-h310-w310%5Ecompr-r85/1083/108308717/Simonsen+72.5%2522+Round+Arms+Sofa.jpg'}),\n",
       " ('5796',\n",
       "  {'price': '$1,069.99',\n",
       "   'img_url': 'https://secure.img1-fg.wfcdn.com/im/57337903/resize-h310-w310%5Ecompr-r85/6301/63013047/Regin+111%2522+Reversible+Sectional.jpg'}),\n",
       " ('5797',\n",
       "  {'price': '$1,749.99',\n",
       "   'img_url': 'https://secure.img1-fg.wfcdn.com/im/65929144/resize-h310-w310%5Ecompr-r85/5834/58343105/Welton+Velvet+69%2522+Rolled+Arm+Loveseat.jpg'}),\n",
       " ('5798',\n",
       "  {'price': '$1,199.00',\n",
       "   'img_url': 'https://secure.img1-fg.wfcdn.com/im/91276715/resize-h310-w310%5Ecompr-r85/9908/99088378/Doug+Reclining+91%2522+Rolled+Arm+Sofa.jpg'}),\n",
       " ('5799',\n",
       "  {'price': '$1,099.99',\n",
       "   'img_url': 'https://secure.img1-fg.wfcdn.com/im/28207542/resize-h310-w310%5Ecompr-r85/3449/34491770/Padang+Sidempuan+90%2522+Pillow+top+Arm+Sofa+Bed.jpg'}),\n",
       " ('5800',\n",
       "  {'price': '$1,069.99',\n",
       "   'img_url': 'https://secure.img1-fg.wfcdn.com/im/48126602/resize-h310-w310%5Ecompr-r85/6115/61158949/Schaeffer+Right+Hand+Facing+Sectional.jpg'}),\n",
       " ('5801',\n",
       "  {'price': '$2,059.99',\n",
       "   'img_url': 'https://secure.img1-fg.wfcdn.com/im/72375181/resize-h310-w310%5Ecompr-r85/1054/105463016/Alisia+32.3%2522+Armless+Sofa.jpg'}),\n",
       " ('5802',\n",
       "  {'price': '$2,699.99',\n",
       "   'img_url': 'https://secure.img1-fg.wfcdn.com/im/25649198/resize-h310-w310%5Ecompr-r85/5877/58774200/Welles+Loveseat.jpg'}),\n",
       " ('5803',\n",
       "  {'price': '$1,259.99',\n",
       "   'img_url': 'https://secure.img1-fg.wfcdn.com/im/10577193/resize-h310-w310%5Ecompr-r85/4747/47473674/Kavya+Chesterfield+109%2522+Tuxedo+Arm+Sofa.jpg'}),\n",
       " ('5804',\n",
       "  {'price': '$2,369.99',\n",
       "   'img_url': 'https://secure.img1-fg.wfcdn.com/im/21208384/resize-h310-w310%5Ecompr-r85/1051/105141609/Ullrich+93%2522+Rolled+Arm+Sofa.jpg'}),\n",
       " ('5805',\n",
       "  {'price': '$2,299.99',\n",
       "   'img_url': 'https://secure.img1-fg.wfcdn.com/im/01475381/resize-h310-w310%5Ecompr-r85/3425/34259834/Tressa%25C2%25A0+94%2522+Rolled+Arm+Sofa.jpg'}),\n",
       " ('5806',\n",
       "  {'price': '$1,049.00',\n",
       "   'img_url': 'https://secure.img1-fg.wfcdn.com/im/01795901/resize-h310-w310%5Ecompr-r85/9261/92613160/Casey+88%2522+Rolled+Arm+Sofa.jpg'}),\n",
       " ('5807',\n",
       "  {'price': '$1,799.99',\n",
       "   'img_url': 'https://secure.img1-fg.wfcdn.com/im/88532180/resize-h310-w310%5Ecompr-r85/1054/105462951/Alisia+Armless+Loveseat.jpg'}),\n",
       " ('5808',\n",
       "  {'price': '$2,299.99',\n",
       "   'img_url': 'https://secure.img1-fg.wfcdn.com/im/61323491/resize-h310-w310%5Ecompr-r85/1118/111834431/Welles+Sofa.jpg'}),\n",
       " ('5809',\n",
       "  {'price': '$1,629.99',\n",
       "   'img_url': 'https://secure.img1-fg.wfcdn.com/im/76181803/resize-h310-w310%5Ecompr-r85/6092/60926805/Cloutier+Right+Hand+Facing+Sectional.jpg'}),\n",
       " ('5810',\n",
       "  {'price': '$1,079.99',\n",
       "   'img_url': 'https://secure.img1-fg.wfcdn.com/im/95479499/resize-h310-w310%5Ecompr-r85/8745/87457276/Giovanny+Reversible+Sectional.jpg'}),\n",
       " ('5811',\n",
       "  {'price': '$2,599.99',\n",
       "   'img_url': 'https://secure.img1-fg.wfcdn.com/im/80920564/resize-h310-w310%5Ecompr-r85/6514/65144104/Welton+Standard+Loveseat.jpg'}),\n",
       " ('5812',\n",
       "  {'price': '$1,179.00',\n",
       "   'img_url': 'https://secure.img1-fg.wfcdn.com/im/35985509/resize-h310-w310%5Ecompr-r85/1184/118490786/Doug+Reclining+67%2522+Rolled+Arm+Loveseat.jpg'}),\n",
       " ('5813',\n",
       "  {'price': '$1,339.99',\n",
       "   'img_url': 'https://secure.img1-fg.wfcdn.com/im/09529430/resize-h310-w310%5Ecompr-r85/2730/27305206/Orlando+Faux+Leather+Standard+86%2522+Square+Arm+Sofa.jpg'}),\n",
       " ('5814',\n",
       "  {'price': '$1,089.99',\n",
       "   'img_url': 'https://secure.img1-fg.wfcdn.com/im/14317913/resize-h310-w310%5Ecompr-r85/9974/99748496/Brooklyn+Chesterfield+87%2522+Rolled+Arm+Sofa.jpg'}),\n",
       " ('5815',\n",
       "  {'price': '$1,189.99',\n",
       "   'img_url': 'https://secure.img1-fg.wfcdn.com/im/13515115/resize-h310-w310%5Ecompr-r85/1055/105569026/Eulah+79%2522+Rolled+Arms+Sofa+Bed.jpg'}),\n",
       " ('5816',\n",
       "  {'price': '$1,229.19',\n",
       "   'img_url': 'https://secure.img1-fg.wfcdn.com/im/41314345/resize-h310-w310%5Ecompr-r85/9841/98413098/Logan+Reclining+83%2522+Recessed+Arm+Sofa.jpg'}),\n",
       " ('5817',\n",
       "  {'price': '$1,139.99',\n",
       "   'img_url': 'https://secure.img1-fg.wfcdn.com/im/07215305/resize-h310-w310%5Ecompr-r85/4571/45710209/Waldschmidt+Microfiber+/+Microsuede+67%2522+Pillow+Top+Arm+Loveseat.jpg'}),\n",
       " ('5818',\n",
       "  {'price': '$1,769.99',\n",
       "   'img_url': 'https://secure.img1-fg.wfcdn.com/im/44660872/resize-h310-w310%5Ecompr-r85/4318/43184962/Welling+Traditional+Loveseat.jpg'}),\n",
       " ('5819',\n",
       "  {'price': '$1,079.99',\n",
       "   'img_url': 'https://secure.img1-fg.wfcdn.com/im/47999703/resize-h310-w310%5Ecompr-r85/5852/58526152/Quitaque+Left+Hand+Facing+Sectional.jpg'}),\n",
       " ('5820',\n",
       "  {'price': '$1,039.99',\n",
       "   'img_url': 'https://secure.img1-fg.wfcdn.com/im/77518674/resize-h310-w310%5Ecompr-r85/5251/5251002/Charlie+Cotton+90%2522+Round+Arm+Sofa.jpg'}),\n",
       " ('5821',\n",
       "  {'price': '$1,049.00',\n",
       "   'img_url': 'https://secure.img1-fg.wfcdn.com/im/97675251/resize-h310-w310%5Ecompr-r85/5044/50444335/Avery+86%2522+Recessed+Arm+Sofa+Bed.jpg'}),\n",
       " ('5822',\n",
       "  {'price': '$1,099.99',\n",
       "   'img_url': 'https://secure.img1-fg.wfcdn.com/im/88806572/resize-h310-w310%5Ecompr-r85/1159/115977359/Kaylyn+89%2522+Recessed+Arm+Sofa.jpg'}),\n",
       " ('5823',\n",
       "  {'price': '$1,669.99',\n",
       "   'img_url': 'https://secure.img1-fg.wfcdn.com/im/84567186/resize-h310-w310%5Ecompr-r85/5178/51786336/Trouper+Reclining+85+inches+Pillow+Top+Arms+Sofa.jpg'}),\n",
       " ('5824',\n",
       "  {'price': '$1,339.99',\n",
       "   'img_url': 'https://secure.img1-fg.wfcdn.com/im/59931372/resize-h310-w310%5Ecompr-r85/3872/38721378/Ketan+Right+Hand+Facing+Sectional.jpg'}),\n",
       " ('5825',\n",
       "  {'price': '$1,189.99',\n",
       "   'img_url': 'https://secure.img1-fg.wfcdn.com/im/96840003/resize-h310-w310%5Ecompr-r85/1181/118101839/37.75%2527%2527+Square+Arm+Loveseat.jpg'}),\n",
       " ('5826',\n",
       "  {'price': '$1,069.99',\n",
       "   'img_url': 'https://secure.img1-fg.wfcdn.com/im/83441234/resize-h310-w310%5Ecompr-r85/1011/10110493/Charlie+Sierra+Sofa.jpg'}),\n",
       " ('5827',\n",
       "  {'price': '$1,129.99',\n",
       "   'img_url': 'https://secure.img1-fg.wfcdn.com/im/86859592/resize-h310-w310%5Ecompr-r85/1223/122330185/Vegard+Chesterfield+91.34%2522+Round+Arm+Sofa.jpg'}),\n",
       " ('5828',\n",
       "  {'price': '$1,049.99',\n",
       "   'img_url': 'https://secure.img1-fg.wfcdn.com/im/68651493/resize-h310-w310%5Ecompr-r85/7604/76040711/Brylee+118%2522+Reversible+Sectional.jpg'}),\n",
       " ('5829',\n",
       "  {'price': '$1,059.99',\n",
       "   'img_url': 'https://secure.img1-fg.wfcdn.com/im/25786051/resize-h310-w310%5Ecompr-r85/1159/115988691/98%2522+Square+Arm+Sofa.jpg'}),\n",
       " ('5830',\n",
       "  {'price': '$1,139.99',\n",
       "   'img_url': 'https://secure.img1-fg.wfcdn.com/im/89016754/resize-h310-w310%5Ecompr-r85/1182/118260052/Lesley+87%2522+Square+Arm+Sofa+Bed.jpg'}),\n",
       " ('5831',\n",
       "  {'price': '$1,019.99',\n",
       "   'img_url': 'https://secure.img1-fg.wfcdn.com/im/13262955/resize-h310-w310%5Ecompr-r85/1135/113580381/Anderson+Chesterfield+69%2522+Rolled+Arm+Loveseat.jpg'}),\n",
       " ('5832',\n",
       "  {'price': '$2,899.99',\n",
       "   'img_url': 'https://secure.img1-fg.wfcdn.com/im/46872983/resize-h310-w310%5Ecompr-r85/4172/41724224/Reimann++Sofa.jpg'}),\n",
       " ('5833',\n",
       "  {'price': '$1,159.99',\n",
       "   'img_url': 'https://secure.img1-fg.wfcdn.com/im/66779431/resize-h310-w310%5Ecompr-r85/9037/90375000/Mercer+Velvet+Chesterfield+85%2522+Rolled+Arm+Sofa.jpg'}),\n",
       " ('5834',\n",
       "  {'price': '$1,139.99',\n",
       "   'img_url': 'https://secure.img1-fg.wfcdn.com/im/47093343/resize-h310-w310%5Ecompr-r85/8628/86280604/Alsager+Chesterfield+Sofa.jpg'}),\n",
       " ('5835',\n",
       "  {'price': '$1,999.99',\n",
       "   'img_url': 'https://secure.img1-fg.wfcdn.com/im/96054254/resize-h310-w310%5Ecompr-r85/1188/118844456/Cordia+Genuine+Leather+87%2522+Recessed+Arm+Sofa+Bed.jpg'}),\n",
       " ('5836',\n",
       "  {'price': '$1,469.99',\n",
       "   'img_url': 'https://secure.img1-fg.wfcdn.com/im/09270226/resize-h310-w310%5Ecompr-r85/6554/65549338/Bima+Reclining+85%2522+Pillow+top+Arms+Sofa.jpg'}),\n",
       " ('5837',\n",
       "  {'price': '$1,039.99',\n",
       "   'img_url': 'https://secure.img1-fg.wfcdn.com/im/02315677/resize-h310-w310%5Ecompr-r85/1086/108606481/Huston+88%2522+Rolled+Arms+Sofa.jpg'}),\n",
       " ('5838',\n",
       "  {'price': '$1,079.99',\n",
       "   'img_url': 'https://secure.img1-fg.wfcdn.com/im/13634394/resize-h310-w310%5Ecompr-r85/7286/72861908/Krysten+101%2522+Symmetrical+Sectional.jpg'}),\n",
       " ('5839',\n",
       "  {'price': '$1,099.99',\n",
       "   'img_url': 'https://secure.img1-fg.wfcdn.com/im/32455575/resize-h310-w310%5Ecompr-r85/9071/90710612/Gardea+Reversible+Sectional.jpg'}),\n",
       " ('5840',\n",
       "  {'price': '$1,199.99',\n",
       "   'img_url': 'https://secure.img1-fg.wfcdn.com/im/62721746/resize-h310-w310%5Ecompr-r85/6517/65173193/Samaira+112%2522+Right+Hand+Facing+Sleeper+Sectional.jpg'}),\n",
       " ('5841',\n",
       "  {'price': '$3,999.99',\n",
       "   'img_url': 'https://secure.img1-fg.wfcdn.com/im/45004032/resize-h310-w310%5Ecompr-r85/5824/58240868/Jazmin+Velvet+Curved+109%2522+Rolled+Arm+Sofa.jpg'}),\n",
       " ('5842',\n",
       "  {'price': '$1,169.99',\n",
       "   'img_url': 'https://secure.img1-fg.wfcdn.com/im/40946799/resize-h310-w310%5Ecompr-r85/1188/118856557/Negley+91%2522+Round+Arm+Sofa+Bed.jpg'}),\n",
       " ('5843',\n",
       "  {'price': '$1,399.99',\n",
       "   'img_url': 'https://secure.img1-fg.wfcdn.com/im/30701715/resize-h310-w310%5Ecompr-r85/8458/84582335/Liesl+Reclining+Loveseat.jpg'}),\n",
       " ('5844',\n",
       "  {'price': '$1,239.99',\n",
       "   'img_url': 'https://secure.img1-fg.wfcdn.com/im/86273653/resize-h310-w310%5Ecompr-r85/1076/107600604/Barnsdale+Reclining+Round+Arms+Sofa.jpg'}),\n",
       " ('5845',\n",
       "  {'price': '$1,389.99',\n",
       "   'img_url': 'https://secure.img1-fg.wfcdn.com/im/43342383/resize-h310-w310%5Ecompr-r85/4128/41288863/Lambdin+Genuine+Leather+88%2522+Round+Arm+Sofa.jpg'}),\n",
       " ('5846',\n",
       "  {'price': '$1,199.99',\n",
       "   'img_url': 'https://secure.img1-fg.wfcdn.com/im/97702415/resize-h310-w310%5Ecompr-r85/8947/89477375/Whipton+84+inches+Rolled+Arms+Sofa.jpg'}),\n",
       " ('5847',\n",
       "  {'price': '$1,229.99',\n",
       "   'img_url': 'https://secure.img1-fg.wfcdn.com/im/21917770/resize-h310-w310%5Ecompr-r85/7592/75924787/Destanee+94%2522+Rolled+Arm+Sofa.jpg'}),\n",
       " ('5848',\n",
       "  {'price': '$1,389.99',\n",
       "   'img_url': 'https://secure.img1-fg.wfcdn.com/im/50321908/resize-h310-w310%5Ecompr-r85/7892/78928988/Hotchkiss+Genuine+Leather+84%2522+Rolled+Arm+Sofa.jpg'}),\n",
       " ('5849',\n",
       "  {'price': '$1,469.99',\n",
       "   'img_url': 'https://secure.img1-fg.wfcdn.com/im/77794258/resize-h310-w310%5Ecompr-r85/8458/84582312/Carolina+Reclining+87%2522+Round+Arm+Sofa.jpg'}),\n",
       " ('5850',\n",
       "  {'price': '$5,400.00',\n",
       "   'img_url': 'https://secure.img1-fg.wfcdn.com/im/76546584/resize-h310-w310%5Ecompr-r85/1584/15846481/Malibu+91%2522+Sectional.jpg'}),\n",
       " ('5851',\n",
       "  {'price': '$3,059.99',\n",
       "   'img_url': 'https://secure.img1-fg.wfcdn.com/im/30911668/resize-h310-w310%5Ecompr-r85/5998/59980473/Stephanie+Leather+Chesterfield+Sofa.jpg'}),\n",
       " ('5852',\n",
       "  {'price': '$2,799.99',\n",
       "   'img_url': 'https://secure.img1-fg.wfcdn.com/im/62847374/resize-h310-w310%5Ecompr-r85/4714/47147163/Baver+Leather+Sectional.jpg'}),\n",
       " ('5853',\n",
       "  {'price': '$1,029.99',\n",
       "   'img_url': 'https://secure.img1-fg.wfcdn.com/im/16088037/resize-h310-w310%5Ecompr-r85/6082/60825500/Sauer+96%2522+Rolled+Arm+Sofa.jpg'}),\n",
       " ('5854',\n",
       "  {'price': '$1,089.99',\n",
       "   'img_url': 'https://secure.img1-fg.wfcdn.com/im/86359733/resize-h310-w310%5Ecompr-r85/1226/122673267/Carmo+83%2522+Rolled+Arm+Sofa.jpg'}),\n",
       " ('5855',\n",
       "  {'price': '$2,359.99',\n",
       "   'img_url': 'https://secure.img1-fg.wfcdn.com/im/32890095/resize-h310-w310%5Ecompr-r85/1181/118102023/Genuine+Leather+37%2527%2527+Rolled+Arm+Loveseat.jpg'}),\n",
       " ('5856',\n",
       "  {'price': '$1,029.99',\n",
       "   'img_url': 'https://secure.img1-fg.wfcdn.com/im/94002551/resize-h310-w310%5Ecompr-r85/1593/15933492/Oak+Bluffs+Sofa.jpg'}),\n",
       " ('5857',\n",
       "  {'price': '$1,379.99',\n",
       "   'img_url': 'https://secure.img1-fg.wfcdn.com/im/62166871/resize-h310-w310%5Ecompr-r85/1070/107047207/Bickford+Genuine+Leather+89%2522+Square+Arm+Sofa.jpg'}),\n",
       " ('5858',\n",
       "  {'price': '$1,099.99',\n",
       "   'img_url': 'https://secure.img1-fg.wfcdn.com/im/66279279/resize-h310-w310%5Ecompr-r85/5837/58373051/Alviso+Reclining+Sofa.jpg'}),\n",
       " ('5859',\n",
       "  {'price': '$1,139.99',\n",
       "   'img_url': 'https://secure.img1-fg.wfcdn.com/im/89112632/resize-h310-w310%5Ecompr-r85/1148/114865893/Clara+119%2522+Reversible+Modular+Sectional.jpg'}),\n",
       " ('5860',\n",
       "  {'price': '$2,129.99',\n",
       "   'img_url': 'https://secure.img1-fg.wfcdn.com/im/95682767/resize-h310-w310%5Ecompr-r85/4733/47338652/Thibaud+Sleeper+Sofa.jpg'}),\n",
       " ('5861',\n",
       "  {'price': '$1,169.99',\n",
       "   'img_url': 'https://secure.img1-fg.wfcdn.com/im/19371044/resize-h310-w310%5Ecompr-r85/3708/37087424/Destanee+Traditional+Loveseat.jpg'}),\n",
       " ('5862',\n",
       "  {'price': '$1,059.99',\n",
       "   'img_url': 'https://secure.img1-fg.wfcdn.com/im/93768353/resize-h310-w310%5Ecompr-r85/1118/111824331/Chimel+72%2522+Square+Arm+Sofa+Bed.jpg'}),\n",
       " ('5863',\n",
       "  {'price': '$1,189.99',\n",
       "   'img_url': 'https://secure.img1-fg.wfcdn.com/im/15121803/resize-h310-w310%5Ecompr-r85/1193/119347681/Negley+91%2522+Round+Arm+Sleeper.jpg'}),\n",
       " ('5864',\n",
       "  {'price': '$1,899.99',\n",
       "   'img_url': 'https://secure.img1-fg.wfcdn.com/im/88785111/resize-h310-w310%5Ecompr-r85/5933/59338868/Wentz+Leather+Loveseat.jpg'}),\n",
       " ('5865',\n",
       "  {'price': '$1,499.00',\n",
       "   'img_url': 'https://secure.img1-fg.wfcdn.com/im/64007218/resize-h310-w310%5Ecompr-r85/1167/116711666/Rachel+Genuine+Leather+91%2522+Rolled+Arm+Sofa+Bed.jpg'}),\n",
       " ('5866',\n",
       "  {'price': '$4,199.99',\n",
       "   'img_url': 'https://secure.img1-fg.wfcdn.com/im/98401820/resize-h310-w310%5Ecompr-r85/7186/71866980/Messina+Curved+71%2522+Flared+Arm+Sofa.jpg'}),\n",
       " ('5867',\n",
       "  {'price': '$2,539.99',\n",
       "   'img_url': 'https://secure.img1-fg.wfcdn.com/im/12723956/resize-h310-w310%5Ecompr-r85/5824/58248592/Tobin+Sofa.jpg'}),\n",
       " ('5868',\n",
       "  {'price': '$1,039.99',\n",
       "   'img_url': 'https://secure.img1-fg.wfcdn.com/im/62700546/resize-h310-w310%5Ecompr-r85/1188/118859272/Negley+80%2522+Square+Arm+Sofa+Bed.jpg'}),\n",
       " ('5869',\n",
       "  {'price': '$1,079.99',\n",
       "   'img_url': 'https://secure.img1-fg.wfcdn.com/im/44090540/resize-h310-w310%5Ecompr-r85/1185/118576120/Simonne+81%2522+Pillow+Top+Arm+Sofa+Bed.jpg'}),\n",
       " ('5870',\n",
       "  {'price': '$1,049.99',\n",
       "   'img_url': 'https://secure.img1-fg.wfcdn.com/im/04411855/resize-h310-w310%5Ecompr-r85/6969/69693072/L%25E9a+72%2522+Recessed+Arm+Sofa+Bed.jpg'}),\n",
       " ('5871',\n",
       "  {'price': '$1,259.99',\n",
       "   'img_url': 'https://secure.img1-fg.wfcdn.com/im/65369825/resize-h310-w310%5Ecompr-r85/6765/67650905/Haring+96%2527%2527+Sectional.jpg'}),\n",
       " ('5780',\n",
       "  {'price': '$1,899.99',\n",
       "   'img_url': 'https://secure.img1-fg.wfcdn.com/im/26611699/resize-h310-w310%5Ecompr-r85/1222/122262700/Eduarte+88.2%2527%2527+Square+Arm+Sofa.jpg'}),\n",
       " ('5781',\n",
       "  {'price': '$2,359.99',\n",
       "   'img_url': 'https://secure.img1-fg.wfcdn.com/im/32890095/resize-h310-w310%5Ecompr-r85/1181/118102023/Genuine+Leather+37%2527%2527+Rolled+Arm+Loveseat.jpg'}),\n",
       " ('5782',\n",
       "  {'price': '$6,299.99',\n",
       "   'img_url': 'https://secure.img1-fg.wfcdn.com/im/06995085/resize-h310-w310%5Ecompr-r85/1194/119478363/Caiden+Velvet+Sofa+w/8+Pillows.jpg'}),\n",
       " ('5783',\n",
       "  {'price': '$2,899.00',\n",
       "   'img_url': 'https://secure.img1-fg.wfcdn.com/im/01309034/resize-h310-w310%5Ecompr-r85/1130/113019886/Sunday+82%2522+Sofa.jpg'}),\n",
       " ('5784',\n",
       "  {'price': '$2,899.99',\n",
       "   'img_url': 'https://secure.img1-fg.wfcdn.com/im/71797491/resize-h310-w310%5Ecompr-r85/7351/73516819/Gabrielle+86%2522+Rolled+Arm+Sofa.jpg'}),\n",
       " ('5785',\n",
       "  {'price': '$1,069.99',\n",
       "   'img_url': 'https://secure.img1-fg.wfcdn.com/im/11601429/resize-h310-w310%5Ecompr-r85/1159/115963058/Stroup+Genuine+Leather+65%2522+Square+Arm+Loveseat.jpg'}),\n",
       " ('5786',\n",
       "  {'price': '$1,469.99',\n",
       "   'img_url': 'https://secure.img1-fg.wfcdn.com/im/37228524/resize-h310-w310%5Ecompr-r85/1161/116109579/Adelin+Genuine+Leather+Reclining+59.5%2527%2527+Rolled+Arm+Loveseat.jpg'}),\n",
       " ('5787',\n",
       "  {'price': '$2,539.99',\n",
       "   'img_url': 'https://secure.img1-fg.wfcdn.com/im/24927884/resize-h310-w310%5Ecompr-r85/6687/66875867/Renae+Genuine+Leather+89%2522+Tuxedo+Arm+Sofa.jpg'}),\n",
       " ('5788',\n",
       "  {'price': '$1,879.99',\n",
       "   'img_url': 'https://secure.img1-fg.wfcdn.com/im/34572897/resize-h310-w310%5Ecompr-r85/7856/78563919/Keomi+Leather+71%2522+Rolled+Arms+Loveseat.jpg'}),\n",
       " ('5789',\n",
       "  {'price': '$1,199.99',\n",
       "   'img_url': 'https://secure.img1-fg.wfcdn.com/im/95741305/resize-h310-w310%5Ecompr-r85/9523/95236032/Kreitzer+91%2522+Rolled+Arm+Sofa.jpg'}),\n",
       " ('5790',\n",
       "  {'price': '$1,699.99',\n",
       "   'img_url': 'https://secure.img1-fg.wfcdn.com/im/14526698/resize-h310-w310%5Ecompr-r85/1161/116109577/Adelie+Genuine+Leather+Reclining+80.5%2522+Rolled+Arm+Sofa.jpg'}),\n",
       " ('5791',\n",
       "  {'price': '$1,489.99',\n",
       "   'img_url': 'https://secure.img1-fg.wfcdn.com/im/62318310/resize-h310-w310%5Ecompr-r85/7265/72652580/Stivers+91%2527%2527+Flared+Arm+Sofa.jpg'}),\n",
       " ('5792',\n",
       "  {'price': '$1,479.99',\n",
       "   'img_url': 'https://secure.img1-fg.wfcdn.com/im/28117768/resize-h310-w310%5Ecompr-r85/7992/79922619/Broderick+Sofa.jpg'}),\n",
       " ('5793',\n",
       "  {'price': '$1,229.99',\n",
       "   'img_url': 'https://secure.img1-fg.wfcdn.com/im/34065302/resize-h310-w310%5Ecompr-r85/1128/112875588/Pearlotta+Velvet+66%2522+Recessed+Arm+Loveseat.jpg'}),\n",
       " ('5794',\n",
       "  {'price': '$1,379.99',\n",
       "   'img_url': 'https://secure.img1-fg.wfcdn.com/im/85945841/resize-h310-w310%5Ecompr-r85/1053/105317713/Landwehr+Loveseat.jpg'}),\n",
       " ('5795',\n",
       "  {'price': '$1,549.99',\n",
       "   'img_url': 'https://secure.img1-fg.wfcdn.com/im/62787701/resize-h310-w310%5Ecompr-r85/9523/95235738/Goldstein+81%2522+Tuxedo+Arm+Sofa.jpg'}),\n",
       " ('5796',\n",
       "  {'price': '$1,039.99',\n",
       "   'img_url': 'https://secure.img1-fg.wfcdn.com/im/58765796/resize-h310-w310%5Ecompr-r85/6849/68495559/Montecito+84.5%2522+Square+Arm+Sofa.jpg'}),\n",
       " ('5797',\n",
       "  {'price': '$1,029.99',\n",
       "   'img_url': 'https://secure.img1-fg.wfcdn.com/im/55336777/resize-h310-w310%5Ecompr-r85/9114/91146421/Kolby+Velvet+Channel+Quilted+Turned+Leg+Sofa.jpg'}),\n",
       " ('5798',\n",
       "  {'price': '$1,639.99',\n",
       "   'img_url': 'https://secure.img1-fg.wfcdn.com/im/74320346/resize-h310-w310%5Ecompr-r85/2503/25039716/Bodil+Loveseat.jpg'}),\n",
       " ('5799',\n",
       "  {'price': '$1,069.99',\n",
       "   'img_url': 'https://secure.img1-fg.wfcdn.com/im/03264647/resize-h310-w310%5Ecompr-r85/9630/96305155/Taliaferro+Loveseat.jpg'}),\n",
       " ('5800',\n",
       "  {'price': '$1,059.99',\n",
       "   'img_url': 'https://secure.img1-fg.wfcdn.com/im/30525743/resize-h310-w310%5Ecompr-r85/1195/119530452/Agnew+Sofa.jpg'}),\n",
       " ('5801',\n",
       "  {'price': '$1,089.99',\n",
       "   'img_url': 'https://secure.img1-fg.wfcdn.com/im/26265649/resize-h310-w310%5Ecompr-r85/1161/116127589/Negley+67.75%2522+Flared+Arm+Sofa.jpg'}),\n",
       " ('5802',\n",
       "  {'price': '$1,039.99',\n",
       "   'img_url': 'https://secure.img1-fg.wfcdn.com/im/11007588/resize-h310-w310%5Ecompr-r85/2969/29693059/Stowmarket+Tufted+Chesterfield+Sofa.jpg'}),\n",
       " ('5803',\n",
       "  {'price': '$8,399.99',\n",
       "   'img_url': 'https://secure.img1-fg.wfcdn.com/im/53003126/resize-h310-w310%5Ecompr-r85/1019/101965755/Taylor+Sofa.jpg'}),\n",
       " ('5804',\n",
       "  {'price': '$2,299.99',\n",
       "   'img_url': 'https://secure.img1-fg.wfcdn.com/im/82379610/resize-h310-w310%5Ecompr-r85/4020/40206375/Mcdonald+Genuine+Leather+96%2522+Square+Arm+Sofa.jpg'}),\n",
       " ('5805',\n",
       "  {'price': '$1,199.99',\n",
       "   'img_url': 'https://secure.img1-fg.wfcdn.com/im/97124911/resize-h310-w310%5Ecompr-r85/9606/96068102/Rensel+Leather+78%2522+Flared+Arm+Sofa.jpg'}),\n",
       " ('5806',\n",
       "  {'price': '$1,579.99',\n",
       "   'img_url': 'https://secure.img1-fg.wfcdn.com/im/95794096/resize-h310-w310%5Ecompr-r85/7434/74340342/Barnabas+Leather+Chesterfield+90%2522+Rolled+Arms+Sofa.jpg'}),\n",
       " ('5807',\n",
       "  {'price': '$1,599.99',\n",
       "   'img_url': 'https://secure.img1-fg.wfcdn.com/im/83265453/resize-h310-w310%5Ecompr-r85/1079/107986850/Shackelford+Velvet+88%2522+Square+Arms+Sofa.jpg'}),\n",
       " ('5808',\n",
       "  {'price': '$8,297.00',\n",
       "   'img_url': 'https://secure.img1-fg.wfcdn.com/im/03360606/resize-h310-w310%5Ecompr-r85/5780/57808087/Sunday+U-Shaped+167%2522+Symmetrical+Sectional+Sofa.jpg'}),\n",
       " ('5809',\n",
       "  {'price': '$1,119.99',\n",
       "   'img_url': 'https://secure.img1-fg.wfcdn.com/im/97470323/resize-h310-w310%5Ecompr-r85/1096/109614256/Meghrig+95%2527%2527+Rolled+Arm+Sofa.jpg'}),\n",
       " ('5810',\n",
       "  {'price': '$1,139.99',\n",
       "   'img_url': 'https://secure.img1-fg.wfcdn.com/im/53711823/resize-h310-w310%5Ecompr-r85/4161/41610778/Marlon+Chesterfield+Sofa.jpg'}),\n",
       " ('5811',\n",
       "  {'price': '$1,369.99',\n",
       "   'img_url': 'https://secure.img1-fg.wfcdn.com/im/16470418/resize-h310-w310%5Ecompr-r85/1192/119289597/Villebois+80%2527%2527+Flared+Arm+Sofa.jpg'}),\n",
       " ('5812',\n",
       "  {'price': '$1,149.99',\n",
       "   'img_url': 'https://secure.img1-fg.wfcdn.com/im/23101590/resize-h310-w310%5Ecompr-r85/3272/32723387/Tabitha+Chesterfield+Sofa.jpg'}),\n",
       " ('5813',\n",
       "  {'price': '$1,499.99',\n",
       "   'img_url': 'https://secure.img1-fg.wfcdn.com/im/32946746/resize-h310-w310%5Ecompr-r85/8750/87508432/Uriel+74.25%2522+Square+Arm+Sofa.jpg'}),\n",
       " ('5814',\n",
       "  {'price': '$1,029.99',\n",
       "   'img_url': 'https://secure.img1-fg.wfcdn.com/im/34449572/resize-h310-w310%5Ecompr-r85/1208/120873091/Annmarie+Recessed+Arm+83%2522+Sofa.jpg'}),\n",
       " ('5815',\n",
       "  {'price': '$1,019.99',\n",
       "   'img_url': 'https://secure.img1-fg.wfcdn.com/im/81937222/resize-h310-w310%5Ecompr-r85/1205/120598365/Herr+Sofa.jpg'}),\n",
       " ('5816',\n",
       "  {'price': '$1,089.99',\n",
       "   'img_url': 'https://secure.img1-fg.wfcdn.com/im/33392489/resize-h310-w310%5Ecompr-r85/8287/82875048/Davina+Curved+Loveseat.jpg'}),\n",
       " ('5817',\n",
       "  {'price': '$2,079.99',\n",
       "   'img_url': 'https://secure.img1-fg.wfcdn.com/im/73004298/resize-h310-w310%5Ecompr-r85/2810/28104169/Calais+Velvet+108%2522+Square+Arm+Sofa.jpg'}),\n",
       " ('5818',\n",
       "  {'price': '$1,119.99',\n",
       "   'img_url': 'https://secure.img1-fg.wfcdn.com/im/75781716/resize-h310-w310%5Ecompr-r85/4551/45516323/Lando+Velvet+84%2522+Tuxedo+Arm+Sofa.jpg'}),\n",
       " ('5819',\n",
       "  {'price': '$1,979.99',\n",
       "   'img_url': 'https://secure.img1-fg.wfcdn.com/im/56986261/resize-h310-w310%5Ecompr-r85/3832/38327711/Arsenault+83%2522+Recessed+Arm+Sofa.jpg'}),\n",
       " ('5820',\n",
       "  {'price': '$1,499.99',\n",
       "   'img_url': 'https://secure.img1-fg.wfcdn.com/im/82958016/resize-h310-w310%5Ecompr-r85/3192/31925195/Dann+Leather+Sofa.jpg'}),\n",
       " ('5821',\n",
       "  {'price': '$1,399.99',\n",
       "   'img_url': 'https://secure.img1-fg.wfcdn.com/im/50796064/resize-h310-w310%5Ecompr-r85/4849/48492701/Chiang+Sofa.jpg'}),\n",
       " ('5822',\n",
       "  {'price': '$3,399.99',\n",
       "   'img_url': 'https://secure.img1-fg.wfcdn.com/im/31658835/resize-h310-w310%5Ecompr-r85/1130/113045068/Parmer+Genuine+Leather+96%2522+Square+Arm+Sofa.jpg'}),\n",
       " ('5823',\n",
       "  {'price': '$1,319.99',\n",
       "   'img_url': 'https://secure.img1-fg.wfcdn.com/im/39013125/resize-h310-w310%5Ecompr-r85/4020/40204064/Jaggers+Velvet+84%2522+Square+Arm+Sofa.jpg'}),\n",
       " ('5824',\n",
       "  {'price': '$1,019.99',\n",
       "   'img_url': 'https://secure.img1-fg.wfcdn.com/im/89693653/resize-h310-w310%5Ecompr-r85/2501/25013014/Fairfax+96%2522+Rolled+Arm+Sofa.jpg'}),\n",
       " ('5825',\n",
       "  {'price': '$1,699.99',\n",
       "   'img_url': 'https://secure.img1-fg.wfcdn.com/im/87792626/resize-h310-w310%5Ecompr-r85/9064/90641966/Kate+Velvet+88.5%2522+Square+Arm+Sofa.jpg'}),\n",
       " ('5826',\n",
       "  {'price': '$1,029.99',\n",
       "   'img_url': 'https://secure.img1-fg.wfcdn.com/im/56111083/resize-h310-w310%5Ecompr-r85/1193/119361661/Brickey+93%2522+Recessed+Arm+Sofa.jpg'}),\n",
       " ('5827',\n",
       "  {'price': '$1,949.99',\n",
       "   'img_url': 'https://secure.img1-fg.wfcdn.com/im/70989546/resize-h310-w310%5Ecompr-r85/1210/121069334/Galatia+86%2522+Pillow+Top+Arm+Sofa.jpg'}),\n",
       " ('5828',\n",
       "  {'price': '$1,049.99',\n",
       "   'img_url': 'https://secure.img1-fg.wfcdn.com/im/45636785/resize-h310-w310%5Ecompr-r85/6854/68547301/Ballina+85%2522+Recessed+Arms+Sofa.jpg'}),\n",
       " ('5829',\n",
       "  {'price': '$1,779.99',\n",
       "   'img_url': 'https://secure.img1-fg.wfcdn.com/im/00200013/resize-h310-w310%5Ecompr-r85/5269/52693362/Leaman+91%2522+Flared+Arm+Sofa.jpg'}),\n",
       " ('5830',\n",
       "  {'price': '$1,359.99',\n",
       "   'img_url': 'https://secure.img1-fg.wfcdn.com/im/20054357/resize-h310-w310%5Ecompr-r85/9926/99261166/Ozell+Leather+Reclining+87+inches+Pillow+Top+Arms+Sofa.jpg'}),\n",
       " ('5831',\n",
       "  {'price': '$1,199.99',\n",
       "   'img_url': 'https://secure.img1-fg.wfcdn.com/im/77849314/resize-h310-w310%5Ecompr-r85/1161/116129292/Negley+77.5%2522+Flared+Arm+Sofa.jpg'}),\n",
       " ('5832',\n",
       "  {'price': '$1,239.99',\n",
       "   'img_url': 'https://secure.img1-fg.wfcdn.com/im/28723191/resize-h310-w310%5Ecompr-r85/1182/118266019/Alyson+Genuine+Leather+92%2522+Flared+Arm+Sofa.jpg'}),\n",
       " ('5833',\n",
       "  {'price': '$1,099.99',\n",
       "   'img_url': 'https://secure.img1-fg.wfcdn.com/im/49271320/resize-h310-w310%5Ecompr-r85/1064/106467607/Tosh+Reclining+85%2527%2527+Pillow+Top+Arms+Sofa.jpg'}),\n",
       " ('5834',\n",
       "  {'price': '$1,079.99',\n",
       "   'img_url': 'https://secure.img1-fg.wfcdn.com/im/11231547/resize-h310-w310%5Ecompr-r85/1093/109394853/Menezes+85%2527%2527+Tuxedo+Arm+Sofa.jpg'}),\n",
       " ('5835',\n",
       "  {'price': '$1,079.99',\n",
       "   'img_url': 'https://secure.img1-fg.wfcdn.com/im/77036251/resize-h310-w310%5Ecompr-r85/7441/74417672/Demott+Sofa.jpg'}),\n",
       " ('5836',\n",
       "  {'price': '$1,569.99',\n",
       "   'img_url': 'https://secure.img1-fg.wfcdn.com/im/80124946/resize-h310-w310%5Ecompr-r85/6511/65112015/Waskom+Sofa.jpg'}),\n",
       " ('5837',\n",
       "  {'price': '$2,699.99',\n",
       "   'img_url': 'https://secure.img1-fg.wfcdn.com/im/02356918/resize-h310-w310%5Ecompr-r85/8492/84925669/Omro+Genuine+Leather+Standard+85%2522+Square+Arm+Sofa.jpg'}),\n",
       " ('5838',\n",
       "  {'price': '$1,149.99',\n",
       "   'img_url': 'https://secure.img1-fg.wfcdn.com/im/72234520/resize-h310-w310%5Ecompr-r85/3676/36764449/Wendy+Sofa.jpg'}),\n",
       " ('5839',\n",
       "  {'price': '$6,752.66',\n",
       "   'img_url': 'https://secure.img1-fg.wfcdn.com/im/15587816/resize-h310-w310%5Ecompr-r85/3854/38540223/Roxanne+Leather+122%2522+Sectional.jpg'}),\n",
       " ('5840',\n",
       "  {'price': '$2,399.99',\n",
       "   'img_url': 'https://secure.img1-fg.wfcdn.com/im/19168871/resize-h310-w310%5Ecompr-r85/7444/74448221/Brunet+Leather+Sofa.jpg'}),\n",
       " ('5841',\n",
       "  {'price': '$1,299.99',\n",
       "   'img_url': 'https://secure.img1-fg.wfcdn.com/im/73675210/resize-h310-w310%5Ecompr-r85/9729/97299162/Dipietro+61%2522+Recessed+Arm+Loveseat.jpg'}),\n",
       " ('5842',\n",
       "  {'price': '$1,100.00',\n",
       "   'img_url': 'https://secure.img1-fg.wfcdn.com/im/91567189/resize-h310-w310%5Ecompr-r85/2270/22704445/82.7%2522+Armless+Sofa.jpg'}),\n",
       " ('5843',\n",
       "  {'price': '$1,349.99',\n",
       "   'img_url': 'https://secure.img1-fg.wfcdn.com/im/82569265/resize-h310-w310%5Ecompr-r85/1145/114520555/Steinke+Genuine+Leather+Chesterfield+91%2522+Rolled+Arm++Sofa.jpg'}),\n",
       " ('5844',\n",
       "  {'price': '$1,179.99',\n",
       "   'img_url': 'https://secure.img1-fg.wfcdn.com/im/77435819/resize-h310-w310%5Ecompr-r85/7186/71869517/Ezra+Microfiber+88%2522+Rolled+Arm+Sofa.jpg'}),\n",
       " ('5845',\n",
       "  {'price': '$1,099.99',\n",
       "   'img_url': 'https://secure.img1-fg.wfcdn.com/im/98069451/resize-h310-w310%5Ecompr-r85/1112/111287310/Domaingue+56%2522+Tuxedo+Arm+Loveseat.jpg'}),\n",
       " ('5846',\n",
       "  {'price': '$1,199.99',\n",
       "   'img_url': 'https://secure.img1-fg.wfcdn.com/im/61606155/resize-h310-w310%5Ecompr-r85/1060/106086069/Armelle+Reclining+92%2522+Pillow+Top+Arm+Sofa.jpg'}),\n",
       " ('5847',\n",
       "  {'price': '$1,129.99',\n",
       "   'img_url': 'https://secure.img1-fg.wfcdn.com/im/69376969/resize-h310-w310%5Ecompr-r85/7056/70563672/Carruth+76%2522+Flared+Arm+Sofa.jpg'}),\n",
       " ('5848',\n",
       "  {'price': '$1,899.99',\n",
       "   'img_url': 'https://secure.img1-fg.wfcdn.com/im/45139677/resize-h310-w310%5Ecompr-r85/1039/103976174/Zofa.jpg'}),\n",
       " ('5849',\n",
       "  {'price': '$1,149.99',\n",
       "   'img_url': 'https://secure.img1-fg.wfcdn.com/im/02587571/resize-h310-w310%5Ecompr-r85/1161/116128511/Garysburg+67.5%2522+Rolled+Arm+Loveseat.jpg'}),\n",
       " ('5850',\n",
       "  {'price': '$3,719.00',\n",
       "   'img_url': 'https://secure.img1-fg.wfcdn.com/im/95214779/resize-h310-w310%5Ecompr-r85/5940/59406071/Los+Altos+87.5%2522+Round+Arm+Sofa.jpg'}),\n",
       " ('5851',\n",
       "  {'price': '$1,199.99',\n",
       "   'img_url': 'https://secure.img1-fg.wfcdn.com/im/51074770/resize-h310-w310%5Ecompr-r85/9349/93493870/Krawczyk+98%2522+Recessed+Arm+Sofa.jpg'}),\n",
       " ('5852',\n",
       "  {'price': '$1,599.99',\n",
       "   'img_url': 'https://secure.img1-fg.wfcdn.com/im/93698457/resize-h310-w310%5Ecompr-r85/7911/79113757/Nilda+Chenille+89%2527%2527+Rolled+Arm+Sofa.jpg'}),\n",
       " ('5853',\n",
       "  {'price': '$1,079.99',\n",
       "   'img_url': 'https://secure.img1-fg.wfcdn.com/im/97117878/resize-h310-w310%5Ecompr-r85/8758/8758289/Vintage+Maria+Cotton+79%2522+Round+Arm+Sofa.jpg'}),\n",
       " ('5854',\n",
       "  {'price': '$1,189.99',\n",
       "   'img_url': 'https://secure.img1-fg.wfcdn.com/im/88680505/resize-h310-w310%5Ecompr-r85/6916/69164840/Burney+Reclining+101%2522+Pillow+Top+Arm+Sofa.jpg'}),\n",
       " ('5855',\n",
       "  {'price': '$1,139.99',\n",
       "   'img_url': 'https://secure.img1-fg.wfcdn.com/im/55524489/resize-h310-w310%5Ecompr-r85/1161/116125419/Fourche+65%2522+Square+Arm+Loveseat.jpg'}),\n",
       " ('5856',\n",
       "  {'price': '$3,899.99',\n",
       "   'img_url': 'https://secure.img1-fg.wfcdn.com/im/09390486/resize-h310-w310%5Ecompr-r85/7436/74362821/Maloney+Leather+Sofa.jpg'}),\n",
       " ('5857',\n",
       "  {'price': '$1,539.99',\n",
       "   'img_url': 'https://secure.img1-fg.wfcdn.com/im/36342299/resize-h310-w310%5Ecompr-r85/5356/53561716/Marceau+Velvet+84%2522+Square+Arm+Sofa.jpg'}),\n",
       " ('5858',\n",
       "  {'price': '$1,999.99',\n",
       "   'img_url': 'https://secure.img1-fg.wfcdn.com/im/03379095/resize-h310-w310%5Ecompr-r85/1021/102121162/Kingsley+Tufted+Sofa.jpg'}),\n",
       " ('5859',\n",
       "  {'price': '$2,899.99',\n",
       "   'img_url': 'https://secure.img1-fg.wfcdn.com/im/24838124/resize-h310-w310%5Ecompr-r85/1052/105206544/Tighe+Cotton+95%2522+Sofa.jpg'}),\n",
       " ('5860',\n",
       "  {'price': '$1,199.99',\n",
       "   'img_url': 'https://secure.img1-fg.wfcdn.com/im/46480757/resize-h310-w310%5Ecompr-r85/9288/92880528/Womack+Chesterfield+Sofa.jpg'}),\n",
       " ('5861',\n",
       "  {'price': '$1,399.99',\n",
       "   'img_url': 'https://secure.img1-fg.wfcdn.com/im/95606023/resize-h310-w310%5Ecompr-r85/9082/90827284/Pirtle+Sofa.jpg'}),\n",
       " ('5862',\n",
       "  {'price': '$1,249.99',\n",
       "   'img_url': 'https://secure.img1-fg.wfcdn.com/im/03605024/resize-h310-w310%5Ecompr-r85/7065/70658120/Cheadle+84%2522+W+Recessed+Arm+Sofa.jpg'}),\n",
       " ('5863',\n",
       "  {'price': '$1,999.99',\n",
       "   'img_url': 'https://secure.img1-fg.wfcdn.com/im/72997977/resize-h310-w310%5Ecompr-r85/6023/60238575/Doucet+Sofa.jpg'}),\n",
       " ('5864',\n",
       "  {'price': '$1,229.99',\n",
       "   'img_url': 'https://secure.img1-fg.wfcdn.com/im/23616880/resize-h310-w310%5Ecompr-r85/1162/116283460/Adelbert+Velvet+69%2522+Flared+Arm+Sofa.jpg'}),\n",
       " ('5865',\n",
       "  {'price': '$1,079.99',\n",
       "   'img_url': 'https://secure.img1-fg.wfcdn.com/im/68518888/resize-h310-w310%5Ecompr-r85/1140/114088704/Avent+83.4%2522+Tuxedo+Arm+Sofa.jpg'}),\n",
       " ('5866',\n",
       "  {'price': '$3,099.99',\n",
       "   'img_url': 'https://secure.img1-fg.wfcdn.com/im/43532854/resize-h310-w310%5Ecompr-r85/5298/52984540/Denis+Chesterfield+Sofa.jpg'}),\n",
       " ('5867',\n",
       "  {'price': '$1,519.99',\n",
       "   'img_url': 'https://secure.img1-fg.wfcdn.com/im/92528115/resize-h310-w310%5Ecompr-r85/1378/13789299/Gervais+Sofa.jpg'}),\n",
       " ('5868',\n",
       "  {'price': '$1,089.99',\n",
       "   'img_url': 'https://secure.img1-fg.wfcdn.com/im/34051218/resize-h310-w310%5Ecompr-r85/1182/118259975/Litzy+91%2522+Rolled+Arm+Sofa.jpg'}),\n",
       " ('5869',\n",
       "  {'price': '$2,739.99',\n",
       "   'img_url': 'https://secure.img1-fg.wfcdn.com/im/84666907/resize-h310-w310%5Ecompr-r85/1428/14285765/Zuma+Pumice+Sofa.jpg'}),\n",
       " ('5870',\n",
       "  {'price': '$1,279.99',\n",
       "   'img_url': 'https://secure.img1-fg.wfcdn.com/im/07473583/resize-h310-w310%5Ecompr-r85/1200/120022438/Lise+91%2522+Recessed+Arm+Sofa.jpg'}),\n",
       " ('5871',\n",
       "  {'price': '$1,139.99',\n",
       "   'img_url': 'https://secure.img1-fg.wfcdn.com/im/07215305/resize-h310-w310%5Ecompr-r85/4571/45710209/Waldschmidt+Microfiber+/+Microsuede+67%2522+Pillow+Top+Arm+Loveseat.jpg'}),\n",
       " ('5780',\n",
       "  {'price': '$1,769.99',\n",
       "   'img_url': 'https://secure.img1-fg.wfcdn.com/im/26949193/resize-h310-w310%5Ecompr-r85/7470/74708868/Renda+Loveseat.jpg'}),\n",
       " ('5781',\n",
       "  {'price': '$1,299.99',\n",
       "   'img_url': 'https://secure.img1-fg.wfcdn.com/im/62542069/resize-h310-w310%5Ecompr-r85/1145/114520605/Stegall+Genuine+Leather+89%2522+Rolled+Arm+Sofa.jpg'}),\n",
       " ('5782',\n",
       "  {'price': '$1,539.99',\n",
       "   'img_url': 'https://secure.img1-fg.wfcdn.com/im/32262472/resize-h310-w310%5Ecompr-r85/8785/87858443/Cabott+85%2522+Pillow+top+Arms+Sofa.jpg'}),\n",
       " ('5783',\n",
       "  {'price': '$1,389.99',\n",
       "   'img_url': 'https://secure.img1-fg.wfcdn.com/im/43342383/resize-h310-w310%5Ecompr-r85/4128/41288863/Lambdin+Genuine+Leather+88%2522+Round+Arm+Sofa.jpg'}),\n",
       " ('5784',\n",
       "  {'price': '$1,539.99',\n",
       "   'img_url': 'https://secure.img1-fg.wfcdn.com/im/61390753/resize-h310-w310%5Ecompr-r85/1173/117371606/Cotton+116%2527%2527+Armless+Sofa+Chaise.jpg'}),\n",
       " ('5785',\n",
       "  {'price': '$1,429.99',\n",
       "   'img_url': 'https://secure.img1-fg.wfcdn.com/im/86473874/resize-h310-w310%5Ecompr-r85/7306/73069228/Madison+Left+Hand+Facing+Sectional.jpg'}),\n",
       " ('5786',\n",
       "  {'price': '$1,529.99',\n",
       "   'img_url': 'https://secure.img1-fg.wfcdn.com/im/21499180/resize-h310-w310%5Ecompr-r85/6699/66998715/Hawkesbury+Common+Genuine+Leather+71%2522+Pillow+top+Arm+Loveseat.jpg'}),\n",
       " ('5787',\n",
       "  {'price': '$1,599.99',\n",
       "   'img_url': 'https://secure.img1-fg.wfcdn.com/im/64090950/resize-h310-w310%5Ecompr-r85/8339/83391977/Volkman+Leather+Reclining+64%2527%2527+Pillow+Top+Arms+Sofa.jpg'}),\n",
       " ('5788',\n",
       "  {'price': '$1,619.99',\n",
       "   'img_url': 'https://secure.img1-fg.wfcdn.com/im/73188402/resize-h310-w310%5Ecompr-r85/3747/37473180/Lata+96%2522+Flared+Arm+Sofa.jpg'}),\n",
       " ('5789',\n",
       "  {'price': '$1,469.99',\n",
       "   'img_url': 'https://secure.img1-fg.wfcdn.com/im/09270226/resize-h310-w310%5Ecompr-r85/6554/65549338/Bima+Reclining+85%2522+Pillow+top+Arms+Sofa.jpg'}),\n",
       " ('5790',\n",
       "  {'price': '$1,389.99',\n",
       "   'img_url': 'https://secure.img1-fg.wfcdn.com/im/72079573/resize-h310-w310%5Ecompr-r85/6761/6761536/Mellor+Leather+87%2522+Round+Arms+Sofa.jpg'}),\n",
       " ('5791',\n",
       "  {'price': '$1,699.99',\n",
       "   'img_url': 'https://secure.img1-fg.wfcdn.com/im/38491474/resize-h310-w310%5Ecompr-r85/6548/65488772/Grand+Isle+Sofa.jpg'}),\n",
       " ('5792',\n",
       "  {'price': '$1,899.99',\n",
       "   'img_url': 'https://secure.img1-fg.wfcdn.com/im/77248280/resize-h310-w310%5Ecompr-r85/8816/88166976/Copola+Genuine+Leather+86%2522+Rolled+Arm+Sofa.jpg'}),\n",
       " ('5793',\n",
       "  {'price': '$1,639.99',\n",
       "   'img_url': 'https://secure.img1-fg.wfcdn.com/im/76849308/resize-h310-w310%5Ecompr-r85/1211/121107663/Twining+Leather+Sofa.jpg'}),\n",
       " ('5794',\n",
       "  {'price': '$1,299.99',\n",
       "   'img_url': 'https://secure.img1-fg.wfcdn.com/im/14834192/resize-h310-w310%5Ecompr-r85/7352/73524879/Dement+Standard+Sofa.jpg'}),\n",
       " ('5795',\n",
       "  {'price': '$1,499.00',\n",
       "   'img_url': 'https://secure.img1-fg.wfcdn.com/im/64007218/resize-h310-w310%5Ecompr-r85/1167/116711666/Rachel+Genuine+Leather+91%2522+Rolled+Arm+Sofa+Bed.jpg'}),\n",
       " ('5796',\n",
       "  {'price': '$1,028.32',\n",
       "   'img_url': 'https://secure.img1-fg.wfcdn.com/im/17745656/resize-h310-w310%5Ecompr-r85/1020/102066947/Osgood+Revolution+Performance+Fabrics%25AE+73%2522+Square+Arm+Sofa+Bed.jpg'}),\n",
       " ('5797',\n",
       "  {'price': '$1,499.99',\n",
       "   'img_url': 'https://secure.img1-fg.wfcdn.com/im/20086983/resize-h310-w310%5Ecompr-r85/1161/116186449/Dorotea+89%2522+Rolled+Arm+Sofa+Bed.jpg'}),\n",
       " ('5798',\n",
       "  {'price': '$1,319.99',\n",
       "   'img_url': 'https://secure.img1-fg.wfcdn.com/im/13561364/resize-h310-w310%5Ecompr-r85/9584/95843707/William+Leather+Sofa.jpg'}),\n",
       " ('5799',\n",
       "  {'price': '$1,189.99',\n",
       "   'img_url': 'https://secure.img1-fg.wfcdn.com/im/13515115/resize-h310-w310%5Ecompr-r85/1055/105569026/Eulah+79%2522+Rolled+Arms+Sofa+Bed.jpg'}),\n",
       " ('5800',\n",
       "  {'price': '$1,299.99',\n",
       "   'img_url': 'https://secure.img1-fg.wfcdn.com/im/18927179/resize-h310-w310%5Ecompr-r85/9330/93304546/Stalybridge+Sofa.jpg'}),\n",
       " ('5801',\n",
       "  {'price': '$1,339.99',\n",
       "   'img_url': 'https://secure.img1-fg.wfcdn.com/im/09529430/resize-h310-w310%5Ecompr-r85/2730/27305206/Orlando+Faux+Leather+Standard+86%2522+Square+Arm+Sofa.jpg'}),\n",
       " ('5802',\n",
       "  {'price': '$1,339.99',\n",
       "   'img_url': 'https://secure.img1-fg.wfcdn.com/im/33488686/resize-h310-w310%5Ecompr-r85/1159/115942715/Chenille+Chesterfield+38%2522+Rolled+Arm+Sofa.jpg'}),\n",
       " ('5803',\n",
       "  {'price': '$1,299.99',\n",
       "   'img_url': 'https://secure.img1-fg.wfcdn.com/im/02481959/resize-h310-w310%5Ecompr-r85/6025/60259343/Mellor+Reclining+87%2522+Pillow+Top+Arms+Sofa.jpg'}),\n",
       " ('5804',\n",
       "  {'price': '$1,519.99',\n",
       "   'img_url': 'https://secure.img1-fg.wfcdn.com/im/33876437/resize-h310-w310%5Ecompr-r85/1212/121297310/Fionn+Reclining+Loveseat.jpg'}),\n",
       " ('5805',\n",
       "  {'price': '$1,139.99',\n",
       "   'img_url': 'https://secure.img1-fg.wfcdn.com/im/47093343/resize-h310-w310%5Ecompr-r85/8628/86280604/Alsager+Chesterfield+Sofa.jpg'}),\n",
       " ('5806',\n",
       "  {'price': '$1,239.99',\n",
       "   'img_url': 'https://secure.img1-fg.wfcdn.com/im/86273653/resize-h310-w310%5Ecompr-r85/1076/107600604/Barnsdale+Reclining+Round+Arms+Sofa.jpg'}),\n",
       " ('5807',\n",
       "  {'price': '$1,069.99',\n",
       "   'img_url': 'https://secure.img1-fg.wfcdn.com/im/07556696/resize-h310-w310%5Ecompr-r85/1097/109764824/Duffield+Microfiber+63.8%2522+Flared+Arm+Settee.jpg'}),\n",
       " ('5808',\n",
       "  {'price': '$1,229.99',\n",
       "   'img_url': 'https://secure.img1-fg.wfcdn.com/im/72914155/resize-h310-w310%5Ecompr-r85/7912/79121057/Kavya+Chesterfield+95%2522+Rolled+Arm+Sofa.jpg'}),\n",
       " ('5809',\n",
       "  {'price': '$1,079.99',\n",
       "   'img_url': 'https://secure.img1-fg.wfcdn.com/im/44090540/resize-h310-w310%5Ecompr-r85/1185/118576120/Simonne+81%2522+Pillow+Top+Arm+Sofa+Bed.jpg'}),\n",
       " ('5810',\n",
       "  {'price': '$1,079.99',\n",
       "   'img_url': 'https://secure.img1-fg.wfcdn.com/im/06212305/resize-h310-w310%5Ecompr-r85/1098/109874135/Bella+Vista+Leather+Round+Arms+Loveseat.jpg'}),\n",
       " ('5811',\n",
       "  {'price': '$1,759.99',\n",
       "   'img_url': 'https://secure.img1-fg.wfcdn.com/im/53335668/resize-h310-w310%5Ecompr-r85/1180/118092271/Linglestown+Leather+Sofa.jpg'}),\n",
       " ('5812',\n",
       "  {'price': '$1,474.99',\n",
       "   'img_url': 'https://secure.img1-fg.wfcdn.com/im/66438063/resize-h310-w310%5Ecompr-r85/1047/104788725/Aretha+99.5%2522+Left+Hand+Facing+Sectional.jpg'}),\n",
       " ('5813',\n",
       "  {'price': '$1,399.99',\n",
       "   'img_url': 'https://secure.img1-fg.wfcdn.com/im/50796064/resize-h310-w310%5Ecompr-r85/4849/48492701/Chiang+Sofa.jpg'}),\n",
       " ('5814',\n",
       "  {'price': '$1,219.99',\n",
       "   'img_url': 'https://secure.img1-fg.wfcdn.com/im/69444853/resize-h310-w310%5Ecompr-r85/6794/67946806/Palma+Reclining+90.5%2522+Pillow+Top+Arm+Sofa.jpg'}),\n",
       " ('5815',\n",
       "  {'price': '$1,939.99',\n",
       "   'img_url': 'https://secure.img1-fg.wfcdn.com/im/96700637/resize-h310-w310%5Ecompr-r85/5508/55081588/Edward+Genuine+Leather+Square+Arm+Sofa.jpg'}),\n",
       " ('5816',\n",
       "  {'price': '$1,019.99',\n",
       "   'img_url': 'https://secure.img1-fg.wfcdn.com/im/36508684/resize-h310-w310%5Ecompr-r85/7499/74992712/Harcourt+Velvet+71%2522+Tuxedo+Arm+Loveseat.jpg'}),\n",
       " ('5817',\n",
       "  {'price': '$1,179.99',\n",
       "   'img_url': 'https://secure.img1-fg.wfcdn.com/im/23987125/resize-h310-w310%5Ecompr-r85/6048/60488323/Collins+87%2522+Round+Arms+Sofa.jpg'}),\n",
       " ('5818',\n",
       "  {'price': '$1,199.99',\n",
       "   'img_url': 'https://secure.img1-fg.wfcdn.com/im/82408954/resize-h310-w310%5Ecompr-r85/3598/35982813/Lambdin+Leather+Loveseat.jpg'}),\n",
       " ('5819',\n",
       "  {'price': '$1,539.99',\n",
       "   'img_url': 'https://secure.img1-fg.wfcdn.com/im/18589855/resize-h310-w310%5Ecompr-r85/2729/27298307/Priddy+Leather+Round+Arms+Sofa.jpg'}),\n",
       " ('5820',\n",
       "  {'price': '$1,905.20',\n",
       "   'img_url': 'https://secure.img1-fg.wfcdn.com/im/91290871/resize-h310-w310%5Ecompr-r85/9893/98932144/Kendall+90%2522+Charles+of+London+Sofa.jpg'}),\n",
       " ('5821',\n",
       "  {'price': '$1,129.99',\n",
       "   'img_url': 'https://secure.img1-fg.wfcdn.com/im/86859592/resize-h310-w310%5Ecompr-r85/1223/122330185/Vegard+Chesterfield+91.34%2522+Round+Arm+Sofa.jpg'}),\n",
       " ('5822',\n",
       "  {'price': '$1,179.99',\n",
       "   'img_url': 'https://secure.img1-fg.wfcdn.com/im/76887598/resize-h310-w310%5Ecompr-r85/3792/37929823/Thierry+Deer+Lodge+Rolled+Arms+Sofa.jpg'}),\n",
       " ('5823',\n",
       "  {'price': '$1,319.99',\n",
       "   'img_url': 'https://secure.img1-fg.wfcdn.com/im/87964915/resize-h310-w310%5Ecompr-r85/8776/87760587/Hudepohl+Reclining+Sofa.jpg'}),\n",
       " ('5824',\n",
       "  {'price': '$1,119.99',\n",
       "   'img_url': 'https://secure.img1-fg.wfcdn.com/im/88583144/resize-h310-w310%5Ecompr-r85/5390/53908736/Avery+Queen+Sleeper+Sofa.jpg'}),\n",
       " ('5825',\n",
       "  {'price': '$1,069.99',\n",
       "   'img_url': 'https://secure.img1-fg.wfcdn.com/im/79359163/resize-h310-w310%5Ecompr-r85/3881/38819461/Cordele+Sofa.jpg'}),\n",
       " ('5826',\n",
       "  {'price': '$1,227.49',\n",
       "   'img_url': 'https://secure.img1-fg.wfcdn.com/im/31687873/resize-h310-w310%5Ecompr-r85/3229/32294749/Calexico+Sofa+Sleeper.jpg'}),\n",
       " ('5827',\n",
       "  {'price': '$1,059.99',\n",
       "   'img_url': 'https://secure.img1-fg.wfcdn.com/im/06008500/resize-h310-w310%5Ecompr-r85/1097/109748983/Lindstrom+Chesterfield+90%2522+Rolled+Arms+Sofa.jpg'}),\n",
       " ('5828',\n",
       "  {'price': '$1,059.99',\n",
       "   'img_url': 'https://secure.img1-fg.wfcdn.com/im/07483758/resize-h310-w310%5Ecompr-r85/1217/121750337/Brielle+92.25%2527%2527+Flared+Arm+Sofa.jpg'}),\n",
       " ('5829',\n",
       "  {'price': '$1,099.99',\n",
       "   'img_url': 'https://secure.img1-fg.wfcdn.com/im/84200869/resize-h310-w310%5Ecompr-r85/7299/72996175/North+Burnet%25u2013Gateway+100%2522+Square+Arm+Sofa.jpg'}),\n",
       " ('5830',\n",
       "  {'price': '$1,129.99',\n",
       "   'img_url': 'https://secure.img1-fg.wfcdn.com/im/47848370/resize-h310-w310%5Ecompr-r85/1159/115971465/Delma+79%2522+Square+Arm+Sofa.jpg'}),\n",
       " ('5831',\n",
       "  {'price': '$1,039.99',\n",
       "   'img_url': 'https://secure.img1-fg.wfcdn.com/im/11527080/resize-h310-w310%5Ecompr-r85/9557/95574470/Kucharski+Reclining+101%2522+Pillow+top+Arm+Sofa.jpg'}),\n",
       " ('5832',\n",
       "  {'price': '$1,099.99',\n",
       "   'img_url': 'https://secure.img1-fg.wfcdn.com/im/91555675/resize-h310-w310%5Ecompr-r85/1193/119374878/Lucie+Rolled+Arm+92%2522+Sofa.jpg'}),\n",
       " ('5833',\n",
       "  {'price': '$1,529.99',\n",
       "   'img_url': 'https://secure.img1-fg.wfcdn.com/im/67371413/resize-h310-w310%5Ecompr-r85/4279/42794240/Binstead+Sofa.jpg'}),\n",
       " ('5834',\n",
       "  {'price': '$1,049.00',\n",
       "   'img_url': 'https://secure.img1-fg.wfcdn.com/im/01795901/resize-h310-w310%5Ecompr-r85/9261/92613160/Casey+88%2522+Rolled+Arm+Sofa.jpg'}),\n",
       " ('5835',\n",
       "  {'price': '$1,299.99',\n",
       "   'img_url': 'https://secure.img1-fg.wfcdn.com/im/38068479/resize-h310-w310%5Ecompr-r85/6536/65360969/Tatman+84%2522+Pillow+top+Arm+Sofa.jpg'}),\n",
       " ('5836',\n",
       "  {'price': '$1,199.99',\n",
       "   'img_url': 'https://secure.img1-fg.wfcdn.com/im/64837769/resize-h310-w310%5Ecompr-r85/5109/51095952/Truchanovicius+Sofa.jpg'}),\n",
       " ('5837',\n",
       "  {'price': '$1,029.99',\n",
       "   'img_url': 'https://secure.img1-fg.wfcdn.com/im/04277527/resize-h310-w310%5Ecompr-r85/1189/118917755/Kaylin+82.75%2522+Rolled+Arm+Sofa.jpg'}),\n",
       " ('5838',\n",
       "  {'price': '$1,649.99',\n",
       "   'img_url': 'https://secure.img1-fg.wfcdn.com/im/58647432/resize-h310-w310%5Ecompr-r85/8581/85817855/Judkins+75%2522+Armless+Sleeper.jpg'}),\n",
       " ('5839',\n",
       "  {'price': '$1,539.99',\n",
       "   'img_url': 'https://secure.img1-fg.wfcdn.com/im/74748908/resize-h310-w310%5Ecompr-r85/1198/119850203/Shields+Reclining+90%2522+Pillow+Top+Arm+Sofa.jpg'}),\n",
       " ('5840',\n",
       "  {'price': '$1,299.99',\n",
       "   'img_url': 'https://secure.img1-fg.wfcdn.com/im/61024836/resize-h310-w310%5Ecompr-r85/2271/22718573/Candace+98.75%2522+Reversible+Sleeper+Sectional.jpg'}),\n",
       " ('5841',\n",
       "  {'price': '$1,379.99',\n",
       "   'img_url': 'https://secure.img1-fg.wfcdn.com/im/56392406/resize-h310-w310%5Ecompr-r85/6113/61136101/Cordova+Chesterfield+Sofa.jpg'}),\n",
       " ('5842',\n",
       "  {'price': '$1,439.99',\n",
       "   'img_url': 'https://secure.img1-fg.wfcdn.com/im/32474987/resize-h310-w310%5Ecompr-r85/9661/96618868/Chester+Modern%252C+Chesterfield+Sofa.jpg'}),\n",
       " ('5843',\n",
       "  {'price': '$1,289.99',\n",
       "   'img_url': 'https://secure.img1-fg.wfcdn.com/im/57759634/resize-h310-w310%5Ecompr-r85/6922/69226521/Leeds+95%2522+Reversible+Sleeper+Sectional+with+Ottoman.jpg'}),\n",
       " ('5844',\n",
       "  {'price': '$1,569.99',\n",
       "   'img_url': 'https://secure.img1-fg.wfcdn.com/im/64956278/resize-h310-w310%5Ecompr-r85/9235/92350659/Monett+Leather+Chesterfield+Sofa.jpg'}),\n",
       " ('5845',\n",
       "  {'price': '$1,139.99',\n",
       "   'img_url': 'https://secure.img1-fg.wfcdn.com/im/85847376/resize-h310-w310%5Ecompr-r85/1098/109818408/Bellevue+90%2522+Rolled+Arm+Sofa.jpg'}),\n",
       " ('5846',\n",
       "  {'price': '$1,149.99',\n",
       "   'img_url': 'https://secure.img1-fg.wfcdn.com/im/95049166/resize-h310-w310%5Ecompr-r85/8339/83392273/Nigel+Reclining+61.5%2522+Pillow+Top+Arms+Loveseat.jpg'}),\n",
       " ('5847',\n",
       "  {'price': '$1,579.99',\n",
       "   'img_url': 'https://secure.img1-fg.wfcdn.com/im/04459633/resize-h310-w310%5Ecompr-r85/5197/51976604/Colwyn+Italian+Leather+Modular+Loveseat.jpg'}),\n",
       " ('5848',\n",
       "  {'price': '$1,039.99',\n",
       "   'img_url': 'https://secure.img1-fg.wfcdn.com/im/86541583/resize-h310-w310%5Ecompr-r85/3865/38656860/Borchert+Sectional+with+Ottoman.jpg'}),\n",
       " ('5849',\n",
       "  {'price': '$1,089.99',\n",
       "   'img_url': 'https://secure.img1-fg.wfcdn.com/im/92744817/resize-h310-w310%5Ecompr-r85/8885/88859727/Bella+Vista+66%2522+Round+Arms+Sofa.jpg'}),\n",
       " ('5850',\n",
       "  {'price': '$1,239.99',\n",
       "   'img_url': 'https://secure.img1-fg.wfcdn.com/im/03215753/resize-h310-w310%5Ecompr-r85/7441/74417588/Nazareth+Curved+Sofa.jpg'}),\n",
       " ('5851',\n",
       "  {'price': '$1,299.99',\n",
       "   'img_url': 'https://secure.img1-fg.wfcdn.com/im/78608270/resize-h310-w310%5Ecompr-r85/9276/92762568/Derbyshire+Genuine+Leather+76%2522+Square+Arm+Sofa.jpg'}),\n",
       " ('5852',\n",
       "  {'price': '$1,069.99',\n",
       "   'img_url': 'https://secure.img1-fg.wfcdn.com/im/80648825/resize-h310-w310%5Ecompr-r85/4527/45270750/Rippy+Reclining+Sofa.jpg'}),\n",
       " ('5853',\n",
       "  {'price': '$1,499.99',\n",
       "   'img_url': 'https://secure.img1-fg.wfcdn.com/im/83070933/resize-h310-w310%5Ecompr-r85/4664/46642293/Crick+Modular+156%2522+Tuxedo+Arm+Sofa.jpg'}),\n",
       " ('5854',\n",
       "  {'price': '$1,089.99',\n",
       "   'img_url': 'https://secure.img1-fg.wfcdn.com/im/22356587/resize-h310-w310%5Ecompr-r85/9183/91839291/Siris+42%2522+Armless+Sofa+Bed.jpg'}),\n",
       " ('5855',\n",
       "  {'price': '$1,079.99',\n",
       "   'img_url': 'https://secure.img1-fg.wfcdn.com/im/28347624/resize-h310-w310%5Ecompr-r85/1189/118918007/Kaylin+83%2522+Rolled+Arm+Sofa.jpg'}),\n",
       " ('5856',\n",
       "  {'price': '$1,199.99',\n",
       "   'img_url': 'https://secure.img1-fg.wfcdn.com/im/93714443/resize-h310-w310%5Ecompr-r85/9861/98611957/Condron+Reclining+59%2522+Pillow+top+Arm+Loveseat.jpg'}),\n",
       " ('5857',\n",
       "  {'price': '$1,019.99',\n",
       "   'img_url': 'https://secure.img1-fg.wfcdn.com/im/89693653/resize-h310-w310%5Ecompr-r85/2501/25013014/Fairfax+96%2522+Rolled+Arm+Sofa.jpg'}),\n",
       " ('5858',\n",
       "  {'price': '$1,329.99',\n",
       "   'img_url': 'https://secure.img1-fg.wfcdn.com/im/72972039/resize-h310-w310%5Ecompr-r85/6027/60271967/Veazey+Reclining+88+inches+Pillow+Top+Arms+Sofa.jpg'}),\n",
       " ('5859',\n",
       "  {'price': '$1,599.99',\n",
       "   'img_url': 'https://secure.img1-fg.wfcdn.com/im/57660561/resize-h310-w310%5Ecompr-r85/4465/44653851/Blasingame+Curved+Sofa.jpg'}),\n",
       " ('5860',\n",
       "  {'price': '$1,079.99',\n",
       "   'img_url': 'https://secure.img1-fg.wfcdn.com/im/06417319/resize-h310-w310%5Ecompr-r85/7617/76178070/Allenhurst+Right+Hand+Facing+Sectional.jpg'}),\n",
       " ('5861',\n",
       "  {'price': '$1,539.99',\n",
       "   'img_url': 'https://secure.img1-fg.wfcdn.com/im/36342299/resize-h310-w310%5Ecompr-r85/5356/53561716/Marceau+Velvet+84%2522+Square+Arm+Sofa.jpg'}),\n",
       " ('5862',\n",
       "  {'price': '$1,149.99',\n",
       "   'img_url': 'https://secure.img1-fg.wfcdn.com/im/23101590/resize-h310-w310%5Ecompr-r85/3272/32723387/Tabitha+Chesterfield+Sofa.jpg'}),\n",
       " ('5863',\n",
       "  {'price': '$1,049.99',\n",
       "   'img_url': 'https://secure.img1-fg.wfcdn.com/im/68651493/resize-h310-w310%5Ecompr-r85/7604/76040711/Brylee+118%2522+Reversible+Sectional.jpg'}),\n",
       " ('5864',\n",
       "  {'price': '$1,199.99',\n",
       "   'img_url': 'https://secure.img1-fg.wfcdn.com/im/28088688/resize-h310-w310%5Ecompr-r85/3789/37896110/Fairfax+Sleeper+Sofa.jpg'}),\n",
       " ('5865',\n",
       "  {'price': '$1,139.99',\n",
       "   'img_url': 'https://secure.img1-fg.wfcdn.com/im/89016754/resize-h310-w310%5Ecompr-r85/1182/118260052/Lesley+87%2522+Square+Arm+Sofa+Bed.jpg'}),\n",
       " ('5866',\n",
       "  {'price': '$1,019.99',\n",
       "   'img_url': 'https://secure.img1-fg.wfcdn.com/im/14095625/resize-h310-w310%5Ecompr-r85/1011/10110513/Charlie+Alpine+Loveseat.jpg'}),\n",
       " ('5867',\n",
       "  {'price': '$1,199.99',\n",
       "   'img_url': 'https://secure.img1-fg.wfcdn.com/im/83935756/resize-h310-w310%5Ecompr-r85/1068/106834607/Kwong+Velvet+96.5%2522+Tuxedo+Arms+Sofa.jpg'}),\n",
       " ('5868',\n",
       "  {'price': '$1,049.99',\n",
       "   'img_url': 'https://secure.img1-fg.wfcdn.com/im/03270708/resize-h310-w310%5Ecompr-r85/1217/121721416/Alloway+84%2522+Pillow+Top+Arm+Sofa.jpg'}),\n",
       " ('5869',\n",
       "  {'price': '$1,229.99',\n",
       "   'img_url': 'https://secure.img1-fg.wfcdn.com/im/11355027/resize-h310-w310%5Ecompr-r85/1198/119841682/Clifford+84%2522+Round+Arm+Sofa.jpg'}),\n",
       " ('5870',\n",
       "  {'price': '$1,119.99',\n",
       "   'img_url': 'https://secure.img1-fg.wfcdn.com/im/59563623/resize-h310-w310%5Ecompr-r85/5136/51360768/Ayita+Reversible+Sectional+with+Ottoman.jpg'}),\n",
       " ('5871',\n",
       "  {'price': '$1,039.99',\n",
       "   'img_url': 'https://secure.img1-fg.wfcdn.com/im/77518674/resize-h310-w310%5Ecompr-r85/5251/5251002/Charlie+Cotton+90%2522+Round+Arm+Sofa.jpg'}),\n",
       " ('5780',\n",
       "  {'price': '$1,119.99',\n",
       "   'img_url': 'https://secure.img1-fg.wfcdn.com/im/10401226/resize-h310-w310%5Ecompr-r85/4845/48455940/Koffler+Velvet+Chesterfield+94%2522+Rolled+Arm+Sofa.jpg'}),\n",
       " ('5781',\n",
       "  {'price': '$2,799.99',\n",
       "   'img_url': 'https://secure.img1-fg.wfcdn.com/im/22515703/resize-h310-w310%5Ecompr-r85/8636/86368296/Barkell+Leather+91%2522+Rolled+Arms+Sofa.jpg'}),\n",
       " ('5782',\n",
       "  {'price': '$1,639.99',\n",
       "   'img_url': 'https://secure.img1-fg.wfcdn.com/im/94701072/resize-h310-w310%5Ecompr-r85/1041/104143420/Eisley+Loveseat.jpg'}),\n",
       " ('5783',\n",
       "  {'price': '$1,819.00',\n",
       "   'img_url': 'https://secure.img1-fg.wfcdn.com/im/03544844/resize-h310-w310%5Ecompr-r85/1160/116059474/Neabsco+Reclining+63%2527%2527+Pillow+Top+Arm+Loveseat.jpg'}),\n",
       " ('5784',\n",
       "  {'price': '$1,169.99',\n",
       "   'img_url': 'https://secure.img1-fg.wfcdn.com/im/75892464/resize-h310-w310%5Ecompr-r85/6433/64333455/Lapidge+90%2522+Square+Arms+Sofa.jpg'}),\n",
       " ('5785',\n",
       "  {'price': '$1,099.99',\n",
       "   'img_url': 'https://secure.img1-fg.wfcdn.com/im/75438932/resize-h310-w310%5Ecompr-r85/1194/119478821/Christianson+Velvet+62%2522+Tuxedo+Arm+Loveseat.jpg'}),\n",
       " ('5786',\n",
       "  {'price': '$1,049.99',\n",
       "   'img_url': 'https://secure.img1-fg.wfcdn.com/im/39792694/resize-h310-w310%5Ecompr-r85/1078/107830406/Merlemont+91%2522+Tuxedo+Arms+Sofa.jpg'}),\n",
       " ('5787',\n",
       "  {'price': '$3,199.99',\n",
       "   'img_url': 'https://secure.img1-fg.wfcdn.com/im/95319270/resize-h310-w310%5Ecompr-r85/1548/15480232/Dowless+Sofa.jpg'}),\n",
       " ('5788',\n",
       "  {'price': '$1,399.99',\n",
       "   'img_url': 'https://secure.img1-fg.wfcdn.com/im/30692337/resize-h310-w310%5Ecompr-r85/5400/54001264/Dule+Sofa.jpg'}),\n",
       " ('5789',\n",
       "  {'price': '$2,849.99',\n",
       "   'img_url': 'https://secure.img1-fg.wfcdn.com/im/34231001/resize-h310-w310%5Ecompr-r85/3646/36465547/Aranda+Sofa.jpg'}),\n",
       " ('5790',\n",
       "  {'price': '$1,599.99',\n",
       "   'img_url': 'https://secure.img1-fg.wfcdn.com/im/02619441/resize-h310-w310%5Ecompr-r85/1056/105643148/Filkins+Genuine+Leather+89%2522+Recessed+Arm+Sofa.jpg'}),\n",
       " ('5791',\n",
       "  {'price': '$1,899.99',\n",
       "   'img_url': 'https://secure.img1-fg.wfcdn.com/im/83504168/resize-h310-w310%5Ecompr-r85/1210/121069992/Alfortville+62%2522+Pillow+Top+Arm+Loveseat.jpg'}),\n",
       " ('5792',\n",
       "  {'price': '$1,179.99',\n",
       "   'img_url': 'https://secure.img1-fg.wfcdn.com/im/61424431/resize-h310-w310%5Ecompr-r85/5031/50310249/Schiavone+Satin+Weave+Loveseat.jpg'}),\n",
       " ('5793',\n",
       "  {'price': '$3,499.99',\n",
       "   'img_url': 'https://secure.img1-fg.wfcdn.com/im/04637545/resize-h310-w310%5Ecompr-r85/1210/121071668/Steinar+85%2522+Pillow+Top+Arm+Sofa.jpg'}),\n",
       " ('5794',\n",
       "  {'price': '$1,749.99',\n",
       "   'img_url': 'https://secure.img1-fg.wfcdn.com/im/52470890/resize-h310-w310%5Ecompr-r85/7314/73140390/Cao+65%2522+Recessed+Arms+Loveseat.jpg'}),\n",
       " ('5795',\n",
       "  {'price': '$1,359.99',\n",
       "   'img_url': 'https://secure.img1-fg.wfcdn.com/im/79193996/resize-h310-w310%5Ecompr-r85/7243/72432968/Bahara+Sofa.jpg'}),\n",
       " ('5796',\n",
       "  {'price': '$1,569.99',\n",
       "   'img_url': 'https://secure.img1-fg.wfcdn.com/im/59815076/resize-h310-w310%5Ecompr-r85/7242/72425098/Cammarata+Cotton+108.26%2522+Square+Arm+Sofa.jpg'}),\n",
       " ('5797',\n",
       "  {'price': '$1,069.99',\n",
       "   'img_url': 'https://secure.img1-fg.wfcdn.com/im/20592726/resize-h310-w310%5Ecompr-r85/1114/111453046/Macide+88%2522+Round+Arm+Sleeper.jpg'}),\n",
       " ('5798',\n",
       "  {'price': '$6,099.99',\n",
       "   'img_url': 'https://secure.img1-fg.wfcdn.com/im/10789798/resize-h310-w310%5Ecompr-r85/9184/91849219/Maribel+Genuine+Leather+98%2522+Tuxedo+Arm+Sofa.jpg'}),\n",
       " ('5799',\n",
       "  {'price': '$1,339.99',\n",
       "   'img_url': 'https://secure.img1-fg.wfcdn.com/im/95153799/resize-h310-w310%5Ecompr-r85/6164/61647059/Deandra+Sofa.jpg'}),\n",
       " ('5800',\n",
       "  {'price': '$1,429.99',\n",
       "   'img_url': 'https://secure.img1-fg.wfcdn.com/im/73875636/resize-h310-w310%5Ecompr-r85/6510/65101457/Hawes+Sofa.jpg'}),\n",
       " ('5801',\n",
       "  {'price': '$1,849.99',\n",
       "   'img_url': 'https://secure.img1-fg.wfcdn.com/im/11771528/resize-h310-w310%5Ecompr-r85/1130/113091246/Grid+Iron+93%2522+Reclining+Pillow+Top+Arms+Sofa.jpg'}),\n",
       " ('5802',\n",
       "  {'price': '$1,869.99',\n",
       "   'img_url': 'https://secure.img1-fg.wfcdn.com/im/05394119/resize-h310-w310%5Ecompr-r85/7076/70762440/Sharpsburg+Sofa.jpg'}),\n",
       " ('5803',\n",
       "  {'price': '$1,899.00',\n",
       "   'img_url': 'https://secure.img1-fg.wfcdn.com/im/08422381/resize-h310-w310%5Ecompr-r85/6532/65321148/Cleon+74%2522+Sofa.jpg'}),\n",
       " ('5804',\n",
       "  {'price': '$1,429.99',\n",
       "   'img_url': 'https://secure.img1-fg.wfcdn.com/im/91106389/resize-h310-w310%5Ecompr-r85/6570/65707416/Boston+Red+Sox+Sofa.jpg'}),\n",
       " ('5805',\n",
       "  {'price': '$3,099.99',\n",
       "   'img_url': 'https://secure.img1-fg.wfcdn.com/im/42981816/resize-h310-w310%5Ecompr-r85/1189/118959884/Wilpert+Reclining+86%2527%2527+Pillow+Top+Arm+Sofa.jpg'}),\n",
       " ('5806',\n",
       "  {'price': '$2,179.99',\n",
       "   'img_url': 'https://secure.img1-fg.wfcdn.com/im/55223511/resize-h310-w310%5Ecompr-r85/4149/41498152/Barkell+Leather+70%2522+Rolled+Arms+Loveseat.jpg'}),\n",
       " ('5807',\n",
       "  {'price': '$1,219.99',\n",
       "   'img_url': 'https://secure.img1-fg.wfcdn.com/im/57611497/resize-h310-w310%5Ecompr-r85/1035/103594293/Calvo+Sofa.jpg'}),\n",
       " ('5808',\n",
       "  {'price': '$1,479.99',\n",
       "   'img_url': 'https://secure.img1-fg.wfcdn.com/im/23488312/resize-h310-w310%5Ecompr-r85/7149/71499919/Tottenham+Hotspur+Primary+Logo+Sofa.jpg'}),\n",
       " ('5809',\n",
       "  {'price': '$1,799.99',\n",
       "   'img_url': 'https://secure.img1-fg.wfcdn.com/im/94687251/resize-h310-w310%5Ecompr-r85/5056/50563559/Selden+Sofa.jpg'}),\n",
       " ('5810',\n",
       "  {'price': '$2,659.99',\n",
       "   'img_url': 'https://secure.img1-fg.wfcdn.com/im/72325707/resize-h310-w310%5Ecompr-r85/1056/105660941/Kaleem+89%2522+Pillow+Top+Arm+Sofa.jpg'}),\n",
       " ('5811',\n",
       "  {'price': '$1,079.99',\n",
       "   'img_url': 'https://secure.img1-fg.wfcdn.com/im/20529612/resize-h310-w310%5Ecompr-r85/1195/119582661/Canajoharie+Reclining+88%2522+Rolled+Arm+Sofa.jpg'}),\n",
       " ('5812',\n",
       "  {'price': '$4,059.99',\n",
       "   'img_url': 'https://secure.img1-fg.wfcdn.com/im/70037521/resize-h310-w310%5Ecompr-r85/1194/119479379/St+James+70%2522+Rolled+Arm+Loveseat.jpg'}),\n",
       " ('5813',\n",
       "  {'price': '$1,599.99',\n",
       "   'img_url': 'https://secure.img1-fg.wfcdn.com/im/17436008/resize-h310-w310%5Ecompr-r85/5037/50379342/Schiffer+Satin+Weave+Sofa.jpg'}),\n",
       " ('5814',\n",
       "  {'price': '$1,369.99',\n",
       "   'img_url': 'https://secure.img1-fg.wfcdn.com/im/53631952/resize-h310-w310%5Ecompr-r85/9610/96109518/Ariock+Genuine+Leather+84%2522+Tuxedo+Arm+Sofa.jpg'}),\n",
       " ('5815',\n",
       "  {'price': '$1,299.99',\n",
       "   'img_url': 'https://secure.img1-fg.wfcdn.com/im/54332852/resize-h310-w310%5Ecompr-r85/5578/55787966/Ruggeri+Loveseat.jpg'}),\n",
       " ('5816',\n",
       "  {'price': '$2,099.99',\n",
       "   'img_url': 'https://secure.img1-fg.wfcdn.com/im/42218030/resize-h310-w310%5Ecompr-r85/1181/118119604/Alleya+Genuine+Leather+66%2527%2527+Square+Arm+Loveseat.jpg'}),\n",
       " ('5817',\n",
       "  {'price': '$1,739.99',\n",
       "   'img_url': 'https://secure.img1-fg.wfcdn.com/im/10329932/resize-h310-w310%5Ecompr-r85/5032/50322344/Schiffman+Vegan+Sofa.jpg'}),\n",
       " ('5818',\n",
       "  {'price': '$1,029.99',\n",
       "   'img_url': 'https://secure.img1-fg.wfcdn.com/im/39618143/resize-h310-w310%5Ecompr-r85/1182/118233819/Pineview+Velvet+84%2522+Tuxedo+Arm+Sofa.jpg'}),\n",
       " ('5819',\n",
       "  {'price': '$2,499.99',\n",
       "   'img_url': 'https://secure.img1-fg.wfcdn.com/im/03332942/resize-h310-w310%5Ecompr-r85/1141/114141285/Amaro+Revolution+Performance+Fabrics+84%2522+Square+Arm+Sofa.jpg'}),\n",
       " ('5820',\n",
       "  {'price': '$1,399.99',\n",
       "   'img_url': 'https://secure.img1-fg.wfcdn.com/im/45175744/resize-h310-w310%5Ecompr-r85/3639/36394736/Gretna+Glider+Reclining+Sofa.jpg'}),\n",
       " ('5821',\n",
       "  {'price': '$2,899.99',\n",
       "   'img_url': 'https://secure.img1-fg.wfcdn.com/im/29283654/resize-h310-w310%5Ecompr-r85/1189/118959882/Wilpert+Reclining+65%2527%2527+Pillow+Top+Arm+Loveseat.jpg'}),\n",
       " ('5822',\n",
       "  {'price': '$1,329.99',\n",
       "   'img_url': 'https://secure.img1-fg.wfcdn.com/im/89781335/resize-h310-w310%5Ecompr-r85/5038/50381854/Scheid+Vegan+Loveseat.jpg'}),\n",
       " ('5823',\n",
       "  {'price': '$2,069.99',\n",
       "   'img_url': 'https://secure.img1-fg.wfcdn.com/im/09036913/resize-h310-w310%5Ecompr-r85/1075/107520377/Sebeka+73%2522+Square+Arm+Sofa.jpg'}),\n",
       " ('5824',\n",
       "  {'price': '$1,829.99',\n",
       "   'img_url': 'https://secure.img1-fg.wfcdn.com/im/43357167/resize-h310-w310%5Ecompr-r85/1154/115400249/Tull+Reclining+89.8%2527%2527+Pillow+Top+Arm+Sofa.jpg'}),\n",
       " ('5825',\n",
       "  {'price': '$1,029.99',\n",
       "   'img_url': 'https://secure.img1-fg.wfcdn.com/im/31216291/resize-h310-w310%5Ecompr-r85/9140/91402781/Aquilla+Sofa.jpg'}),\n",
       " ('5826',\n",
       "  {'price': '$4,299.99',\n",
       "   'img_url': 'https://secure.img1-fg.wfcdn.com/im/44323591/resize-h310-w310%5Ecompr-r85/1194/119491366/St+James+89%2522+Rolled+Arms+Sofa.jpg'}),\n",
       " ('5827',\n",
       "  {'price': '$1,169.99',\n",
       "   'img_url': 'https://secure.img1-fg.wfcdn.com/im/94492360/resize-h310-w310%5Ecompr-r85/1157/115718118/Nobleton+Reclining+90%2527%2527+Rolled+Arm+Loveseat.jpg'}),\n",
       " ('5828',\n",
       "  {'price': '$1,799.99',\n",
       "   'img_url': 'https://secure.img1-fg.wfcdn.com/im/44256013/resize-h310-w310%5Ecompr-r85/2971/29711183/Swampscott+Loveseat.jpg'}),\n",
       " ('5829',\n",
       "  {'price': '$2,659.99',\n",
       "   'img_url': 'https://secure.img1-fg.wfcdn.com/im/35955891/resize-h310-w310%5Ecompr-r85/1179/117950133/Chien+Sofa.jpg'}),\n",
       " ('5830',\n",
       "  {'price': '$1,229.99',\n",
       "   'img_url': 'https://secure.img1-fg.wfcdn.com/im/10010104/resize-h310-w310%5Ecompr-r85/7065/70659107/Luther+Chesterfield+66%2522+Rolled+Arm+Loveseat.jpg'}),\n",
       " ('5831',\n",
       "  {'price': '$2,499.99',\n",
       "   'img_url': 'https://secure.img1-fg.wfcdn.com/im/38280247/resize-h310-w310%5Ecompr-r85/1141/114140788/Amaro+84%2522+Square+Arm+Sofa.jpg'}),\n",
       " ('5832',\n",
       "  {'price': '$1,049.99',\n",
       "   'img_url': 'https://secure.img1-fg.wfcdn.com/im/38404176/resize-h310-w310%5Ecompr-r85/1542/15429347/Stanley+Chesterfield+Sofa.jpg'}),\n",
       " ('5833',\n",
       "  {'price': '$1,649.99',\n",
       "   'img_url': 'https://secure.img1-fg.wfcdn.com/im/96786571/resize-h310-w310%5Ecompr-r85/1152/115210020/Reynolds+59%2522+Square+Arm+Loveseat.jpg'}),\n",
       " ('5834',\n",
       "  {'price': '$1,799.99',\n",
       "   'img_url': 'https://secure.img1-fg.wfcdn.com/im/69953881/resize-h310-w310%5Ecompr-r85/9142/91426468/Leona+Reclining+Sofa.jpg'}),\n",
       " ('5835',\n",
       "  {'price': '$1,479.99',\n",
       "   'img_url': 'https://secure.img1-fg.wfcdn.com/im/12293841/resize-h310-w310%5Ecompr-r85/7149/71499923/Tottenham+Hotspur+Wordmark+Logo+Sofa.jpg'}),\n",
       " ('5836',\n",
       "  {'price': '$1,799.99',\n",
       "   'img_url': 'https://secure.img1-fg.wfcdn.com/im/82946153/resize-h310-w310%5Ecompr-r85/1061/106172740/Bexton+Leather+83%2522+Flared+Arm+Sofa.jpg'}),\n",
       " ('5837',\n",
       "  {'price': '$1,979.99',\n",
       "   'img_url': 'https://secure.img1-fg.wfcdn.com/im/68051150/resize-h310-w310%5Ecompr-r85/9579/9579887/Ryder+Sofa.jpg'}),\n",
       " ('5838',\n",
       "  {'price': '$1,039.99',\n",
       "   'img_url': 'https://secure.img1-fg.wfcdn.com/im/17896021/resize-h310-w310%5Ecompr-r85/5030/50306415/Strachan+Standard+Sofa.jpg'}),\n",
       " ('5839',\n",
       "  {'price': '$1,279.99',\n",
       "   'img_url': 'https://secure.img1-fg.wfcdn.com/im/48665967/resize-h310-w310%5Ecompr-r85/3468/34689972/Bairdford+Loveseat.jpg'}),\n",
       " ('5840',\n",
       "  {'price': '$2,899.00',\n",
       "   'img_url': 'https://secure.img1-fg.wfcdn.com/im/58641420/resize-h310-w310%5Ecompr-r85/6223/62234442/Bristol+78%2522+Square+Arm+Sofa.jpg'}),\n",
       " ('5841',\n",
       "  {'price': '$1,329.99',\n",
       "   'img_url': 'https://secure.img1-fg.wfcdn.com/im/81618826/resize-h310-w310%5Ecompr-r85/9923/99230521/Somona+Loveseat.jpg'}),\n",
       " ('5842',\n",
       "  {'price': '$1,749.99',\n",
       "   'img_url': 'https://secure.img1-fg.wfcdn.com/im/52116979/resize-h310-w310%5Ecompr-r85/6998/69984664/Full+Ride+Reclining+Sofa.jpg'}),\n",
       " ('5843',\n",
       "  {'price': '$3,499.99',\n",
       "   'img_url': 'https://secure.img1-fg.wfcdn.com/im/69102642/resize-h310-w310%5Ecompr-r85/1091/109102695/Adrian+Genuine+Leather+76%2527%2527+Pillow+Top+Arm+Sofa.jpg'}),\n",
       " ('5844',\n",
       "  {'price': '$2,799.99',\n",
       "   'img_url': 'https://secure.img1-fg.wfcdn.com/im/52140296/resize-h310-w310%5Ecompr-r85/1072/107299933/Mutlu+Leather+87%2522+Square+Arm+Sofa.jpg'}),\n",
       " ('5845',\n",
       "  {'price': '$1,049.99',\n",
       "   'img_url': 'https://secure.img1-fg.wfcdn.com/im/15360066/resize-h310-w310%5Ecompr-r85/3747/37472606/Hartwick+86%2522+Rolled+Arm+Sofa.jpg'}),\n",
       " ('5846',\n",
       "  {'price': '$1,199.99',\n",
       "   'img_url': 'https://secure.img1-fg.wfcdn.com/im/33775638/resize-h310-w310%5Ecompr-r85/1093/109363234/Sherly+Reclining+61%2522+Pillow+Top+Sofa.jpg'}),\n",
       " ('5847',\n",
       "  {'price': '$5,629.00',\n",
       "   'img_url': 'https://secure.img1-fg.wfcdn.com/im/01175504/resize-h310-w310%5Ecompr-r85/6223/62234820/Take+Five+Genuine+Leather+88.5%2522+Square+Arm+Sofa.jpg'}),\n",
       " ('5848',\n",
       "  {'price': '$1,739.99',\n",
       "   'img_url': 'https://secure.img1-fg.wfcdn.com/im/17981114/resize-h310-w310%5Ecompr-r85/1193/119372567/Anasha+89%2522+Round+Arm+Sleeper.jpg'}),\n",
       " ('5849',\n",
       "  {'price': '$1,459.99',\n",
       "   'img_url': 'https://secure.img1-fg.wfcdn.com/im/77436179/resize-h310-w310%5Ecompr-r85/9557/95575025/Kropf+Reclining+127%2522+Pillow+Top+Arm+Sofa.jpg'}),\n",
       " ('5850',\n",
       "  {'price': '$5,278.50',\n",
       "   'img_url': 'https://secure.img1-fg.wfcdn.com/im/02700603/resize-h310-w310%5Ecompr-r85/4599/45990427/Velvet+Sofa.jpg'}),\n",
       " ('5851',\n",
       "  {'price': '$1,299.99',\n",
       "   'img_url': 'https://secure.img1-fg.wfcdn.com/im/78608270/resize-h310-w310%5Ecompr-r85/9276/92762568/Derbyshire+Genuine+Leather+76%2522+Square+Arm+Sofa.jpg'}),\n",
       " ('5852',\n",
       "  {'price': '$1,959.99',\n",
       "   'img_url': 'https://secure.img1-fg.wfcdn.com/im/72769492/resize-h310-w310%5Ecompr-r85/1191/119155094/Griess+Reclining+79.5%2527%2527+Recessed+Arm+Sofa.jpg'}),\n",
       " ('5853',\n",
       "  {'price': '$1,439.99',\n",
       "   'img_url': 'https://secure.img1-fg.wfcdn.com/im/67386363/resize-h310-w310%5Ecompr-r85/4568/45680799/Theodora+Genuine+Leather+89%2522+Square+Arm+Sofa.jpg'}),\n",
       " ('5854',\n",
       "  {'price': '$3,599.99',\n",
       "   'img_url': 'https://secure.img1-fg.wfcdn.com/im/92707293/resize-h310-w310%5Ecompr-r85/2678/26783769/Francis+Brown+Leather+Sofa.jpg'}),\n",
       " ('5855',\n",
       "  {'price': '$2,129.00',\n",
       "   'img_url': 'https://secure.img1-fg.wfcdn.com/im/68095848/resize-h310-w310%5Ecompr-r85/1184/118451678/Avondale+60%2522+Flared+Arm+Settee.jpg'}),\n",
       " ('5856',\n",
       "  {'price': '$2,599.99',\n",
       "   'img_url': 'https://secure.img1-fg.wfcdn.com/im/15335895/resize-h310-w310%5Ecompr-r85/4774/47748286/Cowhill+Leather+Loveseat.jpg'}),\n",
       " ('5857',\n",
       "  {'price': '$2,835.00',\n",
       "   'img_url': 'https://secure.img1-fg.wfcdn.com/im/96933207/resize-h310-w310%5Ecompr-r85/7875/78751877/Maxine+Genuine+Leather+89%2522+Square+Arm+Sofa.jpg'}),\n",
       " ('5858',\n",
       "  {'price': '$2,439.99',\n",
       "   'img_url': 'https://secure.img1-fg.wfcdn.com/im/44368432/resize-h310-w310%5Ecompr-r85/1210/121069637/Elane+78%2522+Pillow+Top+Arm+Sofa.jpg'}),\n",
       " ('5859',\n",
       "  {'price': '$3,339.99',\n",
       "   'img_url': 'https://secure.img1-fg.wfcdn.com/im/97019531/resize-h310-w310%5Ecompr-r85/6212/62126476/Aviva+96%2522+Round+Arm+Sofa.jpg'}),\n",
       " ('5860',\n",
       "  {'price': '$4,119.00',\n",
       "   'img_url': 'https://secure.img1-fg.wfcdn.com/im/87945430/resize-h310-w310%5Ecompr-r85/4317/43179724/Dionne+Leather+Reclining+Sofa.jpg'}),\n",
       " ('5861',\n",
       "  {'price': '$1,079.99',\n",
       "   'img_url': 'https://secure.img1-fg.wfcdn.com/im/67272742/resize-h310-w310%5Ecompr-r85/8706/87063953/Armstrong+99%2522+Square+Arm+Sofa.jpg'}),\n",
       " ('5862',\n",
       "  {'price': '$1,579.99',\n",
       "   'img_url': 'https://secure.img1-fg.wfcdn.com/im/06133494/resize-h310-w310%5Ecompr-r85/1019/101907050/Montross+Chesterfield+Sofa.jpg'}),\n",
       " ('5863',\n",
       "  {'price': '$1,049.99',\n",
       "   'img_url': 'https://secure.img1-fg.wfcdn.com/im/85012013/resize-h310-w310%5Ecompr-r85/8381/83812934/Zareen+Sofa.jpg'}),\n",
       " ('5864',\n",
       "  {'price': '$1,389.99',\n",
       "   'img_url': 'https://secure.img1-fg.wfcdn.com/im/29522709/resize-h310-w310%5Ecompr-r85/3183/31830858/Lorrain+Genuine+Leather+78.75%2522+Flared+Arm+Sofa.jpg'}),\n",
       " ('5865',\n",
       "  {'price': '$1,279.99',\n",
       "   'img_url': 'https://secure.img1-fg.wfcdn.com/im/69141487/resize-h310-w310%5Ecompr-r85/5100/51000266/Jimi+90%2522+Square+Arm+Sofa.jpg'}),\n",
       " ('5866',\n",
       "  {'price': '$1,299.99',\n",
       "   'img_url': 'https://secure.img1-fg.wfcdn.com/im/81132234/resize-h310-w310%5Ecompr-r85/6287/62876345/Mellor+Reclining+87%2522+Pillow+Top+Arms+Sofa.jpg'}),\n",
       " ('5867',\n",
       "  {'price': '$1,239.99',\n",
       "   'img_url': 'https://secure.img1-fg.wfcdn.com/im/52130521/resize-h310-w310%5Ecompr-r85/6586/65866395/Water+Hyacinth+Rome+Loveseat.jpg'}),\n",
       " ('5868',\n",
       "  {'price': '$1,159.99',\n",
       "   'img_url': 'https://secure.img1-fg.wfcdn.com/im/08804911/resize-h310-w310%5Ecompr-r85/1143/114314404/Jerimiah+39%2527%2527+Rolled+Arm+Loveseat.jpg'}),\n",
       " ('5869',\n",
       "  {'price': '$3,559.99',\n",
       "   'img_url': 'https://secure.img1-fg.wfcdn.com/im/83273983/resize-h310-w310%5Ecompr-r85/4384/43848063/Nekizia+Sofa.jpg'}),\n",
       " ('5870',\n",
       "  {'price': '$1,049.99',\n",
       "   'img_url': 'https://secure.img1-fg.wfcdn.com/im/98654611/resize-h310-w310%5Ecompr-r85/1166/116624039/Passerine+Cotton+58%2522+Recessed+Arms+Loveseat.jpg'}),\n",
       " ('5871',\n",
       "  {'price': '$1,999.99',\n",
       "   'img_url': 'https://secure.img1-fg.wfcdn.com/im/90060031/resize-h310-w310%5Ecompr-r85/6859/68597719/Bloomsburg+Leather+Loveseat.jpg'})]"
      ]
     },
     "execution_count": 21,
     "metadata": {},
     "output_type": "execute_result"
    }
   ],
   "source": [
    "save_data(product_info,1)\n",
    "product_info"
   ]
  },
  {
   "cell_type": "code",
   "execution_count": 22,
   "metadata": {},
   "outputs": [
    {
     "name": "stdout",
     "output_type": "stream",
     "text": [
      "(368, 3)\n"
     ]
    }
   ],
   "source": [
    "df = pd.read_csv('sofa_info_1.csv')\n",
    "print(df.shape)\n",
    "df.reset_index(drop=True, inplace=True)"
   ]
  },
  {
   "cell_type": "code",
   "execution_count": 23,
   "metadata": {},
   "outputs": [
    {
     "data": {
      "text/html": [
       "<div>\n",
       "<style scoped>\n",
       "    .dataframe tbody tr th:only-of-type {\n",
       "        vertical-align: middle;\n",
       "    }\n",
       "\n",
       "    .dataframe tbody tr th {\n",
       "        vertical-align: top;\n",
       "    }\n",
       "\n",
       "    .dataframe thead th {\n",
       "        text-align: right;\n",
       "    }\n",
       "</style>\n",
       "<table border=\"1\" class=\"dataframe\">\n",
       "  <thead>\n",
       "    <tr style=\"text-align: right;\">\n",
       "      <th></th>\n",
       "      <th>item_no</th>\n",
       "      <th>price</th>\n",
       "      <th>img_url</th>\n",
       "    </tr>\n",
       "  </thead>\n",
       "  <tbody>\n",
       "    <tr>\n",
       "      <td>0</td>\n",
       "      <td>5780</td>\n",
       "      <td>$1,019.99</td>\n",
       "      <td>https://secure.img1-fg.wfcdn.com/im/12726311/r...</td>\n",
       "    </tr>\n",
       "    <tr>\n",
       "      <td>1</td>\n",
       "      <td>5781</td>\n",
       "      <td>$1,019.99</td>\n",
       "      <td>https://secure.img1-fg.wfcdn.com/im/56432728/r...</td>\n",
       "    </tr>\n",
       "    <tr>\n",
       "      <td>2</td>\n",
       "      <td>5782</td>\n",
       "      <td>$1,079.99</td>\n",
       "      <td>https://secure.img1-fg.wfcdn.com/im/38238360/r...</td>\n",
       "    </tr>\n",
       "    <tr>\n",
       "      <td>3</td>\n",
       "      <td>5783</td>\n",
       "      <td>$1,169.99</td>\n",
       "      <td>https://secure.img1-fg.wfcdn.com/im/70316309/r...</td>\n",
       "    </tr>\n",
       "    <tr>\n",
       "      <td>4</td>\n",
       "      <td>5784</td>\n",
       "      <td>$1,119.99</td>\n",
       "      <td>https://secure.img1-fg.wfcdn.com/im/16981263/r...</td>\n",
       "    </tr>\n",
       "    <tr>\n",
       "      <td>...</td>\n",
       "      <td>...</td>\n",
       "      <td>...</td>\n",
       "      <td>...</td>\n",
       "    </tr>\n",
       "    <tr>\n",
       "      <td>363</td>\n",
       "      <td>5867</td>\n",
       "      <td>$1,239.99</td>\n",
       "      <td>https://secure.img1-fg.wfcdn.com/im/52130521/r...</td>\n",
       "    </tr>\n",
       "    <tr>\n",
       "      <td>364</td>\n",
       "      <td>5868</td>\n",
       "      <td>$1,159.99</td>\n",
       "      <td>https://secure.img1-fg.wfcdn.com/im/08804911/r...</td>\n",
       "    </tr>\n",
       "    <tr>\n",
       "      <td>365</td>\n",
       "      <td>5869</td>\n",
       "      <td>$3,559.99</td>\n",
       "      <td>https://secure.img1-fg.wfcdn.com/im/83273983/r...</td>\n",
       "    </tr>\n",
       "    <tr>\n",
       "      <td>366</td>\n",
       "      <td>5870</td>\n",
       "      <td>$1,049.99</td>\n",
       "      <td>https://secure.img1-fg.wfcdn.com/im/98654611/r...</td>\n",
       "    </tr>\n",
       "    <tr>\n",
       "      <td>367</td>\n",
       "      <td>5871</td>\n",
       "      <td>$1,999.99</td>\n",
       "      <td>https://secure.img1-fg.wfcdn.com/im/90060031/r...</td>\n",
       "    </tr>\n",
       "  </tbody>\n",
       "</table>\n",
       "<p>368 rows × 3 columns</p>\n",
       "</div>"
      ],
      "text/plain": [
       "     item_no      price                                            img_url\n",
       "0       5780  $1,019.99  https://secure.img1-fg.wfcdn.com/im/12726311/r...\n",
       "1       5781  $1,019.99  https://secure.img1-fg.wfcdn.com/im/56432728/r...\n",
       "2       5782  $1,079.99  https://secure.img1-fg.wfcdn.com/im/38238360/r...\n",
       "3       5783  $1,169.99  https://secure.img1-fg.wfcdn.com/im/70316309/r...\n",
       "4       5784  $1,119.99  https://secure.img1-fg.wfcdn.com/im/16981263/r...\n",
       "..       ...        ...                                                ...\n",
       "363     5867  $1,239.99  https://secure.img1-fg.wfcdn.com/im/52130521/r...\n",
       "364     5868  $1,159.99  https://secure.img1-fg.wfcdn.com/im/08804911/r...\n",
       "365     5869  $3,559.99  https://secure.img1-fg.wfcdn.com/im/83273983/r...\n",
       "366     5870  $1,049.99  https://secure.img1-fg.wfcdn.com/im/98654611/r...\n",
       "367     5871  $1,999.99  https://secure.img1-fg.wfcdn.com/im/90060031/r...\n",
       "\n",
       "[368 rows x 3 columns]"
      ]
     },
     "execution_count": 23,
     "metadata": {},
     "output_type": "execute_result"
    }
   ],
   "source": [
    "df"
   ]
  },
  {
   "cell_type": "code",
   "execution_count": 24,
   "metadata": {},
   "outputs": [
    {
     "name": "stderr",
     "output_type": "stream",
     "text": [
      "\r",
      "  0%|                                                                                          | 0/368 [00:00<?, ?it/s]"
     ]
    },
    {
     "name": "stdout",
     "output_type": "stream",
     "text": [
      "Product Row:  0\n",
      "https://secure.img1-fg.wfcdn.com/im/12726311/resize-h310-w310%5Ecompr-r85/6493/64936323/Chesterfield+84.5%2522+Rolled+Arm+Sofa.jpg\n"
     ]
    },
    {
     "name": "stderr",
     "output_type": "stream",
     "text": [
      "\r",
      "  1%|▍                                                                                 | 2/368 [00:00<00:29, 12.53it/s]"
     ]
    },
    {
     "name": "stdout",
     "output_type": "stream",
     "text": [
      "Product Row:  1\n",
      "https://secure.img1-fg.wfcdn.com/im/56432728/resize-h310-w310%5Ecompr-r85/1178/117801067/Luanna+Chesterfield+80%2522+Recessed+Arm+Sofa.jpg\n"
     ]
    },
    {
     "name": "stderr",
     "output_type": "stream",
     "text": [
      "\r",
      "  1%|▋                                                                                 | 3/368 [00:00<00:38,  9.58it/s]"
     ]
    },
    {
     "name": "stdout",
     "output_type": "stream",
     "text": [
      "Product Row:  2\n",
      "https://secure.img1-fg.wfcdn.com/im/38238360/resize-h310-w310%5Ecompr-r85/6045/60454011/Bombay+Genuine+Leather+84%2522+Square+Arms+Sofa.jpg\n"
     ]
    },
    {
     "name": "stderr",
     "output_type": "stream",
     "text": [
      "\r",
      "  1%|▉                                                                                 | 4/368 [00:00<00:43,  8.28it/s]"
     ]
    },
    {
     "name": "stdout",
     "output_type": "stream",
     "text": [
      "Product Row:  3\n",
      "https://secure.img1-fg.wfcdn.com/im/70316309/resize-h310-w310%5Ecompr-r85/4687/46877341/Hardin+Right+Hand+Facing+Sectional+with+Ottoman.jpg\n"
     ]
    },
    {
     "name": "stderr",
     "output_type": "stream",
     "text": [
      "\r",
      "  1%|█                                                                                 | 5/368 [00:00<00:46,  7.75it/s]"
     ]
    },
    {
     "name": "stdout",
     "output_type": "stream",
     "text": [
      "Product Row:  4\n",
      "https://secure.img1-fg.wfcdn.com/im/16981263/resize-h310-w310%5Ecompr-r85/1047/104796711/Westberg+Velvet+Chesterfield+76%2522+Rolled+Arms+Loveseat.jpg\n"
     ]
    },
    {
     "name": "stderr",
     "output_type": "stream",
     "text": [
      "\r",
      "  2%|█▎                                                                                | 6/368 [00:00<00:51,  7.10it/s]"
     ]
    },
    {
     "name": "stdout",
     "output_type": "stream",
     "text": [
      "Product Row:  5\n",
      "https://secure.img1-fg.wfcdn.com/im/06317258/resize-h310-w310%5Ecompr-r85/1150/115069627/Carly+93%2522Recessed+Arm+Sofa+Bed.jpg\n"
     ]
    },
    {
     "name": "stderr",
     "output_type": "stream",
     "text": [
      "\r",
      "  2%|█▌                                                                                | 7/368 [00:00<00:49,  7.23it/s]"
     ]
    },
    {
     "name": "stdout",
     "output_type": "stream",
     "text": [
      "Product Row:  6\n",
      "https://secure.img1-fg.wfcdn.com/im/46614650/resize-h310-w310%5Ecompr-r85/7888/78886170/Brinson+Genuine+Leather+Chesterfield+95%2522+Rolled+Arm+Sofa.jpg\n"
     ]
    },
    {
     "name": "stderr",
     "output_type": "stream",
     "text": [
      "\r",
      "  2%|█▊                                                                                | 8/368 [00:01<00:51,  6.99it/s]"
     ]
    },
    {
     "name": "stdout",
     "output_type": "stream",
     "text": [
      "Product Row:  7\n",
      "https://secure.img1-fg.wfcdn.com/im/21646652/resize-h310-w310%5Ecompr-r85/9063/90637842/Foundation+59%2522+Round+Arm+Loveseat.jpg\n"
     ]
    },
    {
     "name": "stderr",
     "output_type": "stream",
     "text": [
      "\r",
      "  2%|██                                                                                | 9/368 [00:01<00:53,  6.75it/s]"
     ]
    },
    {
     "name": "stdout",
     "output_type": "stream",
     "text": [
      "Product Row:  8\n",
      "https://secure.img1-fg.wfcdn.com/im/65518329/resize-h310-w310%5Ecompr-r85/6319/63195877/Oliver+90%2522+Reversible+Modular+Sectional+with+Ottoman.jpg\n"
     ]
    },
    {
     "name": "stderr",
     "output_type": "stream",
     "text": [
      "\r",
      "  3%|██▏                                                                              | 10/368 [00:01<00:54,  6.54it/s]"
     ]
    },
    {
     "name": "stdout",
     "output_type": "stream",
     "text": [
      "Product Row:  9\n",
      "https://secure.img1-fg.wfcdn.com/im/89011067/resize-h310-w310%5Ecompr-r85/7880/78809400/Arne+81.5%2522+Square+Arm+Sofa.jpg\n"
     ]
    },
    {
     "name": "stderr",
     "output_type": "stream",
     "text": [
      "\r",
      "  3%|██▍                                                                              | 11/368 [00:01<00:56,  6.31it/s]"
     ]
    },
    {
     "name": "stdout",
     "output_type": "stream",
     "text": [
      "Product Row:  10\n",
      "https://secure.img1-fg.wfcdn.com/im/01022223/resize-h310-w310%5Ecompr-r85/4335/43357578/Joseph+Reversible+Sectional.jpg\n"
     ]
    },
    {
     "name": "stderr",
     "output_type": "stream",
     "text": [
      "\r",
      "  3%|██▋                                                                              | 12/368 [00:01<00:57,  6.19it/s]"
     ]
    },
    {
     "name": "stdout",
     "output_type": "stream",
     "text": [
      "Product Row:  11\n",
      "https://secure.img1-fg.wfcdn.com/im/14532527/resize-h310-w310%5Ecompr-r85/4593/45938748/Live-it+Cozy+87.8%2522+Reversible+Sleeper+Sectional.jpg\n"
     ]
    },
    {
     "name": "stderr",
     "output_type": "stream",
     "text": [
      "\r",
      "  4%|██▊                                                                              | 13/368 [00:01<00:56,  6.30it/s]"
     ]
    },
    {
     "name": "stdout",
     "output_type": "stream",
     "text": [
      "Product Row:  12\n",
      "https://secure.img1-fg.wfcdn.com/im/74145615/resize-h310-w310%5Ecompr-r85/6413/64136059/Idris+80%2522+Square+Arm+Sofa.jpg\n"
     ]
    },
    {
     "name": "stderr",
     "output_type": "stream",
     "text": [
      "\r",
      "  4%|███                                                                              | 14/368 [00:02<00:59,  5.93it/s]"
     ]
    },
    {
     "name": "stdout",
     "output_type": "stream",
     "text": [
      "Product Row:  13\n",
      "https://secure.img1-fg.wfcdn.com/im/97279698/resize-h310-w310%5Ecompr-r85/4466/44665655/Quitaque+Left+Hand+Facing+Sectional.jpg\n"
     ]
    },
    {
     "name": "stderr",
     "output_type": "stream",
     "text": [
      "\r",
      "  4%|███▎                                                                             | 15/368 [00:02<01:03,  5.57it/s]"
     ]
    },
    {
     "name": "stdout",
     "output_type": "stream",
     "text": [
      "Product Row:  14\n",
      "https://secure.img1-fg.wfcdn.com/im/20900112/resize-h310-w310%5Ecompr-r85/1152/115203964/Salsbury+63%2522+Flared+Arm+Sofa+Bed.jpg\n"
     ]
    },
    {
     "name": "stderr",
     "output_type": "stream",
     "text": [
      "\r",
      "  4%|███▌                                                                             | 16/368 [00:02<00:58,  6.02it/s]"
     ]
    },
    {
     "name": "stdout",
     "output_type": "stream",
     "text": [
      "Product Row:  15\n",
      "https://secure.img1-fg.wfcdn.com/im/59535156/resize-h310-w310%5Ecompr-r85/1083/108308717/Simonsen+72.5%2522+Round+Arms+Sofa.jpg\n"
     ]
    },
    {
     "name": "stderr",
     "output_type": "stream",
     "text": [
      "\r",
      "  5%|███▋                                                                             | 17/368 [00:02<00:55,  6.35it/s]"
     ]
    },
    {
     "name": "stdout",
     "output_type": "stream",
     "text": [
      "Product Row:  16\n",
      "https://secure.img1-fg.wfcdn.com/im/57337903/resize-h310-w310%5Ecompr-r85/6301/63013047/Regin+111%2522+Reversible+Sectional.jpg\n"
     ]
    },
    {
     "name": "stderr",
     "output_type": "stream",
     "text": [
      "\r",
      "  5%|███▉                                                                             | 18/368 [00:02<00:55,  6.27it/s]"
     ]
    },
    {
     "name": "stdout",
     "output_type": "stream",
     "text": [
      "Product Row:  17\n",
      "https://secure.img1-fg.wfcdn.com/im/65929144/resize-h310-w310%5Ecompr-r85/5834/58343105/Welton+Velvet+69%2522+Rolled+Arm+Loveseat.jpg\n"
     ]
    },
    {
     "name": "stderr",
     "output_type": "stream",
     "text": [
      "\r",
      "  5%|████▏                                                                            | 19/368 [00:02<00:57,  6.07it/s]"
     ]
    },
    {
     "name": "stdout",
     "output_type": "stream",
     "text": [
      "Product Row:  18\n",
      "https://secure.img1-fg.wfcdn.com/im/91276715/resize-h310-w310%5Ecompr-r85/9908/99088378/Doug+Reclining+91%2522+Rolled+Arm+Sofa.jpg\n"
     ]
    },
    {
     "name": "stderr",
     "output_type": "stream",
     "text": [
      "\r",
      "  5%|████▍                                                                            | 20/368 [00:03<00:56,  6.14it/s]"
     ]
    },
    {
     "name": "stdout",
     "output_type": "stream",
     "text": [
      "Product Row:  19\n",
      "https://secure.img1-fg.wfcdn.com/im/28207542/resize-h310-w310%5Ecompr-r85/3449/34491770/Padang+Sidempuan+90%2522+Pillow+top+Arm+Sofa+Bed.jpg\n"
     ]
    },
    {
     "name": "stderr",
     "output_type": "stream",
     "text": [
      "\r",
      "  6%|████▌                                                                            | 21/368 [00:03<00:57,  6.04it/s]"
     ]
    },
    {
     "name": "stdout",
     "output_type": "stream",
     "text": [
      "Product Row:  20\n",
      "https://secure.img1-fg.wfcdn.com/im/48126602/resize-h310-w310%5Ecompr-r85/6115/61158949/Schaeffer+Right+Hand+Facing+Sectional.jpg\n"
     ]
    },
    {
     "name": "stderr",
     "output_type": "stream",
     "text": [
      "\r",
      "  6%|████▊                                                                            | 22/368 [00:03<01:00,  5.69it/s]"
     ]
    },
    {
     "name": "stdout",
     "output_type": "stream",
     "text": [
      "Product Row:  21\n",
      "https://secure.img1-fg.wfcdn.com/im/72375181/resize-h310-w310%5Ecompr-r85/1054/105463016/Alisia+32.3%2522+Armless+Sofa.jpg\n"
     ]
    },
    {
     "name": "stderr",
     "output_type": "stream",
     "text": [
      "\r",
      "  6%|█████                                                                            | 23/368 [00:03<00:58,  5.85it/s]"
     ]
    },
    {
     "name": "stdout",
     "output_type": "stream",
     "text": [
      "Product Row:  22\n",
      "https://secure.img1-fg.wfcdn.com/im/25649198/resize-h310-w310%5Ecompr-r85/5877/58774200/Welles+Loveseat.jpg\n"
     ]
    },
    {
     "name": "stderr",
     "output_type": "stream",
     "text": [
      "\r",
      "  7%|█████▎                                                                           | 24/368 [00:03<00:58,  5.86it/s]"
     ]
    },
    {
     "name": "stdout",
     "output_type": "stream",
     "text": [
      "Product Row:  23\n",
      "https://secure.img1-fg.wfcdn.com/im/10577193/resize-h310-w310%5Ecompr-r85/4747/47473674/Kavya+Chesterfield+109%2522+Tuxedo+Arm+Sofa.jpg\n"
     ]
    },
    {
     "name": "stderr",
     "output_type": "stream",
     "text": [
      "\r",
      "  7%|█████▌                                                                           | 25/368 [00:03<00:55,  6.21it/s]"
     ]
    },
    {
     "name": "stdout",
     "output_type": "stream",
     "text": [
      "Product Row:  24\n",
      "https://secure.img1-fg.wfcdn.com/im/21208384/resize-h310-w310%5Ecompr-r85/1051/105141609/Ullrich+93%2522+Rolled+Arm+Sofa.jpg\n"
     ]
    },
    {
     "name": "stderr",
     "output_type": "stream",
     "text": [
      "\r",
      "  7%|█████▋                                                                           | 26/368 [00:04<00:58,  5.83it/s]"
     ]
    },
    {
     "name": "stdout",
     "output_type": "stream",
     "text": [
      "Product Row:  25\n",
      "https://secure.img1-fg.wfcdn.com/im/01475381/resize-h310-w310%5Ecompr-r85/3425/34259834/Tressa%25C2%25A0+94%2522+Rolled+Arm+Sofa.jpg\n"
     ]
    },
    {
     "name": "stderr",
     "output_type": "stream",
     "text": [
      "\r",
      "  7%|█████▉                                                                           | 27/368 [00:04<00:59,  5.75it/s]"
     ]
    },
    {
     "name": "stdout",
     "output_type": "stream",
     "text": [
      "Product Row:  26\n",
      "https://secure.img1-fg.wfcdn.com/im/01795901/resize-h310-w310%5Ecompr-r85/9261/92613160/Casey+88%2522+Rolled+Arm+Sofa.jpg\n"
     ]
    },
    {
     "name": "stderr",
     "output_type": "stream",
     "text": [
      "\r",
      "  8%|██████▏                                                                          | 28/368 [00:04<00:56,  6.00it/s]"
     ]
    },
    {
     "name": "stdout",
     "output_type": "stream",
     "text": [
      "Product Row:  27\n",
      "https://secure.img1-fg.wfcdn.com/im/88532180/resize-h310-w310%5Ecompr-r85/1054/105462951/Alisia+Armless+Loveseat.jpg\n"
     ]
    },
    {
     "name": "stderr",
     "output_type": "stream",
     "text": [
      "\r",
      "  8%|██████▍                                                                          | 29/368 [00:04<00:53,  6.37it/s]"
     ]
    },
    {
     "name": "stdout",
     "output_type": "stream",
     "text": [
      "Product Row:  28\n",
      "https://secure.img1-fg.wfcdn.com/im/61323491/resize-h310-w310%5Ecompr-r85/1118/111834431/Welles+Sofa.jpg\n"
     ]
    },
    {
     "name": "stderr",
     "output_type": "stream",
     "text": [
      "\r",
      "  8%|██████▌                                                                          | 30/368 [00:04<00:53,  6.28it/s]"
     ]
    },
    {
     "name": "stdout",
     "output_type": "stream",
     "text": [
      "Product Row:  29\n",
      "https://secure.img1-fg.wfcdn.com/im/76181803/resize-h310-w310%5Ecompr-r85/6092/60926805/Cloutier+Right+Hand+Facing+Sectional.jpg\n"
     ]
    },
    {
     "name": "stderr",
     "output_type": "stream",
     "text": [
      "\r",
      "  8%|██████▊                                                                          | 31/368 [00:04<00:56,  5.98it/s]"
     ]
    },
    {
     "name": "stdout",
     "output_type": "stream",
     "text": [
      "Product Row:  30\n",
      "https://secure.img1-fg.wfcdn.com/im/95479499/resize-h310-w310%5Ecompr-r85/8745/87457276/Giovanny+Reversible+Sectional.jpg\n"
     ]
    },
    {
     "name": "stderr",
     "output_type": "stream",
     "text": [
      "\r",
      "  9%|███████                                                                          | 32/368 [00:05<00:58,  5.73it/s]"
     ]
    },
    {
     "name": "stdout",
     "output_type": "stream",
     "text": [
      "Product Row:  31\n",
      "https://secure.img1-fg.wfcdn.com/im/80920564/resize-h310-w310%5Ecompr-r85/6514/65144104/Welton+Standard+Loveseat.jpg\n"
     ]
    },
    {
     "name": "stderr",
     "output_type": "stream",
     "text": [
      "\r",
      "  9%|███████▎                                                                         | 33/368 [00:05<01:01,  5.46it/s]"
     ]
    },
    {
     "name": "stdout",
     "output_type": "stream",
     "text": [
      "Product Row:  32\n",
      "https://secure.img1-fg.wfcdn.com/im/35985509/resize-h310-w310%5Ecompr-r85/1184/118490786/Doug+Reclining+67%2522+Rolled+Arm+Loveseat.jpg\n"
     ]
    },
    {
     "name": "stderr",
     "output_type": "stream",
     "text": [
      "\r",
      "  9%|███████▍                                                                         | 34/368 [00:05<00:55,  6.06it/s]"
     ]
    },
    {
     "name": "stdout",
     "output_type": "stream",
     "text": [
      "Product Row:  33\n",
      "https://secure.img1-fg.wfcdn.com/im/09529430/resize-h310-w310%5Ecompr-r85/2730/27305206/Orlando+Faux+Leather+Standard+86%2522+Square+Arm+Sofa.jpg\n"
     ]
    },
    {
     "name": "stderr",
     "output_type": "stream",
     "text": [
      "\r",
      " 10%|███████▋                                                                         | 35/368 [00:05<00:53,  6.24it/s]"
     ]
    },
    {
     "name": "stdout",
     "output_type": "stream",
     "text": [
      "Product Row:  34\n",
      "https://secure.img1-fg.wfcdn.com/im/14317913/resize-h310-w310%5Ecompr-r85/9974/99748496/Brooklyn+Chesterfield+87%2522+Rolled+Arm+Sofa.jpg\n"
     ]
    },
    {
     "name": "stderr",
     "output_type": "stream",
     "text": [
      "\r",
      " 10%|███████▉                                                                         | 36/368 [00:05<00:52,  6.37it/s]"
     ]
    },
    {
     "name": "stdout",
     "output_type": "stream",
     "text": [
      "Product Row:  35\n",
      "https://secure.img1-fg.wfcdn.com/im/13515115/resize-h310-w310%5Ecompr-r85/1055/105569026/Eulah+79%2522+Rolled+Arms+Sofa+Bed.jpg\n"
     ]
    },
    {
     "name": "stderr",
     "output_type": "stream",
     "text": [
      "\r",
      " 10%|████████▏                                                                        | 37/368 [00:05<00:51,  6.47it/s]"
     ]
    },
    {
     "name": "stdout",
     "output_type": "stream",
     "text": [
      "Product Row:  36\n",
      "https://secure.img1-fg.wfcdn.com/im/41314345/resize-h310-w310%5Ecompr-r85/9841/98413098/Logan+Reclining+83%2522+Recessed+Arm+Sofa.jpg\n"
     ]
    },
    {
     "name": "stderr",
     "output_type": "stream",
     "text": [
      "\r",
      " 10%|████████▎                                                                        | 38/368 [00:06<00:50,  6.48it/s]"
     ]
    },
    {
     "name": "stdout",
     "output_type": "stream",
     "text": [
      "Product Row:  37\n",
      "https://secure.img1-fg.wfcdn.com/im/07215305/resize-h310-w310%5Ecompr-r85/4571/45710209/Waldschmidt+Microfiber+/+Microsuede+67%2522+Pillow+Top+Arm+Loveseat.jpg\n"
     ]
    },
    {
     "name": "stderr",
     "output_type": "stream",
     "text": [
      "\r",
      " 11%|████████▌                                                                        | 39/368 [00:06<00:49,  6.66it/s]"
     ]
    },
    {
     "name": "stdout",
     "output_type": "stream",
     "text": [
      "Product Row:  38\n",
      "https://secure.img1-fg.wfcdn.com/im/44660872/resize-h310-w310%5Ecompr-r85/4318/43184962/Welling+Traditional+Loveseat.jpg\n"
     ]
    },
    {
     "name": "stderr",
     "output_type": "stream",
     "text": [
      "\r",
      " 11%|████████▊                                                                        | 40/368 [00:06<00:49,  6.67it/s]"
     ]
    },
    {
     "name": "stdout",
     "output_type": "stream",
     "text": [
      "Product Row:  39\n",
      "https://secure.img1-fg.wfcdn.com/im/47999703/resize-h310-w310%5Ecompr-r85/5852/58526152/Quitaque+Left+Hand+Facing+Sectional.jpg\n"
     ]
    },
    {
     "name": "stderr",
     "output_type": "stream",
     "text": [
      "\r",
      " 11%|█████████                                                                        | 41/368 [00:06<00:49,  6.63it/s]"
     ]
    },
    {
     "name": "stdout",
     "output_type": "stream",
     "text": [
      "Product Row:  40\n",
      "https://secure.img1-fg.wfcdn.com/im/77518674/resize-h310-w310%5Ecompr-r85/5251/5251002/Charlie+Cotton+90%2522+Round+Arm+Sofa.jpg\n"
     ]
    },
    {
     "name": "stderr",
     "output_type": "stream",
     "text": [
      "\r",
      " 11%|█████████▏                                                                       | 42/368 [00:06<00:50,  6.42it/s]"
     ]
    },
    {
     "name": "stdout",
     "output_type": "stream",
     "text": [
      "Product Row:  41\n",
      "https://secure.img1-fg.wfcdn.com/im/97675251/resize-h310-w310%5Ecompr-r85/5044/50444335/Avery+86%2522+Recessed+Arm+Sofa+Bed.jpg\n"
     ]
    },
    {
     "name": "stderr",
     "output_type": "stream",
     "text": [
      "\r",
      " 12%|█████████▍                                                                       | 43/368 [00:06<00:51,  6.26it/s]"
     ]
    },
    {
     "name": "stdout",
     "output_type": "stream",
     "text": [
      "Product Row:  42\n",
      "https://secure.img1-fg.wfcdn.com/im/88806572/resize-h310-w310%5Ecompr-r85/1159/115977359/Kaylyn+89%2522+Recessed+Arm+Sofa.jpg\n"
     ]
    },
    {
     "name": "stderr",
     "output_type": "stream",
     "text": [
      "\r",
      " 12%|█████████▋                                                                       | 44/368 [00:06<00:53,  6.03it/s]"
     ]
    },
    {
     "name": "stdout",
     "output_type": "stream",
     "text": [
      "Product Row:  43\n",
      "https://secure.img1-fg.wfcdn.com/im/84567186/resize-h310-w310%5Ecompr-r85/5178/51786336/Trouper+Reclining+85+inches+Pillow+Top+Arms+Sofa.jpg\n"
     ]
    },
    {
     "name": "stderr",
     "output_type": "stream",
     "text": [
      "\r",
      " 12%|█████████▉                                                                       | 45/368 [00:07<00:56,  5.72it/s]"
     ]
    },
    {
     "name": "stdout",
     "output_type": "stream",
     "text": [
      "Product Row:  44\n",
      "https://secure.img1-fg.wfcdn.com/im/59931372/resize-h310-w310%5Ecompr-r85/3872/38721378/Ketan+Right+Hand+Facing+Sectional.jpg\n"
     ]
    },
    {
     "name": "stderr",
     "output_type": "stream",
     "text": [
      "\r",
      " 12%|██████████▏                                                                      | 46/368 [00:07<00:55,  5.77it/s]"
     ]
    },
    {
     "name": "stdout",
     "output_type": "stream",
     "text": [
      "Product Row:  45\n",
      "https://secure.img1-fg.wfcdn.com/im/96840003/resize-h310-w310%5Ecompr-r85/1181/118101839/37.75%2527%2527+Square+Arm+Loveseat.jpg\n"
     ]
    },
    {
     "name": "stderr",
     "output_type": "stream",
     "text": [
      "\r",
      " 13%|██████████▎                                                                      | 47/368 [00:07<00:51,  6.21it/s]"
     ]
    },
    {
     "name": "stdout",
     "output_type": "stream",
     "text": [
      "Product Row:  46\n",
      "https://secure.img1-fg.wfcdn.com/im/83441234/resize-h310-w310%5Ecompr-r85/1011/10110493/Charlie+Sierra+Sofa.jpg\n"
     ]
    },
    {
     "name": "stderr",
     "output_type": "stream",
     "text": [
      "\r",
      " 13%|██████████▌                                                                      | 48/368 [00:07<00:49,  6.40it/s]"
     ]
    },
    {
     "name": "stdout",
     "output_type": "stream",
     "text": [
      "Product Row:  47\n",
      "https://secure.img1-fg.wfcdn.com/im/86859592/resize-h310-w310%5Ecompr-r85/1223/122330185/Vegard+Chesterfield+91.34%2522+Round+Arm+Sofa.jpg\n"
     ]
    },
    {
     "name": "stderr",
     "output_type": "stream",
     "text": [
      "\r",
      " 13%|██████████▊                                                                      | 49/368 [00:07<00:49,  6.39it/s]"
     ]
    },
    {
     "name": "stdout",
     "output_type": "stream",
     "text": [
      "Product Row:  48\n",
      "https://secure.img1-fg.wfcdn.com/im/68651493/resize-h310-w310%5Ecompr-r85/7604/76040711/Brylee+118%2522+Reversible+Sectional.jpg\n"
     ]
    },
    {
     "name": "stderr",
     "output_type": "stream",
     "text": [
      "\r",
      " 14%|███████████                                                                      | 50/368 [00:07<00:48,  6.53it/s]"
     ]
    },
    {
     "name": "stdout",
     "output_type": "stream",
     "text": [
      "Product Row:  49\n",
      "https://secure.img1-fg.wfcdn.com/im/25786051/resize-h310-w310%5Ecompr-r85/1159/115988691/98%2522+Square+Arm+Sofa.jpg\n"
     ]
    },
    {
     "name": "stderr",
     "output_type": "stream",
     "text": [
      "\r",
      " 14%|███████████▏                                                                     | 51/368 [00:08<00:47,  6.71it/s]"
     ]
    },
    {
     "name": "stdout",
     "output_type": "stream",
     "text": [
      "Product Row:  50\n",
      "https://secure.img1-fg.wfcdn.com/im/89016754/resize-h310-w310%5Ecompr-r85/1182/118260052/Lesley+87%2522+Square+Arm+Sofa+Bed.jpg\n"
     ]
    },
    {
     "name": "stderr",
     "output_type": "stream",
     "text": [
      "\r",
      " 14%|███████████▍                                                                     | 52/368 [00:08<00:45,  7.00it/s]"
     ]
    },
    {
     "name": "stdout",
     "output_type": "stream",
     "text": [
      "Product Row:  51\n",
      "https://secure.img1-fg.wfcdn.com/im/13262955/resize-h310-w310%5Ecompr-r85/1135/113580381/Anderson+Chesterfield+69%2522+Rolled+Arm+Loveseat.jpg\n"
     ]
    },
    {
     "name": "stderr",
     "output_type": "stream",
     "text": [
      "\r",
      " 14%|███████████▋                                                                     | 53/368 [00:08<00:45,  6.92it/s]"
     ]
    },
    {
     "name": "stdout",
     "output_type": "stream",
     "text": [
      "Product Row:  52\n",
      "https://secure.img1-fg.wfcdn.com/im/46872983/resize-h310-w310%5Ecompr-r85/4172/41724224/Reimann++Sofa.jpg\n"
     ]
    },
    {
     "name": "stderr",
     "output_type": "stream",
     "text": [
      "\r",
      " 15%|███████████▉                                                                     | 54/368 [00:08<00:47,  6.55it/s]"
     ]
    },
    {
     "name": "stdout",
     "output_type": "stream",
     "text": [
      "Product Row:  53\n",
      "https://secure.img1-fg.wfcdn.com/im/66779431/resize-h310-w310%5Ecompr-r85/9037/90375000/Mercer+Velvet+Chesterfield+85%2522+Rolled+Arm+Sofa.jpg\n"
     ]
    },
    {
     "name": "stderr",
     "output_type": "stream",
     "text": [
      "\r",
      " 15%|████████████                                                                     | 55/368 [00:08<00:48,  6.47it/s]"
     ]
    },
    {
     "name": "stdout",
     "output_type": "stream",
     "text": [
      "Product Row:  54\n",
      "https://secure.img1-fg.wfcdn.com/im/47093343/resize-h310-w310%5Ecompr-r85/8628/86280604/Alsager+Chesterfield+Sofa.jpg\n"
     ]
    },
    {
     "name": "stderr",
     "output_type": "stream",
     "text": [
      "\r",
      " 15%|████████████▎                                                                    | 56/368 [00:08<00:50,  6.19it/s]"
     ]
    },
    {
     "name": "stdout",
     "output_type": "stream",
     "text": [
      "Product Row:  55\n",
      "https://secure.img1-fg.wfcdn.com/im/96054254/resize-h310-w310%5Ecompr-r85/1188/118844456/Cordia+Genuine+Leather+87%2522+Recessed+Arm+Sofa+Bed.jpg\n"
     ]
    },
    {
     "name": "stderr",
     "output_type": "stream",
     "text": [
      "\r",
      " 15%|████████████▌                                                                    | 57/368 [00:09<00:48,  6.36it/s]"
     ]
    },
    {
     "name": "stdout",
     "output_type": "stream",
     "text": [
      "Product Row:  56\n",
      "https://secure.img1-fg.wfcdn.com/im/09270226/resize-h310-w310%5Ecompr-r85/6554/65549338/Bima+Reclining+85%2522+Pillow+top+Arms+Sofa.jpg\n"
     ]
    },
    {
     "name": "stderr",
     "output_type": "stream",
     "text": [
      "\r",
      " 16%|████████████▊                                                                    | 58/368 [00:09<00:48,  6.45it/s]"
     ]
    },
    {
     "name": "stdout",
     "output_type": "stream",
     "text": [
      "Product Row:  57\n",
      "https://secure.img1-fg.wfcdn.com/im/02315677/resize-h310-w310%5Ecompr-r85/1086/108606481/Huston+88%2522+Rolled+Arms+Sofa.jpg\n"
     ]
    },
    {
     "name": "stderr",
     "output_type": "stream",
     "text": [
      "\r",
      " 16%|████████████▉                                                                    | 59/368 [00:09<00:46,  6.67it/s]"
     ]
    },
    {
     "name": "stdout",
     "output_type": "stream",
     "text": [
      "Product Row:  58\n",
      "https://secure.img1-fg.wfcdn.com/im/13634394/resize-h310-w310%5Ecompr-r85/7286/72861908/Krysten+101%2522+Symmetrical+Sectional.jpg\n"
     ]
    },
    {
     "name": "stderr",
     "output_type": "stream",
     "text": [
      "\r",
      " 16%|█████████████▏                                                                   | 60/368 [00:09<00:45,  6.82it/s]"
     ]
    },
    {
     "name": "stdout",
     "output_type": "stream",
     "text": [
      "Product Row:  59\n",
      "https://secure.img1-fg.wfcdn.com/im/32455575/resize-h310-w310%5Ecompr-r85/9071/90710612/Gardea+Reversible+Sectional.jpg\n"
     ]
    },
    {
     "name": "stderr",
     "output_type": "stream",
     "text": [
      "\r",
      " 17%|█████████████▍                                                                   | 61/368 [00:09<00:46,  6.67it/s]"
     ]
    },
    {
     "name": "stdout",
     "output_type": "stream",
     "text": [
      "Product Row:  60\n",
      "https://secure.img1-fg.wfcdn.com/im/62721746/resize-h310-w310%5Ecompr-r85/6517/65173193/Samaira+112%2522+Right+Hand+Facing+Sleeper+Sectional.jpg\n"
     ]
    },
    {
     "name": "stderr",
     "output_type": "stream",
     "text": [
      "\r",
      " 17%|█████████████▋                                                                   | 62/368 [00:09<00:46,  6.63it/s]"
     ]
    },
    {
     "name": "stdout",
     "output_type": "stream",
     "text": [
      "Product Row:  61\n",
      "https://secure.img1-fg.wfcdn.com/im/45004032/resize-h310-w310%5Ecompr-r85/5824/58240868/Jazmin+Velvet+Curved+109%2522+Rolled+Arm+Sofa.jpg\n"
     ]
    },
    {
     "name": "stderr",
     "output_type": "stream",
     "text": [
      "\r",
      " 17%|█████████████▊                                                                   | 63/368 [00:09<00:48,  6.31it/s]"
     ]
    },
    {
     "name": "stdout",
     "output_type": "stream",
     "text": [
      "Product Row:  62\n",
      "https://secure.img1-fg.wfcdn.com/im/40946799/resize-h310-w310%5Ecompr-r85/1188/118856557/Negley+91%2522+Round+Arm+Sofa+Bed.jpg\n"
     ]
    },
    {
     "name": "stderr",
     "output_type": "stream",
     "text": [
      "\r",
      " 17%|██████████████                                                                   | 64/368 [00:10<00:51,  5.95it/s]"
     ]
    },
    {
     "name": "stdout",
     "output_type": "stream",
     "text": [
      "Product Row:  63\n",
      "https://secure.img1-fg.wfcdn.com/im/30701715/resize-h310-w310%5Ecompr-r85/8458/84582335/Liesl+Reclining+Loveseat.jpg\n"
     ]
    },
    {
     "name": "stderr",
     "output_type": "stream",
     "text": [
      "\r",
      " 18%|██████████████▎                                                                  | 65/368 [00:10<00:52,  5.82it/s]"
     ]
    },
    {
     "name": "stdout",
     "output_type": "stream",
     "text": [
      "Product Row:  64\n",
      "https://secure.img1-fg.wfcdn.com/im/86273653/resize-h310-w310%5Ecompr-r85/1076/107600604/Barnsdale+Reclining+Round+Arms+Sofa.jpg\n"
     ]
    },
    {
     "name": "stderr",
     "output_type": "stream",
     "text": [
      "\r",
      " 18%|██████████████▌                                                                  | 66/368 [00:10<00:49,  6.06it/s]"
     ]
    },
    {
     "name": "stdout",
     "output_type": "stream",
     "text": [
      "Product Row:  65\n",
      "https://secure.img1-fg.wfcdn.com/im/43342383/resize-h310-w310%5Ecompr-r85/4128/41288863/Lambdin+Genuine+Leather+88%2522+Round+Arm+Sofa.jpg\n"
     ]
    },
    {
     "name": "stderr",
     "output_type": "stream",
     "text": [
      "\r",
      " 18%|██████████████▋                                                                  | 67/368 [00:10<00:51,  5.81it/s]"
     ]
    },
    {
     "name": "stdout",
     "output_type": "stream",
     "text": [
      "Product Row:  66\n",
      "https://secure.img1-fg.wfcdn.com/im/97702415/resize-h310-w310%5Ecompr-r85/8947/89477375/Whipton+84+inches+Rolled+Arms+Sofa.jpg\n"
     ]
    },
    {
     "name": "stderr",
     "output_type": "stream",
     "text": [
      "\r",
      " 18%|██████████████▉                                                                  | 68/368 [00:10<00:48,  6.14it/s]"
     ]
    },
    {
     "name": "stdout",
     "output_type": "stream",
     "text": [
      "Product Row:  67\n",
      "https://secure.img1-fg.wfcdn.com/im/21917770/resize-h310-w310%5Ecompr-r85/7592/75924787/Destanee+94%2522+Rolled+Arm+Sofa.jpg\n"
     ]
    },
    {
     "name": "stderr",
     "output_type": "stream",
     "text": [
      "\r",
      " 19%|███████████████▏                                                                 | 69/368 [00:10<00:46,  6.46it/s]"
     ]
    },
    {
     "name": "stdout",
     "output_type": "stream",
     "text": [
      "Product Row:  68\n",
      "https://secure.img1-fg.wfcdn.com/im/50321908/resize-h310-w310%5Ecompr-r85/7892/78928988/Hotchkiss+Genuine+Leather+84%2522+Rolled+Arm+Sofa.jpg\n"
     ]
    },
    {
     "name": "stderr",
     "output_type": "stream",
     "text": [
      "\r",
      " 19%|███████████████▍                                                                 | 70/368 [00:11<00:47,  6.32it/s]"
     ]
    },
    {
     "name": "stdout",
     "output_type": "stream",
     "text": [
      "Product Row:  69\n",
      "https://secure.img1-fg.wfcdn.com/im/77794258/resize-h310-w310%5Ecompr-r85/8458/84582312/Carolina+Reclining+87%2522+Round+Arm+Sofa.jpg\n"
     ]
    },
    {
     "name": "stderr",
     "output_type": "stream",
     "text": [
      "\r",
      " 19%|███████████████▋                                                                 | 71/368 [00:11<00:46,  6.46it/s]"
     ]
    },
    {
     "name": "stdout",
     "output_type": "stream",
     "text": [
      "Product Row:  70\n",
      "https://secure.img1-fg.wfcdn.com/im/76546584/resize-h310-w310%5Ecompr-r85/1584/15846481/Malibu+91%2522+Sectional.jpg\n"
     ]
    },
    {
     "name": "stderr",
     "output_type": "stream",
     "text": [
      "\r",
      " 20%|███████████████▊                                                                 | 72/368 [00:11<00:43,  6.76it/s]"
     ]
    },
    {
     "name": "stdout",
     "output_type": "stream",
     "text": [
      "Product Row:  71\n",
      "https://secure.img1-fg.wfcdn.com/im/30911668/resize-h310-w310%5Ecompr-r85/5998/59980473/Stephanie+Leather+Chesterfield+Sofa.jpg\n"
     ]
    },
    {
     "name": "stderr",
     "output_type": "stream",
     "text": [
      "\r",
      " 20%|████████████████                                                                 | 73/368 [00:11<00:42,  7.02it/s]"
     ]
    },
    {
     "name": "stdout",
     "output_type": "stream",
     "text": [
      "Product Row:  72\n",
      "https://secure.img1-fg.wfcdn.com/im/62847374/resize-h310-w310%5Ecompr-r85/4714/47147163/Baver+Leather+Sectional.jpg\n"
     ]
    },
    {
     "name": "stderr",
     "output_type": "stream",
     "text": [
      "\r",
      " 20%|████████████████▎                                                                | 74/368 [00:11<00:42,  6.92it/s]"
     ]
    },
    {
     "name": "stdout",
     "output_type": "stream",
     "text": [
      "Product Row:  73\n",
      "https://secure.img1-fg.wfcdn.com/im/16088037/resize-h310-w310%5Ecompr-r85/6082/60825500/Sauer+96%2522+Rolled+Arm+Sofa.jpg\n"
     ]
    },
    {
     "name": "stderr",
     "output_type": "stream",
     "text": [
      "\r",
      " 20%|████████████████▌                                                                | 75/368 [00:11<00:41,  7.15it/s]"
     ]
    },
    {
     "name": "stdout",
     "output_type": "stream",
     "text": [
      "Product Row:  74\n",
      "https://secure.img1-fg.wfcdn.com/im/86359733/resize-h310-w310%5Ecompr-r85/1226/122673267/Carmo+83%2522+Rolled+Arm+Sofa.jpg\n"
     ]
    },
    {
     "name": "stderr",
     "output_type": "stream",
     "text": [
      "\r",
      " 21%|████████████████▋                                                                | 76/368 [00:11<00:38,  7.50it/s]"
     ]
    },
    {
     "name": "stdout",
     "output_type": "stream",
     "text": [
      "Product Row:  75\n",
      "https://secure.img1-fg.wfcdn.com/im/32890095/resize-h310-w310%5Ecompr-r85/1181/118102023/Genuine+Leather+37%2527%2527+Rolled+Arm+Loveseat.jpg\n"
     ]
    },
    {
     "name": "stderr",
     "output_type": "stream",
     "text": [
      "\r",
      " 21%|████████████████▉                                                                | 77/368 [00:12<00:38,  7.49it/s]"
     ]
    },
    {
     "name": "stdout",
     "output_type": "stream",
     "text": [
      "Product Row:  76\n",
      "https://secure.img1-fg.wfcdn.com/im/94002551/resize-h310-w310%5Ecompr-r85/1593/15933492/Oak+Bluffs+Sofa.jpg\n"
     ]
    },
    {
     "name": "stderr",
     "output_type": "stream",
     "text": [
      "\r",
      " 21%|█████████████████▏                                                               | 78/368 [00:12<00:39,  7.27it/s]"
     ]
    },
    {
     "name": "stdout",
     "output_type": "stream",
     "text": [
      "Product Row:  77\n",
      "https://secure.img1-fg.wfcdn.com/im/62166871/resize-h310-w310%5Ecompr-r85/1070/107047207/Bickford+Genuine+Leather+89%2522+Square+Arm+Sofa.jpg\n"
     ]
    },
    {
     "name": "stderr",
     "output_type": "stream",
     "text": [
      "\r",
      " 21%|█████████████████▍                                                               | 79/368 [00:12<00:43,  6.65it/s]"
     ]
    },
    {
     "name": "stdout",
     "output_type": "stream",
     "text": [
      "Product Row:  78\n",
      "https://secure.img1-fg.wfcdn.com/im/66279279/resize-h310-w310%5Ecompr-r85/5837/58373051/Alviso+Reclining+Sofa.jpg\n"
     ]
    },
    {
     "name": "stderr",
     "output_type": "stream",
     "text": [
      "\r",
      " 22%|█████████████████▌                                                               | 80/368 [00:12<00:45,  6.29it/s]"
     ]
    },
    {
     "name": "stdout",
     "output_type": "stream",
     "text": [
      "Product Row:  79\n",
      "https://secure.img1-fg.wfcdn.com/im/89112632/resize-h310-w310%5Ecompr-r85/1148/114865893/Clara+119%2522+Reversible+Modular+Sectional.jpg\n"
     ]
    },
    {
     "name": "stderr",
     "output_type": "stream",
     "text": [
      "\r",
      " 22%|█████████████████▊                                                               | 81/368 [00:12<00:44,  6.42it/s]"
     ]
    },
    {
     "name": "stdout",
     "output_type": "stream",
     "text": [
      "Product Row:  80\n",
      "https://secure.img1-fg.wfcdn.com/im/95682767/resize-h310-w310%5Ecompr-r85/4733/47338652/Thibaud+Sleeper+Sofa.jpg\n"
     ]
    },
    {
     "name": "stderr",
     "output_type": "stream",
     "text": [
      "\r",
      " 22%|██████████████████                                                               | 82/368 [00:12<00:43,  6.59it/s]"
     ]
    },
    {
     "name": "stdout",
     "output_type": "stream",
     "text": [
      "Product Row:  81\n",
      "https://secure.img1-fg.wfcdn.com/im/19371044/resize-h310-w310%5Ecompr-r85/3708/37087424/Destanee+Traditional+Loveseat.jpg\n"
     ]
    },
    {
     "name": "stderr",
     "output_type": "stream",
     "text": [
      "\r",
      " 23%|██████████████████▎                                                              | 83/368 [00:13<00:47,  6.04it/s]"
     ]
    },
    {
     "name": "stdout",
     "output_type": "stream",
     "text": [
      "Product Row:  82\n",
      "https://secure.img1-fg.wfcdn.com/im/93768353/resize-h310-w310%5Ecompr-r85/1118/111824331/Chimel+72%2522+Square+Arm+Sofa+Bed.jpg\n"
     ]
    },
    {
     "name": "stderr",
     "output_type": "stream",
     "text": [
      "\r",
      " 23%|██████████████████▍                                                              | 84/368 [00:13<00:47,  5.98it/s]"
     ]
    },
    {
     "name": "stdout",
     "output_type": "stream",
     "text": [
      "Product Row:  83\n",
      "https://secure.img1-fg.wfcdn.com/im/15121803/resize-h310-w310%5Ecompr-r85/1193/119347681/Negley+91%2522+Round+Arm+Sleeper.jpg\n"
     ]
    },
    {
     "name": "stderr",
     "output_type": "stream",
     "text": [
      "\r",
      " 23%|██████████████████▋                                                              | 85/368 [00:13<00:48,  5.86it/s]"
     ]
    },
    {
     "name": "stdout",
     "output_type": "stream",
     "text": [
      "Product Row:  84\n",
      "https://secure.img1-fg.wfcdn.com/im/88785111/resize-h310-w310%5Ecompr-r85/5933/59338868/Wentz+Leather+Loveseat.jpg\n"
     ]
    },
    {
     "name": "stderr",
     "output_type": "stream",
     "text": [
      "\r",
      " 23%|██████████████████▉                                                              | 86/368 [00:13<00:47,  5.96it/s]"
     ]
    },
    {
     "name": "stdout",
     "output_type": "stream",
     "text": [
      "Product Row:  85\n",
      "https://secure.img1-fg.wfcdn.com/im/64007218/resize-h310-w310%5Ecompr-r85/1167/116711666/Rachel+Genuine+Leather+91%2522+Rolled+Arm+Sofa+Bed.jpg\n"
     ]
    },
    {
     "name": "stderr",
     "output_type": "stream",
     "text": [
      "\r",
      " 24%|███████████████████▏                                                             | 87/368 [00:13<00:44,  6.25it/s]"
     ]
    },
    {
     "name": "stdout",
     "output_type": "stream",
     "text": [
      "Product Row:  86\n",
      "https://secure.img1-fg.wfcdn.com/im/98401820/resize-h310-w310%5Ecompr-r85/7186/71866980/Messina+Curved+71%2522+Flared+Arm+Sofa.jpg\n"
     ]
    },
    {
     "name": "stderr",
     "output_type": "stream",
     "text": [
      "\r",
      " 24%|███████████████████▎                                                             | 88/368 [00:13<00:41,  6.69it/s]"
     ]
    },
    {
     "name": "stdout",
     "output_type": "stream",
     "text": [
      "Product Row:  87\n",
      "https://secure.img1-fg.wfcdn.com/im/12723956/resize-h310-w310%5Ecompr-r85/5824/58248592/Tobin+Sofa.jpg\n"
     ]
    },
    {
     "name": "stderr",
     "output_type": "stream",
     "text": [
      "\r",
      " 24%|███████████████████▌                                                             | 89/368 [00:13<00:41,  6.67it/s]"
     ]
    },
    {
     "name": "stdout",
     "output_type": "stream",
     "text": [
      "Product Row:  88\n",
      "https://secure.img1-fg.wfcdn.com/im/62700546/resize-h310-w310%5Ecompr-r85/1188/118859272/Negley+80%2522+Square+Arm+Sofa+Bed.jpg\n"
     ]
    },
    {
     "name": "stderr",
     "output_type": "stream",
     "text": [
      "\r",
      " 24%|███████████████████▊                                                             | 90/368 [00:14<00:40,  6.95it/s]"
     ]
    },
    {
     "name": "stdout",
     "output_type": "stream",
     "text": [
      "Product Row:  89\n",
      "https://secure.img1-fg.wfcdn.com/im/44090540/resize-h310-w310%5Ecompr-r85/1185/118576120/Simonne+81%2522+Pillow+Top+Arm+Sofa+Bed.jpg\n"
     ]
    },
    {
     "name": "stderr",
     "output_type": "stream",
     "text": [
      "\r",
      " 25%|████████████████████                                                             | 91/368 [00:14<00:40,  6.89it/s]"
     ]
    },
    {
     "name": "stdout",
     "output_type": "stream",
     "text": [
      "Product Row:  90\n",
      "https://secure.img1-fg.wfcdn.com/im/04411855/resize-h310-w310%5Ecompr-r85/6969/69693072/L%25E9a+72%2522+Recessed+Arm+Sofa+Bed.jpg\n"
     ]
    },
    {
     "name": "stderr",
     "output_type": "stream",
     "text": [
      "\r",
      " 25%|████████████████████▎                                                            | 92/368 [00:14<00:39,  6.93it/s]"
     ]
    },
    {
     "name": "stdout",
     "output_type": "stream",
     "text": [
      "Product Row:  91\n",
      "https://secure.img1-fg.wfcdn.com/im/65369825/resize-h310-w310%5Ecompr-r85/6765/67650905/Haring+96%2527%2527+Sectional.jpg\n"
     ]
    },
    {
     "name": "stderr",
     "output_type": "stream",
     "text": [
      "\r",
      " 25%|████████████████████▍                                                            | 93/368 [00:14<00:40,  6.82it/s]"
     ]
    },
    {
     "name": "stdout",
     "output_type": "stream",
     "text": [
      "Product Row:  92\n",
      "https://secure.img1-fg.wfcdn.com/im/26611699/resize-h310-w310%5Ecompr-r85/1222/122262700/Eduarte+88.2%2527%2527+Square+Arm+Sofa.jpg\n"
     ]
    },
    {
     "name": "stderr",
     "output_type": "stream",
     "text": [
      "\r",
      " 26%|████████████████████▋                                                            | 94/368 [00:14<00:42,  6.38it/s]"
     ]
    },
    {
     "name": "stdout",
     "output_type": "stream",
     "text": [
      "Product Row:  93\n",
      "https://secure.img1-fg.wfcdn.com/im/32890095/resize-h310-w310%5Ecompr-r85/1181/118102023/Genuine+Leather+37%2527%2527+Rolled+Arm+Loveseat.jpg\n"
     ]
    },
    {
     "name": "stderr",
     "output_type": "stream",
     "text": [
      "\r",
      " 26%|████████████████████▉                                                            | 95/368 [00:14<00:42,  6.48it/s]"
     ]
    },
    {
     "name": "stdout",
     "output_type": "stream",
     "text": [
      "Product Row:  94\n",
      "https://secure.img1-fg.wfcdn.com/im/06995085/resize-h310-w310%5Ecompr-r85/1194/119478363/Caiden+Velvet+Sofa+w/8+Pillows.jpg\n"
     ]
    },
    {
     "name": "stderr",
     "output_type": "stream",
     "text": [
      "\r",
      " 26%|█████████████████████▏                                                           | 96/368 [00:15<00:45,  5.99it/s]"
     ]
    },
    {
     "name": "stdout",
     "output_type": "stream",
     "text": [
      "Product Row:  95\n",
      "https://secure.img1-fg.wfcdn.com/im/01309034/resize-h310-w310%5Ecompr-r85/1130/113019886/Sunday+82%2522+Sofa.jpg\n"
     ]
    },
    {
     "name": "stderr",
     "output_type": "stream",
     "text": [
      "\r",
      " 26%|█████████████████████▎                                                           | 97/368 [00:15<00:45,  5.92it/s]"
     ]
    },
    {
     "name": "stdout",
     "output_type": "stream",
     "text": [
      "Product Row:  96\n",
      "https://secure.img1-fg.wfcdn.com/im/71797491/resize-h310-w310%5Ecompr-r85/7351/73516819/Gabrielle+86%2522+Rolled+Arm+Sofa.jpg\n"
     ]
    },
    {
     "name": "stderr",
     "output_type": "stream",
     "text": [
      "\r",
      " 27%|█████████████████████▌                                                           | 98/368 [00:15<00:46,  5.78it/s]"
     ]
    },
    {
     "name": "stdout",
     "output_type": "stream",
     "text": [
      "Product Row:  97\n",
      "https://secure.img1-fg.wfcdn.com/im/11601429/resize-h310-w310%5Ecompr-r85/1159/115963058/Stroup+Genuine+Leather+65%2522+Square+Arm+Loveseat.jpg\n"
     ]
    },
    {
     "name": "stderr",
     "output_type": "stream",
     "text": [
      "\r",
      " 27%|█████████████████████▊                                                           | 99/368 [00:15<00:45,  5.90it/s]"
     ]
    },
    {
     "name": "stdout",
     "output_type": "stream",
     "text": [
      "Product Row:  98\n",
      "https://secure.img1-fg.wfcdn.com/im/37228524/resize-h310-w310%5Ecompr-r85/1161/116109579/Adelin+Genuine+Leather+Reclining+59.5%2527%2527+Rolled+Arm+Loveseat.jpg\n"
     ]
    },
    {
     "name": "stderr",
     "output_type": "stream",
     "text": [
      "\r",
      " 27%|█████████████████████▋                                                          | 100/368 [00:15<00:45,  5.83it/s]"
     ]
    },
    {
     "name": "stdout",
     "output_type": "stream",
     "text": [
      "Product Row:  99\n",
      "https://secure.img1-fg.wfcdn.com/im/24927884/resize-h310-w310%5Ecompr-r85/6687/66875867/Renae+Genuine+Leather+89%2522+Tuxedo+Arm+Sofa.jpg\n"
     ]
    },
    {
     "name": "stderr",
     "output_type": "stream",
     "text": [
      "\r",
      " 27%|█████████████████████▉                                                          | 101/368 [00:15<00:45,  5.91it/s]"
     ]
    },
    {
     "name": "stdout",
     "output_type": "stream",
     "text": [
      "Product Row:  100\n",
      "https://secure.img1-fg.wfcdn.com/im/34572897/resize-h310-w310%5Ecompr-r85/7856/78563919/Keomi+Leather+71%2522+Rolled+Arms+Loveseat.jpg\n"
     ]
    },
    {
     "name": "stderr",
     "output_type": "stream",
     "text": [
      "\r",
      " 28%|██████████████████████▏                                                         | 102/368 [00:16<00:41,  6.35it/s]"
     ]
    },
    {
     "name": "stdout",
     "output_type": "stream",
     "text": [
      "Product Row:  101\n",
      "https://secure.img1-fg.wfcdn.com/im/95741305/resize-h310-w310%5Ecompr-r85/9523/95236032/Kreitzer+91%2522+Rolled+Arm+Sofa.jpg\n"
     ]
    },
    {
     "name": "stderr",
     "output_type": "stream",
     "text": [
      "\r",
      " 28%|██████████████████████▍                                                         | 103/368 [00:16<00:41,  6.34it/s]"
     ]
    },
    {
     "name": "stdout",
     "output_type": "stream",
     "text": [
      "Product Row:  102\n",
      "https://secure.img1-fg.wfcdn.com/im/14526698/resize-h310-w310%5Ecompr-r85/1161/116109577/Adelie+Genuine+Leather+Reclining+80.5%2522+Rolled+Arm+Sofa.jpg\n"
     ]
    },
    {
     "name": "stderr",
     "output_type": "stream",
     "text": [
      "\r",
      " 28%|██████████████████████▌                                                         | 104/368 [00:16<00:39,  6.67it/s]"
     ]
    },
    {
     "name": "stdout",
     "output_type": "stream",
     "text": [
      "Product Row:  103\n",
      "https://secure.img1-fg.wfcdn.com/im/62318310/resize-h310-w310%5Ecompr-r85/7265/72652580/Stivers+91%2527%2527+Flared+Arm+Sofa.jpg\n"
     ]
    },
    {
     "name": "stderr",
     "output_type": "stream",
     "text": [
      "\r",
      " 29%|██████████████████████▊                                                         | 105/368 [00:16<00:40,  6.48it/s]"
     ]
    },
    {
     "name": "stdout",
     "output_type": "stream",
     "text": [
      "Product Row:  104\n",
      "https://secure.img1-fg.wfcdn.com/im/28117768/resize-h310-w310%5Ecompr-r85/7992/79922619/Broderick+Sofa.jpg\n"
     ]
    },
    {
     "name": "stderr",
     "output_type": "stream",
     "text": [
      "\r",
      " 29%|███████████████████████                                                         | 106/368 [00:16<00:42,  6.18it/s]"
     ]
    },
    {
     "name": "stdout",
     "output_type": "stream",
     "text": [
      "Product Row:  105\n",
      "https://secure.img1-fg.wfcdn.com/im/34065302/resize-h310-w310%5Ecompr-r85/1128/112875588/Pearlotta+Velvet+66%2522+Recessed+Arm+Loveseat.jpg\n"
     ]
    },
    {
     "name": "stderr",
     "output_type": "stream",
     "text": [
      "\r",
      " 29%|███████████████████████▎                                                        | 107/368 [00:16<00:41,  6.22it/s]"
     ]
    },
    {
     "name": "stdout",
     "output_type": "stream",
     "text": [
      "Product Row:  106\n",
      "https://secure.img1-fg.wfcdn.com/im/85945841/resize-h310-w310%5Ecompr-r85/1053/105317713/Landwehr+Loveseat.jpg\n"
     ]
    },
    {
     "name": "stderr",
     "output_type": "stream",
     "text": [
      "\r",
      " 29%|███████████████████████▍                                                        | 108/368 [00:16<00:41,  6.23it/s]"
     ]
    },
    {
     "name": "stdout",
     "output_type": "stream",
     "text": [
      "Product Row:  107\n",
      "https://secure.img1-fg.wfcdn.com/im/62787701/resize-h310-w310%5Ecompr-r85/9523/95235738/Goldstein+81%2522+Tuxedo+Arm+Sofa.jpg\n"
     ]
    },
    {
     "name": "stderr",
     "output_type": "stream",
     "text": [
      "\r",
      " 30%|███████████████████████▋                                                        | 109/368 [00:17<00:39,  6.54it/s]"
     ]
    },
    {
     "name": "stdout",
     "output_type": "stream",
     "text": [
      "Product Row:  108\n",
      "https://secure.img1-fg.wfcdn.com/im/58765796/resize-h310-w310%5Ecompr-r85/6849/68495559/Montecito+84.5%2522+Square+Arm+Sofa.jpg\n"
     ]
    },
    {
     "name": "stderr",
     "output_type": "stream",
     "text": [
      "\r",
      " 30%|███████████████████████▉                                                        | 110/368 [00:17<00:40,  6.31it/s]"
     ]
    },
    {
     "name": "stdout",
     "output_type": "stream",
     "text": [
      "Product Row:  109\n",
      "https://secure.img1-fg.wfcdn.com/im/55336777/resize-h310-w310%5Ecompr-r85/9114/91146421/Kolby+Velvet+Channel+Quilted+Turned+Leg+Sofa.jpg\n"
     ]
    },
    {
     "name": "stderr",
     "output_type": "stream",
     "text": [
      "\r",
      " 30%|████████████████████████▏                                                       | 111/368 [00:17<00:39,  6.55it/s]"
     ]
    },
    {
     "name": "stdout",
     "output_type": "stream",
     "text": [
      "Product Row:  110\n",
      "https://secure.img1-fg.wfcdn.com/im/74320346/resize-h310-w310%5Ecompr-r85/2503/25039716/Bodil+Loveseat.jpg\n"
     ]
    },
    {
     "name": "stderr",
     "output_type": "stream",
     "text": [
      "\r",
      " 30%|████████████████████████▎                                                       | 112/368 [00:17<00:37,  6.79it/s]"
     ]
    },
    {
     "name": "stdout",
     "output_type": "stream",
     "text": [
      "Product Row:  111\n",
      "https://secure.img1-fg.wfcdn.com/im/03264647/resize-h310-w310%5Ecompr-r85/9630/96305155/Taliaferro+Loveseat.jpg\n"
     ]
    },
    {
     "name": "stderr",
     "output_type": "stream",
     "text": [
      "\r",
      " 31%|████████████████████████▌                                                       | 113/368 [00:17<00:37,  6.72it/s]"
     ]
    },
    {
     "name": "stdout",
     "output_type": "stream",
     "text": [
      "Product Row:  112\n",
      "https://secure.img1-fg.wfcdn.com/im/30525743/resize-h310-w310%5Ecompr-r85/1195/119530452/Agnew+Sofa.jpg\n"
     ]
    },
    {
     "name": "stderr",
     "output_type": "stream",
     "text": [
      "\r",
      " 31%|████████████████████████▊                                                       | 114/368 [00:17<00:39,  6.46it/s]"
     ]
    },
    {
     "name": "stdout",
     "output_type": "stream",
     "text": [
      "Product Row:  113\n",
      "https://secure.img1-fg.wfcdn.com/im/26265649/resize-h310-w310%5Ecompr-r85/1161/116127589/Negley+67.75%2522+Flared+Arm+Sofa.jpg\n"
     ]
    },
    {
     "name": "stderr",
     "output_type": "stream",
     "text": [
      "\r",
      " 31%|█████████████████████████                                                       | 115/368 [00:18<00:38,  6.63it/s]"
     ]
    },
    {
     "name": "stdout",
     "output_type": "stream",
     "text": [
      "Product Row:  114\n",
      "https://secure.img1-fg.wfcdn.com/im/11007588/resize-h310-w310%5Ecompr-r85/2969/29693059/Stowmarket+Tufted+Chesterfield+Sofa.jpg\n"
     ]
    },
    {
     "name": "stderr",
     "output_type": "stream",
     "text": [
      "\r",
      " 32%|█████████████████████████▏                                                      | 116/368 [00:18<00:37,  6.74it/s]"
     ]
    },
    {
     "name": "stdout",
     "output_type": "stream",
     "text": [
      "Product Row:  115\n",
      "https://secure.img1-fg.wfcdn.com/im/53003126/resize-h310-w310%5Ecompr-r85/1019/101965755/Taylor+Sofa.jpg\n"
     ]
    },
    {
     "name": "stderr",
     "output_type": "stream",
     "text": [
      "\r",
      " 32%|█████████████████████████▍                                                      | 117/368 [00:18<00:35,  7.03it/s]"
     ]
    },
    {
     "name": "stdout",
     "output_type": "stream",
     "text": [
      "Product Row:  116\n",
      "https://secure.img1-fg.wfcdn.com/im/82379610/resize-h310-w310%5Ecompr-r85/4020/40206375/Mcdonald+Genuine+Leather+96%2522+Square+Arm+Sofa.jpg\n"
     ]
    },
    {
     "name": "stderr",
     "output_type": "stream",
     "text": [
      "\r",
      " 32%|█████████████████████████▋                                                      | 118/368 [00:18<00:37,  6.74it/s]"
     ]
    },
    {
     "name": "stdout",
     "output_type": "stream",
     "text": [
      "Product Row:  117\n",
      "https://secure.img1-fg.wfcdn.com/im/97124911/resize-h310-w310%5Ecompr-r85/9606/96068102/Rensel+Leather+78%2522+Flared+Arm+Sofa.jpg\n"
     ]
    },
    {
     "name": "stderr",
     "output_type": "stream",
     "text": [
      "\r",
      " 32%|█████████████████████████▊                                                      | 119/368 [00:18<00:39,  6.24it/s]"
     ]
    },
    {
     "name": "stdout",
     "output_type": "stream",
     "text": [
      "Product Row:  118\n",
      "https://secure.img1-fg.wfcdn.com/im/95794096/resize-h310-w310%5Ecompr-r85/7434/74340342/Barnabas+Leather+Chesterfield+90%2522+Rolled+Arms+Sofa.jpg\n"
     ]
    },
    {
     "name": "stderr",
     "output_type": "stream",
     "text": [
      "\r",
      " 33%|██████████████████████████                                                      | 120/368 [00:18<00:39,  6.30it/s]"
     ]
    },
    {
     "name": "stdout",
     "output_type": "stream",
     "text": [
      "Product Row:  119\n",
      "https://secure.img1-fg.wfcdn.com/im/83265453/resize-h310-w310%5Ecompr-r85/1079/107986850/Shackelford+Velvet+88%2522+Square+Arms+Sofa.jpg\n"
     ]
    },
    {
     "name": "stderr",
     "output_type": "stream",
     "text": [
      "\r",
      " 33%|██████████████████████████▎                                                     | 121/368 [00:18<00:37,  6.61it/s]"
     ]
    },
    {
     "name": "stdout",
     "output_type": "stream",
     "text": [
      "Product Row:  120\n",
      "https://secure.img1-fg.wfcdn.com/im/03360606/resize-h310-w310%5Ecompr-r85/5780/57808087/Sunday+U-Shaped+167%2522+Symmetrical+Sectional+Sofa.jpg\n"
     ]
    },
    {
     "name": "stderr",
     "output_type": "stream",
     "text": [
      "\r",
      " 33%|██████████████████████████▌                                                     | 122/368 [00:19<00:37,  6.64it/s]"
     ]
    },
    {
     "name": "stdout",
     "output_type": "stream",
     "text": [
      "Product Row:  121\n",
      "https://secure.img1-fg.wfcdn.com/im/97470323/resize-h310-w310%5Ecompr-r85/1096/109614256/Meghrig+95%2527%2527+Rolled+Arm+Sofa.jpg\n"
     ]
    },
    {
     "name": "stderr",
     "output_type": "stream",
     "text": [
      "\r",
      " 33%|██████████████████████████▋                                                     | 123/368 [00:19<00:36,  6.76it/s]"
     ]
    },
    {
     "name": "stdout",
     "output_type": "stream",
     "text": [
      "Product Row:  122\n",
      "https://secure.img1-fg.wfcdn.com/im/53711823/resize-h310-w310%5Ecompr-r85/4161/41610778/Marlon+Chesterfield+Sofa.jpg\n"
     ]
    },
    {
     "name": "stderr",
     "output_type": "stream",
     "text": [
      "\r",
      " 34%|██████████████████████████▉                                                     | 124/368 [00:19<00:35,  6.88it/s]"
     ]
    },
    {
     "name": "stdout",
     "output_type": "stream",
     "text": [
      "Product Row:  123\n",
      "https://secure.img1-fg.wfcdn.com/im/16470418/resize-h310-w310%5Ecompr-r85/1192/119289597/Villebois+80%2527%2527+Flared+Arm+Sofa.jpg\n"
     ]
    },
    {
     "name": "stderr",
     "output_type": "stream",
     "text": [
      "\r",
      " 34%|███████████████████████████▏                                                    | 125/368 [00:19<00:36,  6.69it/s]"
     ]
    },
    {
     "name": "stdout",
     "output_type": "stream",
     "text": [
      "Product Row:  124\n",
      "https://secure.img1-fg.wfcdn.com/im/23101590/resize-h310-w310%5Ecompr-r85/3272/32723387/Tabitha+Chesterfield+Sofa.jpg\n"
     ]
    },
    {
     "name": "stderr",
     "output_type": "stream",
     "text": [
      "\r",
      " 34%|███████████████████████████▍                                                    | 126/368 [00:19<00:38,  6.36it/s]"
     ]
    },
    {
     "name": "stdout",
     "output_type": "stream",
     "text": [
      "Product Row:  125\n",
      "https://secure.img1-fg.wfcdn.com/im/32946746/resize-h310-w310%5Ecompr-r85/8750/87508432/Uriel+74.25%2522+Square+Arm+Sofa.jpg\n"
     ]
    },
    {
     "name": "stderr",
     "output_type": "stream",
     "text": [
      "\r",
      " 35%|███████████████████████████▌                                                    | 127/368 [00:19<00:36,  6.61it/s]"
     ]
    },
    {
     "name": "stdout",
     "output_type": "stream",
     "text": [
      "Product Row:  126\n",
      "https://secure.img1-fg.wfcdn.com/im/34449572/resize-h310-w310%5Ecompr-r85/1208/120873091/Annmarie+Recessed+Arm+83%2522+Sofa.jpg\n"
     ]
    },
    {
     "name": "stderr",
     "output_type": "stream",
     "text": [
      "\r",
      " 35%|███████████████████████████▊                                                    | 128/368 [00:19<00:35,  6.80it/s]"
     ]
    },
    {
     "name": "stdout",
     "output_type": "stream",
     "text": [
      "Product Row:  127\n",
      "https://secure.img1-fg.wfcdn.com/im/81937222/resize-h310-w310%5Ecompr-r85/1205/120598365/Herr+Sofa.jpg\n"
     ]
    },
    {
     "name": "stderr",
     "output_type": "stream",
     "text": [
      "\r",
      " 35%|████████████████████████████                                                    | 129/368 [00:20<00:36,  6.64it/s]"
     ]
    },
    {
     "name": "stdout",
     "output_type": "stream",
     "text": [
      "Product Row:  128\n",
      "https://secure.img1-fg.wfcdn.com/im/33392489/resize-h310-w310%5Ecompr-r85/8287/82875048/Davina+Curved+Loveseat.jpg\n"
     ]
    },
    {
     "name": "stderr",
     "output_type": "stream",
     "text": [
      "\r",
      " 35%|████████████████████████████▎                                                   | 130/368 [00:20<00:35,  6.73it/s]"
     ]
    },
    {
     "name": "stdout",
     "output_type": "stream",
     "text": [
      "Product Row:  129\n",
      "https://secure.img1-fg.wfcdn.com/im/73004298/resize-h310-w310%5Ecompr-r85/2810/28104169/Calais+Velvet+108%2522+Square+Arm+Sofa.jpg\n"
     ]
    },
    {
     "name": "stderr",
     "output_type": "stream",
     "text": [
      "\r",
      " 36%|████████████████████████████▍                                                   | 131/368 [00:20<00:34,  6.84it/s]"
     ]
    },
    {
     "name": "stdout",
     "output_type": "stream",
     "text": [
      "Product Row:  130\n",
      "https://secure.img1-fg.wfcdn.com/im/75781716/resize-h310-w310%5Ecompr-r85/4551/45516323/Lando+Velvet+84%2522+Tuxedo+Arm+Sofa.jpg\n"
     ]
    },
    {
     "name": "stderr",
     "output_type": "stream",
     "text": [
      "\r",
      " 36%|████████████████████████████▋                                                   | 132/368 [00:20<00:35,  6.62it/s]"
     ]
    },
    {
     "name": "stdout",
     "output_type": "stream",
     "text": [
      "Product Row:  131\n",
      "https://secure.img1-fg.wfcdn.com/im/56986261/resize-h310-w310%5Ecompr-r85/3832/38327711/Arsenault+83%2522+Recessed+Arm+Sofa.jpg\n"
     ]
    },
    {
     "name": "stderr",
     "output_type": "stream",
     "text": [
      "\r",
      " 36%|████████████████████████████▉                                                   | 133/368 [00:20<00:36,  6.36it/s]"
     ]
    },
    {
     "name": "stdout",
     "output_type": "stream",
     "text": [
      "Product Row:  132\n",
      "https://secure.img1-fg.wfcdn.com/im/82958016/resize-h310-w310%5Ecompr-r85/3192/31925195/Dann+Leather+Sofa.jpg\n"
     ]
    },
    {
     "name": "stderr",
     "output_type": "stream",
     "text": [
      "\r",
      " 36%|█████████████████████████████▏                                                  | 134/368 [00:20<00:36,  6.49it/s]"
     ]
    },
    {
     "name": "stdout",
     "output_type": "stream",
     "text": [
      "Product Row:  133\n",
      "https://secure.img1-fg.wfcdn.com/im/50796064/resize-h310-w310%5Ecompr-r85/4849/48492701/Chiang+Sofa.jpg\n"
     ]
    },
    {
     "name": "stderr",
     "output_type": "stream",
     "text": [
      "\r",
      " 37%|█████████████████████████████▎                                                  | 135/368 [00:21<00:39,  5.93it/s]"
     ]
    },
    {
     "name": "stdout",
     "output_type": "stream",
     "text": [
      "Product Row:  134\n",
      "https://secure.img1-fg.wfcdn.com/im/31658835/resize-h310-w310%5Ecompr-r85/1130/113045068/Parmer+Genuine+Leather+96%2522+Square+Arm+Sofa.jpg\n"
     ]
    },
    {
     "name": "stderr",
     "output_type": "stream",
     "text": [
      "\r",
      " 37%|█████████████████████████████▌                                                  | 136/368 [00:21<00:39,  5.82it/s]"
     ]
    },
    {
     "name": "stdout",
     "output_type": "stream",
     "text": [
      "Product Row:  135\n",
      "https://secure.img1-fg.wfcdn.com/im/39013125/resize-h310-w310%5Ecompr-r85/4020/40204064/Jaggers+Velvet+84%2522+Square+Arm+Sofa.jpg\n"
     ]
    },
    {
     "name": "stderr",
     "output_type": "stream",
     "text": [
      "\r",
      " 37%|█████████████████████████████▊                                                  | 137/368 [00:21<00:37,  6.22it/s]"
     ]
    },
    {
     "name": "stdout",
     "output_type": "stream",
     "text": [
      "Product Row:  136\n",
      "https://secure.img1-fg.wfcdn.com/im/89693653/resize-h310-w310%5Ecompr-r85/2501/25013014/Fairfax+96%2522+Rolled+Arm+Sofa.jpg\n"
     ]
    },
    {
     "name": "stderr",
     "output_type": "stream",
     "text": [
      "\r",
      " 38%|██████████████████████████████                                                  | 138/368 [00:21<00:39,  5.75it/s]"
     ]
    },
    {
     "name": "stdout",
     "output_type": "stream",
     "text": [
      "Product Row:  137\n",
      "https://secure.img1-fg.wfcdn.com/im/87792626/resize-h310-w310%5Ecompr-r85/9064/90641966/Kate+Velvet+88.5%2522+Square+Arm+Sofa.jpg\n"
     ]
    },
    {
     "name": "stderr",
     "output_type": "stream",
     "text": [
      "\r",
      " 38%|██████████████████████████████▏                                                 | 139/368 [00:21<00:37,  6.05it/s]"
     ]
    },
    {
     "name": "stdout",
     "output_type": "stream",
     "text": [
      "Product Row:  138\n",
      "https://secure.img1-fg.wfcdn.com/im/56111083/resize-h310-w310%5Ecompr-r85/1193/119361661/Brickey+93%2522+Recessed+Arm+Sofa.jpg\n"
     ]
    },
    {
     "name": "stderr",
     "output_type": "stream",
     "text": [
      "\r",
      " 38%|██████████████████████████████▍                                                 | 140/368 [00:21<00:35,  6.51it/s]"
     ]
    },
    {
     "name": "stdout",
     "output_type": "stream",
     "text": [
      "Product Row:  139\n",
      "https://secure.img1-fg.wfcdn.com/im/70989546/resize-h310-w310%5Ecompr-r85/1210/121069334/Galatia+86%2522+Pillow+Top+Arm+Sofa.jpg\n"
     ]
    },
    {
     "name": "stderr",
     "output_type": "stream",
     "text": [
      "\r",
      " 38%|██████████████████████████████▋                                                 | 141/368 [00:22<00:33,  6.69it/s]"
     ]
    },
    {
     "name": "stdout",
     "output_type": "stream",
     "text": [
      "Product Row:  140\n",
      "https://secure.img1-fg.wfcdn.com/im/45636785/resize-h310-w310%5Ecompr-r85/6854/68547301/Ballina+85%2522+Recessed+Arms+Sofa.jpg\n"
     ]
    },
    {
     "name": "stderr",
     "output_type": "stream",
     "text": [
      "\r",
      " 39%|██████████████████████████████▊                                                 | 142/368 [00:22<00:33,  6.66it/s]"
     ]
    },
    {
     "name": "stdout",
     "output_type": "stream",
     "text": [
      "Product Row:  141\n",
      "https://secure.img1-fg.wfcdn.com/im/00200013/resize-h310-w310%5Ecompr-r85/5269/52693362/Leaman+91%2522+Flared+Arm+Sofa.jpg\n"
     ]
    },
    {
     "name": "stderr",
     "output_type": "stream",
     "text": [
      "\r",
      " 39%|███████████████████████████████                                                 | 143/368 [00:22<00:31,  7.09it/s]"
     ]
    },
    {
     "name": "stdout",
     "output_type": "stream",
     "text": [
      "Product Row:  142\n",
      "https://secure.img1-fg.wfcdn.com/im/20054357/resize-h310-w310%5Ecompr-r85/9926/99261166/Ozell+Leather+Reclining+87+inches+Pillow+Top+Arms+Sofa.jpg\n"
     ]
    },
    {
     "name": "stderr",
     "output_type": "stream",
     "text": [
      "\r",
      " 39%|███████████████████████████████▎                                                | 144/368 [00:22<00:33,  6.74it/s]"
     ]
    },
    {
     "name": "stdout",
     "output_type": "stream",
     "text": [
      "Product Row:  143\n",
      "https://secure.img1-fg.wfcdn.com/im/77849314/resize-h310-w310%5Ecompr-r85/1161/116129292/Negley+77.5%2522+Flared+Arm+Sofa.jpg\n"
     ]
    },
    {
     "name": "stderr",
     "output_type": "stream",
     "text": [
      "\r",
      " 39%|███████████████████████████████▌                                                | 145/368 [00:22<00:33,  6.73it/s]"
     ]
    },
    {
     "name": "stdout",
     "output_type": "stream",
     "text": [
      "Product Row:  144\n",
      "https://secure.img1-fg.wfcdn.com/im/28723191/resize-h310-w310%5Ecompr-r85/1182/118266019/Alyson+Genuine+Leather+92%2522+Flared+Arm+Sofa.jpg\n"
     ]
    },
    {
     "name": "stderr",
     "output_type": "stream",
     "text": [
      "\r",
      " 40%|███████████████████████████████▋                                                | 146/368 [00:22<00:32,  6.84it/s]"
     ]
    },
    {
     "name": "stdout",
     "output_type": "stream",
     "text": [
      "Product Row:  145\n",
      "https://secure.img1-fg.wfcdn.com/im/49271320/resize-h310-w310%5Ecompr-r85/1064/106467607/Tosh+Reclining+85%2527%2527+Pillow+Top+Arms+Sofa.jpg\n"
     ]
    },
    {
     "name": "stderr",
     "output_type": "stream",
     "text": [
      "\r",
      " 40%|███████████████████████████████▉                                                | 147/368 [00:22<00:31,  7.08it/s]"
     ]
    },
    {
     "name": "stdout",
     "output_type": "stream",
     "text": [
      "Product Row:  146\n",
      "https://secure.img1-fg.wfcdn.com/im/11231547/resize-h310-w310%5Ecompr-r85/1093/109394853/Menezes+85%2527%2527+Tuxedo+Arm+Sofa.jpg\n"
     ]
    },
    {
     "name": "stderr",
     "output_type": "stream",
     "text": [
      "\r",
      " 40%|████████████████████████████████▏                                               | 148/368 [00:23<00:32,  6.85it/s]"
     ]
    },
    {
     "name": "stdout",
     "output_type": "stream",
     "text": [
      "Product Row:  147\n",
      "https://secure.img1-fg.wfcdn.com/im/77036251/resize-h310-w310%5Ecompr-r85/7441/74417672/Demott+Sofa.jpg\n"
     ]
    },
    {
     "name": "stderr",
     "output_type": "stream",
     "text": [
      "\r",
      " 40%|████████████████████████████████▍                                               | 149/368 [00:23<00:32,  6.79it/s]"
     ]
    },
    {
     "name": "stdout",
     "output_type": "stream",
     "text": [
      "Product Row:  148\n",
      "https://secure.img1-fg.wfcdn.com/im/80124946/resize-h310-w310%5Ecompr-r85/6511/65112015/Waskom+Sofa.jpg\n"
     ]
    },
    {
     "name": "stderr",
     "output_type": "stream",
     "text": [
      "\r",
      " 41%|████████████████████████████████▌                                               | 150/368 [00:23<00:31,  7.00it/s]"
     ]
    },
    {
     "name": "stdout",
     "output_type": "stream",
     "text": [
      "Product Row:  149\n",
      "https://secure.img1-fg.wfcdn.com/im/02356918/resize-h310-w310%5Ecompr-r85/8492/84925669/Omro+Genuine+Leather+Standard+85%2522+Square+Arm+Sofa.jpg\n"
     ]
    },
    {
     "name": "stderr",
     "output_type": "stream",
     "text": [
      "\r",
      " 41%|████████████████████████████████▊                                               | 151/368 [00:23<00:30,  7.14it/s]"
     ]
    },
    {
     "name": "stdout",
     "output_type": "stream",
     "text": [
      "Product Row:  150\n",
      "https://secure.img1-fg.wfcdn.com/im/72234520/resize-h310-w310%5Ecompr-r85/3676/36764449/Wendy+Sofa.jpg\n"
     ]
    },
    {
     "name": "stderr",
     "output_type": "stream",
     "text": [
      "\r",
      " 41%|█████████████████████████████████                                               | 152/368 [00:23<00:30,  7.09it/s]"
     ]
    },
    {
     "name": "stdout",
     "output_type": "stream",
     "text": [
      "Product Row:  151\n",
      "https://secure.img1-fg.wfcdn.com/im/15587816/resize-h310-w310%5Ecompr-r85/3854/38540223/Roxanne+Leather+122%2522+Sectional.jpg\n"
     ]
    },
    {
     "name": "stderr",
     "output_type": "stream",
     "text": [
      "\r",
      " 42%|█████████████████████████████████▎                                              | 153/368 [00:23<00:31,  6.81it/s]"
     ]
    },
    {
     "name": "stdout",
     "output_type": "stream",
     "text": [
      "Product Row:  152\n",
      "https://secure.img1-fg.wfcdn.com/im/19168871/resize-h310-w310%5Ecompr-r85/7444/74448221/Brunet+Leather+Sofa.jpg\n"
     ]
    },
    {
     "name": "stderr",
     "output_type": "stream",
     "text": [
      "\r",
      " 42%|█████████████████████████████████▍                                              | 154/368 [00:23<00:30,  7.03it/s]"
     ]
    },
    {
     "name": "stdout",
     "output_type": "stream",
     "text": [
      "Product Row:  153\n",
      "https://secure.img1-fg.wfcdn.com/im/73675210/resize-h310-w310%5Ecompr-r85/9729/97299162/Dipietro+61%2522+Recessed+Arm+Loveseat.jpg\n"
     ]
    },
    {
     "name": "stderr",
     "output_type": "stream",
     "text": [
      "\r",
      " 42%|█████████████████████████████████▋                                              | 155/368 [00:24<00:32,  6.56it/s]"
     ]
    },
    {
     "name": "stdout",
     "output_type": "stream",
     "text": [
      "Product Row:  154\n",
      "https://secure.img1-fg.wfcdn.com/im/91567189/resize-h310-w310%5Ecompr-r85/2270/22704445/82.7%2522+Armless+Sofa.jpg\n"
     ]
    },
    {
     "name": "stderr",
     "output_type": "stream",
     "text": [
      "\r",
      " 42%|█████████████████████████████████▉                                              | 156/368 [00:24<00:31,  6.72it/s]"
     ]
    },
    {
     "name": "stdout",
     "output_type": "stream",
     "text": [
      "Product Row:  155\n",
      "https://secure.img1-fg.wfcdn.com/im/82569265/resize-h310-w310%5Ecompr-r85/1145/114520555/Steinke+Genuine+Leather+Chesterfield+91%2522+Rolled+Arm++Sofa.jpg\n"
     ]
    },
    {
     "name": "stderr",
     "output_type": "stream",
     "text": [
      "\r",
      " 43%|██████████████████████████████████▏                                             | 157/368 [00:24<00:30,  6.97it/s]"
     ]
    },
    {
     "name": "stdout",
     "output_type": "stream",
     "text": [
      "Product Row:  156\n",
      "https://secure.img1-fg.wfcdn.com/im/77435819/resize-h310-w310%5Ecompr-r85/7186/71869517/Ezra+Microfiber+88%2522+Rolled+Arm+Sofa.jpg\n"
     ]
    },
    {
     "name": "stderr",
     "output_type": "stream",
     "text": [
      "\r",
      " 43%|██████████████████████████████████▎                                             | 158/368 [00:24<00:30,  6.80it/s]"
     ]
    },
    {
     "name": "stdout",
     "output_type": "stream",
     "text": [
      "Product Row:  157\n",
      "https://secure.img1-fg.wfcdn.com/im/98069451/resize-h310-w310%5Ecompr-r85/1112/111287310/Domaingue+56%2522+Tuxedo+Arm+Loveseat.jpg\n"
     ]
    },
    {
     "name": "stderr",
     "output_type": "stream",
     "text": [
      "\r",
      " 43%|██████████████████████████████████▌                                             | 159/368 [00:24<00:31,  6.69it/s]"
     ]
    },
    {
     "name": "stdout",
     "output_type": "stream",
     "text": [
      "Product Row:  158\n",
      "https://secure.img1-fg.wfcdn.com/im/61606155/resize-h310-w310%5Ecompr-r85/1060/106086069/Armelle+Reclining+92%2522+Pillow+Top+Arm+Sofa.jpg\n"
     ]
    },
    {
     "name": "stderr",
     "output_type": "stream",
     "text": [
      "\r",
      " 43%|██████████████████████████████████▊                                             | 160/368 [00:24<00:29,  6.99it/s]"
     ]
    },
    {
     "name": "stdout",
     "output_type": "stream",
     "text": [
      "Product Row:  159\n",
      "https://secure.img1-fg.wfcdn.com/im/69376969/resize-h310-w310%5Ecompr-r85/7056/70563672/Carruth+76%2522+Flared+Arm+Sofa.jpg\n"
     ]
    },
    {
     "name": "stderr",
     "output_type": "stream",
     "text": [
      "\r",
      " 44%|███████████████████████████████████                                             | 161/368 [00:24<00:28,  7.30it/s]"
     ]
    },
    {
     "name": "stdout",
     "output_type": "stream",
     "text": [
      "Product Row:  160\n",
      "https://secure.img1-fg.wfcdn.com/im/45139677/resize-h310-w310%5Ecompr-r85/1039/103976174/Zofa.jpg\n"
     ]
    },
    {
     "name": "stderr",
     "output_type": "stream",
     "text": [
      "\r",
      " 44%|███████████████████████████████████▏                                            | 162/368 [00:25<00:29,  6.97it/s]"
     ]
    },
    {
     "name": "stdout",
     "output_type": "stream",
     "text": [
      "Product Row:  161\n",
      "https://secure.img1-fg.wfcdn.com/im/02587571/resize-h310-w310%5Ecompr-r85/1161/116128511/Garysburg+67.5%2522+Rolled+Arm+Loveseat.jpg\n"
     ]
    },
    {
     "name": "stderr",
     "output_type": "stream",
     "text": [
      "\r",
      " 44%|███████████████████████████████████▍                                            | 163/368 [00:25<00:28,  7.13it/s]"
     ]
    },
    {
     "name": "stdout",
     "output_type": "stream",
     "text": [
      "Product Row:  162\n",
      "https://secure.img1-fg.wfcdn.com/im/95214779/resize-h310-w310%5Ecompr-r85/5940/59406071/Los+Altos+87.5%2522+Round+Arm+Sofa.jpg\n"
     ]
    },
    {
     "name": "stderr",
     "output_type": "stream",
     "text": [
      "\r",
      " 45%|███████████████████████████████████▋                                            | 164/368 [00:25<00:28,  7.11it/s]"
     ]
    },
    {
     "name": "stdout",
     "output_type": "stream",
     "text": [
      "Product Row:  163\n",
      "https://secure.img1-fg.wfcdn.com/im/51074770/resize-h310-w310%5Ecompr-r85/9349/93493870/Krawczyk+98%2522+Recessed+Arm+Sofa.jpg\n"
     ]
    },
    {
     "name": "stderr",
     "output_type": "stream",
     "text": [
      "\r",
      " 45%|███████████████████████████████████▊                                            | 165/368 [00:25<00:28,  7.23it/s]"
     ]
    },
    {
     "name": "stdout",
     "output_type": "stream",
     "text": [
      "Product Row:  164\n",
      "https://secure.img1-fg.wfcdn.com/im/93698457/resize-h310-w310%5Ecompr-r85/7911/79113757/Nilda+Chenille+89%2527%2527+Rolled+Arm+Sofa.jpg\n"
     ]
    },
    {
     "name": "stderr",
     "output_type": "stream",
     "text": [
      "\r",
      " 45%|████████████████████████████████████                                            | 166/368 [00:25<00:28,  7.10it/s]"
     ]
    },
    {
     "name": "stdout",
     "output_type": "stream",
     "text": [
      "Product Row:  165\n",
      "https://secure.img1-fg.wfcdn.com/im/97117878/resize-h310-w310%5Ecompr-r85/8758/8758289/Vintage+Maria+Cotton+79%2522+Round+Arm+Sofa.jpg\n"
     ]
    },
    {
     "name": "stderr",
     "output_type": "stream",
     "text": [
      "\r",
      " 45%|████████████████████████████████████▎                                           | 167/368 [00:25<00:30,  6.68it/s]"
     ]
    },
    {
     "name": "stdout",
     "output_type": "stream",
     "text": [
      "Product Row:  166\n",
      "https://secure.img1-fg.wfcdn.com/im/88680505/resize-h310-w310%5Ecompr-r85/6916/69164840/Burney+Reclining+101%2522+Pillow+Top+Arm+Sofa.jpg\n"
     ]
    },
    {
     "name": "stderr",
     "output_type": "stream",
     "text": [
      "\r",
      " 46%|████████████████████████████████████▌                                           | 168/368 [00:25<00:29,  6.80it/s]"
     ]
    },
    {
     "name": "stdout",
     "output_type": "stream",
     "text": [
      "Product Row:  167\n",
      "https://secure.img1-fg.wfcdn.com/im/55524489/resize-h310-w310%5Ecompr-r85/1161/116125419/Fourche+65%2522+Square+Arm+Loveseat.jpg\n"
     ]
    },
    {
     "name": "stderr",
     "output_type": "stream",
     "text": [
      "\r",
      " 46%|████████████████████████████████████▋                                           | 169/368 [00:26<00:30,  6.59it/s]"
     ]
    },
    {
     "name": "stdout",
     "output_type": "stream",
     "text": [
      "Product Row:  168\n",
      "https://secure.img1-fg.wfcdn.com/im/09390486/resize-h310-w310%5Ecompr-r85/7436/74362821/Maloney+Leather+Sofa.jpg\n"
     ]
    },
    {
     "name": "stderr",
     "output_type": "stream",
     "text": [
      "\r",
      " 46%|████████████████████████████████████▉                                           | 170/368 [00:26<00:29,  6.81it/s]"
     ]
    },
    {
     "name": "stdout",
     "output_type": "stream",
     "text": [
      "Product Row:  169\n",
      "https://secure.img1-fg.wfcdn.com/im/36342299/resize-h310-w310%5Ecompr-r85/5356/53561716/Marceau+Velvet+84%2522+Square+Arm+Sofa.jpg\n"
     ]
    },
    {
     "name": "stderr",
     "output_type": "stream",
     "text": [
      "\r",
      " 46%|█████████████████████████████████████▏                                          | 171/368 [00:26<00:27,  7.11it/s]"
     ]
    },
    {
     "name": "stdout",
     "output_type": "stream",
     "text": [
      "Product Row:  170\n",
      "https://secure.img1-fg.wfcdn.com/im/03379095/resize-h310-w310%5Ecompr-r85/1021/102121162/Kingsley+Tufted+Sofa.jpg\n"
     ]
    },
    {
     "name": "stderr",
     "output_type": "stream",
     "text": [
      "\r",
      " 47%|█████████████████████████████████████▍                                          | 172/368 [00:26<00:28,  6.92it/s]"
     ]
    },
    {
     "name": "stdout",
     "output_type": "stream",
     "text": [
      "Product Row:  171\n",
      "https://secure.img1-fg.wfcdn.com/im/24838124/resize-h310-w310%5Ecompr-r85/1052/105206544/Tighe+Cotton+95%2522+Sofa.jpg\n"
     ]
    },
    {
     "name": "stderr",
     "output_type": "stream",
     "text": [
      "\r",
      " 47%|█████████████████████████████████████▌                                          | 173/368 [00:26<00:27,  7.12it/s]"
     ]
    },
    {
     "name": "stdout",
     "output_type": "stream",
     "text": [
      "Product Row:  172\n",
      "https://secure.img1-fg.wfcdn.com/im/46480757/resize-h310-w310%5Ecompr-r85/9288/92880528/Womack+Chesterfield+Sofa.jpg\n"
     ]
    },
    {
     "name": "stderr",
     "output_type": "stream",
     "text": [
      "\r",
      " 47%|█████████████████████████████████████▊                                          | 174/368 [00:26<00:27,  7.13it/s]"
     ]
    },
    {
     "name": "stdout",
     "output_type": "stream",
     "text": [
      "Product Row:  173\n",
      "https://secure.img1-fg.wfcdn.com/im/95606023/resize-h310-w310%5Ecompr-r85/9082/90827284/Pirtle+Sofa.jpg\n"
     ]
    },
    {
     "name": "stderr",
     "output_type": "stream",
     "text": [
      "\r",
      " 48%|██████████████████████████████████████                                          | 175/368 [00:26<00:26,  7.40it/s]"
     ]
    },
    {
     "name": "stdout",
     "output_type": "stream",
     "text": [
      "Product Row:  174\n",
      "https://secure.img1-fg.wfcdn.com/im/03605024/resize-h310-w310%5Ecompr-r85/7065/70658120/Cheadle+84%2522+W+Recessed+Arm+Sofa.jpg\n"
     ]
    },
    {
     "name": "stderr",
     "output_type": "stream",
     "text": [
      "\r",
      " 48%|██████████████████████████████████████▎                                         | 176/368 [00:27<00:25,  7.42it/s]"
     ]
    },
    {
     "name": "stdout",
     "output_type": "stream",
     "text": [
      "Product Row:  175\n",
      "https://secure.img1-fg.wfcdn.com/im/72997977/resize-h310-w310%5Ecompr-r85/6023/60238575/Doucet+Sofa.jpg\n"
     ]
    },
    {
     "name": "stderr",
     "output_type": "stream",
     "text": [
      "\r",
      " 48%|██████████████████████████████████████▍                                         | 177/368 [00:27<00:26,  7.31it/s]"
     ]
    },
    {
     "name": "stdout",
     "output_type": "stream",
     "text": [
      "Product Row:  176\n",
      "https://secure.img1-fg.wfcdn.com/im/23616880/resize-h310-w310%5Ecompr-r85/1162/116283460/Adelbert+Velvet+69%2522+Flared+Arm+Sofa.jpg\n"
     ]
    },
    {
     "name": "stderr",
     "output_type": "stream",
     "text": [
      "\r",
      " 48%|██████████████████████████████████████▋                                         | 178/368 [00:27<00:25,  7.54it/s]"
     ]
    },
    {
     "name": "stdout",
     "output_type": "stream",
     "text": [
      "Product Row:  177\n",
      "https://secure.img1-fg.wfcdn.com/im/68518888/resize-h310-w310%5Ecompr-r85/1140/114088704/Avent+83.4%2522+Tuxedo+Arm+Sofa.jpg\n"
     ]
    },
    {
     "name": "stderr",
     "output_type": "stream",
     "text": [
      "\r",
      " 49%|██████████████████████████████████████▉                                         | 179/368 [00:27<00:24,  7.75it/s]"
     ]
    },
    {
     "name": "stdout",
     "output_type": "stream",
     "text": [
      "Product Row:  178\n",
      "https://secure.img1-fg.wfcdn.com/im/43532854/resize-h310-w310%5Ecompr-r85/5298/52984540/Denis+Chesterfield+Sofa.jpg\n"
     ]
    },
    {
     "name": "stderr",
     "output_type": "stream",
     "text": [
      "\r",
      " 49%|███████████████████████████████████████▏                                        | 180/368 [00:27<00:24,  7.67it/s]"
     ]
    },
    {
     "name": "stdout",
     "output_type": "stream",
     "text": [
      "Product Row:  179\n",
      "https://secure.img1-fg.wfcdn.com/im/92528115/resize-h310-w310%5Ecompr-r85/1378/13789299/Gervais+Sofa.jpg\n"
     ]
    },
    {
     "name": "stderr",
     "output_type": "stream",
     "text": [
      "\r",
      " 49%|███████████████████████████████████████▎                                        | 181/368 [00:27<00:27,  6.87it/s]"
     ]
    },
    {
     "name": "stdout",
     "output_type": "stream",
     "text": [
      "Product Row:  180\n",
      "https://secure.img1-fg.wfcdn.com/im/34051218/resize-h310-w310%5Ecompr-r85/1182/118259975/Litzy+91%2522+Rolled+Arm+Sofa.jpg\n"
     ]
    },
    {
     "name": "stderr",
     "output_type": "stream",
     "text": [
      "\r",
      " 49%|███████████████████████████████████████▌                                        | 182/368 [00:27<00:26,  6.90it/s]"
     ]
    },
    {
     "name": "stdout",
     "output_type": "stream",
     "text": [
      "Product Row:  181\n",
      "https://secure.img1-fg.wfcdn.com/im/84666907/resize-h310-w310%5Ecompr-r85/1428/14285765/Zuma+Pumice+Sofa.jpg\n"
     ]
    },
    {
     "name": "stderr",
     "output_type": "stream",
     "text": [
      "\r",
      " 50%|███████████████████████████████████████▊                                        | 183/368 [00:28<00:26,  6.96it/s]"
     ]
    },
    {
     "name": "stdout",
     "output_type": "stream",
     "text": [
      "Product Row:  182\n",
      "https://secure.img1-fg.wfcdn.com/im/07473583/resize-h310-w310%5Ecompr-r85/1200/120022438/Lise+91%2522+Recessed+Arm+Sofa.jpg\n"
     ]
    },
    {
     "name": "stderr",
     "output_type": "stream",
     "text": [
      "\r",
      " 50%|████████████████████████████████████████                                        | 184/368 [00:28<00:26,  6.90it/s]"
     ]
    },
    {
     "name": "stdout",
     "output_type": "stream",
     "text": [
      "Product Row:  183\n",
      "https://secure.img1-fg.wfcdn.com/im/07215305/resize-h310-w310%5Ecompr-r85/4571/45710209/Waldschmidt+Microfiber+/+Microsuede+67%2522+Pillow+Top+Arm+Loveseat.jpg\n"
     ]
    },
    {
     "name": "stderr",
     "output_type": "stream",
     "text": [
      "\r",
      " 50%|████████████████████████████████████████▏                                       | 185/368 [00:28<00:27,  6.65it/s]"
     ]
    },
    {
     "name": "stdout",
     "output_type": "stream",
     "text": [
      "Product Row:  184\n",
      "https://secure.img1-fg.wfcdn.com/im/26949193/resize-h310-w310%5Ecompr-r85/7470/74708868/Renda+Loveseat.jpg\n"
     ]
    },
    {
     "name": "stderr",
     "output_type": "stream",
     "text": [
      "\r",
      " 51%|████████████████████████████████████████▍                                       | 186/368 [00:28<00:27,  6.54it/s]"
     ]
    },
    {
     "name": "stdout",
     "output_type": "stream",
     "text": [
      "Product Row:  185\n",
      "https://secure.img1-fg.wfcdn.com/im/62542069/resize-h310-w310%5Ecompr-r85/1145/114520605/Stegall+Genuine+Leather+89%2522+Rolled+Arm+Sofa.jpg\n"
     ]
    },
    {
     "name": "stderr",
     "output_type": "stream",
     "text": [
      "\r",
      " 51%|████████████████████████████████████████▋                                       | 187/368 [00:28<00:28,  6.44it/s]"
     ]
    },
    {
     "name": "stdout",
     "output_type": "stream",
     "text": [
      "Product Row:  186\n",
      "https://secure.img1-fg.wfcdn.com/im/32262472/resize-h310-w310%5Ecompr-r85/8785/87858443/Cabott+85%2522+Pillow+top+Arms+Sofa.jpg\n"
     ]
    },
    {
     "name": "stderr",
     "output_type": "stream",
     "text": [
      "\r",
      " 51%|████████████████████████████████████████▊                                       | 188/368 [00:28<00:30,  5.90it/s]"
     ]
    },
    {
     "name": "stdout",
     "output_type": "stream",
     "text": [
      "Product Row:  187\n",
      "https://secure.img1-fg.wfcdn.com/im/43342383/resize-h310-w310%5Ecompr-r85/4128/41288863/Lambdin+Genuine+Leather+88%2522+Round+Arm+Sofa.jpg\n"
     ]
    },
    {
     "name": "stderr",
     "output_type": "stream",
     "text": [
      "\r",
      " 51%|█████████████████████████████████████████                                       | 189/368 [00:28<00:29,  6.15it/s]"
     ]
    },
    {
     "name": "stdout",
     "output_type": "stream",
     "text": [
      "Product Row:  188\n",
      "https://secure.img1-fg.wfcdn.com/im/61390753/resize-h310-w310%5Ecompr-r85/1173/117371606/Cotton+116%2527%2527+Armless+Sofa+Chaise.jpg\n"
     ]
    },
    {
     "name": "stderr",
     "output_type": "stream",
     "text": [
      "\r",
      " 52%|█████████████████████████████████████████▎                                      | 190/368 [00:29<00:27,  6.40it/s]"
     ]
    },
    {
     "name": "stdout",
     "output_type": "stream",
     "text": [
      "Product Row:  189\n",
      "https://secure.img1-fg.wfcdn.com/im/86473874/resize-h310-w310%5Ecompr-r85/7306/73069228/Madison+Left+Hand+Facing+Sectional.jpg\n"
     ]
    },
    {
     "name": "stderr",
     "output_type": "stream",
     "text": [
      "\r",
      " 52%|█████████████████████████████████████████▌                                      | 191/368 [00:29<00:28,  6.32it/s]"
     ]
    },
    {
     "name": "stdout",
     "output_type": "stream",
     "text": [
      "Product Row:  190\n",
      "https://secure.img1-fg.wfcdn.com/im/21499180/resize-h310-w310%5Ecompr-r85/6699/66998715/Hawkesbury+Common+Genuine+Leather+71%2522+Pillow+top+Arm+Loveseat.jpg\n"
     ]
    },
    {
     "name": "stderr",
     "output_type": "stream",
     "text": [
      "\r",
      " 52%|█████████████████████████████████████████▋                                      | 192/368 [00:29<00:27,  6.37it/s]"
     ]
    },
    {
     "name": "stdout",
     "output_type": "stream",
     "text": [
      "Product Row:  191\n",
      "https://secure.img1-fg.wfcdn.com/im/64090950/resize-h310-w310%5Ecompr-r85/8339/83391977/Volkman+Leather+Reclining+64%2527%2527+Pillow+Top+Arms+Sofa.jpg\n"
     ]
    },
    {
     "name": "stderr",
     "output_type": "stream",
     "text": [
      "\r",
      " 52%|█████████████████████████████████████████▉                                      | 193/368 [00:29<00:26,  6.59it/s]"
     ]
    },
    {
     "name": "stdout",
     "output_type": "stream",
     "text": [
      "Product Row:  192\n",
      "https://secure.img1-fg.wfcdn.com/im/73188402/resize-h310-w310%5Ecompr-r85/3747/37473180/Lata+96%2522+Flared+Arm+Sofa.jpg\n"
     ]
    },
    {
     "name": "stderr",
     "output_type": "stream",
     "text": [
      "\r",
      " 53%|██████████████████████████████████████████▏                                     | 194/368 [00:29<00:25,  6.85it/s]"
     ]
    },
    {
     "name": "stdout",
     "output_type": "stream",
     "text": [
      "Product Row:  193\n",
      "https://secure.img1-fg.wfcdn.com/im/09270226/resize-h310-w310%5Ecompr-r85/6554/65549338/Bima+Reclining+85%2522+Pillow+top+Arms+Sofa.jpg\n"
     ]
    },
    {
     "name": "stderr",
     "output_type": "stream",
     "text": [
      "\r",
      " 53%|██████████████████████████████████████████▍                                     | 195/368 [00:29<00:25,  6.78it/s]"
     ]
    },
    {
     "name": "stdout",
     "output_type": "stream",
     "text": [
      "Product Row:  194\n",
      "https://secure.img1-fg.wfcdn.com/im/72079573/resize-h310-w310%5Ecompr-r85/6761/6761536/Mellor+Leather+87%2522+Round+Arms+Sofa.jpg\n"
     ]
    },
    {
     "name": "stderr",
     "output_type": "stream",
     "text": [
      "\r",
      " 53%|██████████████████████████████████████████▌                                     | 196/368 [00:30<00:24,  7.05it/s]"
     ]
    },
    {
     "name": "stdout",
     "output_type": "stream",
     "text": [
      "Product Row:  195\n",
      "https://secure.img1-fg.wfcdn.com/im/38491474/resize-h310-w310%5Ecompr-r85/6548/65488772/Grand+Isle+Sofa.jpg\n"
     ]
    },
    {
     "name": "stderr",
     "output_type": "stream",
     "text": [
      "\r",
      " 54%|██████████████████████████████████████████▊                                     | 197/368 [00:30<00:24,  6.90it/s]"
     ]
    },
    {
     "name": "stdout",
     "output_type": "stream",
     "text": [
      "Product Row:  196\n",
      "https://secure.img1-fg.wfcdn.com/im/77248280/resize-h310-w310%5Ecompr-r85/8816/88166976/Copola+Genuine+Leather+86%2522+Rolled+Arm+Sofa.jpg\n"
     ]
    },
    {
     "name": "stderr",
     "output_type": "stream",
     "text": [
      "\r",
      " 54%|███████████████████████████████████████████                                     | 198/368 [00:30<00:23,  7.09it/s]"
     ]
    },
    {
     "name": "stdout",
     "output_type": "stream",
     "text": [
      "Product Row:  197\n",
      "https://secure.img1-fg.wfcdn.com/im/76849308/resize-h310-w310%5Ecompr-r85/1211/121107663/Twining+Leather+Sofa.jpg\n"
     ]
    },
    {
     "name": "stderr",
     "output_type": "stream",
     "text": [
      "\r",
      " 54%|███████████████████████████████████████████▎                                    | 199/368 [00:30<00:24,  7.01it/s]"
     ]
    },
    {
     "name": "stdout",
     "output_type": "stream",
     "text": [
      "Product Row:  198\n",
      "https://secure.img1-fg.wfcdn.com/im/14834192/resize-h310-w310%5Ecompr-r85/7352/73524879/Dement+Standard+Sofa.jpg\n"
     ]
    },
    {
     "name": "stderr",
     "output_type": "stream",
     "text": [
      "\r",
      " 54%|███████████████████████████████████████████▍                                    | 200/368 [00:30<00:23,  7.22it/s]"
     ]
    },
    {
     "name": "stdout",
     "output_type": "stream",
     "text": [
      "Product Row:  199\n",
      "https://secure.img1-fg.wfcdn.com/im/64007218/resize-h310-w310%5Ecompr-r85/1167/116711666/Rachel+Genuine+Leather+91%2522+Rolled+Arm+Sofa+Bed.jpg\n"
     ]
    },
    {
     "name": "stderr",
     "output_type": "stream",
     "text": [
      "\r",
      " 55%|███████████████████████████████████████████▋                                    | 201/368 [00:30<00:24,  6.81it/s]"
     ]
    },
    {
     "name": "stdout",
     "output_type": "stream",
     "text": [
      "Product Row:  200\n",
      "https://secure.img1-fg.wfcdn.com/im/17745656/resize-h310-w310%5Ecompr-r85/1020/102066947/Osgood+Revolution+Performance+Fabrics%25AE+73%2522+Square+Arm+Sofa+Bed.jpg\n"
     ]
    },
    {
     "name": "stderr",
     "output_type": "stream",
     "text": [
      "\r",
      " 55%|███████████████████████████████████████████▉                                    | 202/368 [00:30<00:24,  6.75it/s]"
     ]
    },
    {
     "name": "stdout",
     "output_type": "stream",
     "text": [
      "Product Row:  201\n",
      "https://secure.img1-fg.wfcdn.com/im/20086983/resize-h310-w310%5Ecompr-r85/1161/116186449/Dorotea+89%2522+Rolled+Arm+Sofa+Bed.jpg\n"
     ]
    },
    {
     "name": "stderr",
     "output_type": "stream",
     "text": [
      "\r",
      " 55%|████████████████████████████████████████████▏                                   | 203/368 [00:31<00:23,  7.04it/s]"
     ]
    },
    {
     "name": "stdout",
     "output_type": "stream",
     "text": [
      "Product Row:  202\n",
      "https://secure.img1-fg.wfcdn.com/im/13561364/resize-h310-w310%5Ecompr-r85/9584/95843707/William+Leather+Sofa.jpg\n"
     ]
    },
    {
     "name": "stderr",
     "output_type": "stream",
     "text": [
      "\r",
      " 55%|████████████████████████████████████████████▎                                   | 204/368 [00:31<00:23,  6.90it/s]"
     ]
    },
    {
     "name": "stdout",
     "output_type": "stream",
     "text": [
      "Product Row:  203\n",
      "https://secure.img1-fg.wfcdn.com/im/13515115/resize-h310-w310%5Ecompr-r85/1055/105569026/Eulah+79%2522+Rolled+Arms+Sofa+Bed.jpg\n"
     ]
    },
    {
     "name": "stderr",
     "output_type": "stream",
     "text": [
      "\r",
      " 56%|████████████████████████████████████████████▌                                   | 205/368 [00:31<00:24,  6.75it/s]"
     ]
    },
    {
     "name": "stdout",
     "output_type": "stream",
     "text": [
      "Product Row:  204\n",
      "https://secure.img1-fg.wfcdn.com/im/18927179/resize-h310-w310%5Ecompr-r85/9330/93304546/Stalybridge+Sofa.jpg\n"
     ]
    },
    {
     "name": "stderr",
     "output_type": "stream",
     "text": [
      "\r",
      " 56%|████████████████████████████████████████████▊                                   | 206/368 [00:31<00:25,  6.38it/s]"
     ]
    },
    {
     "name": "stdout",
     "output_type": "stream",
     "text": [
      "Product Row:  205\n",
      "https://secure.img1-fg.wfcdn.com/im/09529430/resize-h310-w310%5Ecompr-r85/2730/27305206/Orlando+Faux+Leather+Standard+86%2522+Square+Arm+Sofa.jpg\n"
     ]
    },
    {
     "name": "stderr",
     "output_type": "stream",
     "text": [
      "\r",
      " 56%|█████████████████████████████████████████████                                   | 207/368 [00:31<00:24,  6.55it/s]"
     ]
    },
    {
     "name": "stdout",
     "output_type": "stream",
     "text": [
      "Product Row:  206\n",
      "https://secure.img1-fg.wfcdn.com/im/33488686/resize-h310-w310%5Ecompr-r85/1159/115942715/Chenille+Chesterfield+38%2522+Rolled+Arm+Sofa.jpg\n"
     ]
    },
    {
     "name": "stderr",
     "output_type": "stream",
     "text": [
      "\r",
      " 57%|█████████████████████████████████████████████▏                                  | 208/368 [00:31<00:26,  6.07it/s]"
     ]
    },
    {
     "name": "stdout",
     "output_type": "stream",
     "text": [
      "Product Row:  207\n",
      "https://secure.img1-fg.wfcdn.com/im/02481959/resize-h310-w310%5Ecompr-r85/6025/60259343/Mellor+Reclining+87%2522+Pillow+Top+Arms+Sofa.jpg\n"
     ]
    },
    {
     "name": "stderr",
     "output_type": "stream",
     "text": [
      "\r",
      " 57%|█████████████████████████████████████████████▍                                  | 209/368 [00:32<00:28,  5.65it/s]"
     ]
    },
    {
     "name": "stdout",
     "output_type": "stream",
     "text": [
      "Product Row:  208\n",
      "https://secure.img1-fg.wfcdn.com/im/33876437/resize-h310-w310%5Ecompr-r85/1212/121297310/Fionn+Reclining+Loveseat.jpg\n"
     ]
    },
    {
     "name": "stderr",
     "output_type": "stream",
     "text": [
      "\r",
      " 57%|█████████████████████████████████████████████▋                                  | 210/368 [00:32<00:28,  5.51it/s]"
     ]
    },
    {
     "name": "stdout",
     "output_type": "stream",
     "text": [
      "Product Row:  209\n",
      "https://secure.img1-fg.wfcdn.com/im/47093343/resize-h310-w310%5Ecompr-r85/8628/86280604/Alsager+Chesterfield+Sofa.jpg\n"
     ]
    },
    {
     "name": "stderr",
     "output_type": "stream",
     "text": [
      "\r",
      " 57%|█████████████████████████████████████████████▊                                  | 211/368 [00:32<00:26,  5.83it/s]"
     ]
    },
    {
     "name": "stdout",
     "output_type": "stream",
     "text": [
      "Product Row:  210\n",
      "https://secure.img1-fg.wfcdn.com/im/86273653/resize-h310-w310%5Ecompr-r85/1076/107600604/Barnsdale+Reclining+Round+Arms+Sofa.jpg\n"
     ]
    },
    {
     "name": "stderr",
     "output_type": "stream",
     "text": [
      "\r",
      " 58%|██████████████████████████████████████████████                                  | 212/368 [00:32<00:25,  6.19it/s]"
     ]
    },
    {
     "name": "stdout",
     "output_type": "stream",
     "text": [
      "Product Row:  211\n",
      "https://secure.img1-fg.wfcdn.com/im/07556696/resize-h310-w310%5Ecompr-r85/1097/109764824/Duffield+Microfiber+63.8%2522+Flared+Arm+Settee.jpg\n"
     ]
    },
    {
     "name": "stderr",
     "output_type": "stream",
     "text": [
      "\r",
      " 58%|██████████████████████████████████████████████▎                                 | 213/368 [00:32<00:24,  6.26it/s]"
     ]
    },
    {
     "name": "stdout",
     "output_type": "stream",
     "text": [
      "Product Row:  212\n",
      "https://secure.img1-fg.wfcdn.com/im/72914155/resize-h310-w310%5Ecompr-r85/7912/79121057/Kavya+Chesterfield+95%2522+Rolled+Arm+Sofa.jpg\n"
     ]
    },
    {
     "name": "stderr",
     "output_type": "stream",
     "text": [
      "\r",
      " 58%|██████████████████████████████████████████████▌                                 | 214/368 [00:32<00:24,  6.41it/s]"
     ]
    },
    {
     "name": "stdout",
     "output_type": "stream",
     "text": [
      "Product Row:  213\n",
      "https://secure.img1-fg.wfcdn.com/im/44090540/resize-h310-w310%5Ecompr-r85/1185/118576120/Simonne+81%2522+Pillow+Top+Arm+Sofa+Bed.jpg\n"
     ]
    },
    {
     "name": "stderr",
     "output_type": "stream",
     "text": [
      "\r",
      " 58%|██████████████████████████████████████████████▋                                 | 215/368 [00:32<00:23,  6.64it/s]"
     ]
    },
    {
     "name": "stdout",
     "output_type": "stream",
     "text": [
      "Product Row:  214\n",
      "https://secure.img1-fg.wfcdn.com/im/06212305/resize-h310-w310%5Ecompr-r85/1098/109874135/Bella+Vista+Leather+Round+Arms+Loveseat.jpg\n"
     ]
    },
    {
     "name": "stderr",
     "output_type": "stream",
     "text": [
      "\r",
      " 59%|██████████████████████████████████████████████▉                                 | 216/368 [00:33<00:22,  6.65it/s]"
     ]
    },
    {
     "name": "stdout",
     "output_type": "stream",
     "text": [
      "Product Row:  215\n",
      "https://secure.img1-fg.wfcdn.com/im/53335668/resize-h310-w310%5Ecompr-r85/1180/118092271/Linglestown+Leather+Sofa.jpg\n"
     ]
    },
    {
     "name": "stderr",
     "output_type": "stream",
     "text": [
      "\r",
      " 59%|███████████████████████████████████████████████▏                                | 217/368 [00:33<00:22,  6.57it/s]"
     ]
    },
    {
     "name": "stdout",
     "output_type": "stream",
     "text": [
      "Product Row:  216\n",
      "https://secure.img1-fg.wfcdn.com/im/66438063/resize-h310-w310%5Ecompr-r85/1047/104788725/Aretha+99.5%2522+Left+Hand+Facing+Sectional.jpg\n"
     ]
    },
    {
     "name": "stderr",
     "output_type": "stream",
     "text": [
      "\r",
      " 59%|███████████████████████████████████████████████▍                                | 218/368 [00:33<00:21,  6.98it/s]"
     ]
    },
    {
     "name": "stdout",
     "output_type": "stream",
     "text": [
      "Product Row:  217\n",
      "https://secure.img1-fg.wfcdn.com/im/50796064/resize-h310-w310%5Ecompr-r85/4849/48492701/Chiang+Sofa.jpg\n"
     ]
    },
    {
     "name": "stderr",
     "output_type": "stream",
     "text": [
      "\r",
      " 60%|███████████████████████████████████████████████▌                                | 219/368 [00:33<00:20,  7.21it/s]"
     ]
    },
    {
     "name": "stdout",
     "output_type": "stream",
     "text": [
      "Product Row:  218\n",
      "https://secure.img1-fg.wfcdn.com/im/69444853/resize-h310-w310%5Ecompr-r85/6794/67946806/Palma+Reclining+90.5%2522+Pillow+Top+Arm+Sofa.jpg\n"
     ]
    },
    {
     "name": "stderr",
     "output_type": "stream",
     "text": [
      "\r",
      " 60%|███████████████████████████████████████████████▊                                | 220/368 [00:33<00:21,  6.95it/s]"
     ]
    },
    {
     "name": "stdout",
     "output_type": "stream",
     "text": [
      "Product Row:  219\n",
      "https://secure.img1-fg.wfcdn.com/im/96700637/resize-h310-w310%5Ecompr-r85/5508/55081588/Edward+Genuine+Leather+Square+Arm+Sofa.jpg\n"
     ]
    },
    {
     "name": "stderr",
     "output_type": "stream",
     "text": [
      "\r",
      " 60%|████████████████████████████████████████████████                                | 221/368 [00:33<00:21,  6.91it/s]"
     ]
    },
    {
     "name": "stdout",
     "output_type": "stream",
     "text": [
      "Product Row:  220\n",
      "https://secure.img1-fg.wfcdn.com/im/36508684/resize-h310-w310%5Ecompr-r85/7499/74992712/Harcourt+Velvet+71%2522+Tuxedo+Arm+Loveseat.jpg\n"
     ]
    },
    {
     "name": "stderr",
     "output_type": "stream",
     "text": [
      "\r",
      " 60%|████████████████████████████████████████████████▎                               | 222/368 [00:33<00:22,  6.63it/s]"
     ]
    },
    {
     "name": "stdout",
     "output_type": "stream",
     "text": [
      "Product Row:  221\n",
      "https://secure.img1-fg.wfcdn.com/im/23987125/resize-h310-w310%5Ecompr-r85/6048/60488323/Collins+87%2522+Round+Arms+Sofa.jpg\n"
     ]
    },
    {
     "name": "stderr",
     "output_type": "stream",
     "text": [
      "\r",
      " 61%|████████████████████████████████████████████████▍                               | 223/368 [00:34<00:21,  6.81it/s]"
     ]
    },
    {
     "name": "stdout",
     "output_type": "stream",
     "text": [
      "Product Row:  222\n",
      "https://secure.img1-fg.wfcdn.com/im/82408954/resize-h310-w310%5Ecompr-r85/3598/35982813/Lambdin+Leather+Loveseat.jpg\n"
     ]
    },
    {
     "name": "stderr",
     "output_type": "stream",
     "text": [
      "\r",
      " 61%|████████████████████████████████████████████████▋                               | 224/368 [00:34<00:22,  6.49it/s]"
     ]
    },
    {
     "name": "stdout",
     "output_type": "stream",
     "text": [
      "Product Row:  223\n",
      "https://secure.img1-fg.wfcdn.com/im/18589855/resize-h310-w310%5Ecompr-r85/2729/27298307/Priddy+Leather+Round+Arms+Sofa.jpg\n"
     ]
    },
    {
     "name": "stderr",
     "output_type": "stream",
     "text": [
      "\r",
      " 61%|████████████████████████████████████████████████▉                               | 225/368 [00:34<00:21,  6.59it/s]"
     ]
    },
    {
     "name": "stdout",
     "output_type": "stream",
     "text": [
      "Product Row:  224\n",
      "https://secure.img1-fg.wfcdn.com/im/91290871/resize-h310-w310%5Ecompr-r85/9893/98932144/Kendall+90%2522+Charles+of+London+Sofa.jpg\n"
     ]
    },
    {
     "name": "stderr",
     "output_type": "stream",
     "text": [
      "\r",
      " 61%|█████████████████████████████████████████████████▏                              | 226/368 [00:34<00:21,  6.71it/s]"
     ]
    },
    {
     "name": "stdout",
     "output_type": "stream",
     "text": [
      "Product Row:  225\n",
      "https://secure.img1-fg.wfcdn.com/im/86859592/resize-h310-w310%5Ecompr-r85/1223/122330185/Vegard+Chesterfield+91.34%2522+Round+Arm+Sofa.jpg\n"
     ]
    },
    {
     "name": "stderr",
     "output_type": "stream",
     "text": [
      "\r",
      " 62%|█████████████████████████████████████████████████▎                              | 227/368 [00:34<00:21,  6.66it/s]"
     ]
    },
    {
     "name": "stdout",
     "output_type": "stream",
     "text": [
      "Product Row:  226\n",
      "https://secure.img1-fg.wfcdn.com/im/76887598/resize-h310-w310%5Ecompr-r85/3792/37929823/Thierry+Deer+Lodge+Rolled+Arms+Sofa.jpg\n"
     ]
    },
    {
     "name": "stderr",
     "output_type": "stream",
     "text": [
      "\r",
      " 62%|█████████████████████████████████████████████████▌                              | 228/368 [00:34<00:21,  6.44it/s]"
     ]
    },
    {
     "name": "stdout",
     "output_type": "stream",
     "text": [
      "Product Row:  227\n",
      "https://secure.img1-fg.wfcdn.com/im/87964915/resize-h310-w310%5Ecompr-r85/8776/87760587/Hudepohl+Reclining+Sofa.jpg\n"
     ]
    },
    {
     "name": "stderr",
     "output_type": "stream",
     "text": [
      "\r",
      " 62%|█████████████████████████████████████████████████▊                              | 229/368 [00:35<00:21,  6.62it/s]"
     ]
    },
    {
     "name": "stdout",
     "output_type": "stream",
     "text": [
      "Product Row:  228\n",
      "https://secure.img1-fg.wfcdn.com/im/88583144/resize-h310-w310%5Ecompr-r85/5390/53908736/Avery+Queen+Sleeper+Sofa.jpg\n"
     ]
    },
    {
     "name": "stderr",
     "output_type": "stream",
     "text": [
      "\r",
      " 62%|██████████████████████████████████████████████████                              | 230/368 [00:35<00:20,  6.79it/s]"
     ]
    },
    {
     "name": "stdout",
     "output_type": "stream",
     "text": [
      "Product Row:  229\n",
      "https://secure.img1-fg.wfcdn.com/im/79359163/resize-h310-w310%5Ecompr-r85/3881/38819461/Cordele+Sofa.jpg\n"
     ]
    },
    {
     "name": "stderr",
     "output_type": "stream",
     "text": [
      "\r",
      " 63%|██████████████████████████████████████████████████▏                             | 231/368 [00:35<00:19,  6.95it/s]"
     ]
    },
    {
     "name": "stdout",
     "output_type": "stream",
     "text": [
      "Product Row:  230\n",
      "https://secure.img1-fg.wfcdn.com/im/31687873/resize-h310-w310%5Ecompr-r85/3229/32294749/Calexico+Sofa+Sleeper.jpg\n"
     ]
    },
    {
     "name": "stderr",
     "output_type": "stream",
     "text": [
      "\r",
      " 63%|██████████████████████████████████████████████████▍                             | 232/368 [00:35<00:22,  6.00it/s]"
     ]
    },
    {
     "name": "stdout",
     "output_type": "stream",
     "text": [
      "Product Row:  231\n",
      "https://secure.img1-fg.wfcdn.com/im/06008500/resize-h310-w310%5Ecompr-r85/1097/109748983/Lindstrom+Chesterfield+90%2522+Rolled+Arms+Sofa.jpg\n"
     ]
    },
    {
     "name": "stderr",
     "output_type": "stream",
     "text": [
      "\r",
      " 63%|██████████████████████████████████████████████████▋                             | 233/368 [00:35<00:21,  6.35it/s]"
     ]
    },
    {
     "name": "stdout",
     "output_type": "stream",
     "text": [
      "Product Row:  232\n",
      "https://secure.img1-fg.wfcdn.com/im/07483758/resize-h310-w310%5Ecompr-r85/1217/121750337/Brielle+92.25%2527%2527+Flared+Arm+Sofa.jpg\n"
     ]
    },
    {
     "name": "stderr",
     "output_type": "stream",
     "text": [
      "\r",
      " 64%|██████████████████████████████████████████████████▊                             | 234/368 [00:35<00:21,  6.33it/s]"
     ]
    },
    {
     "name": "stdout",
     "output_type": "stream",
     "text": [
      "Product Row:  233\n",
      "https://secure.img1-fg.wfcdn.com/im/84200869/resize-h310-w310%5Ecompr-r85/7299/72996175/North+Burnet%25u2013Gateway+100%2522+Square+Arm+Sofa.jpg\n"
     ]
    },
    {
     "name": "stderr",
     "output_type": "stream",
     "text": [
      "\r",
      " 64%|███████████████████████████████████████████████████                             | 235/368 [00:35<00:21,  6.30it/s]"
     ]
    },
    {
     "name": "stdout",
     "output_type": "stream",
     "text": [
      "Product Row:  234\n",
      "https://secure.img1-fg.wfcdn.com/im/47848370/resize-h310-w310%5Ecompr-r85/1159/115971465/Delma+79%2522+Square+Arm+Sofa.jpg\n"
     ]
    },
    {
     "name": "stderr",
     "output_type": "stream",
     "text": [
      "\r",
      " 64%|███████████████████████████████████████████████████▎                            | 236/368 [00:36<00:20,  6.41it/s]"
     ]
    },
    {
     "name": "stdout",
     "output_type": "stream",
     "text": [
      "Product Row:  235\n",
      "https://secure.img1-fg.wfcdn.com/im/11527080/resize-h310-w310%5Ecompr-r85/9557/95574470/Kucharski+Reclining+101%2522+Pillow+top+Arm+Sofa.jpg\n"
     ]
    },
    {
     "name": "stderr",
     "output_type": "stream",
     "text": [
      "\r",
      " 64%|███████████████████████████████████████████████████▌                            | 237/368 [00:36<00:19,  6.70it/s]"
     ]
    },
    {
     "name": "stdout",
     "output_type": "stream",
     "text": [
      "Product Row:  236\n",
      "https://secure.img1-fg.wfcdn.com/im/91555675/resize-h310-w310%5Ecompr-r85/1193/119374878/Lucie+Rolled+Arm+92%2522+Sofa.jpg\n"
     ]
    },
    {
     "name": "stderr",
     "output_type": "stream",
     "text": [
      "\r",
      " 65%|███████████████████████████████████████████████████▋                            | 238/368 [00:36<00:18,  6.91it/s]"
     ]
    },
    {
     "name": "stdout",
     "output_type": "stream",
     "text": [
      "Product Row:  237\n",
      "https://secure.img1-fg.wfcdn.com/im/67371413/resize-h310-w310%5Ecompr-r85/4279/42794240/Binstead+Sofa.jpg\n"
     ]
    },
    {
     "name": "stderr",
     "output_type": "stream",
     "text": [
      "\r",
      " 65%|███████████████████████████████████████████████████▉                            | 239/368 [00:36<00:19,  6.61it/s]"
     ]
    },
    {
     "name": "stdout",
     "output_type": "stream",
     "text": [
      "Product Row:  238\n",
      "https://secure.img1-fg.wfcdn.com/im/01795901/resize-h310-w310%5Ecompr-r85/9261/92613160/Casey+88%2522+Rolled+Arm+Sofa.jpg\n"
     ]
    },
    {
     "name": "stderr",
     "output_type": "stream",
     "text": [
      "\r",
      " 65%|████████████████████████████████████████████████████▏                           | 240/368 [00:36<00:18,  6.80it/s]"
     ]
    },
    {
     "name": "stdout",
     "output_type": "stream",
     "text": [
      "Product Row:  239\n",
      "https://secure.img1-fg.wfcdn.com/im/38068479/resize-h310-w310%5Ecompr-r85/6536/65360969/Tatman+84%2522+Pillow+top+Arm+Sofa.jpg\n"
     ]
    },
    {
     "name": "stderr",
     "output_type": "stream",
     "text": [
      "\r",
      " 65%|████████████████████████████████████████████████████▍                           | 241/368 [00:36<00:19,  6.43it/s]"
     ]
    },
    {
     "name": "stdout",
     "output_type": "stream",
     "text": [
      "Product Row:  240\n",
      "https://secure.img1-fg.wfcdn.com/im/64837769/resize-h310-w310%5Ecompr-r85/5109/51095952/Truchanovicius+Sofa.jpg\n"
     ]
    },
    {
     "name": "stderr",
     "output_type": "stream",
     "text": [
      "\r",
      " 66%|████████████████████████████████████████████████████▌                           | 242/368 [00:37<00:20,  6.15it/s]"
     ]
    },
    {
     "name": "stdout",
     "output_type": "stream",
     "text": [
      "Product Row:  241\n",
      "https://secure.img1-fg.wfcdn.com/im/04277527/resize-h310-w310%5Ecompr-r85/1189/118917755/Kaylin+82.75%2522+Rolled+Arm+Sofa.jpg\n"
     ]
    },
    {
     "name": "stderr",
     "output_type": "stream",
     "text": [
      "\r",
      " 66%|████████████████████████████████████████████████████▊                           | 243/368 [00:37<00:19,  6.55it/s]"
     ]
    },
    {
     "name": "stdout",
     "output_type": "stream",
     "text": [
      "Product Row:  242\n",
      "https://secure.img1-fg.wfcdn.com/im/58647432/resize-h310-w310%5Ecompr-r85/8581/85817855/Judkins+75%2522+Armless+Sleeper.jpg\n"
     ]
    },
    {
     "name": "stderr",
     "output_type": "stream",
     "text": [
      "\r",
      " 66%|█████████████████████████████████████████████████████                           | 244/368 [00:37<00:19,  6.41it/s]"
     ]
    },
    {
     "name": "stdout",
     "output_type": "stream",
     "text": [
      "Product Row:  243\n",
      "https://secure.img1-fg.wfcdn.com/im/74748908/resize-h310-w310%5Ecompr-r85/1198/119850203/Shields+Reclining+90%2522+Pillow+Top+Arm+Sofa.jpg\n"
     ]
    },
    {
     "name": "stderr",
     "output_type": "stream",
     "text": [
      "\r",
      " 67%|█████████████████████████████████████████████████████▎                          | 245/368 [00:37<00:17,  6.84it/s]"
     ]
    },
    {
     "name": "stdout",
     "output_type": "stream",
     "text": [
      "Product Row:  244\n",
      "https://secure.img1-fg.wfcdn.com/im/61024836/resize-h310-w310%5Ecompr-r85/2271/22718573/Candace+98.75%2522+Reversible+Sleeper+Sectional.jpg\n"
     ]
    },
    {
     "name": "stderr",
     "output_type": "stream",
     "text": [
      "\r",
      " 67%|█████████████████████████████████████████████████████▍                          | 246/368 [00:37<00:18,  6.56it/s]"
     ]
    },
    {
     "name": "stdout",
     "output_type": "stream",
     "text": [
      "Product Row:  245\n",
      "https://secure.img1-fg.wfcdn.com/im/56392406/resize-h310-w310%5Ecompr-r85/6113/61136101/Cordova+Chesterfield+Sofa.jpg\n"
     ]
    },
    {
     "name": "stderr",
     "output_type": "stream",
     "text": [
      "\r",
      " 67%|█████████████████████████████████████████████████████▋                          | 247/368 [00:37<00:18,  6.54it/s]"
     ]
    },
    {
     "name": "stdout",
     "output_type": "stream",
     "text": [
      "Product Row:  246\n",
      "https://secure.img1-fg.wfcdn.com/im/32474987/resize-h310-w310%5Ecompr-r85/9661/96618868/Chester+Modern%252C+Chesterfield+Sofa.jpg\n"
     ]
    },
    {
     "name": "stderr",
     "output_type": "stream",
     "text": [
      "\r",
      " 67%|█████████████████████████████████████████████████████▉                          | 248/368 [00:37<00:18,  6.66it/s]"
     ]
    },
    {
     "name": "stdout",
     "output_type": "stream",
     "text": [
      "Product Row:  247\n",
      "https://secure.img1-fg.wfcdn.com/im/57759634/resize-h310-w310%5Ecompr-r85/6922/69226521/Leeds+95%2522+Reversible+Sleeper+Sectional+with+Ottoman.jpg\n"
     ]
    },
    {
     "name": "stderr",
     "output_type": "stream",
     "text": [
      "\r",
      " 68%|██████████████████████████████████████████████████████▏                         | 249/368 [00:38<00:17,  6.62it/s]"
     ]
    },
    {
     "name": "stdout",
     "output_type": "stream",
     "text": [
      "Product Row:  248\n",
      "https://secure.img1-fg.wfcdn.com/im/64956278/resize-h310-w310%5Ecompr-r85/9235/92350659/Monett+Leather+Chesterfield+Sofa.jpg\n"
     ]
    },
    {
     "name": "stderr",
     "output_type": "stream",
     "text": [
      "\r",
      " 68%|██████████████████████████████████████████████████████▎                         | 250/368 [00:38<00:18,  6.46it/s]"
     ]
    },
    {
     "name": "stdout",
     "output_type": "stream",
     "text": [
      "Product Row:  249\n",
      "https://secure.img1-fg.wfcdn.com/im/85847376/resize-h310-w310%5Ecompr-r85/1098/109818408/Bellevue+90%2522+Rolled+Arm+Sofa.jpg\n"
     ]
    },
    {
     "name": "stderr",
     "output_type": "stream",
     "text": [
      "\r",
      " 68%|██████████████████████████████████████████████████████▌                         | 251/368 [00:38<00:18,  6.30it/s]"
     ]
    },
    {
     "name": "stdout",
     "output_type": "stream",
     "text": [
      "Product Row:  250\n",
      "https://secure.img1-fg.wfcdn.com/im/95049166/resize-h310-w310%5Ecompr-r85/8339/83392273/Nigel+Reclining+61.5%2522+Pillow+Top+Arms+Loveseat.jpg\n"
     ]
    },
    {
     "name": "stderr",
     "output_type": "stream",
     "text": [
      "\r",
      " 68%|██████████████████████████████████████████████████████▊                         | 252/368 [00:38<00:18,  6.41it/s]"
     ]
    },
    {
     "name": "stdout",
     "output_type": "stream",
     "text": [
      "Product Row:  251\n",
      "https://secure.img1-fg.wfcdn.com/im/04459633/resize-h310-w310%5Ecompr-r85/5197/51976604/Colwyn+Italian+Leather+Modular+Loveseat.jpg\n"
     ]
    },
    {
     "name": "stderr",
     "output_type": "stream",
     "text": [
      "\r",
      " 69%|███████████████████████████████████████████████████████                         | 253/368 [00:38<00:18,  6.27it/s]"
     ]
    },
    {
     "name": "stdout",
     "output_type": "stream",
     "text": [
      "Product Row:  252\n",
      "https://secure.img1-fg.wfcdn.com/im/86541583/resize-h310-w310%5Ecompr-r85/3865/38656860/Borchert+Sectional+with+Ottoman.jpg\n"
     ]
    },
    {
     "name": "stderr",
     "output_type": "stream",
     "text": [
      "\r",
      " 69%|███████████████████████████████████████████████████████▏                        | 254/368 [00:38<00:18,  6.19it/s]"
     ]
    },
    {
     "name": "stdout",
     "output_type": "stream",
     "text": [
      "Product Row:  253\n",
      "https://secure.img1-fg.wfcdn.com/im/92744817/resize-h310-w310%5Ecompr-r85/8885/88859727/Bella+Vista+66%2522+Round+Arms+Sofa.jpg\n"
     ]
    },
    {
     "name": "stderr",
     "output_type": "stream",
     "text": [
      "\r",
      " 69%|███████████████████████████████████████████████████████▍                        | 255/368 [00:39<00:18,  6.11it/s]"
     ]
    },
    {
     "name": "stdout",
     "output_type": "stream",
     "text": [
      "Product Row:  254\n",
      "https://secure.img1-fg.wfcdn.com/im/03215753/resize-h310-w310%5Ecompr-r85/7441/74417588/Nazareth+Curved+Sofa.jpg\n"
     ]
    },
    {
     "name": "stderr",
     "output_type": "stream",
     "text": [
      "\r",
      " 70%|███████████████████████████████████████████████████████▋                        | 256/368 [00:39<00:18,  6.22it/s]"
     ]
    },
    {
     "name": "stdout",
     "output_type": "stream",
     "text": [
      "Product Row:  255\n",
      "https://secure.img1-fg.wfcdn.com/im/78608270/resize-h310-w310%5Ecompr-r85/9276/92762568/Derbyshire+Genuine+Leather+76%2522+Square+Arm+Sofa.jpg\n"
     ]
    },
    {
     "name": "stderr",
     "output_type": "stream",
     "text": [
      "\r",
      " 70%|███████████████████████████████████████████████████████▊                        | 257/368 [00:39<00:17,  6.37it/s]"
     ]
    },
    {
     "name": "stdout",
     "output_type": "stream",
     "text": [
      "Product Row:  256\n",
      "https://secure.img1-fg.wfcdn.com/im/80648825/resize-h310-w310%5Ecompr-r85/4527/45270750/Rippy+Reclining+Sofa.jpg\n"
     ]
    },
    {
     "name": "stderr",
     "output_type": "stream",
     "text": [
      "\r",
      " 70%|████████████████████████████████████████████████████████                        | 258/368 [00:39<00:17,  6.25it/s]"
     ]
    },
    {
     "name": "stdout",
     "output_type": "stream",
     "text": [
      "Product Row:  257\n",
      "https://secure.img1-fg.wfcdn.com/im/83070933/resize-h310-w310%5Ecompr-r85/4664/46642293/Crick+Modular+156%2522+Tuxedo+Arm+Sofa.jpg\n"
     ]
    },
    {
     "name": "stderr",
     "output_type": "stream",
     "text": [
      "\r",
      " 70%|████████████████████████████████████████████████████████▎                       | 259/368 [00:39<00:16,  6.41it/s]"
     ]
    },
    {
     "name": "stdout",
     "output_type": "stream",
     "text": [
      "Product Row:  258\n",
      "https://secure.img1-fg.wfcdn.com/im/22356587/resize-h310-w310%5Ecompr-r85/9183/91839291/Siris+42%2522+Armless+Sofa+Bed.jpg\n"
     ]
    },
    {
     "name": "stderr",
     "output_type": "stream",
     "text": [
      "\r",
      " 71%|████████████████████████████████████████████████████████▌                       | 260/368 [00:39<00:16,  6.36it/s]"
     ]
    },
    {
     "name": "stdout",
     "output_type": "stream",
     "text": [
      "Product Row:  259\n",
      "https://secure.img1-fg.wfcdn.com/im/28347624/resize-h310-w310%5Ecompr-r85/1189/118918007/Kaylin+83%2522+Rolled+Arm+Sofa.jpg\n"
     ]
    },
    {
     "name": "stderr",
     "output_type": "stream",
     "text": [
      "\r",
      " 71%|████████████████████████████████████████████████████████▋                       | 261/368 [00:40<00:17,  6.27it/s]"
     ]
    },
    {
     "name": "stdout",
     "output_type": "stream",
     "text": [
      "Product Row:  260\n",
      "https://secure.img1-fg.wfcdn.com/im/93714443/resize-h310-w310%5Ecompr-r85/9861/98611957/Condron+Reclining+59%2522+Pillow+top+Arm+Loveseat.jpg\n"
     ]
    },
    {
     "name": "stderr",
     "output_type": "stream",
     "text": [
      "\r",
      " 71%|████████████████████████████████████████████████████████▉                       | 262/368 [00:40<00:16,  6.61it/s]"
     ]
    },
    {
     "name": "stdout",
     "output_type": "stream",
     "text": [
      "Product Row:  261\n",
      "https://secure.img1-fg.wfcdn.com/im/89693653/resize-h310-w310%5Ecompr-r85/2501/25013014/Fairfax+96%2522+Rolled+Arm+Sofa.jpg\n"
     ]
    },
    {
     "name": "stderr",
     "output_type": "stream",
     "text": [
      "\r",
      " 71%|█████████████████████████████████████████████████████████▏                      | 263/368 [00:40<00:16,  6.44it/s]"
     ]
    },
    {
     "name": "stdout",
     "output_type": "stream",
     "text": [
      "Product Row:  262\n",
      "https://secure.img1-fg.wfcdn.com/im/72972039/resize-h310-w310%5Ecompr-r85/6027/60271967/Veazey+Reclining+88+inches+Pillow+Top+Arms+Sofa.jpg\n"
     ]
    },
    {
     "name": "stderr",
     "output_type": "stream",
     "text": [
      "\r",
      " 72%|█████████████████████████████████████████████████████████▍                      | 264/368 [00:40<00:16,  6.36it/s]"
     ]
    },
    {
     "name": "stdout",
     "output_type": "stream",
     "text": [
      "Product Row:  263\n",
      "https://secure.img1-fg.wfcdn.com/im/57660561/resize-h310-w310%5Ecompr-r85/4465/44653851/Blasingame+Curved+Sofa.jpg\n"
     ]
    },
    {
     "name": "stderr",
     "output_type": "stream",
     "text": [
      "\r",
      " 72%|█████████████████████████████████████████████████████████▌                      | 265/368 [00:40<00:16,  6.41it/s]"
     ]
    },
    {
     "name": "stdout",
     "output_type": "stream",
     "text": [
      "Product Row:  264\n",
      "https://secure.img1-fg.wfcdn.com/im/06417319/resize-h310-w310%5Ecompr-r85/7617/76178070/Allenhurst+Right+Hand+Facing+Sectional.jpg\n"
     ]
    },
    {
     "name": "stderr",
     "output_type": "stream",
     "text": [
      "\r",
      " 72%|█████████████████████████████████████████████████████████▊                      | 266/368 [00:40<00:16,  6.20it/s]"
     ]
    },
    {
     "name": "stdout",
     "output_type": "stream",
     "text": [
      "Product Row:  265\n",
      "https://secure.img1-fg.wfcdn.com/im/36342299/resize-h310-w310%5Ecompr-r85/5356/53561716/Marceau+Velvet+84%2522+Square+Arm+Sofa.jpg\n"
     ]
    },
    {
     "name": "stderr",
     "output_type": "stream",
     "text": [
      "\r",
      " 73%|██████████████████████████████████████████████████████████                      | 267/368 [00:40<00:15,  6.44it/s]"
     ]
    },
    {
     "name": "stdout",
     "output_type": "stream",
     "text": [
      "Product Row:  266\n",
      "https://secure.img1-fg.wfcdn.com/im/23101590/resize-h310-w310%5Ecompr-r85/3272/32723387/Tabitha+Chesterfield+Sofa.jpg\n"
     ]
    },
    {
     "name": "stderr",
     "output_type": "stream",
     "text": [
      "\r",
      " 73%|██████████████████████████████████████████████████████████▎                     | 268/368 [00:41<00:15,  6.40it/s]"
     ]
    },
    {
     "name": "stdout",
     "output_type": "stream",
     "text": [
      "Product Row:  267\n",
      "https://secure.img1-fg.wfcdn.com/im/68651493/resize-h310-w310%5Ecompr-r85/7604/76040711/Brylee+118%2522+Reversible+Sectional.jpg\n"
     ]
    },
    {
     "name": "stderr",
     "output_type": "stream",
     "text": [
      "\r",
      " 73%|██████████████████████████████████████████████████████████▍                     | 269/368 [00:41<00:16,  6.17it/s]"
     ]
    },
    {
     "name": "stdout",
     "output_type": "stream",
     "text": [
      "Product Row:  268\n",
      "https://secure.img1-fg.wfcdn.com/im/28088688/resize-h310-w310%5Ecompr-r85/3789/37896110/Fairfax+Sleeper+Sofa.jpg\n"
     ]
    },
    {
     "name": "stderr",
     "output_type": "stream",
     "text": [
      "\r",
      " 73%|██████████████████████████████████████████████████████████▋                     | 270/368 [00:41<00:16,  6.02it/s]"
     ]
    },
    {
     "name": "stdout",
     "output_type": "stream",
     "text": [
      "Product Row:  269\n",
      "https://secure.img1-fg.wfcdn.com/im/89016754/resize-h310-w310%5Ecompr-r85/1182/118260052/Lesley+87%2522+Square+Arm+Sofa+Bed.jpg\n"
     ]
    },
    {
     "name": "stderr",
     "output_type": "stream",
     "text": [
      "\r",
      " 74%|██████████████████████████████████████████████████████████▉                     | 271/368 [00:41<00:16,  5.96it/s]"
     ]
    },
    {
     "name": "stdout",
     "output_type": "stream",
     "text": [
      "Product Row:  270\n",
      "https://secure.img1-fg.wfcdn.com/im/14095625/resize-h310-w310%5Ecompr-r85/1011/10110513/Charlie+Alpine+Loveseat.jpg\n"
     ]
    },
    {
     "name": "stderr",
     "output_type": "stream",
     "text": [
      "\r",
      " 74%|███████████████████████████████████████████████████████████▏                    | 272/368 [00:41<00:17,  5.41it/s]"
     ]
    },
    {
     "name": "stdout",
     "output_type": "stream",
     "text": [
      "Product Row:  271\n",
      "https://secure.img1-fg.wfcdn.com/im/83935756/resize-h310-w310%5Ecompr-r85/1068/106834607/Kwong+Velvet+96.5%2522+Tuxedo+Arms+Sofa.jpg\n"
     ]
    },
    {
     "name": "stderr",
     "output_type": "stream",
     "text": [
      "\r",
      " 74%|███████████████████████████████████████████████████████████▎                    | 273/368 [00:42<00:17,  5.29it/s]"
     ]
    },
    {
     "name": "stdout",
     "output_type": "stream",
     "text": [
      "Product Row:  272\n",
      "https://secure.img1-fg.wfcdn.com/im/03270708/resize-h310-w310%5Ecompr-r85/1217/121721416/Alloway+84%2522+Pillow+Top+Arm+Sofa.jpg\n"
     ]
    },
    {
     "name": "stderr",
     "output_type": "stream",
     "text": [
      "\r",
      " 74%|███████████████████████████████████████████████████████████▌                    | 274/368 [00:42<00:17,  5.50it/s]"
     ]
    },
    {
     "name": "stdout",
     "output_type": "stream",
     "text": [
      "Product Row:  273\n",
      "https://secure.img1-fg.wfcdn.com/im/11355027/resize-h310-w310%5Ecompr-r85/1198/119841682/Clifford+84%2522+Round+Arm+Sofa.jpg\n"
     ]
    },
    {
     "name": "stderr",
     "output_type": "stream",
     "text": [
      "\r",
      " 75%|███████████████████████████████████████████████████████████▊                    | 275/368 [00:42<00:16,  5.62it/s]"
     ]
    },
    {
     "name": "stdout",
     "output_type": "stream",
     "text": [
      "Product Row:  274\n",
      "https://secure.img1-fg.wfcdn.com/im/59563623/resize-h310-w310%5Ecompr-r85/5136/51360768/Ayita+Reversible+Sectional+with+Ottoman.jpg\n"
     ]
    },
    {
     "name": "stderr",
     "output_type": "stream",
     "text": [
      "\r",
      " 75%|████████████████████████████████████████████████████████████                    | 276/368 [00:42<00:17,  5.38it/s]"
     ]
    },
    {
     "name": "stdout",
     "output_type": "stream",
     "text": [
      "Product Row:  275\n",
      "https://secure.img1-fg.wfcdn.com/im/77518674/resize-h310-w310%5Ecompr-r85/5251/5251002/Charlie+Cotton+90%2522+Round+Arm+Sofa.jpg\n"
     ]
    },
    {
     "name": "stderr",
     "output_type": "stream",
     "text": [
      "\r",
      " 75%|████████████████████████████████████████████████████████████▏                   | 277/368 [00:42<00:16,  5.42it/s]"
     ]
    },
    {
     "name": "stdout",
     "output_type": "stream",
     "text": [
      "Product Row:  276\n",
      "https://secure.img1-fg.wfcdn.com/im/10401226/resize-h310-w310%5Ecompr-r85/4845/48455940/Koffler+Velvet+Chesterfield+94%2522+Rolled+Arm+Sofa.jpg\n"
     ]
    },
    {
     "name": "stderr",
     "output_type": "stream",
     "text": [
      "\r",
      " 76%|████████████████████████████████████████████████████████████▍                   | 278/368 [00:42<00:15,  5.86it/s]"
     ]
    },
    {
     "name": "stdout",
     "output_type": "stream",
     "text": [
      "Product Row:  277\n",
      "https://secure.img1-fg.wfcdn.com/im/22515703/resize-h310-w310%5Ecompr-r85/8636/86368296/Barkell+Leather+91%2522+Rolled+Arms+Sofa.jpg\n"
     ]
    },
    {
     "name": "stderr",
     "output_type": "stream",
     "text": [
      "\r",
      " 76%|████████████████████████████████████████████████████████████▋                   | 279/368 [00:43<00:15,  5.80it/s]"
     ]
    },
    {
     "name": "stdout",
     "output_type": "stream",
     "text": [
      "Product Row:  278\n",
      "https://secure.img1-fg.wfcdn.com/im/94701072/resize-h310-w310%5Ecompr-r85/1041/104143420/Eisley+Loveseat.jpg\n"
     ]
    },
    {
     "name": "stderr",
     "output_type": "stream",
     "text": [
      "\r",
      " 76%|████████████████████████████████████████████████████████████▊                   | 280/368 [00:43<00:14,  6.10it/s]"
     ]
    },
    {
     "name": "stdout",
     "output_type": "stream",
     "text": [
      "Product Row:  279\n",
      "https://secure.img1-fg.wfcdn.com/im/03544844/resize-h310-w310%5Ecompr-r85/1160/116059474/Neabsco+Reclining+63%2527%2527+Pillow+Top+Arm+Loveseat.jpg\n"
     ]
    },
    {
     "name": "stderr",
     "output_type": "stream",
     "text": [
      "\r",
      " 76%|█████████████████████████████████████████████████████████████                   | 281/368 [00:43<00:13,  6.61it/s]"
     ]
    },
    {
     "name": "stdout",
     "output_type": "stream",
     "text": [
      "Product Row:  280\n",
      "https://secure.img1-fg.wfcdn.com/im/75892464/resize-h310-w310%5Ecompr-r85/6433/64333455/Lapidge+90%2522+Square+Arms+Sofa.jpg\n"
     ]
    },
    {
     "name": "stderr",
     "output_type": "stream",
     "text": [
      "\r",
      " 77%|█████████████████████████████████████████████████████████████▎                  | 282/368 [00:43<00:12,  6.77it/s]"
     ]
    },
    {
     "name": "stdout",
     "output_type": "stream",
     "text": [
      "Product Row:  281\n",
      "https://secure.img1-fg.wfcdn.com/im/75438932/resize-h310-w310%5Ecompr-r85/1194/119478821/Christianson+Velvet+62%2522+Tuxedo+Arm+Loveseat.jpg\n"
     ]
    },
    {
     "name": "stderr",
     "output_type": "stream",
     "text": [
      "\r",
      " 77%|█████████████████████████████████████████████████████████████▌                  | 283/368 [00:43<00:12,  6.61it/s]"
     ]
    },
    {
     "name": "stdout",
     "output_type": "stream",
     "text": [
      "Product Row:  282\n",
      "https://secure.img1-fg.wfcdn.com/im/39792694/resize-h310-w310%5Ecompr-r85/1078/107830406/Merlemont+91%2522+Tuxedo+Arms+Sofa.jpg\n"
     ]
    },
    {
     "name": "stderr",
     "output_type": "stream",
     "text": [
      "\r",
      " 77%|█████████████████████████████████████████████████████████████▋                  | 284/368 [00:43<00:12,  6.82it/s]"
     ]
    },
    {
     "name": "stdout",
     "output_type": "stream",
     "text": [
      "Product Row:  283\n",
      "https://secure.img1-fg.wfcdn.com/im/95319270/resize-h310-w310%5Ecompr-r85/1548/15480232/Dowless+Sofa.jpg\n"
     ]
    },
    {
     "name": "stderr",
     "output_type": "stream",
     "text": [
      "\r",
      " 77%|█████████████████████████████████████████████████████████████▉                  | 285/368 [00:43<00:12,  6.91it/s]"
     ]
    },
    {
     "name": "stdout",
     "output_type": "stream",
     "text": [
      "Product Row:  284\n",
      "https://secure.img1-fg.wfcdn.com/im/30692337/resize-h310-w310%5Ecompr-r85/5400/54001264/Dule+Sofa.jpg\n"
     ]
    },
    {
     "name": "stderr",
     "output_type": "stream",
     "text": [
      "\r",
      " 78%|██████████████████████████████████████████████████████████████▏                 | 286/368 [00:44<00:11,  7.00it/s]"
     ]
    },
    {
     "name": "stdout",
     "output_type": "stream",
     "text": [
      "Product Row:  285\n",
      "https://secure.img1-fg.wfcdn.com/im/34231001/resize-h310-w310%5Ecompr-r85/3646/36465547/Aranda+Sofa.jpg\n"
     ]
    },
    {
     "name": "stderr",
     "output_type": "stream",
     "text": [
      "\r",
      " 78%|██████████████████████████████████████████████████████████████▍                 | 287/368 [00:44<00:11,  7.29it/s]"
     ]
    },
    {
     "name": "stdout",
     "output_type": "stream",
     "text": [
      "Product Row:  286\n",
      "https://secure.img1-fg.wfcdn.com/im/02619441/resize-h310-w310%5Ecompr-r85/1056/105643148/Filkins+Genuine+Leather+89%2522+Recessed+Arm+Sofa.jpg\n"
     ]
    },
    {
     "name": "stderr",
     "output_type": "stream",
     "text": [
      "\r",
      " 78%|██████████████████████████████████████████████████████████████▌                 | 288/368 [00:44<00:10,  7.38it/s]"
     ]
    },
    {
     "name": "stdout",
     "output_type": "stream",
     "text": [
      "Product Row:  287\n",
      "https://secure.img1-fg.wfcdn.com/im/83504168/resize-h310-w310%5Ecompr-r85/1210/121069992/Alfortville+62%2522+Pillow+Top+Arm+Loveseat.jpg\n"
     ]
    },
    {
     "name": "stderr",
     "output_type": "stream",
     "text": [
      "\r",
      " 79%|██████████████████████████████████████████████████████████████▊                 | 289/368 [00:44<00:10,  7.50it/s]"
     ]
    },
    {
     "name": "stdout",
     "output_type": "stream",
     "text": [
      "Product Row:  288\n",
      "https://secure.img1-fg.wfcdn.com/im/61424431/resize-h310-w310%5Ecompr-r85/5031/50310249/Schiavone+Satin+Weave+Loveseat.jpg\n"
     ]
    },
    {
     "name": "stderr",
     "output_type": "stream",
     "text": [
      "\r",
      " 79%|███████████████████████████████████████████████████████████████                 | 290/368 [00:44<00:10,  7.47it/s]"
     ]
    },
    {
     "name": "stdout",
     "output_type": "stream",
     "text": [
      "Product Row:  289\n",
      "https://secure.img1-fg.wfcdn.com/im/04637545/resize-h310-w310%5Ecompr-r85/1210/121071668/Steinar+85%2522+Pillow+Top+Arm+Sofa.jpg\n"
     ]
    },
    {
     "name": "stderr",
     "output_type": "stream",
     "text": [
      "\r",
      " 79%|███████████████████████████████████████████████████████████████▎                | 291/368 [00:44<00:10,  7.05it/s]"
     ]
    },
    {
     "name": "stdout",
     "output_type": "stream",
     "text": [
      "Product Row:  290\n",
      "https://secure.img1-fg.wfcdn.com/im/52470890/resize-h310-w310%5Ecompr-r85/7314/73140390/Cao+65%2522+Recessed+Arms+Loveseat.jpg\n"
     ]
    },
    {
     "name": "stderr",
     "output_type": "stream",
     "text": [
      "\r",
      " 79%|███████████████████████████████████████████████████████████████▍                | 292/368 [00:44<00:10,  6.95it/s]"
     ]
    },
    {
     "name": "stdout",
     "output_type": "stream",
     "text": [
      "Product Row:  291\n",
      "https://secure.img1-fg.wfcdn.com/im/79193996/resize-h310-w310%5Ecompr-r85/7243/72432968/Bahara+Sofa.jpg\n"
     ]
    },
    {
     "name": "stderr",
     "output_type": "stream",
     "text": [
      "\r",
      " 80%|███████████████████████████████████████████████████████████████▋                | 293/368 [00:45<00:10,  6.89it/s]"
     ]
    },
    {
     "name": "stdout",
     "output_type": "stream",
     "text": [
      "Product Row:  292\n",
      "https://secure.img1-fg.wfcdn.com/im/59815076/resize-h310-w310%5Ecompr-r85/7242/72425098/Cammarata+Cotton+108.26%2522+Square+Arm+Sofa.jpg\n"
     ]
    },
    {
     "name": "stderr",
     "output_type": "stream",
     "text": [
      "\r",
      " 80%|███████████████████████████████████████████████████████████████▉                | 294/368 [00:45<00:10,  6.89it/s]"
     ]
    },
    {
     "name": "stdout",
     "output_type": "stream",
     "text": [
      "Product Row:  293\n",
      "https://secure.img1-fg.wfcdn.com/im/20592726/resize-h310-w310%5Ecompr-r85/1114/111453046/Macide+88%2522+Round+Arm+Sleeper.jpg\n"
     ]
    },
    {
     "name": "stderr",
     "output_type": "stream",
     "text": [
      "\r",
      " 80%|████████████████████████████████████████████████████████████████▏               | 295/368 [00:45<00:10,  7.18it/s]"
     ]
    },
    {
     "name": "stdout",
     "output_type": "stream",
     "text": [
      "Product Row:  294\n",
      "https://secure.img1-fg.wfcdn.com/im/10789798/resize-h310-w310%5Ecompr-r85/9184/91849219/Maribel+Genuine+Leather+98%2522+Tuxedo+Arm+Sofa.jpg\n"
     ]
    },
    {
     "name": "stderr",
     "output_type": "stream",
     "text": [
      "\r",
      " 80%|████████████████████████████████████████████████████████████████▎               | 296/368 [00:45<00:10,  7.02it/s]"
     ]
    },
    {
     "name": "stdout",
     "output_type": "stream",
     "text": [
      "Product Row:  295\n",
      "https://secure.img1-fg.wfcdn.com/im/95153799/resize-h310-w310%5Ecompr-r85/6164/61647059/Deandra+Sofa.jpg\n"
     ]
    },
    {
     "name": "stderr",
     "output_type": "stream",
     "text": [
      "\r",
      " 81%|████████████████████████████████████████████████████████████████▌               | 297/368 [00:45<00:10,  6.81it/s]"
     ]
    },
    {
     "name": "stdout",
     "output_type": "stream",
     "text": [
      "Product Row:  296\n",
      "https://secure.img1-fg.wfcdn.com/im/73875636/resize-h310-w310%5Ecompr-r85/6510/65101457/Hawes+Sofa.jpg\n"
     ]
    },
    {
     "name": "stderr",
     "output_type": "stream",
     "text": [
      "\r",
      " 81%|████████████████████████████████████████████████████████████████▊               | 298/368 [00:45<00:10,  6.46it/s]"
     ]
    },
    {
     "name": "stdout",
     "output_type": "stream",
     "text": [
      "Product Row:  297\n",
      "https://secure.img1-fg.wfcdn.com/im/11771528/resize-h310-w310%5Ecompr-r85/1130/113091246/Grid+Iron+93%2522+Reclining+Pillow+Top+Arms+Sofa.jpg\n"
     ]
    },
    {
     "name": "stderr",
     "output_type": "stream",
     "text": [
      "\r",
      " 81%|█████████████████████████████████████████████████████████████████               | 299/368 [00:45<00:10,  6.85it/s]"
     ]
    },
    {
     "name": "stdout",
     "output_type": "stream",
     "text": [
      "Product Row:  298\n",
      "https://secure.img1-fg.wfcdn.com/im/05394119/resize-h310-w310%5Ecompr-r85/7076/70762440/Sharpsburg+Sofa.jpg\n"
     ]
    },
    {
     "name": "stderr",
     "output_type": "stream",
     "text": [
      "\r",
      " 82%|█████████████████████████████████████████████████████████████████▏              | 300/368 [00:46<00:09,  7.10it/s]"
     ]
    },
    {
     "name": "stdout",
     "output_type": "stream",
     "text": [
      "Product Row:  299\n",
      "https://secure.img1-fg.wfcdn.com/im/08422381/resize-h310-w310%5Ecompr-r85/6532/65321148/Cleon+74%2522+Sofa.jpg\n"
     ]
    },
    {
     "name": "stderr",
     "output_type": "stream",
     "text": [
      "\r",
      " 82%|█████████████████████████████████████████████████████████████████▍              | 301/368 [00:46<00:09,  7.18it/s]"
     ]
    },
    {
     "name": "stdout",
     "output_type": "stream",
     "text": [
      "Product Row:  300\n",
      "https://secure.img1-fg.wfcdn.com/im/91106389/resize-h310-w310%5Ecompr-r85/6570/65707416/Boston+Red+Sox+Sofa.jpg\n"
     ]
    },
    {
     "name": "stderr",
     "output_type": "stream",
     "text": [
      "\r",
      " 82%|█████████████████████████████████████████████████████████████████▋              | 302/368 [00:46<00:09,  7.23it/s]"
     ]
    },
    {
     "name": "stdout",
     "output_type": "stream",
     "text": [
      "Product Row:  301\n",
      "https://secure.img1-fg.wfcdn.com/im/42981816/resize-h310-w310%5Ecompr-r85/1189/118959884/Wilpert+Reclining+86%2527%2527+Pillow+Top+Arm+Sofa.jpg\n"
     ]
    },
    {
     "name": "stderr",
     "output_type": "stream",
     "text": [
      "\r",
      " 82%|█████████████████████████████████████████████████████████████████▊              | 303/368 [00:46<00:09,  6.96it/s]"
     ]
    },
    {
     "name": "stdout",
     "output_type": "stream",
     "text": [
      "Product Row:  302\n",
      "https://secure.img1-fg.wfcdn.com/im/55223511/resize-h310-w310%5Ecompr-r85/4149/41498152/Barkell+Leather+70%2522+Rolled+Arms+Loveseat.jpg\n"
     ]
    },
    {
     "name": "stderr",
     "output_type": "stream",
     "text": [
      "\r",
      " 83%|██████████████████████████████████████████████████████████████████              | 304/368 [00:46<00:09,  7.09it/s]"
     ]
    },
    {
     "name": "stdout",
     "output_type": "stream",
     "text": [
      "Product Row:  303\n",
      "https://secure.img1-fg.wfcdn.com/im/57611497/resize-h310-w310%5Ecompr-r85/1035/103594293/Calvo+Sofa.jpg\n"
     ]
    },
    {
     "name": "stderr",
     "output_type": "stream",
     "text": [
      "\r",
      " 83%|██████████████████████████████████████████████████████████████████▎             | 305/368 [00:46<00:09,  6.94it/s]"
     ]
    },
    {
     "name": "stdout",
     "output_type": "stream",
     "text": [
      "Product Row:  304\n",
      "https://secure.img1-fg.wfcdn.com/im/23488312/resize-h310-w310%5Ecompr-r85/7149/71499919/Tottenham+Hotspur+Primary+Logo+Sofa.jpg\n"
     ]
    },
    {
     "name": "stderr",
     "output_type": "stream",
     "text": [
      "\r",
      " 83%|██████████████████████████████████████████████████████████████████▌             | 306/368 [00:46<00:08,  7.11it/s]"
     ]
    },
    {
     "name": "stdout",
     "output_type": "stream",
     "text": [
      "Product Row:  305\n",
      "https://secure.img1-fg.wfcdn.com/im/94687251/resize-h310-w310%5Ecompr-r85/5056/50563559/Selden+Sofa.jpg\n"
     ]
    },
    {
     "name": "stderr",
     "output_type": "stream",
     "text": [
      "\r",
      " 83%|██████████████████████████████████████████████████████████████████▋             | 307/368 [00:47<00:08,  7.10it/s]"
     ]
    },
    {
     "name": "stdout",
     "output_type": "stream",
     "text": [
      "Product Row:  306\n",
      "https://secure.img1-fg.wfcdn.com/im/72325707/resize-h310-w310%5Ecompr-r85/1056/105660941/Kaleem+89%2522+Pillow+Top+Arm+Sofa.jpg\n"
     ]
    },
    {
     "name": "stderr",
     "output_type": "stream",
     "text": [
      "\r",
      " 84%|██████████████████████████████████████████████████████████████████▉             | 308/368 [00:47<00:08,  7.13it/s]"
     ]
    },
    {
     "name": "stdout",
     "output_type": "stream",
     "text": [
      "Product Row:  307\n",
      "https://secure.img1-fg.wfcdn.com/im/20529612/resize-h310-w310%5Ecompr-r85/1195/119582661/Canajoharie+Reclining+88%2522+Rolled+Arm+Sofa.jpg\n"
     ]
    },
    {
     "name": "stderr",
     "output_type": "stream",
     "text": [
      "\r",
      " 84%|███████████████████████████████████████████████████████████████████▏            | 309/368 [00:47<00:08,  7.01it/s]"
     ]
    },
    {
     "name": "stdout",
     "output_type": "stream",
     "text": [
      "Product Row:  308\n",
      "https://secure.img1-fg.wfcdn.com/im/70037521/resize-h310-w310%5Ecompr-r85/1194/119479379/St+James+70%2522+Rolled+Arm+Loveseat.jpg\n"
     ]
    },
    {
     "name": "stderr",
     "output_type": "stream",
     "text": [
      "\r",
      " 84%|███████████████████████████████████████████████████████████████████▍            | 310/368 [00:47<00:08,  6.87it/s]"
     ]
    },
    {
     "name": "stdout",
     "output_type": "stream",
     "text": [
      "Product Row:  309\n",
      "https://secure.img1-fg.wfcdn.com/im/17436008/resize-h310-w310%5Ecompr-r85/5037/50379342/Schiffer+Satin+Weave+Sofa.jpg\n"
     ]
    },
    {
     "name": "stderr",
     "output_type": "stream",
     "text": [
      "\r",
      " 85%|███████████████████████████████████████████████████████████████████▌            | 311/368 [00:47<00:08,  7.08it/s]"
     ]
    },
    {
     "name": "stdout",
     "output_type": "stream",
     "text": [
      "Product Row:  310\n",
      "https://secure.img1-fg.wfcdn.com/im/53631952/resize-h310-w310%5Ecompr-r85/9610/96109518/Ariock+Genuine+Leather+84%2522+Tuxedo+Arm+Sofa.jpg\n"
     ]
    },
    {
     "name": "stderr",
     "output_type": "stream",
     "text": [
      "\r",
      " 85%|███████████████████████████████████████████████████████████████████▊            | 312/368 [00:47<00:07,  7.01it/s]"
     ]
    },
    {
     "name": "stdout",
     "output_type": "stream",
     "text": [
      "Product Row:  311\n",
      "https://secure.img1-fg.wfcdn.com/im/54332852/resize-h310-w310%5Ecompr-r85/5578/55787966/Ruggeri+Loveseat.jpg\n"
     ]
    },
    {
     "name": "stderr",
     "output_type": "stream",
     "text": [
      "\r",
      " 85%|████████████████████████████████████████████████████████████████████            | 313/368 [00:47<00:07,  6.90it/s]"
     ]
    },
    {
     "name": "stdout",
     "output_type": "stream",
     "text": [
      "Product Row:  312\n",
      "https://secure.img1-fg.wfcdn.com/im/42218030/resize-h310-w310%5Ecompr-r85/1181/118119604/Alleya+Genuine+Leather+66%2527%2527+Square+Arm+Loveseat.jpg\n"
     ]
    },
    {
     "name": "stderr",
     "output_type": "stream",
     "text": [
      "\r",
      " 85%|████████████████████████████████████████████████████████████████████▎           | 314/368 [00:48<00:07,  7.02it/s]"
     ]
    },
    {
     "name": "stdout",
     "output_type": "stream",
     "text": [
      "Product Row:  313\n",
      "https://secure.img1-fg.wfcdn.com/im/10329932/resize-h310-w310%5Ecompr-r85/5032/50322344/Schiffman+Vegan+Sofa.jpg\n"
     ]
    },
    {
     "name": "stderr",
     "output_type": "stream",
     "text": [
      "\r",
      " 86%|████████████████████████████████████████████████████████████████████▍           | 315/368 [00:48<00:07,  7.02it/s]"
     ]
    },
    {
     "name": "stdout",
     "output_type": "stream",
     "text": [
      "Product Row:  314\n",
      "https://secure.img1-fg.wfcdn.com/im/39618143/resize-h310-w310%5Ecompr-r85/1182/118233819/Pineview+Velvet+84%2522+Tuxedo+Arm+Sofa.jpg\n"
     ]
    },
    {
     "name": "stderr",
     "output_type": "stream",
     "text": [
      "\r",
      " 86%|████████████████████████████████████████████████████████████████████▋           | 316/368 [00:48<00:07,  6.57it/s]"
     ]
    },
    {
     "name": "stdout",
     "output_type": "stream",
     "text": [
      "Product Row:  315\n",
      "https://secure.img1-fg.wfcdn.com/im/03332942/resize-h310-w310%5Ecompr-r85/1141/114141285/Amaro+Revolution+Performance+Fabrics+84%2522+Square+Arm+Sofa.jpg\n"
     ]
    },
    {
     "name": "stderr",
     "output_type": "stream",
     "text": [
      "\r",
      " 86%|████████████████████████████████████████████████████████████████████▉           | 317/368 [00:48<00:07,  6.85it/s]"
     ]
    },
    {
     "name": "stdout",
     "output_type": "stream",
     "text": [
      "Product Row:  316\n",
      "https://secure.img1-fg.wfcdn.com/im/45175744/resize-h310-w310%5Ecompr-r85/3639/36394736/Gretna+Glider+Reclining+Sofa.jpg\n"
     ]
    },
    {
     "name": "stderr",
     "output_type": "stream",
     "text": [
      "\r",
      " 86%|█████████████████████████████████████████████████████████████████████▏          | 318/368 [00:48<00:06,  7.18it/s]"
     ]
    },
    {
     "name": "stdout",
     "output_type": "stream",
     "text": [
      "Product Row:  317\n",
      "https://secure.img1-fg.wfcdn.com/im/29283654/resize-h310-w310%5Ecompr-r85/1189/118959882/Wilpert+Reclining+65%2527%2527+Pillow+Top+Arm+Loveseat.jpg\n"
     ]
    },
    {
     "name": "stderr",
     "output_type": "stream",
     "text": [
      "\r",
      " 87%|█████████████████████████████████████████████████████████████████████▎          | 319/368 [00:48<00:07,  6.82it/s]"
     ]
    },
    {
     "name": "stdout",
     "output_type": "stream",
     "text": [
      "Product Row:  318\n",
      "https://secure.img1-fg.wfcdn.com/im/89781335/resize-h310-w310%5Ecompr-r85/5038/50381854/Scheid+Vegan+Loveseat.jpg\n"
     ]
    },
    {
     "name": "stderr",
     "output_type": "stream",
     "text": [
      "\r",
      " 87%|█████████████████████████████████████████████████████████████████████▌          | 320/368 [00:48<00:06,  6.92it/s]"
     ]
    },
    {
     "name": "stdout",
     "output_type": "stream",
     "text": [
      "Product Row:  319\n",
      "https://secure.img1-fg.wfcdn.com/im/09036913/resize-h310-w310%5Ecompr-r85/1075/107520377/Sebeka+73%2522+Square+Arm+Sofa.jpg\n"
     ]
    },
    {
     "name": "stderr",
     "output_type": "stream",
     "text": [
      "\r",
      " 87%|█████████████████████████████████████████████████████████████████████▊          | 321/368 [00:49<00:06,  7.12it/s]"
     ]
    },
    {
     "name": "stdout",
     "output_type": "stream",
     "text": [
      "Product Row:  320\n",
      "https://secure.img1-fg.wfcdn.com/im/43357167/resize-h310-w310%5Ecompr-r85/1154/115400249/Tull+Reclining+89.8%2527%2527+Pillow+Top+Arm+Sofa.jpg\n"
     ]
    },
    {
     "name": "stderr",
     "output_type": "stream",
     "text": [
      "\r",
      " 88%|██████████████████████████████████████████████████████████████████████          | 322/368 [00:49<00:06,  7.26it/s]"
     ]
    },
    {
     "name": "stdout",
     "output_type": "stream",
     "text": [
      "Product Row:  321\n",
      "https://secure.img1-fg.wfcdn.com/im/31216291/resize-h310-w310%5Ecompr-r85/9140/91402781/Aquilla+Sofa.jpg\n"
     ]
    },
    {
     "name": "stderr",
     "output_type": "stream",
     "text": [
      "\r",
      " 88%|██████████████████████████████████████████████████████████████████████▏         | 323/368 [00:49<00:06,  7.34it/s]"
     ]
    },
    {
     "name": "stdout",
     "output_type": "stream",
     "text": [
      "Product Row:  322\n",
      "https://secure.img1-fg.wfcdn.com/im/44323591/resize-h310-w310%5Ecompr-r85/1194/119491366/St+James+89%2522+Rolled+Arms+Sofa.jpg\n"
     ]
    },
    {
     "name": "stderr",
     "output_type": "stream",
     "text": [
      "\r",
      " 88%|██████████████████████████████████████████████████████████████████████▍         | 324/368 [00:49<00:06,  6.72it/s]"
     ]
    },
    {
     "name": "stdout",
     "output_type": "stream",
     "text": [
      "Product Row:  323\n",
      "https://secure.img1-fg.wfcdn.com/im/94492360/resize-h310-w310%5Ecompr-r85/1157/115718118/Nobleton+Reclining+90%2527%2527+Rolled+Arm+Loveseat.jpg\n"
     ]
    },
    {
     "name": "stderr",
     "output_type": "stream",
     "text": [
      "\r",
      " 88%|██████████████████████████████████████████████████████████████████████▋         | 325/368 [00:49<00:06,  6.71it/s]"
     ]
    },
    {
     "name": "stdout",
     "output_type": "stream",
     "text": [
      "Product Row:  324\n",
      "https://secure.img1-fg.wfcdn.com/im/44256013/resize-h310-w310%5Ecompr-r85/2971/29711183/Swampscott+Loveseat.jpg\n"
     ]
    },
    {
     "name": "stderr",
     "output_type": "stream",
     "text": [
      "\r",
      " 89%|██████████████████████████████████████████████████████████████████████▊         | 326/368 [00:49<00:06,  6.72it/s]"
     ]
    },
    {
     "name": "stdout",
     "output_type": "stream",
     "text": [
      "Product Row:  325\n",
      "https://secure.img1-fg.wfcdn.com/im/35955891/resize-h310-w310%5Ecompr-r85/1179/117950133/Chien+Sofa.jpg\n"
     ]
    },
    {
     "name": "stderr",
     "output_type": "stream",
     "text": [
      "\r",
      " 89%|███████████████████████████████████████████████████████████████████████         | 327/368 [00:49<00:06,  6.60it/s]"
     ]
    },
    {
     "name": "stdout",
     "output_type": "stream",
     "text": [
      "Product Row:  326\n",
      "https://secure.img1-fg.wfcdn.com/im/10010104/resize-h310-w310%5Ecompr-r85/7065/70659107/Luther+Chesterfield+66%2522+Rolled+Arm+Loveseat.jpg\n"
     ]
    },
    {
     "name": "stderr",
     "output_type": "stream",
     "text": [
      "\r",
      " 89%|███████████████████████████████████████████████████████████████████████▎        | 328/368 [00:50<00:06,  6.63it/s]"
     ]
    },
    {
     "name": "stdout",
     "output_type": "stream",
     "text": [
      "Product Row:  327\n",
      "https://secure.img1-fg.wfcdn.com/im/38280247/resize-h310-w310%5Ecompr-r85/1141/114140788/Amaro+84%2522+Square+Arm+Sofa.jpg\n"
     ]
    },
    {
     "name": "stderr",
     "output_type": "stream",
     "text": [
      "\r",
      " 89%|███████████████████████████████████████████████████████████████████████▌        | 329/368 [00:50<00:05,  7.00it/s]"
     ]
    },
    {
     "name": "stdout",
     "output_type": "stream",
     "text": [
      "Product Row:  328\n",
      "https://secure.img1-fg.wfcdn.com/im/38404176/resize-h310-w310%5Ecompr-r85/1542/15429347/Stanley+Chesterfield+Sofa.jpg\n"
     ]
    },
    {
     "name": "stderr",
     "output_type": "stream",
     "text": [
      "\r",
      " 90%|███████████████████████████████████████████████████████████████████████▋        | 330/368 [00:50<00:05,  7.14it/s]"
     ]
    },
    {
     "name": "stdout",
     "output_type": "stream",
     "text": [
      "Product Row:  329\n",
      "https://secure.img1-fg.wfcdn.com/im/96786571/resize-h310-w310%5Ecompr-r85/1152/115210020/Reynolds+59%2522+Square+Arm+Loveseat.jpg\n"
     ]
    },
    {
     "name": "stderr",
     "output_type": "stream",
     "text": [
      "\r",
      " 90%|███████████████████████████████████████████████████████████████████████▉        | 331/368 [00:50<00:05,  7.29it/s]"
     ]
    },
    {
     "name": "stdout",
     "output_type": "stream",
     "text": [
      "Product Row:  330\n",
      "https://secure.img1-fg.wfcdn.com/im/69953881/resize-h310-w310%5Ecompr-r85/9142/91426468/Leona+Reclining+Sofa.jpg\n"
     ]
    },
    {
     "name": "stderr",
     "output_type": "stream",
     "text": [
      "\r",
      " 90%|████████████████████████████████████████████████████████████████████████▏       | 332/368 [00:50<00:05,  6.97it/s]"
     ]
    },
    {
     "name": "stdout",
     "output_type": "stream",
     "text": [
      "Product Row:  331\n",
      "https://secure.img1-fg.wfcdn.com/im/12293841/resize-h310-w310%5Ecompr-r85/7149/71499923/Tottenham+Hotspur+Wordmark+Logo+Sofa.jpg\n"
     ]
    },
    {
     "name": "stderr",
     "output_type": "stream",
     "text": [
      "\r",
      " 90%|████████████████████████████████████████████████████████████████████████▍       | 333/368 [00:50<00:04,  7.10it/s]"
     ]
    },
    {
     "name": "stdout",
     "output_type": "stream",
     "text": [
      "Product Row:  332\n",
      "https://secure.img1-fg.wfcdn.com/im/82946153/resize-h310-w310%5Ecompr-r85/1061/106172740/Bexton+Leather+83%2522+Flared+Arm+Sofa.jpg\n"
     ]
    },
    {
     "name": "stderr",
     "output_type": "stream",
     "text": [
      "\r",
      " 91%|████████████████████████████████████████████████████████████████████████▌       | 334/368 [00:50<00:04,  7.34it/s]"
     ]
    },
    {
     "name": "stdout",
     "output_type": "stream",
     "text": [
      "Product Row:  333\n",
      "https://secure.img1-fg.wfcdn.com/im/68051150/resize-h310-w310%5Ecompr-r85/9579/9579887/Ryder+Sofa.jpg\n"
     ]
    },
    {
     "name": "stderr",
     "output_type": "stream",
     "text": [
      "\r",
      " 91%|████████████████████████████████████████████████████████████████████████▊       | 335/368 [00:51<00:04,  7.14it/s]"
     ]
    },
    {
     "name": "stdout",
     "output_type": "stream",
     "text": [
      "Product Row:  334\n",
      "https://secure.img1-fg.wfcdn.com/im/17896021/resize-h310-w310%5Ecompr-r85/5030/50306415/Strachan+Standard+Sofa.jpg\n"
     ]
    },
    {
     "name": "stderr",
     "output_type": "stream",
     "text": [
      "\r",
      " 91%|█████████████████████████████████████████████████████████████████████████       | 336/368 [00:51<00:04,  6.61it/s]"
     ]
    },
    {
     "name": "stdout",
     "output_type": "stream",
     "text": [
      "Product Row:  335\n",
      "https://secure.img1-fg.wfcdn.com/im/48665967/resize-h310-w310%5Ecompr-r85/3468/34689972/Bairdford+Loveseat.jpg\n"
     ]
    },
    {
     "name": "stderr",
     "output_type": "stream",
     "text": [
      "\r",
      " 92%|█████████████████████████████████████████████████████████████████████████▎      | 337/368 [00:51<00:05,  6.01it/s]"
     ]
    },
    {
     "name": "stdout",
     "output_type": "stream",
     "text": [
      "Product Row:  336\n",
      "https://secure.img1-fg.wfcdn.com/im/58641420/resize-h310-w310%5Ecompr-r85/6223/62234442/Bristol+78%2522+Square+Arm+Sofa.jpg\n"
     ]
    },
    {
     "name": "stderr",
     "output_type": "stream",
     "text": [
      "\r",
      " 92%|█████████████████████████████████████████████████████████████████████████▍      | 338/368 [00:51<00:04,  6.15it/s]"
     ]
    },
    {
     "name": "stdout",
     "output_type": "stream",
     "text": [
      "Product Row:  337\n",
      "https://secure.img1-fg.wfcdn.com/im/81618826/resize-h310-w310%5Ecompr-r85/9923/99230521/Somona+Loveseat.jpg\n"
     ]
    },
    {
     "name": "stderr",
     "output_type": "stream",
     "text": [
      "\r",
      " 92%|█████████████████████████████████████████████████████████████████████████▋      | 339/368 [00:51<00:04,  6.55it/s]"
     ]
    },
    {
     "name": "stdout",
     "output_type": "stream",
     "text": [
      "Product Row:  338\n",
      "https://secure.img1-fg.wfcdn.com/im/52116979/resize-h310-w310%5Ecompr-r85/6998/69984664/Full+Ride+Reclining+Sofa.jpg\n"
     ]
    },
    {
     "name": "stderr",
     "output_type": "stream",
     "text": [
      "\r",
      " 92%|█████████████████████████████████████████████████████████████████████████▉      | 340/368 [00:51<00:04,  6.56it/s]"
     ]
    },
    {
     "name": "stdout",
     "output_type": "stream",
     "text": [
      "Product Row:  339\n",
      "https://secure.img1-fg.wfcdn.com/im/69102642/resize-h310-w310%5Ecompr-r85/1091/109102695/Adrian+Genuine+Leather+76%2527%2527+Pillow+Top+Arm+Sofa.jpg\n"
     ]
    },
    {
     "name": "stderr",
     "output_type": "stream",
     "text": [
      "\r",
      " 93%|██████████████████████████████████████████████████████████████████████████▏     | 341/368 [00:52<00:04,  6.72it/s]"
     ]
    },
    {
     "name": "stdout",
     "output_type": "stream",
     "text": [
      "Product Row:  340\n",
      "https://secure.img1-fg.wfcdn.com/im/52140296/resize-h310-w310%5Ecompr-r85/1072/107299933/Mutlu+Leather+87%2522+Square+Arm+Sofa.jpg\n"
     ]
    },
    {
     "name": "stderr",
     "output_type": "stream",
     "text": [
      "\r",
      " 93%|██████████████████████████████████████████████████████████████████████████▎     | 342/368 [00:52<00:03,  6.87it/s]"
     ]
    },
    {
     "name": "stdout",
     "output_type": "stream",
     "text": [
      "Product Row:  341\n",
      "https://secure.img1-fg.wfcdn.com/im/15360066/resize-h310-w310%5Ecompr-r85/3747/37472606/Hartwick+86%2522+Rolled+Arm+Sofa.jpg\n"
     ]
    },
    {
     "name": "stderr",
     "output_type": "stream",
     "text": [
      "\r",
      " 93%|██████████████████████████████████████████████████████████████████████████▌     | 343/368 [00:52<00:03,  6.62it/s]"
     ]
    },
    {
     "name": "stdout",
     "output_type": "stream",
     "text": [
      "Product Row:  342\n",
      "https://secure.img1-fg.wfcdn.com/im/33775638/resize-h310-w310%5Ecompr-r85/1093/109363234/Sherly+Reclining+61%2522+Pillow+Top+Sofa.jpg\n"
     ]
    },
    {
     "name": "stderr",
     "output_type": "stream",
     "text": [
      "\r",
      " 93%|██████████████████████████████████████████████████████████████████████████▊     | 344/368 [00:52<00:03,  6.58it/s]"
     ]
    },
    {
     "name": "stdout",
     "output_type": "stream",
     "text": [
      "Product Row:  343\n",
      "https://secure.img1-fg.wfcdn.com/im/01175504/resize-h310-w310%5Ecompr-r85/6223/62234820/Take+Five+Genuine+Leather+88.5%2522+Square+Arm+Sofa.jpg\n"
     ]
    },
    {
     "name": "stderr",
     "output_type": "stream",
     "text": [
      "\r",
      " 94%|███████████████████████████████████████████████████████████████████████████     | 345/368 [00:52<00:03,  6.72it/s]"
     ]
    },
    {
     "name": "stdout",
     "output_type": "stream",
     "text": [
      "Product Row:  344\n",
      "https://secure.img1-fg.wfcdn.com/im/17981114/resize-h310-w310%5Ecompr-r85/1193/119372567/Anasha+89%2522+Round+Arm+Sleeper.jpg\n"
     ]
    },
    {
     "name": "stderr",
     "output_type": "stream",
     "text": [
      "\r",
      " 94%|███████████████████████████████████████████████████████████████████████████▏    | 346/368 [00:52<00:03,  6.76it/s]"
     ]
    },
    {
     "name": "stdout",
     "output_type": "stream",
     "text": [
      "Product Row:  345\n",
      "https://secure.img1-fg.wfcdn.com/im/77436179/resize-h310-w310%5Ecompr-r85/9557/95575025/Kropf+Reclining+127%2522+Pillow+Top+Arm+Sofa.jpg\n"
     ]
    },
    {
     "name": "stderr",
     "output_type": "stream",
     "text": [
      "\r",
      " 94%|███████████████████████████████████████████████████████████████████████████▍    | 347/368 [00:52<00:02,  7.11it/s]"
     ]
    },
    {
     "name": "stdout",
     "output_type": "stream",
     "text": [
      "Product Row:  346\n",
      "https://secure.img1-fg.wfcdn.com/im/02700603/resize-h310-w310%5Ecompr-r85/4599/45990427/Velvet+Sofa.jpg\n"
     ]
    },
    {
     "name": "stderr",
     "output_type": "stream",
     "text": [
      "\r",
      " 95%|███████████████████████████████████████████████████████████████████████████▋    | 348/368 [00:53<00:02,  7.15it/s]"
     ]
    },
    {
     "name": "stdout",
     "output_type": "stream",
     "text": [
      "Product Row:  347\n",
      "https://secure.img1-fg.wfcdn.com/im/78608270/resize-h310-w310%5Ecompr-r85/9276/92762568/Derbyshire+Genuine+Leather+76%2522+Square+Arm+Sofa.jpg\n"
     ]
    },
    {
     "name": "stderr",
     "output_type": "stream",
     "text": [
      "\r",
      " 95%|███████████████████████████████████████████████████████████████████████████▊    | 349/368 [00:53<00:02,  7.29it/s]"
     ]
    },
    {
     "name": "stdout",
     "output_type": "stream",
     "text": [
      "Product Row:  348\n",
      "https://secure.img1-fg.wfcdn.com/im/72769492/resize-h310-w310%5Ecompr-r85/1191/119155094/Griess+Reclining+79.5%2527%2527+Recessed+Arm+Sofa.jpg\n"
     ]
    },
    {
     "name": "stderr",
     "output_type": "stream",
     "text": [
      "\r",
      " 95%|████████████████████████████████████████████████████████████████████████████    | 350/368 [00:53<00:02,  7.41it/s]"
     ]
    },
    {
     "name": "stdout",
     "output_type": "stream",
     "text": [
      "Product Row:  349\n",
      "https://secure.img1-fg.wfcdn.com/im/67386363/resize-h310-w310%5Ecompr-r85/4568/45680799/Theodora+Genuine+Leather+89%2522+Square+Arm+Sofa.jpg\n"
     ]
    },
    {
     "name": "stderr",
     "output_type": "stream",
     "text": [
      "\r",
      " 95%|████████████████████████████████████████████████████████████████████████████▎   | 351/368 [00:53<00:02,  7.29it/s]"
     ]
    },
    {
     "name": "stdout",
     "output_type": "stream",
     "text": [
      "Product Row:  350\n",
      "https://secure.img1-fg.wfcdn.com/im/92707293/resize-h310-w310%5Ecompr-r85/2678/26783769/Francis+Brown+Leather+Sofa.jpg\n"
     ]
    },
    {
     "name": "stderr",
     "output_type": "stream",
     "text": [
      "\r",
      " 96%|████████████████████████████████████████████████████████████████████████████▌   | 352/368 [00:53<00:02,  7.19it/s]"
     ]
    },
    {
     "name": "stdout",
     "output_type": "stream",
     "text": [
      "Product Row:  351\n",
      "https://secure.img1-fg.wfcdn.com/im/68095848/resize-h310-w310%5Ecompr-r85/1184/118451678/Avondale+60%2522+Flared+Arm+Settee.jpg\n"
     ]
    },
    {
     "name": "stderr",
     "output_type": "stream",
     "text": [
      "\r",
      " 96%|████████████████████████████████████████████████████████████████████████████▋   | 353/368 [00:53<00:02,  7.10it/s]"
     ]
    },
    {
     "name": "stdout",
     "output_type": "stream",
     "text": [
      "Product Row:  352\n",
      "https://secure.img1-fg.wfcdn.com/im/15335895/resize-h310-w310%5Ecompr-r85/4774/47748286/Cowhill+Leather+Loveseat.jpg\n"
     ]
    },
    {
     "name": "stderr",
     "output_type": "stream",
     "text": [
      "\r",
      " 96%|████████████████████████████████████████████████████████████████████████████▉   | 354/368 [00:53<00:02,  6.21it/s]"
     ]
    },
    {
     "name": "stdout",
     "output_type": "stream",
     "text": [
      "Product Row:  353\n",
      "https://secure.img1-fg.wfcdn.com/im/96933207/resize-h310-w310%5Ecompr-r85/7875/78751877/Maxine+Genuine+Leather+89%2522+Square+Arm+Sofa.jpg\n"
     ]
    },
    {
     "name": "stderr",
     "output_type": "stream",
     "text": [
      "\r",
      " 96%|█████████████████████████████████████████████████████████████████████████████▏  | 355/368 [00:54<00:02,  6.12it/s]"
     ]
    },
    {
     "name": "stdout",
     "output_type": "stream",
     "text": [
      "Product Row:  354\n",
      "https://secure.img1-fg.wfcdn.com/im/44368432/resize-h310-w310%5Ecompr-r85/1210/121069637/Elane+78%2522+Pillow+Top+Arm+Sofa.jpg\n"
     ]
    },
    {
     "name": "stderr",
     "output_type": "stream",
     "text": [
      "\r",
      " 97%|█████████████████████████████████████████████████████████████████████████████▍  | 356/368 [00:54<00:01,  6.38it/s]"
     ]
    },
    {
     "name": "stdout",
     "output_type": "stream",
     "text": [
      "Product Row:  355\n",
      "https://secure.img1-fg.wfcdn.com/im/97019531/resize-h310-w310%5Ecompr-r85/6212/62126476/Aviva+96%2522+Round+Arm+Sofa.jpg\n"
     ]
    },
    {
     "name": "stderr",
     "output_type": "stream",
     "text": [
      "\r",
      " 97%|█████████████████████████████████████████████████████████████████████████████▌  | 357/368 [00:54<00:01,  6.35it/s]"
     ]
    },
    {
     "name": "stdout",
     "output_type": "stream",
     "text": [
      "Product Row:  356\n",
      "https://secure.img1-fg.wfcdn.com/im/87945430/resize-h310-w310%5Ecompr-r85/4317/43179724/Dionne+Leather+Reclining+Sofa.jpg\n"
     ]
    },
    {
     "name": "stderr",
     "output_type": "stream",
     "text": [
      "\r",
      " 97%|█████████████████████████████████████████████████████████████████████████████▊  | 358/368 [00:54<00:01,  6.34it/s]"
     ]
    },
    {
     "name": "stdout",
     "output_type": "stream",
     "text": [
      "Product Row:  357\n",
      "https://secure.img1-fg.wfcdn.com/im/67272742/resize-h310-w310%5Ecompr-r85/8706/87063953/Armstrong+99%2522+Square+Arm+Sofa.jpg\n"
     ]
    },
    {
     "name": "stderr",
     "output_type": "stream",
     "text": [
      "\r",
      " 98%|██████████████████████████████████████████████████████████████████████████████  | 359/368 [00:54<00:01,  6.41it/s]"
     ]
    },
    {
     "name": "stdout",
     "output_type": "stream",
     "text": [
      "Product Row:  358\n",
      "https://secure.img1-fg.wfcdn.com/im/06133494/resize-h310-w310%5Ecompr-r85/1019/101907050/Montross+Chesterfield+Sofa.jpg\n"
     ]
    },
    {
     "name": "stderr",
     "output_type": "stream",
     "text": [
      "\r",
      " 98%|██████████████████████████████████████████████████████████████████████████████▎ | 360/368 [00:54<00:01,  6.34it/s]"
     ]
    },
    {
     "name": "stdout",
     "output_type": "stream",
     "text": [
      "Product Row:  359\n",
      "https://secure.img1-fg.wfcdn.com/im/85012013/resize-h310-w310%5Ecompr-r85/8381/83812934/Zareen+Sofa.jpg\n"
     ]
    },
    {
     "name": "stderr",
     "output_type": "stream",
     "text": [
      "\r",
      " 98%|██████████████████████████████████████████████████████████████████████████████▍ | 361/368 [00:55<00:01,  6.30it/s]"
     ]
    },
    {
     "name": "stdout",
     "output_type": "stream",
     "text": [
      "Product Row:  360\n",
      "https://secure.img1-fg.wfcdn.com/im/29522709/resize-h310-w310%5Ecompr-r85/3183/31830858/Lorrain+Genuine+Leather+78.75%2522+Flared+Arm+Sofa.jpg\n"
     ]
    },
    {
     "name": "stderr",
     "output_type": "stream",
     "text": [
      "\r",
      " 98%|██████████████████████████████████████████████████████████████████████████████▋ | 362/368 [00:55<00:00,  6.57it/s]"
     ]
    },
    {
     "name": "stdout",
     "output_type": "stream",
     "text": [
      "Product Row:  361\n",
      "https://secure.img1-fg.wfcdn.com/im/69141487/resize-h310-w310%5Ecompr-r85/5100/51000266/Jimi+90%2522+Square+Arm+Sofa.jpg\n"
     ]
    },
    {
     "name": "stderr",
     "output_type": "stream",
     "text": [
      "\r",
      " 99%|██████████████████████████████████████████████████████████████████████████████▉ | 363/368 [00:55<00:00,  6.71it/s]"
     ]
    },
    {
     "name": "stdout",
     "output_type": "stream",
     "text": [
      "Product Row:  362\n",
      "https://secure.img1-fg.wfcdn.com/im/81132234/resize-h310-w310%5Ecompr-r85/6287/62876345/Mellor+Reclining+87%2522+Pillow+Top+Arms+Sofa.jpg\n"
     ]
    },
    {
     "name": "stderr",
     "output_type": "stream",
     "text": [
      "\r",
      " 99%|███████████████████████████████████████████████████████████████████████████████▏| 364/368 [00:55<00:00,  6.72it/s]"
     ]
    },
    {
     "name": "stdout",
     "output_type": "stream",
     "text": [
      "Product Row:  363\n",
      "https://secure.img1-fg.wfcdn.com/im/52130521/resize-h310-w310%5Ecompr-r85/6586/65866395/Water+Hyacinth+Rome+Loveseat.jpg\n"
     ]
    },
    {
     "name": "stderr",
     "output_type": "stream",
     "text": [
      "\r",
      " 99%|███████████████████████████████████████████████████████████████████████████████▎| 365/368 [00:55<00:00,  6.65it/s]"
     ]
    },
    {
     "name": "stdout",
     "output_type": "stream",
     "text": [
      "Product Row:  364\n",
      "https://secure.img1-fg.wfcdn.com/im/08804911/resize-h310-w310%5Ecompr-r85/1143/114314404/Jerimiah+39%2527%2527+Rolled+Arm+Loveseat.jpg\n"
     ]
    },
    {
     "name": "stderr",
     "output_type": "stream",
     "text": [
      "\r",
      " 99%|███████████████████████████████████████████████████████████████████████████████▌| 366/368 [00:55<00:00,  7.03it/s]"
     ]
    },
    {
     "name": "stdout",
     "output_type": "stream",
     "text": [
      "Product Row:  365\n",
      "https://secure.img1-fg.wfcdn.com/im/83273983/resize-h310-w310%5Ecompr-r85/4384/43848063/Nekizia+Sofa.jpg\n"
     ]
    },
    {
     "name": "stderr",
     "output_type": "stream",
     "text": [
      "\r",
      "100%|███████████████████████████████████████████████████████████████████████████████▊| 367/368 [00:55<00:00,  7.01it/s]"
     ]
    },
    {
     "name": "stdout",
     "output_type": "stream",
     "text": [
      "Product Row:  366\n",
      "https://secure.img1-fg.wfcdn.com/im/98654611/resize-h310-w310%5Ecompr-r85/1166/116624039/Passerine+Cotton+58%2522+Recessed+Arms+Loveseat.jpg\n"
     ]
    },
    {
     "name": "stderr",
     "output_type": "stream",
     "text": [
      "\r",
      "100%|████████████████████████████████████████████████████████████████████████████████| 368/368 [00:56<00:00,  6.83it/s]"
     ]
    },
    {
     "name": "stdout",
     "output_type": "stream",
     "text": [
      "Product Row:  367\n",
      "https://secure.img1-fg.wfcdn.com/im/90060031/resize-h310-w310%5Ecompr-r85/6859/68597719/Bloomsburg+Leather+Loveseat.jpg\n"
     ]
    },
    {
     "name": "stderr",
     "output_type": "stream",
     "text": [
      "100%|████████████████████████████████████████████████████████████████████████████████| 368/368 [00:56<00:00,  6.55it/s]\n"
     ]
    }
   ],
   "source": [
    "df_new = save_images_from_csv(df)\n",
    "df_new.to_csv('sofa.csv', index=False)"
   ]
  },
  {
   "cell_type": "code",
   "execution_count": 25,
   "metadata": {
    "scrolled": true
   },
   "outputs": [
    {
     "data": {
      "text/html": [
       "<div>\n",
       "<style scoped>\n",
       "    .dataframe tbody tr th:only-of-type {\n",
       "        vertical-align: middle;\n",
       "    }\n",
       "\n",
       "    .dataframe tbody tr th {\n",
       "        vertical-align: top;\n",
       "    }\n",
       "\n",
       "    .dataframe thead th {\n",
       "        text-align: right;\n",
       "    }\n",
       "</style>\n",
       "<table border=\"1\" class=\"dataframe\">\n",
       "  <thead>\n",
       "    <tr style=\"text-align: right;\">\n",
       "      <th></th>\n",
       "      <th>item_no</th>\n",
       "      <th>price</th>\n",
       "      <th>img_url</th>\n",
       "      <th>filename</th>\n",
       "    </tr>\n",
       "  </thead>\n",
       "  <tbody>\n",
       "    <tr>\n",
       "      <td>0</td>\n",
       "      <td>5780</td>\n",
       "      <td>$1,019.99</td>\n",
       "      <td>https://secure.img1-fg.wfcdn.com/im/12726311/r...</td>\n",
       "      <td>./sofa/5780.jpeg</td>\n",
       "    </tr>\n",
       "    <tr>\n",
       "      <td>1</td>\n",
       "      <td>5781</td>\n",
       "      <td>$1,019.99</td>\n",
       "      <td>https://secure.img1-fg.wfcdn.com/im/56432728/r...</td>\n",
       "      <td>./sofa/5781.jpeg</td>\n",
       "    </tr>\n",
       "    <tr>\n",
       "      <td>2</td>\n",
       "      <td>5782</td>\n",
       "      <td>$1,079.99</td>\n",
       "      <td>https://secure.img1-fg.wfcdn.com/im/38238360/r...</td>\n",
       "      <td>./sofa/5782.jpeg</td>\n",
       "    </tr>\n",
       "    <tr>\n",
       "      <td>3</td>\n",
       "      <td>5783</td>\n",
       "      <td>$1,169.99</td>\n",
       "      <td>https://secure.img1-fg.wfcdn.com/im/70316309/r...</td>\n",
       "      <td>./sofa/5783.jpeg</td>\n",
       "    </tr>\n",
       "    <tr>\n",
       "      <td>4</td>\n",
       "      <td>5784</td>\n",
       "      <td>$1,119.99</td>\n",
       "      <td>https://secure.img1-fg.wfcdn.com/im/16981263/r...</td>\n",
       "      <td>./sofa/5784.jpeg</td>\n",
       "    </tr>\n",
       "    <tr>\n",
       "      <td>...</td>\n",
       "      <td>...</td>\n",
       "      <td>...</td>\n",
       "      <td>...</td>\n",
       "      <td>...</td>\n",
       "    </tr>\n",
       "    <tr>\n",
       "      <td>363</td>\n",
       "      <td>5867</td>\n",
       "      <td>$1,239.99</td>\n",
       "      <td>https://secure.img1-fg.wfcdn.com/im/52130521/r...</td>\n",
       "      <td>./sofa/6143.jpeg</td>\n",
       "    </tr>\n",
       "    <tr>\n",
       "      <td>364</td>\n",
       "      <td>5868</td>\n",
       "      <td>$1,159.99</td>\n",
       "      <td>https://secure.img1-fg.wfcdn.com/im/08804911/r...</td>\n",
       "      <td>./sofa/6144.jpeg</td>\n",
       "    </tr>\n",
       "    <tr>\n",
       "      <td>365</td>\n",
       "      <td>5869</td>\n",
       "      <td>$3,559.99</td>\n",
       "      <td>https://secure.img1-fg.wfcdn.com/im/83273983/r...</td>\n",
       "      <td>./sofa/6145.jpeg</td>\n",
       "    </tr>\n",
       "    <tr>\n",
       "      <td>366</td>\n",
       "      <td>5870</td>\n",
       "      <td>$1,049.99</td>\n",
       "      <td>https://secure.img1-fg.wfcdn.com/im/98654611/r...</td>\n",
       "      <td>./sofa/6146.jpeg</td>\n",
       "    </tr>\n",
       "    <tr>\n",
       "      <td>367</td>\n",
       "      <td>5871</td>\n",
       "      <td>$1,999.99</td>\n",
       "      <td>https://secure.img1-fg.wfcdn.com/im/90060031/r...</td>\n",
       "      <td>./sofa/6147.jpeg</td>\n",
       "    </tr>\n",
       "  </tbody>\n",
       "</table>\n",
       "<p>368 rows × 4 columns</p>\n",
       "</div>"
      ],
      "text/plain": [
       "     item_no      price                                            img_url  \\\n",
       "0       5780  $1,019.99  https://secure.img1-fg.wfcdn.com/im/12726311/r...   \n",
       "1       5781  $1,019.99  https://secure.img1-fg.wfcdn.com/im/56432728/r...   \n",
       "2       5782  $1,079.99  https://secure.img1-fg.wfcdn.com/im/38238360/r...   \n",
       "3       5783  $1,169.99  https://secure.img1-fg.wfcdn.com/im/70316309/r...   \n",
       "4       5784  $1,119.99  https://secure.img1-fg.wfcdn.com/im/16981263/r...   \n",
       "..       ...        ...                                                ...   \n",
       "363     5867  $1,239.99  https://secure.img1-fg.wfcdn.com/im/52130521/r...   \n",
       "364     5868  $1,159.99  https://secure.img1-fg.wfcdn.com/im/08804911/r...   \n",
       "365     5869  $3,559.99  https://secure.img1-fg.wfcdn.com/im/83273983/r...   \n",
       "366     5870  $1,049.99  https://secure.img1-fg.wfcdn.com/im/98654611/r...   \n",
       "367     5871  $1,999.99  https://secure.img1-fg.wfcdn.com/im/90060031/r...   \n",
       "\n",
       "             filename  \n",
       "0    ./sofa/5780.jpeg  \n",
       "1    ./sofa/5781.jpeg  \n",
       "2    ./sofa/5782.jpeg  \n",
       "3    ./sofa/5783.jpeg  \n",
       "4    ./sofa/5784.jpeg  \n",
       "..                ...  \n",
       "363  ./sofa/6143.jpeg  \n",
       "364  ./sofa/6144.jpeg  \n",
       "365  ./sofa/6145.jpeg  \n",
       "366  ./sofa/6146.jpeg  \n",
       "367  ./sofa/6147.jpeg  \n",
       "\n",
       "[368 rows x 4 columns]"
      ]
     },
     "execution_count": 25,
     "metadata": {},
     "output_type": "execute_result"
    }
   ],
   "source": [
    "df_new"
   ]
  }
 ],
 "metadata": {
  "kernelspec": {
   "display_name": "Python 3",
   "language": "python",
   "name": "python3"
  },
  "language_info": {
   "codemirror_mode": {
    "name": "ipython",
    "version": 3
   },
   "file_extension": ".py",
   "mimetype": "text/x-python",
   "name": "python",
   "nbconvert_exporter": "python",
   "pygments_lexer": "ipython3",
   "version": "3.7.4"
  }
 },
 "nbformat": 4,
 "nbformat_minor": 2
}
