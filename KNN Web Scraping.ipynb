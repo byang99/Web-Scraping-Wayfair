{
 "cells": [
  {
   "cell_type": "code",
   "execution_count": null,
   "metadata": {},
   "outputs": [],
   "source": [
    "pip install requests"
   ]
  },
  {
   "cell_type": "code",
   "execution_count": null,
   "metadata": {},
   "outputs": [],
   "source": [
    "pip install progress_bar"
   ]
  },
  {
   "cell_type": "code",
   "execution_count": null,
   "metadata": {},
   "outputs": [],
   "source": [
    "pip install selenium"
   ]
  },
  {
   "cell_type": "code",
   "execution_count": null,
   "metadata": {},
   "outputs": [],
   "source": [
    "pip install beautifulsoup4"
   ]
  },
  {
   "cell_type": "code",
   "execution_count": null,
   "metadata": {},
   "outputs": [],
   "source": [
    "# import necessary modules\n",
    "import time\n",
    "import datetime\n",
    "import random\n",
    "import numpy as np\n",
    "import base64\n",
    "\n",
    "import re\n",
    "import os\n",
    "\n",
    "import pandas as pd\n",
    "pd.options.mode.chained_assignment = None  # default='warn'\n",
    "\n",
    "from tqdm import tqdm\n",
    "import urllib.request \n",
    "from urllib.request import urlopen\n",
    "import requests\n",
    "from bs4 import BeautifulSoup\n",
    "\n",
    "from selenium import webdriver\n",
    "from selenium.webdriver.common.by import By\n",
    "from selenium.webdriver.common.keys import Keys\n",
    "from selenium.webdriver.support.ui import WebDriverWait\n",
    "from selenium.common.exceptions import TimeoutException\n",
    "from selenium.webdriver.support.expected_conditions import presence_of_element_located\n",
    "# browser.quit() # close the whole browser\n",
    "# browser.close() # close the tab"
   ]
  },
  {
   "cell_type": "code",
   "execution_count": null,
   "metadata": {},
   "outputs": [],
   "source": [
    "def get_product_info_from_mainpage(URL):\n",
    "    product_links = []\n",
    "    image_links = []\n",
    "    prices = []\n",
    "    \n",
    "    driver = webdriver.Chrome('C:/Users/Brian/Downloads/chromedriver_win32/chromedriver.exe')\n",
    "    driver.implicitly_wait(100)\n",
    "    \n",
    "    try:\n",
    "        driver.get(URL)\n",
    "        soup = BeautifulSoup(driver.page_source, 'html.parser')\n",
    "        time.sleep(10)\n",
    "        \n",
    "        product_cards = soup.find_all('div', {\"class\" : \"ProductCard-container ProductCard-container--contained\"})\n",
    "\n",
    "        print(\"Number of products scraped from the page: \", len(product_cards))\n",
    "        \n",
    "        i = 0\n",
    "        for product_card in product_cards:\n",
    "            try:\n",
    "                #get image link\n",
    "                driver.implicitly_wait(3)\n",
    "                image = product_card.find('div', {\"class\" : \"BrowseProductCard-imageWrap\"})\n",
    "                #image_link = image.find_element_by_tag_name('img').get_attribute('src')\n",
    "                #image_link = image.find('img')[\"src\"]\n",
    "                #image_link = image.select('img').get('src')\n",
    "                image_link = image.find('img')[\"srcset\"].split(',')[-1].split(\" \")[0]\n",
    "                image_links.append(image_link)\n",
    "\n",
    "                \n",
    "                #get product link\n",
    "                product_link = product_card.find('a')['href']\n",
    "                product_links.append(product_link)                \n",
    "\n",
    "\n",
    "                #get price\n",
    "                price_block = product_card.find('div', {\"class\" : \"ProductCard-pricing\"})\n",
    "                price = price_block.find('span').text\n",
    "\n",
    "                '''\n",
    "                try:\n",
    "                    price = price_block.find('span', {\"class\" : \"ProductCard-price\"}).text\n",
    "                except:\n",
    "                    price = price_block.find('span', {\"class\" : \"ProductCard-price ProductCard-price--sale\"}).text\n",
    "                '''\n",
    "                \n",
    "                prices.append(price)\n",
    "                i += 1\n",
    "                \n",
    "                #Print summary information\n",
    "                print(f\"Item: {i}\\n\")\n",
    "                print(f\"Product link: {product_link}\\n\")\n",
    "                print(f\"Image link: {image_link}\\n\")\n",
    "                print(f\"Price: {price}\\n\")\n",
    "                print(\"==============================================\")\n",
    "            \n",
    "            except:\n",
    "                print(\"Error\")\n",
    "                pass\n",
    "        driver.close()\n",
    "        print(\"Lengths of lists: \", len(product_links), len(image_links), len(prices))\n",
    "        return (product_links, image_links, prices)\n",
    "    \n",
    "    except TimeoutException as e:\n",
    "        print(\"Page load Timeout Occured. Quitting !!!\")\n",
    "        driver.close()\n",
    "\n",
    "'''\n",
    "def get_info_from_productlink(product_link):  #get the first image\n",
    "    info = dict()\n",
    "    page = requests.get(product_link)\n",
    "    driver = webdriver.Chrome('C:/Users/Brian/Downloads/chromedriver_win32/chromedriver.exe')\n",
    "    driver.get(product_link)\n",
    "    soup = BeautifulSoup(driver.page_source, 'html.parser')\n",
    "    time.sleep(random.randint(3,3))\n",
    "\n",
    "    #price_block = soup.find('div', {\"class\" : \"BasePriceBlock BasePriceBlock--highlight\"})\n",
    "    #price_block = soup.find('div', {\"class\" : \"BasePriceBlock\"})\n",
    "    price_block = soup.find('span', {\"class\" : \"notranslate\"})\n",
    "    price = price_block.text\n",
    "    info['price'] = price\n",
    "    #print(price)   \n",
    "    \n",
    "    image = soup.find('div', {'class' : \"ImageComponent ImageComponent--overlay\"})\n",
    "    image_link = image.find('img')['src']\n",
    "    info['img_url'] = image_link\n",
    "    \n",
    "    #print(f\"Image link: {image_link}\\n\")\n",
    "    #print(f\"Link to product: {product_link}\\n\")\n",
    "\n",
    "    driver.close()\n",
    "    #browser.switch_to.window(browser.window_handles[0])\n",
    "    return info\n",
    "'''"
   ]
  },
  {
   "cell_type": "code",
   "execution_count": null,
   "metadata": {},
   "outputs": [],
   "source": [
    "#TEST\n",
    "get_product_info_from_mainpage('https://www.wayfair.com/filters/furniture/sb1/sofas-c413892-p2479~1000~*.html?itemsperpage=96&curpage=2')"
   ]
  },
  {
   "cell_type": "code",
   "execution_count": null,
   "metadata": {},
   "outputs": [],
   "source": [
    "def save_data(product_info_list, i):\n",
    "    result = [[product[0], product[1]['price'], product[1]['img_url']] for product in product_info_list]\n",
    "    df = pd.DataFrame(result)\n",
    "    now = str(datetime.datetime.now()).replace(\" \",\"\").replace(\":\",\"\").replace(\"-\",\"\").split(\".\")[0][4:][:-2]\n",
    "    df.to_csv(f'sofa_info_{str(i)}.csv', index=False, header=['item_no', 'price', 'img_url'])\n",
    "    \n",
    "def save_image_from_url(product, category):    \n",
    "    bar_wrap = [None]\n",
    "\n",
    "    item_no = product.name + 5780\n",
    "    print(\"Product Row: \", product.name)\n",
    "    base_name = \"C:/Users/Brian/Desktop/ThePriceIsRight/\" + category + \"/\"\n",
    "    filename = f\"./{category}/{item_no}.jpeg\"\n",
    "    filepath = base_name + str(item_no) + \".jpg\"\n",
    "    url = str(product['img_url'])\n",
    "    \n",
    "    try:\n",
    "        print(url)\n",
    "        urllib.request.urlretrieve(url, filepath)\n",
    "        return filename\n",
    "    except:\n",
    "        print(f\"Failed to download image:{url}\\n\")\n",
    "        return f\"Failed to download image: {url}\\n\"\n",
    "    \n",
    "def save_images_from_csv(df):\n",
    "    tqdm.pandas()\n",
    "    df['filename'] = df.progress_apply(lambda x: save_image_from_url(x, category = 'sofa'), axis=1)\n",
    "    return df"
   ]
  },
  {
   "cell_type": "code",
   "execution_count": null,
   "metadata": {
    "scrolled": true
   },
   "outputs": [],
   "source": [
    "product_info = []\n",
    "base_url = 'https://www.wayfair.com/filters/furniture/sb1/sofas-c413892-p2479~1000~*.html?itemsperpage=96&curpage='\n",
    "#base_url = 'https://www.wayfair.com/furniture/sb0/sofas-c413892.html?curpage='\n",
    "\n",
    "#data from pages 1 - 4\n",
    "for page in tqdm(range(1,5)):\n",
    "    url = base_url + str(page)\n",
    "    (product_links, image_links, prices) = get_product_info_from_mainpage(url)\n",
    "    print(f\"Number of products on Page {page}: {len(product_links)}\\n\")\n",
    "    i = 5779\n",
    "    for (product_url, img_url, price) in tqdm(zip(product_links, image_links, prices)):\n",
    "        i += 1\n",
    "        #item_no = f\"{page}_{i}\"\n",
    "        item_no = f\"{i}\"\n",
    "        try:\n",
    "            info = {'price' : price, 'img_url' : img_url}\n",
    "            product_info.append((item_no,info))     \n",
    "        except:\n",
    "            print(f\"Failed. Product link: {product_url}\")\n",
    "            pass"
   ]
  },
  {
   "cell_type": "code",
   "execution_count": null,
   "metadata": {},
   "outputs": [],
   "source": [
    "save_data(product_info,1)\n",
    "product_info"
   ]
  },
  {
   "cell_type": "code",
   "execution_count": null,
   "metadata": {},
   "outputs": [],
   "source": [
    "df = pd.read_csv('sofa_info_1.csv')\n",
    "print(df.shape)\n",
    "df.reset_index(drop=True, inplace=True)"
   ]
  },
  {
   "cell_type": "code",
   "execution_count": null,
   "metadata": {},
   "outputs": [],
   "source": [
    "df"
   ]
  },
  {
   "cell_type": "code",
   "execution_count": null,
   "metadata": {},
   "outputs": [],
   "source": [
    "df_new = save_images_from_csv(df)\n",
    "df_new.to_csv('sofa.csv', index=False)"
   ]
  },
  {
   "cell_type": "code",
   "execution_count": null,
   "metadata": {
    "scrolled": true
   },
   "outputs": [],
   "source": [
    "df_new"
   ]
  }
 ],
 "metadata": {
  "kernelspec": {
   "display_name": "Python 3",
   "language": "python",
   "name": "python3"
  },
  "language_info": {
   "codemirror_mode": {
    "name": "ipython",
    "version": 3
   },
   "file_extension": ".py",
   "mimetype": "text/x-python",
   "name": "python",
   "nbconvert_exporter": "python",
   "pygments_lexer": "ipython3",
   "version": "3.7.4"
  }
 },
 "nbformat": 4,
 "nbformat_minor": 2
}
