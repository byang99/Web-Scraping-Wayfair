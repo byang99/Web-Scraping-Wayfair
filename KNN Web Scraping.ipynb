{
 "cells": [
  {
   "cell_type": "code",
   "execution_count": null,
   "metadata": {},
   "outputs": [],
   "source": [
    "pip install requests"
   ]
  },
  {
   "cell_type": "code",
   "execution_count": null,
   "metadata": {},
   "outputs": [],
   "source": [
    "pip install selenium"
   ]
  },
  {
   "cell_type": "code",
   "execution_count": null,
   "metadata": {},
   "outputs": [],
   "source": [
    "pip install beautifulsoup4"
   ]
  },
  {
   "cell_type": "code",
   "execution_count": 1,
   "metadata": {},
   "outputs": [],
   "source": [
    "# import necessary modules\n",
    "import pandas as pd\n",
    "pd.options.mode.chained_assignment = None  # default='warn'\n",
    "import numpy as np\n",
    "from selenium import webdriver\n",
    "from tqdm import tqdm\n",
    "import time\n",
    "import datetime\n",
    "import random\n",
    "import urllib.request \n",
    "from urllib.request import urlopen\n",
    "import requests\n",
    "from bs4 import BeautifulSoup\n",
    "import re\n",
    "import os\n",
    "# browser.quit() # close the whole browser\n",
    "# browser.close() # close the tab"
   ]
  },
  {
   "cell_type": "code",
   "execution_count": null,
   "metadata": {},
   "outputs": [],
   "source": [
    "#URL = 'https://www.wayfair.com/filters/furniture/sb1/sofas-c413892-p2479~1000~*.html'\n",
    "URL = 'https://www.wayfair.com/filters/furniture/sb1/sofas-c413892-p2479~1000~*.html?itemsperpage=96'\n",
    "#URL = 'https://www.wayfair.com/filters/furniture/sb1/sofas-c413892-p2479~1000~*.html?itemsperpage=24'\n",
    "'''\n",
    "page = requests.get(URL)\n",
    "driver = webdriver.Chrome('C:/Users/Brian/Downloads/chromedriver_win32/chromedriver.exe')\n",
    "driver.get(URL)\n",
    "soup = BeautifulSoup(driver.page_source, 'html.parser')\n",
    "print(soup.prettify())\n",
    "\n",
    "product_cards = soup.find_all('div', {\"class\" : \"ProductCard-container ProductCard-container--contained\"})\n",
    "print(len(product_cards))\n",
    "\n",
    "i = 0\n",
    "for product_card in product_cards:\n",
    "    i += 1\n",
    "    product_link = product_card.find('a')['href']\n",
    "    image = product_card.find('div', {'class' : \"BrowseProductCard-imageWrap\"})\n",
    "    image_link = image.find('img')['src']\n",
    "\n",
    "    print(f\"Image link here: {image_link}\\n\")\n",
    "    print(f\"Link to product {i} here: {product_link}\\n\")\n",
    "'''"
   ]
  },
  {
   "cell_type": "code",
   "execution_count": 5,
   "metadata": {},
   "outputs": [],
   "source": [
    "def get_product_links_from_mainpage(URL):\n",
    "    link_list = []\n",
    "    page = requests.get(URL)\n",
    "    driver = webdriver.Chrome('C:/Users/Brian/Downloads/chromedriver_win32/chromedriver.exe')\n",
    "    driver.get(URL)\n",
    "    soup = BeautifulSoup(driver.page_source, 'html.parser')\n",
    "    time.sleep(random.randint(3,3))\n",
    "    product_cards = soup.find_all('div', {\"class\" : \"ProductCard-container ProductCard-container--contained\"})\n",
    "    print(len(product_cards))\n",
    "    i = 0\n",
    "    for product_card in product_cards:\n",
    "        try:\n",
    "            i += 1\n",
    "            #get product link\n",
    "            product_link = product_card.find('a')['href']\n",
    "            link_list.append(product_link)\n",
    "            \n",
    "            #get image link\n",
    "            #image = product_card.find('div', {'class' : \"BrowseProductCard-imageWrap\"})\n",
    "            #image_link = image.find('img')['src']\n",
    "            \n",
    "            #print info\n",
    "            #print(f\"Image link here: {image_link}\\n\")\n",
    "            #print(f\"Link to product {i} here: {product_link}\\n\")\n",
    "        except:\n",
    "            pass\n",
    "\n",
    "    driver.close()\n",
    "    #browser.switch_to.window(browser.window_handles[0])\n",
    "    return link_list\n",
    "\n",
    "def get_info_from_productlink(product_link):  #get the first image\n",
    "    info = dict()\n",
    "    page = requests.get(product_link)\n",
    "    driver = webdriver.Chrome('C:/Users/Brian/Downloads/chromedriver_win32/chromedriver.exe')\n",
    "    driver.get(product_link)\n",
    "    soup = BeautifulSoup(driver.page_source, 'html.parser')\n",
    "    time.sleep(random.randint(3,3))\n",
    "\n",
    "    #price_block = soup.find('div', {\"class\" : \"BasePriceBlock BasePriceBlock--highlight\"})\n",
    "    #price_block = soup.find('div', {\"class\" : \"BasePriceBlock\"})\n",
    "    price_block = soup.find('span', {\"class\" : \"notranslate\"})\n",
    "    price = price_block.text\n",
    "    info['price'] = price\n",
    "    #print(price)   \n",
    "    \n",
    "    image = soup.find('div', {'class' : \"ImageComponent ImageComponent--overlay\"})\n",
    "    image_link = image.find('img')['src']\n",
    "    info['img_url'] = image_link\n",
    "    \n",
    "    #print(f\"Image link: {image_link}\\n\")\n",
    "    #print(f\"Link to product: {product_link}\\n\")\n",
    "\n",
    "    driver.close()\n",
    "    #browser.switch_to.window(browser.window_handles[0])\n",
    "    return info\n",
    "    "
   ]
  },
  {
   "cell_type": "code",
   "execution_count": 6,
   "metadata": {},
   "outputs": [
    {
     "data": {
      "text/plain": [
       "{'price': '$1,759.99',\n",
       " 'img_url': 'https://secure.img1-fg.wfcdn.com/im/77377094/resize-h800-w800%5Ecompr-r85/7888/78886170/Brinson+Genuine+Leather+Chesterfield+95%2522+Rolled+Arm+Sofa.jpg'}"
      ]
     },
     "execution_count": 6,
     "metadata": {},
     "output_type": "execute_result"
    }
   ],
   "source": [
    "get_info_from_productlink('https://www.wayfair.com/furniture/pdp/three-posts-brinson-genuine-leather-chesterfield-95-rolled-arm-sofa-w001243560.html?piid=1221870775')"
   ]
  },
  {
   "cell_type": "code",
   "execution_count": 7,
   "metadata": {},
   "outputs": [],
   "source": [
    "def save_data(product_info_list, i):\n",
    "    result = [[product[0], product[1]['price'], product[1]['img_url']] for product in product_info_list]\n",
    "    df = pd.DataFrame(result)\n",
    "    now = str(datetime.datetime.now()).replace(\" \",\"\").replace(\":\",\"\").replace(\"-\",\"\").split(\".\")[0][4:][:-2]\n",
    "    df.to_csv(f'sofa_info_{str(i)}.csv', index=False, header=['item_no', 'price', 'img_url'])\n",
    "    \n",
    "def save_image_from_url(x, category):    \n",
    "    item_no = x.name+1\n",
    "    filename = f'./{category}/{item_no}.jpeg'\n",
    "    url = x['img_url']\n",
    "    try:\n",
    "        urllib.request.urlretrieve(url, filename)\n",
    "        return filename\n",
    "    except:\n",
    "        print('failed')\n",
    "        return 'failed'\n",
    "    \n",
    "def save_images_from_csv(df):\n",
    "    df['filename'] = df.progress_apply(lambda x: save_image_from_url(x, category = 'sofa'), axis=1)\n",
    "    return df"
   ]
  },
  {
   "cell_type": "code",
   "execution_count": 8,
   "metadata": {},
   "outputs": [
    {
     "data": {
      "text/plain": [
       "{'price': '$8,399.99',\n",
       " 'img_url': 'https://secure.img1-fg.wfcdn.com/im/43833910/resize-h800-w800%5Ecompr-r85/1019/101965755/Taylor+Sofa.jpg'}"
      ]
     },
     "execution_count": 8,
     "metadata": {},
     "output_type": "execute_result"
    }
   ],
   "source": [
    "get_info_from_productlink(\"https://www.wayfair.com/furniture/pdp/eichholtz-taylor-sofa-eitz3452.html?piid=\")"
   ]
  },
  {
   "cell_type": "code",
   "execution_count": null,
   "metadata": {},
   "outputs": [
    {
     "name": "stderr",
     "output_type": "stream",
     "text": [
      "\r",
      "  0%|                                                                                            | 0/4 [00:00<?, ?it/s]"
     ]
    },
    {
     "name": "stdout",
     "output_type": "stream",
     "text": [
      "96\n",
      "Number of products on Page 1:  96\n"
     ]
    },
    {
     "name": "stderr",
     "output_type": "stream",
     "text": [
      "\n",
      "  0%|                                                                                           | 0/96 [00:00<?, ?it/s]\n",
      "  1%|▊                                                                                  | 1/96 [00:14<23:37, 14.93s/it]\n",
      "  2%|█▋                                                                                 | 2/96 [00:28<22:40, 14.47s/it]\n",
      "  3%|██▌                                                                                | 3/96 [00:51<26:38, 17.18s/it]\n",
      "  4%|███▍                                                                               | 4/96 [01:05<24:51, 16.21s/it]\n",
      "  5%|████▎                                                                              | 5/96 [01:19<23:30, 15.50s/it]\n",
      "  6%|█████▏                                                                             | 6/96 [01:32<22:12, 14.81s/it]\n",
      "  7%|██████                                                                             | 7/96 [01:46<21:27, 14.47s/it]\n",
      "  8%|██████▉                                                                            | 8/96 [01:59<20:43, 14.13s/it]\n",
      "  9%|███████▊                                                                           | 9/96 [02:25<25:28, 17.57s/it]\n",
      " 10%|████████▌                                                                         | 10/96 [02:34<21:38, 15.10s/it]\n",
      " 11%|█████████▍                                                                        | 11/96 [02:48<20:39, 14.59s/it]\n",
      " 12%|██████████▎                                                                       | 12/96 [03:02<20:09, 14.40s/it]\n",
      " 14%|███████████                                                                       | 13/96 [03:16<19:44, 14.27s/it]\n",
      " 15%|███████████▉                                                                      | 14/96 [03:32<20:25, 14.94s/it]\n",
      " 16%|████████████▊                                                                     | 15/96 [03:59<24:59, 18.51s/it]\n",
      " 17%|█████████████▋                                                                    | 16/96 [04:08<21:02, 15.78s/it]\n",
      " 18%|██████████████▌                                                                   | 17/96 [04:19<18:50, 14.31s/it]\n",
      " 19%|███████████████▍                                                                  | 18/96 [04:35<19:02, 14.64s/it]\n",
      " 20%|████████████████▏                                                                 | 19/96 [04:48<18:24, 14.35s/it]"
     ]
    }
   ],
   "source": [
    "product_info = []\n",
    "#base_url = 'https://www.wayfair.com/furniture/sb0/sofas-c413892.html?curpage='\n",
    "base_url = 'https://www.wayfair.com/filters/furniture/sb1/sofas-c413892-p2479~1000~*.html?itemsperpage=96&curpage='\n",
    "#base_url = 'https://www.wayfair.com/furniture/sb0/sofas-c413892.html?curpage='\n",
    "#for page in tqdm(range(1,201)):\n",
    "\n",
    "#data from pages 1 - 4\n",
    "for page in tqdm(range(1,5)):\n",
    "    url = base_url + str(page)\n",
    "    link_list = get_product_links_from_mainpage(url)  # latter will work even this is None\n",
    "    print(f\"Number of products on Page {page}: \", len(link_list))\n",
    "    i = 5779\n",
    "    for product_link in tqdm(link_list):\n",
    "        i += 1\n",
    "        #item_no = f\"{page}_{i}\"\n",
    "        item_no = f\"{i}\"\n",
    "        try:\n",
    "            info = get_info_from_productlink(product_link)\n",
    "            product_info.append((item_no,info))     \n",
    "        except:\n",
    "            print(f\"Failed. Product link: {product_link}\")\n",
    "            pass\n",
    "save_data(product_info,1)\n",
    "product_info"
   ]
  },
  {
   "cell_type": "code",
   "execution_count": null,
   "metadata": {},
   "outputs": [],
   "source": [
    "df = pd.read_csv('sofa_info_1.csv')\n",
    "print(df.shape)\n",
    "df.reset_index(drop=True, inplace=True)"
   ]
  },
  {
   "cell_type": "code",
   "execution_count": null,
   "metadata": {},
   "outputs": [],
   "source": [
    "df"
   ]
  },
  {
   "cell_type": "code",
   "execution_count": null,
   "metadata": {},
   "outputs": [],
   "source": [
    "df_new = save_images_from_csv(df)\n",
    "df_new.to_csv('sofa.csv', index=False)"
   ]
  },
  {
   "cell_type": "code",
   "execution_count": null,
   "metadata": {},
   "outputs": [],
   "source": [
    "df_new"
   ]
  }
 ],
 "metadata": {
  "kernelspec": {
   "display_name": "Python 3",
   "language": "python",
   "name": "python3"
  },
  "language_info": {
   "codemirror_mode": {
    "name": "ipython",
    "version": 3
   },
   "file_extension": ".py",
   "mimetype": "text/x-python",
   "name": "python",
   "nbconvert_exporter": "python",
   "pygments_lexer": "ipython3",
   "version": "3.7.4"
  }
 },
 "nbformat": 4,
 "nbformat_minor": 2
}
